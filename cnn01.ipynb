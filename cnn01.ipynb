{
  "nbformat": 4,
  "nbformat_minor": 0,
  "metadata": {
    "colab": {
      "name": "cnn01.ipynb",
      "provenance": []
    },
    "kernelspec": {
      "name": "python3",
      "display_name": "Python 3"
    },
    "language_info": {
      "name": "python"
    }
  },
  "cells": [
    {
      "cell_type": "code",
      "execution_count": 10,
      "metadata": {
        "id": "sF8PIqDJZh43"
      },
      "outputs": [],
      "source": [
        "from tensorflow.keras.datasets   import boston_housing , mnist , fashion_mnist , reuters\n",
        "from tensorflow.keras.models     import Sequential , clone_model , Model , load_model\n",
        "from tensorflow.keras.layers     import Dense , Activation , InputLayer , Flatten , Input , BatchNormalization , Dropout , Embedding\n",
        "from tensorflow.keras.wrappers.scikit_learn import KerasClassifier\n",
        "\n",
        "# CNN\n",
        "from tensorflow.keras.layers     import Conv2D , MaxPooling2D , AveragePooling2D\n",
        "\n",
        "# RNN\n",
        "from tensorflow.keras.layers     import SimpleRNN , LSTM\n",
        "\n",
        "\n",
        "from tensorflow.keras            import optimizers  \n",
        "from tensorflow.keras.callbacks  import EarlyStopping , ModelCheckpoint , Callback\n",
        "from tensorflow.keras.optimizers import SGD , Adam , RMSprop\n",
        "\n",
        "# 이미지 로드\n",
        "from tensorflow.keras.preprocessing import image\n",
        "from tensorflow.keras.preprocessing.image import ImageDataGenerator \n",
        "\n",
        "# 자연어 처리\n",
        "from tensorflow.keras.preprocessing.text          import Tokenizer\n",
        "from tensorflow.keras.preprocessing.sequence      import pad_sequences\n",
        "\n",
        "from keras.utils.np_utils      import to_categorical\n",
        "\n",
        "from sklearn.datasets          import load_iris , load_breast_cancer , load_digits\n",
        "from sklearn.model_selection   import train_test_split\n",
        "from sklearn.metrics           import accuracy_score\n",
        "import matplotlib.pyplot as plt\n",
        "\n",
        "import numpy  as np\n",
        "import pandas as pd\n"
      ]
    },
    {
      "cell_type": "code",
      "source": [
        "import os\n",
        "base_dir = '/tmp/beers/'\n",
        "train_dir = os.path.join(base_dir,'train')\n",
        "\n",
        "train_ganghan = os.path.join(train_dir,'ganghan')\n",
        "train_gangseo = os.path.join(train_dir,'gangseo')\n",
        "train_namsan = os.path.join(train_dir,'namsan')\n",
        "\n"
      ],
      "metadata": {
        "id": "iT1z4soqZmXq"
      },
      "execution_count": 30,
      "outputs": []
    },
    {
      "cell_type": "code",
      "source": [
        "train_ganghan_names = os.listdir(train_ganghan)\n",
        "train_gangseo_names = os.listdir(train_gangseo)\n",
        "train_namsan_names = os.listdir(train_namsan)\n"
      ],
      "metadata": {
        "id": "NLwke8Gfq2a4"
      },
      "execution_count": 31,
      "outputs": []
    },
    {
      "cell_type": "code",
      "source": [
        "train_datagen = ImageDataGenerator(rescale = 1./255, # 모든 이미지 원소값들을 255로 나누기\n",
        "                                   rotation_range=25, # 0~25도 사이에서 임의의 각도로 원본이미지를 회전\n",
        "                                   width_shift_range=0.05, # 0.05범위 내에서 임의의 값만큼 임의의 방향으로 좌우 이동\n",
        "                                   height_shift_range=0.05, # 0.05범위 내에서 임의의 값만큼 임의의 방향으로 상하 이동\n",
        "                                   zoom_range=0.2, # (1-0.2)~(1+0.2) => 0.8~1.2 사이에서 임의의 수치만큼 확대/축소\n",
        "                                   horizontal_flip=True, # 좌우로 뒤집기                                   \n",
        "                                   vertical_flip=True,\n",
        "                                   fill_mode='nearest'\n",
        "                                  ) "
      ],
      "metadata": {
        "id": "6gWmwKQ-rm92"
      },
      "execution_count": 32,
      "outputs": []
    },
    {
      "cell_type": "code",
      "source": [
        "train_generator = train_datagen.flow_from_directory(train_dir, \n",
        "                                                    batch_size=16, # 한번에 변환된 이미지 16개씩 만들어라 라는 것\n",
        "                                                    color_mode='grayscale', # 흑백 이미지 처리\n",
        "                                                    class_mode='binary', \n",
        "                                                    target_size=(150,150))"
      ],
      "metadata": {
        "colab": {
          "base_uri": "https://localhost:8080/"
        },
        "id": "P_Hc1DqRrwH8",
        "outputId": "408fc684-bbbd-4613-e101-7ad52aa4be06"
      },
      "execution_count": 33,
      "outputs": [
        {
          "output_type": "stream",
          "name": "stdout",
          "text": [
            "Found 48 images belonging to 4 classes.\n",
            "Found 18 images belonging to 4 classes.\n"
          ]
        }
      ]
    },
    {
      "cell_type": "code",
      "source": [
        "train_generator.class_indices"
      ],
      "metadata": {
        "colab": {
          "base_uri": "https://localhost:8080/"
        },
        "id": "JOKH-GQ0rwLD",
        "outputId": "568267c4-c411-4a3a-c294-dfcdb62d7cc6"
      },
      "execution_count": 34,
      "outputs": [
        {
          "output_type": "execute_result",
          "data": {
            "text/plain": [
              "{'.ipynb_checkpoints': 0, 'ganghan': 1, 'gangseo': 2, 'namsan': 3}"
            ]
          },
          "metadata": {},
          "execution_count": 34
        }
      ]
    },
    {
      "cell_type": "code",
      "source": [
        "print('feature extraction - ')\n",
        "beer_cnn_model = Sequential()\n",
        "\n",
        "beer_cnn_model.add( Conv2D( filters = 32 , \n",
        "                            kernel_size = (3,3) , \n",
        "                            strides = (1,1) , \n",
        "                            padding = 'same' , activation = 'relu') ) \n",
        "beer_cnn_model.add( MaxPooling2D(pool_size = (2,2) , padding = 'same' ) )\n",
        "beer_cnn_model.add( Conv2D(filters = 64 , \n",
        "                            kernel_size = (3,3) , \n",
        "                            strides = (1,1) , \n",
        "                            padding = 'same' , activation = 'relu') ) \n",
        "beer_cnn_model.add( MaxPooling2D(pool_size = (2,2) , padding = 'same' ) )\n",
        "beer_cnn_model.add( Conv2D(filters = 64 , \n",
        "                            kernel_size = (3,3) , \n",
        "                            strides = (1,1) , \n",
        "                            padding = 'same' , activation = 'relu') ) \n",
        "beer_cnn_model.add( MaxPooling2D(pool_size = (2,2) , padding = 'same' ) )\n",
        "\n"
      ],
      "metadata": {
        "colab": {
          "base_uri": "https://localhost:8080/"
        },
        "id": "4LyWAgEuamPv",
        "outputId": "c604d4c7-d4d8-47c6-bce2-90586b27d958"
      },
      "execution_count": 35,
      "outputs": [
        {
          "output_type": "stream",
          "name": "stdout",
          "text": [
            "feature extraction - \n"
          ]
        }
      ]
    },
    {
      "cell_type": "code",
      "source": [
        "print('Dense 층 추가 - ')\n",
        "beer_cnn_model.add( Flatten() )\n",
        "beer_cnn_model.add( Dense(units = 512) )\n",
        "beer_cnn_model.add( Activation('relu') )\n",
        "beer_cnn_model.add( Dense(units = 256) )\n",
        "beer_cnn_model.add( Activation('relu') )\n",
        "beer_cnn_model.add( Dense(units = 128) )\n",
        "beer_cnn_model.add( Activation('relu') )\n",
        "beer_cnn_model.add( Dense(units = 64) )\n",
        "beer_cnn_model.add( Activation('relu') )\n",
        "\n",
        "beer_cnn_model.add( Dense(units = 10) )\n",
        "beer_cnn_model.add( Activation('softmax') )\n",
        "\n",
        "\n",
        "# mnist_cnn_model.output_shape\n"
      ],
      "metadata": {
        "colab": {
          "base_uri": "https://localhost:8080/"
        },
        "id": "FYB7xy_Ca0lP",
        "outputId": "86bafcb6-5667-4cfc-98ba-2ae5023a836e"
      },
      "execution_count": 36,
      "outputs": [
        {
          "output_type": "stream",
          "name": "stdout",
          "text": [
            "Dense 층 추가 - \n"
          ]
        }
      ]
    },
    {
      "cell_type": "code",
      "source": [
        "beer_cnn_model.compile(optimizer = Adam(learning_rate = 0.01), \n",
        "                      loss= 'sparse_categorical_crossentropy' , \n",
        "                      metrics=['accuracy'] ) "
      ],
      "metadata": {
        "id": "Ig7gUQWWa1jH"
      },
      "execution_count": 37,
      "outputs": []
    },
    {
      "cell_type": "code",
      "source": [
        "beer_cnn_model_history = beer_cnn_model.fit(train_generator , epochs=50  , batch_size = 50 ,verbose = 1)"
      ],
      "metadata": {
        "colab": {
          "base_uri": "https://localhost:8080/"
        },
        "id": "bzk263nGa24Y",
        "outputId": "48f02a50-039c-4148-de70-464eb5b6e6c0"
      },
      "execution_count": 41,
      "outputs": [
        {
          "output_type": "stream",
          "name": "stdout",
          "text": [
            "Epoch 1/50\n",
            "3/3 [==============================] - 2s 631ms/step - loss: 0.8879 - accuracy: 0.5833\n",
            "Epoch 2/50\n",
            "3/3 [==============================] - 2s 608ms/step - loss: 0.8693 - accuracy: 0.6042\n",
            "Epoch 3/50\n",
            "3/3 [==============================] - 2s 595ms/step - loss: 1.0221 - accuracy: 0.5000\n",
            "Epoch 4/50\n",
            "3/3 [==============================] - 2s 651ms/step - loss: 0.9013 - accuracy: 0.5625\n",
            "Epoch 5/50\n",
            "3/3 [==============================] - 2s 612ms/step - loss: 0.9170 - accuracy: 0.5625\n",
            "Epoch 6/50\n",
            "3/3 [==============================] - 2s 603ms/step - loss: 0.9372 - accuracy: 0.5208\n",
            "Epoch 7/50\n",
            "3/3 [==============================] - 2s 595ms/step - loss: 0.9260 - accuracy: 0.5208\n",
            "Epoch 8/50\n",
            "3/3 [==============================] - 2s 607ms/step - loss: 0.9037 - accuracy: 0.5833\n",
            "Epoch 9/50\n",
            "3/3 [==============================] - 2s 599ms/step - loss: 0.8630 - accuracy: 0.5833\n",
            "Epoch 10/50\n",
            "3/3 [==============================] - 2s 615ms/step - loss: 0.7935 - accuracy: 0.6667\n",
            "Epoch 11/50\n",
            "3/3 [==============================] - 2s 616ms/step - loss: 0.9273 - accuracy: 0.5625\n",
            "Epoch 12/50\n",
            "3/3 [==============================] - 2s 609ms/step - loss: 0.9789 - accuracy: 0.5208\n",
            "Epoch 13/50\n",
            "3/3 [==============================] - 2s 606ms/step - loss: 1.1116 - accuracy: 0.2708\n",
            "Epoch 14/50\n",
            "3/3 [==============================] - 2s 600ms/step - loss: 0.9907 - accuracy: 0.5208\n",
            "Epoch 15/50\n",
            "3/3 [==============================] - 2s 608ms/step - loss: 0.8026 - accuracy: 0.6250\n",
            "Epoch 16/50\n",
            "3/3 [==============================] - 2s 605ms/step - loss: 0.8081 - accuracy: 0.6250\n",
            "Epoch 17/50\n",
            "3/3 [==============================] - 2s 608ms/step - loss: 0.9234 - accuracy: 0.5417\n",
            "Epoch 18/50\n",
            "3/3 [==============================] - 2s 595ms/step - loss: 0.8139 - accuracy: 0.5833\n",
            "Epoch 19/50\n",
            "3/3 [==============================] - 2s 605ms/step - loss: 0.9986 - accuracy: 0.5000\n",
            "Epoch 20/50\n",
            "3/3 [==============================] - 2s 611ms/step - loss: 0.9162 - accuracy: 0.5833\n",
            "Epoch 21/50\n",
            "3/3 [==============================] - 2s 606ms/step - loss: 0.7814 - accuracy: 0.6042\n",
            "Epoch 22/50\n",
            "3/3 [==============================] - 2s 606ms/step - loss: 0.8311 - accuracy: 0.5208\n",
            "Epoch 23/50\n",
            "3/3 [==============================] - 2s 615ms/step - loss: 0.8580 - accuracy: 0.5833\n",
            "Epoch 24/50\n",
            "3/3 [==============================] - 2s 603ms/step - loss: 0.7964 - accuracy: 0.6042\n",
            "Epoch 25/50\n",
            "3/3 [==============================] - 2s 588ms/step - loss: 0.7952 - accuracy: 0.6250\n",
            "Epoch 26/50\n",
            "3/3 [==============================] - 2s 603ms/step - loss: 0.7875 - accuracy: 0.7083\n",
            "Epoch 27/50\n",
            "3/3 [==============================] - 2s 606ms/step - loss: 0.7632 - accuracy: 0.6458\n",
            "Epoch 28/50\n",
            "3/3 [==============================] - 2s 665ms/step - loss: 0.7758 - accuracy: 0.6667\n",
            "Epoch 29/50\n",
            "3/3 [==============================] - 2s 596ms/step - loss: 0.7423 - accuracy: 0.6250\n",
            "Epoch 30/50\n",
            "3/3 [==============================] - 2s 612ms/step - loss: 0.7413 - accuracy: 0.6875\n",
            "Epoch 31/50\n",
            "3/3 [==============================] - 2s 614ms/step - loss: 0.7769 - accuracy: 0.5625\n",
            "Epoch 32/50\n",
            "3/3 [==============================] - 2s 614ms/step - loss: 0.7810 - accuracy: 0.6042\n",
            "Epoch 33/50\n",
            "3/3 [==============================] - 2s 610ms/step - loss: 0.7391 - accuracy: 0.6250\n",
            "Epoch 34/50\n",
            "3/3 [==============================] - 2s 621ms/step - loss: 0.6900 - accuracy: 0.7083\n",
            "Epoch 35/50\n",
            "3/3 [==============================] - 2s 612ms/step - loss: 0.7226 - accuracy: 0.6875\n",
            "Epoch 36/50\n",
            "3/3 [==============================] - 2s 614ms/step - loss: 0.6550 - accuracy: 0.7292\n",
            "Epoch 37/50\n",
            "3/3 [==============================] - 2s 611ms/step - loss: 0.6593 - accuracy: 0.6875\n",
            "Epoch 38/50\n",
            "3/3 [==============================] - 2s 619ms/step - loss: 0.8486 - accuracy: 0.6042\n",
            "Epoch 39/50\n",
            "3/3 [==============================] - 2s 615ms/step - loss: 0.7538 - accuracy: 0.7083\n",
            "Epoch 40/50\n",
            "3/3 [==============================] - 2s 615ms/step - loss: 0.7475 - accuracy: 0.6458\n",
            "Epoch 41/50\n",
            "3/3 [==============================] - 2s 606ms/step - loss: 0.7431 - accuracy: 0.6667\n",
            "Epoch 42/50\n",
            "3/3 [==============================] - 2s 609ms/step - loss: 0.6736 - accuracy: 0.6875\n",
            "Epoch 43/50\n",
            "3/3 [==============================] - 2s 606ms/step - loss: 0.7140 - accuracy: 0.6875\n",
            "Epoch 44/50\n",
            "3/3 [==============================] - 2s 615ms/step - loss: 0.8902 - accuracy: 0.5625\n",
            "Epoch 45/50\n",
            "3/3 [==============================] - 2s 614ms/step - loss: 1.0247 - accuracy: 0.5000\n",
            "Epoch 46/50\n",
            "3/3 [==============================] - 2s 620ms/step - loss: 0.9041 - accuracy: 0.5833\n",
            "Epoch 47/50\n",
            "3/3 [==============================] - 2s 614ms/step - loss: 0.8284 - accuracy: 0.7083\n",
            "Epoch 48/50\n",
            "3/3 [==============================] - 2s 605ms/step - loss: 0.8643 - accuracy: 0.6250\n",
            "Epoch 49/50\n",
            "3/3 [==============================] - 2s 613ms/step - loss: 0.7728 - accuracy: 0.6458\n",
            "Epoch 50/50\n",
            "3/3 [==============================] - 2s 605ms/step - loss: 0.7707 - accuracy: 0.6458\n"
          ]
        }
      ]
    },
    {
      "cell_type": "code",
      "source": [
        "beer_cnn_model.evaluate(train_generator)"
      ],
      "metadata": {
        "colab": {
          "base_uri": "https://localhost:8080/"
        },
        "id": "pqGRbdaca3uv",
        "outputId": "00660024-136a-4269-89f9-005863c578a1"
      },
      "execution_count": 43,
      "outputs": [
        {
          "output_type": "stream",
          "name": "stdout",
          "text": [
            "3/3 [==============================] - 1s 186ms/step - loss: 0.7028 - accuracy: 0.6458\n"
          ]
        },
        {
          "output_type": "execute_result",
          "data": {
            "text/plain": [
              "[0.7028136253356934, 0.6458333134651184]"
            ]
          },
          "metadata": {},
          "execution_count": 43
        }
      ]
    },
    {
      "cell_type": "code",
      "source": [
        ""
      ],
      "metadata": {
        "id": "zOJGMqiJxVpx"
      },
      "execution_count": null,
      "outputs": []
    }
  ]
}