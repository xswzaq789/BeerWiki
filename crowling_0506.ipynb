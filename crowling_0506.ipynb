{
  "nbformat": 4,
  "nbformat_minor": 0,
  "metadata": {
    "colab": {
      "name": "crowling_0504.ipynb",
      "provenance": [],
      "collapsed_sections": [],
      "mount_file_id": "1bUsZdZntWuJVrVmZms0Q-ZcSkw1ejWqX",
      "authorship_tag": "ABX9TyOt2jY1nph4Q6JZ/7r1RnoF",
      "include_colab_link": true
    },
    "kernelspec": {
      "name": "python3",
      "display_name": "Python 3"
    },
    "language_info": {
      "name": "python"
    }
  },
  "cells": [
    {
      "cell_type": "markdown",
      "metadata": {
        "id": "view-in-github",
        "colab_type": "text"
      },
      "source": [
        "<a href=\"https://colab.research.google.com/github/xswzaq789/BeerWiki/blob/main/crowling_0506.ipynb\" target=\"_parent\"><img src=\"https://colab.research.google.com/assets/colab-badge.svg\" alt=\"Open In Colab\"/></a>"
      ]
    },
    {
      "cell_type": "markdown",
      "source": [
        "### 0506 Crowling\n",
        "- 제목 / 본문/ 링크 크롤링\n",
        "  - https://wonhwa.tistory.com/10?category=996518\n",
        "- 셀레니움 코랩 설치\n",
        "  - https://pgh268400.tistory.com/286 \n",
        "- 파이썬 워드 클라우드\n",
        "  - https://doitgrow.com/34 \n",
        "- konply 코랩 설치\n",
        "  - https://pinggoopark.tistory.com/107 \n",
        "- 크롬드라이버 설치\n",
        "  - https://dhznsdl.tistory.com/21\n",
        "- 코랩 한글 사용\n",
        "  - https://durian9s-coding-tree.tistory.com/19 \n",
        "- 형태소 등 추출\n",
        "  - https://wikidocs.net/21707 \n",
        "- 코랩 한글 폰트 불러오기 문제 해결\n",
        "  - https://blog.naver.com/PostView.nhn?blogId=dsz08082&logNo=222021179448&redirect=Dlog&widgetTypeCall=true&directAccess=false "
      ],
      "metadata": {
        "id": "ewcV4Om7_G5W"
      }
    },
    {
      "cell_type": "code",
      "execution_count": 1,
      "metadata": {
        "colab": {
          "base_uri": "https://localhost:8080/",
          "height": 204
        },
        "id": "J9TdjQnHuJvy",
        "outputId": "b03b16e3-e373-4e4d-9e1f-80057c75dea5"
      },
      "outputs": [
        {
          "name": "stdout",
          "output_type": "stream",
          "text": [
            "검색어를 입력하세요: 호가든 로제 리뷰\n",
            "크롤링할 수(100이하): 25\n"
          ]
        },
        {
          "output_type": "execute_result",
          "data": {
            "text/plain": [
              "'{\\n\"lastBuildDate\": \"Fri, 06 May 2022 14:22:34 +0900\",\\n\"total\": 2083,\\n\"start\": 1,\\n\"display\": 25,\\n\"items\": [\\n{\\n\"title\": \"<b>호가든 로제</b>/버드와이저/하이네켄 무알콜 맥주 3종 <b>리뷰</b>\",\\n\"link\": \"https:\\\\/\\\\/blog.naver.com\\\\/jeong-won?Redirect=Log&logNo=222563018249\",\\n\"description\": \"1번 타자는 <b>호가든 로제</b> 0.0 맥주다. 일반 버전이 보이지 않아서 피치 못하게 <b>로제</b>로 구입했는데 한국 시장에는 아직 진출하지 않았는지 판매자나 <b>리뷰</b>를 전혀 찾아볼 수 없었다. 첫인상으로는 칙-하고 개봉되는... \",\\n\"bloggername\": \"정어리의 사생활\",\\n\"bloggerlink\": \"https://blog.naver.com/jeong-won\",\\n\"postdate\": \"20211109\"\\n\\n},\\n{\\n\"title\": \"[수입캔맥주] <b>호가든</b>(Hoegaarden) <b>로제 리뷰</b>\",\\n\"link\": \"https:\\\\/\\\\/blog.naver.com\\\\/taoti?Redirect=Log&logNo=222341190757\",\\n\"description\": \"오늘 소개해드릴 맥주는 호가든 로제 입니다. 이름 호가든 로제 맥주 업소명 수입처 : 오비맥주(주)... 경험하는것으로 만족합니다. 0.0 : 다신 만나고 싶지 않음 이상 내돈내산 <b>호가든 로제 리뷰</b>를 마칩니다~ 뿅!\",\\n\"bloggername\": \"내가 걸어가며 하는 이야기.\",\\n\"bloggerlink\": \"https://blog.naver.com/taoti\",\\n\"postdate\": \"20210507\"\\n\\n},\\n{\\n\"title\": \"<b>호가든 로제</b> 칼로리, 도수 (전용잔 기획세트)\",\\n\"link\": \"https:\\\\/\\\\/blog.naver.com\\\\/j_kokoko?Redirect=Log&logNo=222649276741\",\\n\"description\": \"가격, <b>리뷰</b>, 파는 곳 총정리 <b>호가든 로제</b> 기획 500ml 4캔 전용 맥주잔 1개 가격 - 10,800원 벨기에 전통 밀맥주 라즈베리 맛 광주 이마트 봉선점에서 구매 혹시나 하고 좀 전에 인터넷 판매가를 검색해 보니 컵... \",\\n\"bloggername\": \"소소한일상 \\'◡\\'\",\\n\"bloggerlink\": \"https://blog.naver.com/j_kokoko\",\\n\"postdate\": \"20220216\"\\n\\n},\\n{\\n\"title\": \"BEST 5 추천 <b>리뷰</b> (츄하이, 버니니, <b>호가든로제</b>, 심술, 써머스비)\",\\n\"link\": \"https:\\\\/\\\\/blog.naver.com\\\\/jejesua?Redirect=Log&logNo=222202069866\",\\n\"description\": \"5 <b>리뷰</b> 및 추천을 준비해봤다. 사실 추천하고 싶은 게 5가지를 훨씬 넘지만 보다 객관적이고 보편적인... 2. <b>호가든 로제</b> 벨기에: <b>호가든</b> / 종류: 밀맥주, 라즈베리맛 / 도수: 3% 기호 2번은 <b>호가든 로제</b> 250ml와 750ml... \",\\n\"bloggername\": \"D: ENVISION FACTORY\",\\n\"bloggerlink\": \"https://blog.naver.com/jejesua\",\\n\"postdate\": \"20210109\"\\n\\n},\\n{\\n\"title\": \"[편의점맥주<b>리뷰</b>] <b>호가든 로제</b>\",\\n\"link\": \"https:\\\\/\\\\/blog.naver.com\\\\/tare32?Redirect=Log&logNo=222501906586\",\\n\"description\": \"#만cc녀의맥주<b>리뷰</b> #<b>호가든로제</b> #라즈베리맥주 #벨기에맥주 #오비맥주 #핑크맥주 베리류는 다 좋아합니다. 라즈베리맥주라니 일단 사보자~ Rosée 라고 적혀있습니다. 무슨 뜻인지 검색.. 프랑스어로 로즈는... \",\\n\"bloggername\": \"깡깡123호와 나\",\\n\"bloggerlink\": \"https://blog.naver.com/tare32\",\\n\"postdate\": \"20210910\"\\n\\n},\\n{\\n\"title\": \"평일 식사 <b>리뷰</b> :: 푸라닭치킨 순살 블랙투움바와 <b>호가든로제</b>... \",\\n\"link\": \"https:\\\\/\\\\/blog.naver.com\\\\/tomakeitcount17?Redirect=Log&logNo=222183261205\",\\n\"description\": \"그동안 <b>리뷰</b>에 쩜 소홀했으니....오랜만에 배달음식 <b>리뷰</b>. 평소 밥배가 차지 않는다는 이유(Feat. 돼지)로... 요새 푹 빠진 <b>호가든 로제</b>와 치킨을 즐기니 크리스마스 이이브(이틀전이니께)에 이런 호사를 누리는... \",\\n\"bloggername\": \"멘델의 나만알지펩시콜라\",\\n\"bloggerlink\": \"https://blog.naver.com/tomakeitcount17\",\\n\"postdate\": \"20201223\"\\n\\n},\\n{\\n\"title\": \"#<b>호가든 로제 리뷰</b> #내돈내산\",\\n\"link\": \"https:\\\\/\\\\/blog.naver.com\\\\/heosd1121?Redirect=Log&logNo=222445602649\",\\n\"description\": \"오늘은 지금 마시고 있는 \\'<b>호가든</b> 맥주 <b>로제</b>맛\\'을 <b>리뷰</b>해보려고 합니다. 홈플러스에 장을 보러 갔다가 다이어터인 저는 늘 그렇듯 코젤다크 제로를 집어들고 나오려던 그 순간!!! 영롱한 분홍색 캔이 저를... \",\\n\"bloggername\": \"띠뚱의 7/15\",\\n\"bloggerlink\": \"https://blog.naver.com/heosd1121\",\\n\"postdate\": \"20210726\"\\n\\n},\\n{\\n\"title\": \"세계맥주 : 벨기에 - <b>호가든로제</b> [<b>리뷰</b>]\",\\n\"link\": \"https:\\\\/\\\\/blog.naver.com\\\\/kjkk0516?Redirect=Log&logNo=222048766182\",\\n\"description\": \"그런데 요즘에는 <b>호가든로제</b>가 먹고싶다는 생각과 치맥이 땡기는 날이 많습니다ㅎㅎㅎ 그래서 <b>호가든로제</b>를 사러 마트에 가니 맥주컵을 주는 행사가 똭~!!!!! 땡큐! 소리지르며 2박스 구입했습니다 ㅎㅎ... \",\\n\"bloggername\": \"큰바위골재의 일상생활\",\\n\"bloggerlink\": \"https://blog.naver.com/kjkk0516\",\\n\"postdate\": \"20200802\"\\n\\n},\\n{\\n\"title\": \"내돈내산 <b>호가든 로제</b> 캔맥주 <b>리뷰</b>\",\\n\"link\": \"https:\\\\/\\\\/blog.naver.com\\\\/ckcnstla1?Redirect=Log&logNo=222521703025\",\\n\"description\": \"안녕하세요~ 어제 급하게 집안 청소를 한시간 넘게하고 너무 힘들고 갈증나서 편의점에서 사온 #캔맥주 한잔 했습니다 #<b>호가든</b>캔맥주 를 참 좋아하는데요 제가 못먹어본 #<b>호가든로제</b> 맛이 있길래 궁금해서... \",\\n\"bloggername\": \"춘시me story\",\\n\"bloggerlink\": \"https://blog.naver.com/ckcnstla1\",\\n\"postdate\": \"20210930\"\\n\\n},\\n{\\n\"title\": \"[일상] 편의점 맥주 <b>리뷰</b>(<b>호가든 로제</b>, <b>호가든</b> 보타닉, 백양... \",\\n\"link\": \"https:\\\\/\\\\/blog.naver.com\\\\/tya03?Redirect=Log&logNo=222455283522\",\\n\"description\": \"내가 이번에 사 온 맥주들 <b>호가든 로제</b>, <b>호가든</b> 보타닉, 백양, 말표 흑맥주 말표 흑맥주빼고는 다 처음인 아이들이에용 헿 TMI지만 저 남친한테 맥주잔 선물받았어요! ㅋㅋㅋㅋㅋㅋㅋㅋㅋ 이제 와인잔 안써도됨!!... \",\\n\"bloggername\": \"병아리 블로그\",\\n\"bloggerlink\": \"https://blog.naver.com/tya03\",\\n\"postdate\": \"20210803\"\\n\\n},\\n{\\n\"title\": \"[<b>호가든 로제</b> 후기/<b>리뷰</b>] 맥주 추천/<b>호가든 로제</b> 가격, 맛\",\\n\"link\": \"https:\\\\/\\\\/blog.naver.com\\\\/pinkcoups88?Redirect=Log&logNo=222219254190\",\\n\"description\": \"안녕하세요 블체입니다 오늘은 두번 째 술 <b>리뷰</b>를 들고 왔습니다 바로 <b>호가든 로제</b>입니다! 저는 홈플러스 맥주 코너에서 구매했습니다. 가격은 1캔에 2500원대, 4캔에 9600원입니다. 저는 4캔 구매했어요! 500ml... \",\\n\"bloggername\": \"Black Cherry Log\",\\n\"bloggerlink\": \"https://blog.naver.com/pinkcoups88\",\\n\"postdate\": \"20210125\"\\n\\n},\\n{\\n\"title\": \"은평구 진우동 쫄면 잔치국수 그리고 <b>호가든로제</b>\",\\n\"link\": \"https:\\\\/\\\\/blog.naver.com\\\\/ghwls222?Redirect=Log&logNo=222202587944\",\\n\"description\": \"<b>리뷰</b>이벤트인데 양이 아주 푸짐하다. 어묵들이 푹끓여져서 늘어진 식감이 아주좋았고 뭣보다 국물이 아주 끝내줌. 돈까스도 튀겨주었고. 슬슬 상큼한게 땡겨서 <b>호가든로제</b> 꺼내왔다. 옛날엔 이거 한병에... \",\\n\"bloggername\": \"먹짱먹방여행\",\\n\"bloggerlink\": \"https://blog.naver.com/ghwls222\",\\n\"postdate\": \"20210110\"\\n\\n},\\n{\\n\"title\": \"<b>호가든 로제</b> / <b>호가든</b> 전용잔 <b>리뷰</b>\",\\n\"link\": \"https:\\\\/\\\\/blog.naver.com\\\\/rudtlsdl369?Redirect=Log&logNo=222318716480\",\\n\"description\": \"예전에 홈플러스에서 <b>호가든 로제</b>랑 전용잔 세트로 저렴하게 팔길래 구매했다. <b>호가든 로제</b>는 내가 제일 좋아하는 맥주 중에 하나인데 편의점에 자주 없어서 슬프다. 아무튼 사놓고 한참을 냉장고에 넣어두고... \",\\n\"bloggername\": \"리뷰할거야\",\\n\"bloggerlink\": \"https://blog.naver.com/rudtlsdl369\",\\n\"postdate\": \"20210422\"\\n\\n},\\n{\\n\"title\": \"술 못마시는 알쓰의 맥주 <b>리뷰</b> - <b>호가든 로제</b>\",\\n\"link\": \"https:\\\\/\\\\/blog.naver.com\\\\/m0byd1ck?Redirect=Log&logNo=222506365040\",\\n\"description\": \"술을 원래 못마시는 \\'알코올 쓰래기\\'도 맥주 <b>리뷰</b>를 해보겠습니다. 한 병 마시고 잠시 기절했다가 포스팅 합니다. 오늘 마셔볼 맥주는 <b>호가든 로제</b> (Hoegaarden rosee) 입니다. 저같은 알쓰에게 잘 어울리는... \",\\n\"bloggername\": \"모비딕의 해부학 실습실\",\\n\"bloggerlink\": \"https://blog.naver.com/m0byd1ck\",\\n\"postdate\": \"20210915\"\\n\\n},\\n{\\n\"title\": \"4종 <b>리뷰</b>(<b>호가든</b>, <b>호가든로제</b>, 신상맥주 <b>호가든</b>포멜로... \",\\n\"link\": \"https:\\\\/\\\\/blog.naver.com\\\\/goodstrength?Redirect=Log&logNo=222436054465\",\\n\"description\": \"과일맥주 살 때 1순위로 짚는 이것ㅋㅋ <b>로제</b>극찬은 이쯤에서 마무리ㅜㅜ ☆☆☆ 꾹 참고 <b>호가든</b> 포멜로부터 <b>리뷰</b>해볼게요! <b>호가든</b> 포멜로(HOEGAARDEN POMELO) 이름이 좀 생소해서 찾아봤어요. 더운 동남아에서 주로... \",\\n\"bloggername\": \"추억의 창(窓) : ALL OF HAPPINESS\",\\n\"bloggerlink\": \"https://blog.naver.com/goodstrength\",\\n\"postdate\": \"20210718\"\\n\\n},\\n{\\n\"title\": \"[<b>호가든</b>] <b>호가든 로제</b> - 색깔도 예쁜 달달한 라즈베리 맥주\",\\n\"link\": \"https:\\\\/\\\\/blog.naver.com\\\\/beautywi?Redirect=Log&logNo=222065649293\",\\n\"description\": \"#맥주 리뷰를 가지고 왔습니다 ㅋㅋㅋ 호가든 로제 용량 500ml * 4 가격 9,400원 요즘 대형마트에서 500ml... 같아요 <b>호가든로제 리뷰</b>는 여기에서 마치구요~! 바쁘다 바빠 현대사회! 컨디션 관리 잘 하시고, 오늘도... \",\\n\"bloggername\": \"언니의 리뷰생활\",\\n\"bloggerlink\": \"https://blog.naver.com/beautywi\",\\n\"postdate\": \"20200820\"\\n\\n},\\n{\\n\"title\": \"<b>호가든 로제</b>캔 :: 맥주 독특해\",\\n\"link\": \"https:\\\\/\\\\/blog.naver.com\\\\/tjs2057?Redirect=Log&logNo=222427152991\",\\n\"description\": \"그래서 뭔가 부족할 것 같을 땐 5, 6캔 정도 사 가는 듯 요즘 같은 더운 날에는 확실히 시원한 맥주나 탄산이 당기는 듯 그중에서도 오늘은 <b>호가든 로제</b>캔 꽤나 독특했어서 한 번 <b>리뷰</b>해봐요 미리 언급하면... \",\\n\"bloggername\": \"선선한_\",\\n\"bloggerlink\": \"https://blog.naver.com/tjs2057\",\\n\"postdate\": \"20210710\"\\n\\n},\\n{\\n\"title\": \"<b>호가든 로제</b>(Hoegaarden - Rosee) <b>리뷰</b> B291\",\\n\"link\": \"https:\\\\/\\\\/blog.naver.com\\\\/aasx12347?Redirect=Log&logNo=221989682563\",\\n\"description\": \"정말 오래전에 <b>리뷰</b>를 작성했었던 <b>호가든</b>의 <b>로제</b>이며 이번에 \\'<b>호가든 로제</b> 캔\\'이라는 버전으로 나와서 <b>리뷰</b>를 써보는 글입니다. 아 물론 500ml짜리도 나왔다는데 저는 아직 본 적이 없습니다...ㅠㅠ 이... \",\\n\"bloggername\": \"리저브 스토리지\",\\n\"bloggerlink\": \"https://blog.naver.com/aasx12347\",\\n\"postdate\": \"20200604\"\\n\\n},\\n{\\n\"title\": \"<b>호가든 로제</b> 달달한 라즈베리의 향연\",\\n\"link\": \"https:\\\\/\\\\/blog.naver.com\\\\/valueyang?Redirect=Log&logNo=222571860665\",\\n\"description\": \"맛있는데 <b>호가든 로제</b>로 진짜 꿀맛이더라구요! (포멜로도 곧 <b>리뷰</b> 남겨볼 예정입니당 ㅎ) (요즘 맥주 컬렉션 채워지는 거 보면 행복해여...ㅎㅎㅎ) 원재료 자세히 보면... 롸...? 고수씨앗?... \",\\n\"bloggername\": \"지예로운 생활\",\\n\"bloggerlink\": \"https://blog.naver.com/valueyang\",\\n\"postdate\": \"20211118\"\\n\\n},\\n{\\n\"title\": \"수입맥주 털어왔다: <b>호가든</b> 포멜로, <b>호가든 로제</b>, 데스페라도스... \",\\n\"link\": \"https:\\\\/\\\\/blog.naver.com\\\\/goroming22?Redirect=Log&logNo=222435986488\",\\n\"description\": \"포멜로와 <b>로제</b>만 <b>리뷰</b>할 예정 (왜냐문 남은 두 캔은 언제 마실지 모르겠거든요..ㅎ) <b>호가든</b> 신제품 쌍둥이들 <b>호가든 로제</b>는 지난번 J, K양과 회포를 풀때 처음 마셔봤는데 달달한 <b>로제</b>향이 마음에 들어 재구매... \",\\n\"bloggername\": \"밍기적: 밍의 기적일기\",\\n\"bloggerlink\": \"https://blog.naver.com/goroming22\",\\n\"postdate\": \"20210718\"\\n\\n},\\n{\\n\"title\": \"노인과바다 코코넛밀크 동서울터미널 수레국화 <b>호가든로제</b>\",\\n\"link\": \"https:\\\\/\\\\/blog.naver.com\\\\/moonz?Redirect=Log&logNo=222386531877\",\\n\"description\": \"노브랜드 들렸다가 코코넛밀크도 하나 구입해봤다 맛있으면 다시 제품 <b>리뷰</b>로 올려야 할듯... 멘톨보단 훨씬 나은듯...안에 벌꿀맛이 확!~~ 집에 와서 구입해놨던 <b>호가든로제</b> 먹어봄... 오호 진짜 맛있는데?... \",\\n\"bloggername\": \"영어쌤의 기억법\",\\n\"bloggerlink\": \"https://blog.naver.com/moonz\",\\n\"postdate\": \"20210606\"\\n\\n},\\n{\\n\"title\": \"[<b>리뷰</b>] <b>호가든 로제</b> 포멜로 | 대왕 강추 맥주\",\\n\"link\": \"https:\\\\/\\\\/blog.naver.com\\\\/goals6456?Redirect=Log&logNo=222529656421\",\\n\"description\": \"<b>호가든 로제</b> 500ml 3,000원 3.0% <b>호가든</b> 포멜로 500ml 3,000원 3.0% 안녕하세요 ❛˓◞˂ 오늘은 저의 최애 맥주를 소개해보려고 합니당 ♡⃛ 바로바로 <b>호가든 로제</b>와 포멜로 인데요 그냥 맥주도 좋지만 가끔 달달하니... \",\\n\"bloggername\": \"soso_log_ఇ\",\\n\"bloggerlink\": \"https://blog.naver.com/goals6456\",\\n\"postdate\": \"20211007\"\\n\\n},\\n{\\n\"title\": \"<b>호가든 로제</b> 캔 편의점 파는 곳 ft. 과일맥주 추천 Hoegaarden\",\\n\"link\": \"https:\\\\/\\\\/blog.naver.com\\\\/lovegirl4u?Redirect=Log&logNo=222207652777\",\\n\"description\": \"원래 과일향이 강한 맥주는 안 좋아하는데, 은은하게 향기로운 Hoegaarden beer ★ <b>호가든 로제</b> 편의점 과일맥주 추천, <b>호가든 로제</b> 파는 곳 <b>리뷰</b> 끝★ #<b>호가든로제</b> #<b>호가든로제</b>파는곳 #<b>호가든로제</b>편의점... \",\\n\"bloggername\": \"암행밥사 출두일지\",\\n\"bloggerlink\": \"https://blog.naver.com/lovegirl4u\",\\n\"postdate\": \"20210114\"\\n\\n},\\n{\\n\"title\": \"필라이트 라들러 자몽 알쓰 맥주 추천(feat.<b>호가든 로제</b>)\",\\n\"link\": \"https:\\\\/\\\\/blog.naver.com\\\\/nuridambi90?Redirect=Log&logNo=222622795407\",\\n\"description\": \"한캔만 마셔도 좀 올라오실 수 있는데 알쓰분들도 부담없이 드실 수 있습니다! 심지어 맛있으니 꼭꼭 드세요 ㅜ ㅜ <b>호가든 로제</b> 다운그레이드 버전 필라이트 라들러 자몽 추천합니다 내돈내산 <b>리뷰</b>입니다\",\\n\"bloggername\": \"Mi gata Chocho\",\\n\"bloggerlink\": \"https://blog.naver.com/nuridambi90\",\\n\"postdate\": \"20220116\"\\n\\n},\\n{\\n\"title\": \"[세계맥주 추천/ 맛있는 외국 맥주 추천] <b>호가든 로제</b>!!... \",\\n\"link\": \"https:\\\\/\\\\/blog.naver.com\\\\/beyuna?Redirect=Log&logNo=222539793365\",\\n\"description\": \"바로 <b>호가든 로제</b>입니다~~ 오리지널 <b>호가든</b>? 노노 <b>호가든 로제</b>!! 술이 땡기는 일요일 한 캔 따... 그래도 달콤한 과일맥주 좋아하시는 분들게 추천! -직접 구입하여 작성한 <b>리뷰</b>입니다^.^!- @연화\",\\n\"bloggername\": \"인생의 아름다운 순간들\",\\n\"bloggerlink\": \"https://blog.naver.com/beyuna\",\\n\"postdate\": \"20211017\"\\n\\n}\\n]\\n}\\n'"
            ],
            "application/vnd.google.colaboratory.intrinsic+json": {
              "type": "string"
            }
          },
          "metadata": {},
          "execution_count": 1
        }
      ],
      "source": [
        "import os\n",
        "import sys\n",
        "import urllib.request\n",
        "import json\n",
        "client_id = \"ZLuPWwJ47OEWXSQAIlS4\" # 발급받은 id 입력\n",
        "client_secret = \"BcmHs4QWvM\" # 발급받은 secret 입력 \n",
        "quote = input(\"검색어를 입력하세요: \") #검색어 입력받기\n",
        "encText = urllib.parse.quote(quote)\n",
        "display_num = input(\"크롤링할 수(100이하): \") #출력할 갯수 입력받기\n",
        "url = \"https://openapi.naver.com/v1/search/blog?query=\" + encText +\"&display=\"+display_num# json 결과\n",
        "# url = \"https://openapi.naver.com/v1/search/blog.xml?query=\" + encText # xml 결과\n",
        "request = urllib.request.Request(url)\n",
        "request.add_header(\"X-Naver-Client-Id\",client_id)\n",
        "request.add_header(\"X-Naver-Client-Secret\",client_secret)\n",
        "response = urllib.request.urlopen(request)\n",
        "rescode = response.getcode()\n",
        "\n",
        "if(rescode==200):\n",
        "    response_body = response.read()\n",
        "    #print(response_body.decode('utf-8'))\n",
        "else:\n",
        "    print(\"Error Code:\" + rescode)\n",
        "\n",
        "body = response_body.decode('utf-8')\n",
        "body"
      ]
    },
    {
      "cell_type": "code",
      "source": [
        "# 반복문으로 encText 해결"
      ],
      "metadata": {
        "id": "igY5LzW-0O2l"
      },
      "execution_count": null,
      "outputs": []
    },
    {
      "cell_type": "code",
      "source": [
        "# 불필요한 \"\"(큰따옴표)지워주기\n",
        "body = body.replace('\"','')"
      ],
      "metadata": {
        "id": "MmNkaJlWu-vC"
      },
      "execution_count": 2,
      "outputs": []
    },
    {
      "cell_type": "code",
      "source": [
        "#블로그 제목만 뽑기\n",
        "import re\n",
        "titles = re.findall('title: (.*?),\\nlink', body) #\\n은 엔터의 의미\n",
        "print('<<제목 모음>>')\n",
        "print(titles)\n",
        "print('총 제목 수: ',len(titles),'개')#제목갯수확인"
      ],
      "metadata": {
        "colab": {
          "base_uri": "https://localhost:8080/"
        },
        "id": "ZBE7Kz9SvCG4",
        "outputId": "cf5ac333-ac6a-4e52-d506-3a079fd654a9"
      },
      "execution_count": 3,
      "outputs": [
        {
          "output_type": "stream",
          "name": "stdout",
          "text": [
            "<<제목 모음>>\n",
            "['<b>호가든 로제</b>/버드와이저/하이네켄 무알콜 맥주 3종 <b>리뷰</b>', '[수입캔맥주] <b>호가든</b>(Hoegaarden) <b>로제 리뷰</b>', '<b>호가든 로제</b> 칼로리, 도수 (전용잔 기획세트)', 'BEST 5 추천 <b>리뷰</b> (츄하이, 버니니, <b>호가든로제</b>, 심술, 써머스비)', '[편의점맥주<b>리뷰</b>] <b>호가든 로제</b>', '평일 식사 <b>리뷰</b> :: 푸라닭치킨 순살 블랙투움바와 <b>호가든로제</b>... ', '#<b>호가든 로제 리뷰</b> #내돈내산', '세계맥주 : 벨기에 - <b>호가든로제</b> [<b>리뷰</b>]', '내돈내산 <b>호가든 로제</b> 캔맥주 <b>리뷰</b>', '[일상] 편의점 맥주 <b>리뷰</b>(<b>호가든 로제</b>, <b>호가든</b> 보타닉, 백양... ', '[<b>호가든 로제</b> 후기/<b>리뷰</b>] 맥주 추천/<b>호가든 로제</b> 가격, 맛', '은평구 진우동 쫄면 잔치국수 그리고 <b>호가든로제</b>', '<b>호가든 로제</b> / <b>호가든</b> 전용잔 <b>리뷰</b>', '술 못마시는 알쓰의 맥주 <b>리뷰</b> - <b>호가든 로제</b>', '4종 <b>리뷰</b>(<b>호가든</b>, <b>호가든로제</b>, 신상맥주 <b>호가든</b>포멜로... ', '[<b>호가든</b>] <b>호가든 로제</b> - 색깔도 예쁜 달달한 라즈베리 맥주', '<b>호가든 로제</b>캔 :: 맥주 독특해', '<b>호가든 로제</b>(Hoegaarden - Rosee) <b>리뷰</b> B291', '<b>호가든 로제</b> 달달한 라즈베리의 향연', '수입맥주 털어왔다: <b>호가든</b> 포멜로, <b>호가든 로제</b>, 데스페라도스... ', '노인과바다 코코넛밀크 동서울터미널 수레국화 <b>호가든로제</b>', '[<b>리뷰</b>] <b>호가든 로제</b> 포멜로 | 대왕 강추 맥주', '<b>호가든 로제</b> 캔 편의점 파는 곳 ft. 과일맥주 추천 Hoegaarden', '필라이트 라들러 자몽 알쓰 맥주 추천(feat.<b>호가든 로제</b>)', '[세계맥주 추천/ 맛있는 외국 맥주 추천] <b>호가든 로제</b>!!... ']\n",
            "총 제목 수:  25 개\n"
          ]
        }
      ]
    },
    {
      "cell_type": "code",
      "source": [
        "#블로그 링크들 추출\n",
        "links = re.findall('link: (.*?),\\ndescription',body)\n",
        "print('\\n<<링크 모음>>')\n",
        "print(links)\n",
        "print('총 링크 수: ',len(links),'개')#링크갯수확인"
      ],
      "metadata": {
        "colab": {
          "base_uri": "https://localhost:8080/"
        },
        "id": "r_tO2KVuvFgF",
        "outputId": "839ae6bf-59db-487d-d8fa-8c5b67f6d901"
      },
      "execution_count": 4,
      "outputs": [
        {
          "output_type": "stream",
          "name": "stdout",
          "text": [
            "\n",
            "<<링크 모음>>\n",
            "['https:\\\\/\\\\/blog.naver.com\\\\/jeong-won?Redirect=Log&logNo=222563018249', 'https:\\\\/\\\\/blog.naver.com\\\\/taoti?Redirect=Log&logNo=222341190757', 'https:\\\\/\\\\/blog.naver.com\\\\/j_kokoko?Redirect=Log&logNo=222649276741', 'https:\\\\/\\\\/blog.naver.com\\\\/jejesua?Redirect=Log&logNo=222202069866', 'https:\\\\/\\\\/blog.naver.com\\\\/tare32?Redirect=Log&logNo=222501906586', 'https:\\\\/\\\\/blog.naver.com\\\\/tomakeitcount17?Redirect=Log&logNo=222183261205', 'https:\\\\/\\\\/blog.naver.com\\\\/heosd1121?Redirect=Log&logNo=222445602649', 'https:\\\\/\\\\/blog.naver.com\\\\/kjkk0516?Redirect=Log&logNo=222048766182', 'https:\\\\/\\\\/blog.naver.com\\\\/ckcnstla1?Redirect=Log&logNo=222521703025', 'https:\\\\/\\\\/blog.naver.com\\\\/tya03?Redirect=Log&logNo=222455283522', 'https:\\\\/\\\\/blog.naver.com\\\\/pinkcoups88?Redirect=Log&logNo=222219254190', 'https:\\\\/\\\\/blog.naver.com\\\\/ghwls222?Redirect=Log&logNo=222202587944', 'https:\\\\/\\\\/blog.naver.com\\\\/rudtlsdl369?Redirect=Log&logNo=222318716480', 'https:\\\\/\\\\/blog.naver.com\\\\/m0byd1ck?Redirect=Log&logNo=222506365040', 'https:\\\\/\\\\/blog.naver.com\\\\/goodstrength?Redirect=Log&logNo=222436054465', 'https:\\\\/\\\\/blog.naver.com\\\\/beautywi?Redirect=Log&logNo=222065649293', 'https:\\\\/\\\\/blog.naver.com\\\\/tjs2057?Redirect=Log&logNo=222427152991', 'https:\\\\/\\\\/blog.naver.com\\\\/aasx12347?Redirect=Log&logNo=221989682563', 'https:\\\\/\\\\/blog.naver.com\\\\/valueyang?Redirect=Log&logNo=222571860665', 'https:\\\\/\\\\/blog.naver.com\\\\/goroming22?Redirect=Log&logNo=222435986488', 'https:\\\\/\\\\/blog.naver.com\\\\/moonz?Redirect=Log&logNo=222386531877', 'https:\\\\/\\\\/blog.naver.com\\\\/goals6456?Redirect=Log&logNo=222529656421', 'https:\\\\/\\\\/blog.naver.com\\\\/lovegirl4u?Redirect=Log&logNo=222207652777', 'https:\\\\/\\\\/blog.naver.com\\\\/nuridambi90?Redirect=Log&logNo=222622795407', 'https:\\\\/\\\\/blog.naver.com\\\\/beyuna?Redirect=Log&logNo=222539793365']\n",
            "총 링크 수:  25 개\n"
          ]
        }
      ]
    },
    {
      "cell_type": "code",
      "source": [
        "# 링크를 다듬기 (필요없는 부분 제거 및 수정)\n",
        "blog_links = []\n",
        "for i in links:\n",
        "    a = i.replace('\\\\','')\n",
        "    b = a.replace('?Redirect=Log&logNo=','/')\n",
        "    blog_links.append(b)\n",
        "\n",
        "print(blog_links)\n",
        "print('생성된 링크 갯수:',len(blog_links),'개')"
      ],
      "metadata": {
        "colab": {
          "base_uri": "https://localhost:8080/"
        },
        "id": "47Ym2n7rvH6H",
        "outputId": "86d7dbe4-4aa3-4ddf-beb7-406dd0d0481e"
      },
      "execution_count": 5,
      "outputs": [
        {
          "output_type": "stream",
          "name": "stdout",
          "text": [
            "['https://blog.naver.com/jeong-won/222563018249', 'https://blog.naver.com/taoti/222341190757', 'https://blog.naver.com/j_kokoko/222649276741', 'https://blog.naver.com/jejesua/222202069866', 'https://blog.naver.com/tare32/222501906586', 'https://blog.naver.com/tomakeitcount17/222183261205', 'https://blog.naver.com/heosd1121/222445602649', 'https://blog.naver.com/kjkk0516/222048766182', 'https://blog.naver.com/ckcnstla1/222521703025', 'https://blog.naver.com/tya03/222455283522', 'https://blog.naver.com/pinkcoups88/222219254190', 'https://blog.naver.com/ghwls222/222202587944', 'https://blog.naver.com/rudtlsdl369/222318716480', 'https://blog.naver.com/m0byd1ck/222506365040', 'https://blog.naver.com/goodstrength/222436054465', 'https://blog.naver.com/beautywi/222065649293', 'https://blog.naver.com/tjs2057/222427152991', 'https://blog.naver.com/aasx12347/221989682563', 'https://blog.naver.com/valueyang/222571860665', 'https://blog.naver.com/goroming22/222435986488', 'https://blog.naver.com/moonz/222386531877', 'https://blog.naver.com/goals6456/222529656421', 'https://blog.naver.com/lovegirl4u/222207652777', 'https://blog.naver.com/nuridambi90/222622795407', 'https://blog.naver.com/beyuna/222539793365']\n",
            "생성된 링크 갯수: 25 개\n"
          ]
        }
      ]
    },
    {
      "cell_type": "code",
      "source": [
        "# 셀레니움\n",
        "# 이 부분은 처음 한번만 실행하면 됌.(런타임 시간 동안)\n",
        "!pip install selenium\n",
        "!apt-get update\n",
        "!apt install chromium-chromedriver\n",
        "!cp /usr/lib/chromium-browser/chromedriver /usr/bin"
      ],
      "metadata": {
        "colab": {
          "base_uri": "https://localhost:8080/"
        },
        "id": "ON4pfpW9vZ8z",
        "outputId": "f56b2042-eaeb-4d5f-a7b9-d6ef78d4dbd6"
      },
      "execution_count": 7,
      "outputs": [
        {
          "output_type": "stream",
          "name": "stdout",
          "text": [
            "Collecting selenium\n",
            "  Downloading selenium-4.1.5-py3-none-any.whl (979 kB)\n",
            "\u001b[K     |████████████████████████████████| 979 kB 4.1 MB/s \n",
            "\u001b[?25hCollecting urllib3[secure,socks]~=1.26\n",
            "  Downloading urllib3-1.26.9-py2.py3-none-any.whl (138 kB)\n",
            "\u001b[K     |████████████████████████████████| 138 kB 53.1 MB/s \n",
            "\u001b[?25hCollecting trio~=0.17\n",
            "  Downloading trio-0.20.0-py3-none-any.whl (359 kB)\n",
            "\u001b[K     |████████████████████████████████| 359 kB 53.3 MB/s \n",
            "\u001b[?25hCollecting trio-websocket~=0.9\n",
            "  Downloading trio_websocket-0.9.2-py3-none-any.whl (16 kB)\n",
            "Requirement already satisfied: attrs>=19.2.0 in /usr/local/lib/python3.7/dist-packages (from trio~=0.17->selenium) (21.4.0)\n",
            "Collecting outcome\n",
            "  Downloading outcome-1.1.0-py2.py3-none-any.whl (9.7 kB)\n",
            "Requirement already satisfied: idna in /usr/local/lib/python3.7/dist-packages (from trio~=0.17->selenium) (2.10)\n",
            "Collecting sniffio\n",
            "  Downloading sniffio-1.2.0-py3-none-any.whl (10 kB)\n",
            "Requirement already satisfied: sortedcontainers in /usr/local/lib/python3.7/dist-packages (from trio~=0.17->selenium) (2.4.0)\n",
            "Collecting async-generator>=1.9\n",
            "  Downloading async_generator-1.10-py3-none-any.whl (18 kB)\n",
            "Collecting wsproto>=0.14\n",
            "  Downloading wsproto-1.1.0-py3-none-any.whl (24 kB)\n",
            "Collecting cryptography>=1.3.4\n",
            "  Downloading cryptography-37.0.2-cp36-abi3-manylinux_2_24_x86_64.whl (4.0 MB)\n",
            "\u001b[K     |████████████████████████████████| 4.0 MB 49.0 MB/s \n",
            "\u001b[?25hRequirement already satisfied: certifi in /usr/local/lib/python3.7/dist-packages (from urllib3[secure,socks]~=1.26->selenium) (2021.10.8)\n",
            "Collecting pyOpenSSL>=0.14\n",
            "  Downloading pyOpenSSL-22.0.0-py2.py3-none-any.whl (55 kB)\n",
            "\u001b[K     |████████████████████████████████| 55 kB 4.3 MB/s \n",
            "\u001b[?25hRequirement already satisfied: PySocks!=1.5.7,<2.0,>=1.5.6 in /usr/local/lib/python3.7/dist-packages (from urllib3[secure,socks]~=1.26->selenium) (1.7.1)\n",
            "Requirement already satisfied: cffi>=1.12 in /usr/local/lib/python3.7/dist-packages (from cryptography>=1.3.4->urllib3[secure,socks]~=1.26->selenium) (1.15.0)\n",
            "Requirement already satisfied: pycparser in /usr/local/lib/python3.7/dist-packages (from cffi>=1.12->cryptography>=1.3.4->urllib3[secure,socks]~=1.26->selenium) (2.21)\n",
            "Collecting h11<1,>=0.9.0\n",
            "  Downloading h11-0.13.0-py3-none-any.whl (58 kB)\n",
            "\u001b[K     |████████████████████████████████| 58 kB 5.6 MB/s \n",
            "\u001b[?25hRequirement already satisfied: typing-extensions in /usr/local/lib/python3.7/dist-packages (from h11<1,>=0.9.0->wsproto>=0.14->trio-websocket~=0.9->selenium) (4.2.0)\n",
            "Installing collected packages: sniffio, outcome, h11, cryptography, async-generator, wsproto, urllib3, trio, pyOpenSSL, trio-websocket, selenium\n",
            "  Attempting uninstall: urllib3\n",
            "    Found existing installation: urllib3 1.24.3\n",
            "    Uninstalling urllib3-1.24.3:\n",
            "      Successfully uninstalled urllib3-1.24.3\n",
            "\u001b[31mERROR: pip's dependency resolver does not currently take into account all the packages that are installed. This behaviour is the source of the following dependency conflicts.\n",
            "requests 2.23.0 requires urllib3!=1.25.0,!=1.25.1,<1.26,>=1.21.1, but you have urllib3 1.26.9 which is incompatible.\n",
            "datascience 0.10.6 requires folium==0.2.1, but you have folium 0.8.3 which is incompatible.\u001b[0m\n",
            "Successfully installed async-generator-1.10 cryptography-37.0.2 h11-0.13.0 outcome-1.1.0 pyOpenSSL-22.0.0 selenium-4.1.5 sniffio-1.2.0 trio-0.20.0 trio-websocket-0.9.2 urllib3-1.26.9 wsproto-1.1.0\n",
            "Hit:1 https://developer.download.nvidia.com/compute/cuda/repos/ubuntu1804/x86_64  InRelease\n",
            "Get:2 https://cloud.r-project.org/bin/linux/ubuntu bionic-cran40/ InRelease [3,626 B]\n",
            "Ign:3 https://developer.download.nvidia.com/compute/machine-learning/repos/ubuntu1804/x86_64  InRelease\n",
            "Hit:4 https://developer.download.nvidia.com/compute/machine-learning/repos/ubuntu1804/x86_64  Release\n",
            "Get:6 http://ppa.launchpad.net/c2d4u.team/c2d4u4.0+/ubuntu bionic InRelease [15.9 kB]\n",
            "Hit:7 http://archive.ubuntu.com/ubuntu bionic InRelease\n",
            "Get:8 http://security.ubuntu.com/ubuntu bionic-security InRelease [88.7 kB]\n",
            "Get:9 http://archive.ubuntu.com/ubuntu bionic-updates InRelease [88.7 kB]\n",
            "Hit:10 http://ppa.launchpad.net/cran/libgit2/ubuntu bionic InRelease\n",
            "Get:11 http://archive.ubuntu.com/ubuntu bionic-backports InRelease [74.6 kB]\n",
            "Hit:12 http://ppa.launchpad.net/deadsnakes/ppa/ubuntu bionic InRelease\n",
            "Get:13 http://archive.ubuntu.com/ubuntu bionic-updates/universe amd64 Packages [2,272 kB]\n",
            "Get:14 http://security.ubuntu.com/ubuntu bionic-security/main amd64 Packages [2,734 kB]\n",
            "Hit:15 http://ppa.launchpad.net/graphics-drivers/ppa/ubuntu bionic InRelease\n",
            "Get:16 http://archive.ubuntu.com/ubuntu bionic-updates/main amd64 Packages [3,168 kB]\n",
            "Get:17 http://ppa.launchpad.net/c2d4u.team/c2d4u4.0+/ubuntu bionic/main Sources [1,954 kB]\n",
            "Get:18 http://security.ubuntu.com/ubuntu bionic-security/universe amd64 Packages [1,498 kB]\n",
            "Get:19 http://ppa.launchpad.net/c2d4u.team/c2d4u4.0+/ubuntu bionic/main amd64 Packages [1,001 kB]\n",
            "Fetched 12.9 MB in 7s (1,809 kB/s)\n",
            "Reading package lists... Done\n",
            "Reading package lists... Done\n",
            "Building dependency tree       \n",
            "Reading state information... Done\n",
            "The following packages were automatically installed and are no longer required:\n",
            "  libnvidia-common-460 nsight-compute-2020.2.0\n",
            "Use 'apt autoremove' to remove them.\n",
            "The following additional packages will be installed:\n",
            "  chromium-browser chromium-browser-l10n chromium-codecs-ffmpeg-extra\n",
            "Suggested packages:\n",
            "  webaccounts-chromium-extension unity-chromium-extension\n",
            "The following NEW packages will be installed:\n",
            "  chromium-browser chromium-browser-l10n chromium-chromedriver\n",
            "  chromium-codecs-ffmpeg-extra\n",
            "0 upgraded, 4 newly installed, 0 to remove and 50 not upgraded.\n",
            "Need to get 88.4 MB of archives.\n",
            "After this operation, 297 MB of additional disk space will be used.\n",
            "Get:1 http://archive.ubuntu.com/ubuntu bionic-updates/universe amd64 chromium-codecs-ffmpeg-extra amd64 100.0.4896.127-0ubuntu0.18.04.1 [1,142 kB]\n",
            "Get:2 http://archive.ubuntu.com/ubuntu bionic-updates/universe amd64 chromium-browser amd64 100.0.4896.127-0ubuntu0.18.04.1 [77.6 MB]\n",
            "Get:3 http://archive.ubuntu.com/ubuntu bionic-updates/universe amd64 chromium-browser-l10n all 100.0.4896.127-0ubuntu0.18.04.1 [4,496 kB]\n",
            "Get:4 http://archive.ubuntu.com/ubuntu bionic-updates/universe amd64 chromium-chromedriver amd64 100.0.4896.127-0ubuntu0.18.04.1 [5,190 kB]\n",
            "Fetched 88.4 MB in 8s (11.1 MB/s)\n",
            "Selecting previously unselected package chromium-codecs-ffmpeg-extra.\n",
            "(Reading database ... 155203 files and directories currently installed.)\n",
            "Preparing to unpack .../chromium-codecs-ffmpeg-extra_100.0.4896.127-0ubuntu0.18.04.1_amd64.deb ...\n",
            "Unpacking chromium-codecs-ffmpeg-extra (100.0.4896.127-0ubuntu0.18.04.1) ...\n",
            "Selecting previously unselected package chromium-browser.\n",
            "Preparing to unpack .../chromium-browser_100.0.4896.127-0ubuntu0.18.04.1_amd64.deb ...\n",
            "Unpacking chromium-browser (100.0.4896.127-0ubuntu0.18.04.1) ...\n",
            "Selecting previously unselected package chromium-browser-l10n.\n",
            "Preparing to unpack .../chromium-browser-l10n_100.0.4896.127-0ubuntu0.18.04.1_all.deb ...\n",
            "Unpacking chromium-browser-l10n (100.0.4896.127-0ubuntu0.18.04.1) ...\n",
            "Selecting previously unselected package chromium-chromedriver.\n",
            "Preparing to unpack .../chromium-chromedriver_100.0.4896.127-0ubuntu0.18.04.1_amd64.deb ...\n",
            "Unpacking chromium-chromedriver (100.0.4896.127-0ubuntu0.18.04.1) ...\n",
            "Setting up chromium-codecs-ffmpeg-extra (100.0.4896.127-0ubuntu0.18.04.1) ...\n",
            "Setting up chromium-browser (100.0.4896.127-0ubuntu0.18.04.1) ...\n",
            "update-alternatives: using /usr/bin/chromium-browser to provide /usr/bin/x-www-browser (x-www-browser) in auto mode\n",
            "update-alternatives: using /usr/bin/chromium-browser to provide /usr/bin/gnome-www-browser (gnome-www-browser) in auto mode\n",
            "Setting up chromium-chromedriver (100.0.4896.127-0ubuntu0.18.04.1) ...\n",
            "Setting up chromium-browser-l10n (100.0.4896.127-0ubuntu0.18.04.1) ...\n",
            "Processing triggers for man-db (2.8.3-2ubuntu0.1) ...\n",
            "Processing triggers for hicolor-icon-theme (0.17-2) ...\n",
            "Processing triggers for mime-support (3.60ubuntu1) ...\n",
            "Processing triggers for libc-bin (2.27-3ubuntu1.3) ...\n",
            "/sbin/ldconfig.real: /usr/local/lib/python3.7/dist-packages/ideep4py/lib/libmkldnn.so.0 is not a symbolic link\n",
            "\n",
            "cp: '/usr/lib/chromium-browser/chromedriver' and '/usr/bin/chromedriver' are the same file\n"
          ]
        }
      ]
    },
    {
      "cell_type": "code",
      "source": [
        "# -*- coding: UTF-8 -*-\n",
        "import time\n",
        "from selenium import webdriver"
      ],
      "metadata": {
        "id": "M5KtU4xCvcLr"
      },
      "execution_count": 8,
      "outputs": []
    },
    {
      "cell_type": "code",
      "source": [
        "#Colab에선 웹브라우저 창이 뜨지 않으므로 별도 설정한다.\n",
        " \n",
        "options = webdriver.ChromeOptions()\n",
        "options.add_argument('--headless')        # Head-less 설정\n",
        "options.add_argument('--no-sandbox')\n",
        "options.add_argument('--disable-dev-shm-usage')\n",
        "driver = webdriver.Chrome('chromedriver', options=options)"
      ],
      "metadata": {
        "id": "sqGraAG6vcVa"
      },
      "execution_count": 9,
      "outputs": []
    },
    {
      "cell_type": "code",
      "source": [
        "#본문 크롤링\n",
        "import time\n",
        "from selenium import webdriver\n",
        "from bs4 import BeautifulSoup\n",
        "\n",
        "#driver = webdriver.Chrome(os.path.abspath('chromedriver')) #또는 driver.exe 가있는 파일 위치 복사하여 입력\n",
        "driver.implicitly_wait(3)"
      ],
      "metadata": {
        "id": "osiGxfrvvLUv"
      },
      "execution_count": 10,
      "outputs": []
    },
    {
      "cell_type": "code",
      "source": [
        "#블로그 링크 하나씩 불러서 크롤링\n",
        "contents = []\n",
        "for i in blog_links:\n",
        "#블로그 링크 하나씩 불러오기\n",
        "  driver.get(i)\n",
        "  time.sleep(1)\n",
        "  #블로그 안 본문이 있는 iframe에 접근하기\n",
        "  driver.switch_to.frame(\"mainFrame\")\n",
        "#본문 내용 크롤링하기\n",
        "  try:\n",
        "    a = driver.find_element_by_css_selector('div.se-main-container').text\n",
        "    contents.append(a)\n",
        "\n",
        "  except:\n",
        "    a = driver.find_element_by_css_selector('div#content-area').text\n",
        "    contents.append(a)\n",
        "  #print(본문: \\n', a)\n",
        "\n",
        "\n",
        "\n",
        "\n",
        "driver.quit() #창닫기\n",
        "print(\"<<본문 크롤링이 완료되었습니다.>>\")"
      ],
      "metadata": {
        "colab": {
          "base_uri": "https://localhost:8080/"
        },
        "id": "fz9gu4mmvydL",
        "outputId": "b46d3591-714b-44e5-9672-979072ec885b"
      },
      "execution_count": 12,
      "outputs": [
        {
          "output_type": "stream",
          "name": "stderr",
          "text": [
            "/usr/local/lib/python3.7/dist-packages/ipykernel_launcher.py:11: DeprecationWarning: find_element_by_css_selector is deprecated. Please use find_element(by=By.CSS_SELECTOR, value=css_selector) instead\n",
            "  # This is added back by InteractiveShellApp.init_path()\n"
          ]
        },
        {
          "output_type": "stream",
          "name": "stdout",
          "text": [
            "<<본문 크롤링이 완료되었습니다.>>\n"
          ]
        }
      ]
    },
    {
      "cell_type": "code",
      "source": [
        "# 제목, 블로그링크, 본문내용 Dataframe으로 만들기\n",
        "# 굳이 실행 안 해도 됨 그냥 보기 편하라고 일단 작성\n",
        "import pandas as pd\n",
        "df = pd.DataFrame({'제목':titles, '링크':blog_links,'내용':contents})\n",
        "df"
      ],
      "metadata": {
        "colab": {
          "base_uri": "https://localhost:8080/",
          "height": 1000
        },
        "id": "WCBM4352v55r",
        "outputId": "b093ac69-fc52-4c64-bc7f-4a87d03249f7"
      },
      "execution_count": 14,
      "outputs": [
        {
          "output_type": "execute_result",
          "data": {
            "text/plain": [
              "                                                   제목  \\\n",
              "0        <b>호가든 로제</b>/버드와이저/하이네켄 무알콜 맥주 3종 <b>리뷰</b>   \n",
              "1         [수입캔맥주] <b>호가든</b>(Hoegaarden) <b>로제 리뷰</b>   \n",
              "2                    <b>호가든 로제</b> 칼로리, 도수 (전용잔 기획세트)   \n",
              "3   BEST 5 추천 <b>리뷰</b> (츄하이, 버니니, <b>호가든로제</b>, 심...   \n",
              "4                      [편의점맥주<b>리뷰</b>] <b>호가든 로제</b>   \n",
              "5   평일 식사 <b>리뷰</b> :: 푸라닭치킨 순살 블랙투움바와 <b>호가든로제</b...   \n",
              "6                             #<b>호가든 로제 리뷰</b> #내돈내산   \n",
              "7               세계맥주 : 벨기에 - <b>호가든로제</b> [<b>리뷰</b>]   \n",
              "8                    내돈내산 <b>호가든 로제</b> 캔맥주 <b>리뷰</b>   \n",
              "9   [일상] 편의점 맥주 <b>리뷰</b>(<b>호가든 로제</b>, <b>호가든</b...   \n",
              "10  [<b>호가든 로제</b> 후기/<b>리뷰</b>] 맥주 추천/<b>호가든 로제</...   \n",
              "11                   은평구 진우동 쫄면 잔치국수 그리고 <b>호가든로제</b>   \n",
              "12           <b>호가든 로제</b> / <b>호가든</b> 전용잔 <b>리뷰</b>   \n",
              "13            술 못마시는 알쓰의 맥주 <b>리뷰</b> - <b>호가든 로제</b>   \n",
              "14  4종 <b>리뷰</b>(<b>호가든</b>, <b>호가든로제</b>, 신상맥주 <b...   \n",
              "15    [<b>호가든</b>] <b>호가든 로제</b> - 색깔도 예쁜 달달한 라즈베리 맥주   \n",
              "16                           <b>호가든 로제</b>캔 :: 맥주 독특해   \n",
              "17   <b>호가든 로제</b>(Hoegaarden - Rosee) <b>리뷰</b> B291   \n",
              "18                         <b>호가든 로제</b> 달달한 라즈베리의 향연   \n",
              "19  수입맥주 털어왔다: <b>호가든</b> 포멜로, <b>호가든 로제</b>, 데스페라...   \n",
              "20               노인과바다 코코넛밀크 동서울터미널 수레국화 <b>호가든로제</b>   \n",
              "21           [<b>리뷰</b>] <b>호가든 로제</b> 포멜로 | 대왕 강추 맥주   \n",
              "22    <b>호가든 로제</b> 캔 편의점 파는 곳 ft. 과일맥주 추천 Hoegaarden   \n",
              "23           필라이트 라들러 자몽 알쓰 맥주 추천(feat.<b>호가든 로제</b>)   \n",
              "24        [세계맥주 추천/ 맛있는 외국 맥주 추천] <b>호가든 로제</b>!!...    \n",
              "\n",
              "                                                   링크  \\\n",
              "0       https://blog.naver.com/jeong-won/222563018249   \n",
              "1           https://blog.naver.com/taoti/222341190757   \n",
              "2        https://blog.naver.com/j_kokoko/222649276741   \n",
              "3         https://blog.naver.com/jejesua/222202069866   \n",
              "4          https://blog.naver.com/tare32/222501906586   \n",
              "5   https://blog.naver.com/tomakeitcount17/2221832...   \n",
              "6       https://blog.naver.com/heosd1121/222445602649   \n",
              "7        https://blog.naver.com/kjkk0516/222048766182   \n",
              "8       https://blog.naver.com/ckcnstla1/222521703025   \n",
              "9           https://blog.naver.com/tya03/222455283522   \n",
              "10    https://blog.naver.com/pinkcoups88/222219254190   \n",
              "11       https://blog.naver.com/ghwls222/222202587944   \n",
              "12    https://blog.naver.com/rudtlsdl369/222318716480   \n",
              "13       https://blog.naver.com/m0byd1ck/222506365040   \n",
              "14   https://blog.naver.com/goodstrength/222436054465   \n",
              "15       https://blog.naver.com/beautywi/222065649293   \n",
              "16        https://blog.naver.com/tjs2057/222427152991   \n",
              "17      https://blog.naver.com/aasx12347/221989682563   \n",
              "18      https://blog.naver.com/valueyang/222571860665   \n",
              "19     https://blog.naver.com/goroming22/222435986488   \n",
              "20          https://blog.naver.com/moonz/222386531877   \n",
              "21      https://blog.naver.com/goals6456/222529656421   \n",
              "22     https://blog.naver.com/lovegirl4u/222207652777   \n",
              "23    https://blog.naver.com/nuridambi90/222622795407   \n",
              "24         https://blog.naver.com/beyuna/222539793365   \n",
              "\n",
              "                                                   내용  \n",
              "0   건강과 자기 관리에 대한 관심은 늘고\\n강압적인 음주 문화는 사라져가면서 \\n한국 ...  \n",
              "1   오늘 소개해드릴 맥주는 호가든 로제 입니다.\\n이름\\n호가든 로제\\n맥주\\n업소명\\...  \n",
              "2   요즘 맥주잔 모으는 취미에 푹 빠져서 \\n마트에 장 보러 가면 가장 먼저 맥주코너\\...  \n",
              "3   친구들에게 명실상부 도또술로 불리는 나\\n(도비 또 술먹어...)\\n술을 많이 먹지...  \n",
              "4   #만cc녀의맥주리뷰\\n#호가든로제\\n#라즈베리맥주\\n#벨기에맥주\\n#오비맥주\\n#핑...  \n",
              "5   푸라닭치킨 블랙투움바\\n가격 : 18,900원(+배달료 1,000원)\\n코로나 때문...  \n",
              "6   안녕하세요 초보블로거 띠뚱입니다.\\n오늘은 지금 마시고 있는 '호가든 맥주 로제맛'...  \n",
              "7   안녕하세요! 맛있는 음식을 좋아하는 큰바위입니다:)\\n오늘은 어떻게 하루를 잘 보내...  \n",
              "8   안녕하세요~\\n어제 급하게 집안 청소를 한시간 넘게하고\\n너무 힘들고 갈증나서\\n편...  \n",
              "9   요즘 날이 너무 더워서 그런지\\n날마다 맥주가 너무 땡겨요!\\n당근거래 마치고 오는...  \n",
              "10  안녕하세요 블체입니다🍒🍒\\n오늘은 두번 째 술 리뷰를 들고 왔습니다\\n바로 호가든 ...  \n",
              "11  오늘의 벌크업은 #은평구쫄면 #은평구잔치국수 전문점 #진우동 에서 배달 시켜먹음. ...  \n",
              "12  예전에 홈플러스에서 호가든 로제랑 전용잔 세트로 저렴하게 팔길래 구매했다. \\n호가...  \n",
              "13  안녕하세요!\\n술을 원래 못마시는\\n'알코올 쓰래기'도 맥주 리뷰를 해보겠습니다.\\...  \n",
              "14  안녕하세요~ 오늘은 무더운 여름날씨 시원하게\\n날려버릴 맥주 리뷰 해볼게요!! 여름...  \n",
              "15  안녕하세요~!\\n이번 주말은 다른 때 보다 더 빨리 다가오는 것 같은데요~\\n코로나...  \n",
              "16  인생이 우울하고 헛헛한 날 \\n잊기 위해서 사람들은 술을 \\n마시고 또 찾나 봐요 ...  \n",
              "17  Hoegaarden\\nRosee\\n이름 : 호가든 로제 (Hoegaarden - R...  \n",
              "18  안녕하세요. 졔졔의 즐거움 입니다.💕\\n오늘의 맥주처돌이의 리뷰는\\nHoegaard...  \n",
              "19  오랜만에 돌아온\\n밍기적의 헤롱헤롱 이번주(酒)\\n오늘도 혼술입니다\\n집 근처 GS...  \n",
              "20  오늘도 여기저기 바쁘게 다녔다.\\n아버지 올라오셔서 동서울터미널 픽업도 가고\\n구리...  \n",
              "21  호가든 로제\\n500ml 3,000원 3.0%\\n호가든 포멜로\\n500ml 3,00...  \n",
              "22  호가든 로제 캔\\n호가든 로제 편의점 파는 곳\\n편의점 과일맥주 추천\\n편의점 호가...  \n",
              "23  안녕하세요 쵸쵸집사에요\\n오늘은 최근에 발견한 맥주 추천을 하려고 하는데요\\n필라이...  \n",
              "24  일반 맥주는 아무리 맛있다고 소문이 난 맥주도\\n제 입맛에는 맛이 없어서 안 마시는...  "
            ],
            "text/html": [
              "\n",
              "  <div id=\"df-ee454d0f-9702-4213-b2c0-8d2f41ac78ef\">\n",
              "    <div class=\"colab-df-container\">\n",
              "      <div>\n",
              "<style scoped>\n",
              "    .dataframe tbody tr th:only-of-type {\n",
              "        vertical-align: middle;\n",
              "    }\n",
              "\n",
              "    .dataframe tbody tr th {\n",
              "        vertical-align: top;\n",
              "    }\n",
              "\n",
              "    .dataframe thead th {\n",
              "        text-align: right;\n",
              "    }\n",
              "</style>\n",
              "<table border=\"1\" class=\"dataframe\">\n",
              "  <thead>\n",
              "    <tr style=\"text-align: right;\">\n",
              "      <th></th>\n",
              "      <th>제목</th>\n",
              "      <th>링크</th>\n",
              "      <th>내용</th>\n",
              "    </tr>\n",
              "  </thead>\n",
              "  <tbody>\n",
              "    <tr>\n",
              "      <th>0</th>\n",
              "      <td>&lt;b&gt;호가든 로제&lt;/b&gt;/버드와이저/하이네켄 무알콜 맥주 3종 &lt;b&gt;리뷰&lt;/b&gt;</td>\n",
              "      <td>https://blog.naver.com/jeong-won/222563018249</td>\n",
              "      <td>건강과 자기 관리에 대한 관심은 늘고\\n강압적인 음주 문화는 사라져가면서 \\n한국 ...</td>\n",
              "    </tr>\n",
              "    <tr>\n",
              "      <th>1</th>\n",
              "      <td>[수입캔맥주] &lt;b&gt;호가든&lt;/b&gt;(Hoegaarden) &lt;b&gt;로제 리뷰&lt;/b&gt;</td>\n",
              "      <td>https://blog.naver.com/taoti/222341190757</td>\n",
              "      <td>오늘 소개해드릴 맥주는 호가든 로제 입니다.\\n이름\\n호가든 로제\\n맥주\\n업소명\\...</td>\n",
              "    </tr>\n",
              "    <tr>\n",
              "      <th>2</th>\n",
              "      <td>&lt;b&gt;호가든 로제&lt;/b&gt; 칼로리, 도수 (전용잔 기획세트)</td>\n",
              "      <td>https://blog.naver.com/j_kokoko/222649276741</td>\n",
              "      <td>요즘 맥주잔 모으는 취미에 푹 빠져서 \\n마트에 장 보러 가면 가장 먼저 맥주코너\\...</td>\n",
              "    </tr>\n",
              "    <tr>\n",
              "      <th>3</th>\n",
              "      <td>BEST 5 추천 &lt;b&gt;리뷰&lt;/b&gt; (츄하이, 버니니, &lt;b&gt;호가든로제&lt;/b&gt;, 심...</td>\n",
              "      <td>https://blog.naver.com/jejesua/222202069866</td>\n",
              "      <td>친구들에게 명실상부 도또술로 불리는 나\\n(도비 또 술먹어...)\\n술을 많이 먹지...</td>\n",
              "    </tr>\n",
              "    <tr>\n",
              "      <th>4</th>\n",
              "      <td>[편의점맥주&lt;b&gt;리뷰&lt;/b&gt;] &lt;b&gt;호가든 로제&lt;/b&gt;</td>\n",
              "      <td>https://blog.naver.com/tare32/222501906586</td>\n",
              "      <td>#만cc녀의맥주리뷰\\n#호가든로제\\n#라즈베리맥주\\n#벨기에맥주\\n#오비맥주\\n#핑...</td>\n",
              "    </tr>\n",
              "    <tr>\n",
              "      <th>5</th>\n",
              "      <td>평일 식사 &lt;b&gt;리뷰&lt;/b&gt; :: 푸라닭치킨 순살 블랙투움바와 &lt;b&gt;호가든로제&lt;/b...</td>\n",
              "      <td>https://blog.naver.com/tomakeitcount17/2221832...</td>\n",
              "      <td>푸라닭치킨 블랙투움바\\n가격 : 18,900원(+배달료 1,000원)\\n코로나 때문...</td>\n",
              "    </tr>\n",
              "    <tr>\n",
              "      <th>6</th>\n",
              "      <td>#&lt;b&gt;호가든 로제 리뷰&lt;/b&gt; #내돈내산</td>\n",
              "      <td>https://blog.naver.com/heosd1121/222445602649</td>\n",
              "      <td>안녕하세요 초보블로거 띠뚱입니다.\\n오늘은 지금 마시고 있는 '호가든 맥주 로제맛'...</td>\n",
              "    </tr>\n",
              "    <tr>\n",
              "      <th>7</th>\n",
              "      <td>세계맥주 : 벨기에 - &lt;b&gt;호가든로제&lt;/b&gt; [&lt;b&gt;리뷰&lt;/b&gt;]</td>\n",
              "      <td>https://blog.naver.com/kjkk0516/222048766182</td>\n",
              "      <td>안녕하세요! 맛있는 음식을 좋아하는 큰바위입니다:)\\n오늘은 어떻게 하루를 잘 보내...</td>\n",
              "    </tr>\n",
              "    <tr>\n",
              "      <th>8</th>\n",
              "      <td>내돈내산 &lt;b&gt;호가든 로제&lt;/b&gt; 캔맥주 &lt;b&gt;리뷰&lt;/b&gt;</td>\n",
              "      <td>https://blog.naver.com/ckcnstla1/222521703025</td>\n",
              "      <td>안녕하세요~\\n어제 급하게 집안 청소를 한시간 넘게하고\\n너무 힘들고 갈증나서\\n편...</td>\n",
              "    </tr>\n",
              "    <tr>\n",
              "      <th>9</th>\n",
              "      <td>[일상] 편의점 맥주 &lt;b&gt;리뷰&lt;/b&gt;(&lt;b&gt;호가든 로제&lt;/b&gt;, &lt;b&gt;호가든&lt;/b...</td>\n",
              "      <td>https://blog.naver.com/tya03/222455283522</td>\n",
              "      <td>요즘 날이 너무 더워서 그런지\\n날마다 맥주가 너무 땡겨요!\\n당근거래 마치고 오는...</td>\n",
              "    </tr>\n",
              "    <tr>\n",
              "      <th>10</th>\n",
              "      <td>[&lt;b&gt;호가든 로제&lt;/b&gt; 후기/&lt;b&gt;리뷰&lt;/b&gt;] 맥주 추천/&lt;b&gt;호가든 로제&lt;/...</td>\n",
              "      <td>https://blog.naver.com/pinkcoups88/222219254190</td>\n",
              "      <td>안녕하세요 블체입니다🍒🍒\\n오늘은 두번 째 술 리뷰를 들고 왔습니다\\n바로 호가든 ...</td>\n",
              "    </tr>\n",
              "    <tr>\n",
              "      <th>11</th>\n",
              "      <td>은평구 진우동 쫄면 잔치국수 그리고 &lt;b&gt;호가든로제&lt;/b&gt;</td>\n",
              "      <td>https://blog.naver.com/ghwls222/222202587944</td>\n",
              "      <td>오늘의 벌크업은 #은평구쫄면 #은평구잔치국수 전문점 #진우동 에서 배달 시켜먹음. ...</td>\n",
              "    </tr>\n",
              "    <tr>\n",
              "      <th>12</th>\n",
              "      <td>&lt;b&gt;호가든 로제&lt;/b&gt; / &lt;b&gt;호가든&lt;/b&gt; 전용잔 &lt;b&gt;리뷰&lt;/b&gt;</td>\n",
              "      <td>https://blog.naver.com/rudtlsdl369/222318716480</td>\n",
              "      <td>예전에 홈플러스에서 호가든 로제랑 전용잔 세트로 저렴하게 팔길래 구매했다. \\n호가...</td>\n",
              "    </tr>\n",
              "    <tr>\n",
              "      <th>13</th>\n",
              "      <td>술 못마시는 알쓰의 맥주 &lt;b&gt;리뷰&lt;/b&gt; - &lt;b&gt;호가든 로제&lt;/b&gt;</td>\n",
              "      <td>https://blog.naver.com/m0byd1ck/222506365040</td>\n",
              "      <td>안녕하세요!\\n술을 원래 못마시는\\n'알코올 쓰래기'도 맥주 리뷰를 해보겠습니다.\\...</td>\n",
              "    </tr>\n",
              "    <tr>\n",
              "      <th>14</th>\n",
              "      <td>4종 &lt;b&gt;리뷰&lt;/b&gt;(&lt;b&gt;호가든&lt;/b&gt;, &lt;b&gt;호가든로제&lt;/b&gt;, 신상맥주 &lt;b...</td>\n",
              "      <td>https://blog.naver.com/goodstrength/222436054465</td>\n",
              "      <td>안녕하세요~ 오늘은 무더운 여름날씨 시원하게\\n날려버릴 맥주 리뷰 해볼게요!! 여름...</td>\n",
              "    </tr>\n",
              "    <tr>\n",
              "      <th>15</th>\n",
              "      <td>[&lt;b&gt;호가든&lt;/b&gt;] &lt;b&gt;호가든 로제&lt;/b&gt; - 색깔도 예쁜 달달한 라즈베리 맥주</td>\n",
              "      <td>https://blog.naver.com/beautywi/222065649293</td>\n",
              "      <td>안녕하세요~!\\n이번 주말은 다른 때 보다 더 빨리 다가오는 것 같은데요~\\n코로나...</td>\n",
              "    </tr>\n",
              "    <tr>\n",
              "      <th>16</th>\n",
              "      <td>&lt;b&gt;호가든 로제&lt;/b&gt;캔 :: 맥주 독특해</td>\n",
              "      <td>https://blog.naver.com/tjs2057/222427152991</td>\n",
              "      <td>인생이 우울하고 헛헛한 날 \\n잊기 위해서 사람들은 술을 \\n마시고 또 찾나 봐요 ...</td>\n",
              "    </tr>\n",
              "    <tr>\n",
              "      <th>17</th>\n",
              "      <td>&lt;b&gt;호가든 로제&lt;/b&gt;(Hoegaarden - Rosee) &lt;b&gt;리뷰&lt;/b&gt; B291</td>\n",
              "      <td>https://blog.naver.com/aasx12347/221989682563</td>\n",
              "      <td>Hoegaarden\\nRosee\\n이름 : 호가든 로제 (Hoegaarden - R...</td>\n",
              "    </tr>\n",
              "    <tr>\n",
              "      <th>18</th>\n",
              "      <td>&lt;b&gt;호가든 로제&lt;/b&gt; 달달한 라즈베리의 향연</td>\n",
              "      <td>https://blog.naver.com/valueyang/222571860665</td>\n",
              "      <td>안녕하세요. 졔졔의 즐거움 입니다.💕\\n오늘의 맥주처돌이의 리뷰는\\nHoegaard...</td>\n",
              "    </tr>\n",
              "    <tr>\n",
              "      <th>19</th>\n",
              "      <td>수입맥주 털어왔다: &lt;b&gt;호가든&lt;/b&gt; 포멜로, &lt;b&gt;호가든 로제&lt;/b&gt;, 데스페라...</td>\n",
              "      <td>https://blog.naver.com/goroming22/222435986488</td>\n",
              "      <td>오랜만에 돌아온\\n밍기적의 헤롱헤롱 이번주(酒)\\n오늘도 혼술입니다\\n집 근처 GS...</td>\n",
              "    </tr>\n",
              "    <tr>\n",
              "      <th>20</th>\n",
              "      <td>노인과바다 코코넛밀크 동서울터미널 수레국화 &lt;b&gt;호가든로제&lt;/b&gt;</td>\n",
              "      <td>https://blog.naver.com/moonz/222386531877</td>\n",
              "      <td>오늘도 여기저기 바쁘게 다녔다.\\n아버지 올라오셔서 동서울터미널 픽업도 가고\\n구리...</td>\n",
              "    </tr>\n",
              "    <tr>\n",
              "      <th>21</th>\n",
              "      <td>[&lt;b&gt;리뷰&lt;/b&gt;] &lt;b&gt;호가든 로제&lt;/b&gt; 포멜로 | 대왕 강추 맥주</td>\n",
              "      <td>https://blog.naver.com/goals6456/222529656421</td>\n",
              "      <td>호가든 로제\\n500ml 3,000원 3.0%\\n호가든 포멜로\\n500ml 3,00...</td>\n",
              "    </tr>\n",
              "    <tr>\n",
              "      <th>22</th>\n",
              "      <td>&lt;b&gt;호가든 로제&lt;/b&gt; 캔 편의점 파는 곳 ft. 과일맥주 추천 Hoegaarden</td>\n",
              "      <td>https://blog.naver.com/lovegirl4u/222207652777</td>\n",
              "      <td>호가든 로제 캔\\n호가든 로제 편의점 파는 곳\\n편의점 과일맥주 추천\\n편의점 호가...</td>\n",
              "    </tr>\n",
              "    <tr>\n",
              "      <th>23</th>\n",
              "      <td>필라이트 라들러 자몽 알쓰 맥주 추천(feat.&lt;b&gt;호가든 로제&lt;/b&gt;)</td>\n",
              "      <td>https://blog.naver.com/nuridambi90/222622795407</td>\n",
              "      <td>안녕하세요 쵸쵸집사에요\\n오늘은 최근에 발견한 맥주 추천을 하려고 하는데요\\n필라이...</td>\n",
              "    </tr>\n",
              "    <tr>\n",
              "      <th>24</th>\n",
              "      <td>[세계맥주 추천/ 맛있는 외국 맥주 추천] &lt;b&gt;호가든 로제&lt;/b&gt;!!...</td>\n",
              "      <td>https://blog.naver.com/beyuna/222539793365</td>\n",
              "      <td>일반 맥주는 아무리 맛있다고 소문이 난 맥주도\\n제 입맛에는 맛이 없어서 안 마시는...</td>\n",
              "    </tr>\n",
              "  </tbody>\n",
              "</table>\n",
              "</div>\n",
              "      <button class=\"colab-df-convert\" onclick=\"convertToInteractive('df-ee454d0f-9702-4213-b2c0-8d2f41ac78ef')\"\n",
              "              title=\"Convert this dataframe to an interactive table.\"\n",
              "              style=\"display:none;\">\n",
              "        \n",
              "  <svg xmlns=\"http://www.w3.org/2000/svg\" height=\"24px\"viewBox=\"0 0 24 24\"\n",
              "       width=\"24px\">\n",
              "    <path d=\"M0 0h24v24H0V0z\" fill=\"none\"/>\n",
              "    <path d=\"M18.56 5.44l.94 2.06.94-2.06 2.06-.94-2.06-.94-.94-2.06-.94 2.06-2.06.94zm-11 1L8.5 8.5l.94-2.06 2.06-.94-2.06-.94L8.5 2.5l-.94 2.06-2.06.94zm10 10l.94 2.06.94-2.06 2.06-.94-2.06-.94-.94-2.06-.94 2.06-2.06.94z\"/><path d=\"M17.41 7.96l-1.37-1.37c-.4-.4-.92-.59-1.43-.59-.52 0-1.04.2-1.43.59L10.3 9.45l-7.72 7.72c-.78.78-.78 2.05 0 2.83L4 21.41c.39.39.9.59 1.41.59.51 0 1.02-.2 1.41-.59l7.78-7.78 2.81-2.81c.8-.78.8-2.07 0-2.86zM5.41 20L4 18.59l7.72-7.72 1.47 1.35L5.41 20z\"/>\n",
              "  </svg>\n",
              "      </button>\n",
              "      \n",
              "  <style>\n",
              "    .colab-df-container {\n",
              "      display:flex;\n",
              "      flex-wrap:wrap;\n",
              "      gap: 12px;\n",
              "    }\n",
              "\n",
              "    .colab-df-convert {\n",
              "      background-color: #E8F0FE;\n",
              "      border: none;\n",
              "      border-radius: 50%;\n",
              "      cursor: pointer;\n",
              "      display: none;\n",
              "      fill: #1967D2;\n",
              "      height: 32px;\n",
              "      padding: 0 0 0 0;\n",
              "      width: 32px;\n",
              "    }\n",
              "\n",
              "    .colab-df-convert:hover {\n",
              "      background-color: #E2EBFA;\n",
              "      box-shadow: 0px 1px 2px rgba(60, 64, 67, 0.3), 0px 1px 3px 1px rgba(60, 64, 67, 0.15);\n",
              "      fill: #174EA6;\n",
              "    }\n",
              "\n",
              "    [theme=dark] .colab-df-convert {\n",
              "      background-color: #3B4455;\n",
              "      fill: #D2E3FC;\n",
              "    }\n",
              "\n",
              "    [theme=dark] .colab-df-convert:hover {\n",
              "      background-color: #434B5C;\n",
              "      box-shadow: 0px 1px 3px 1px rgba(0, 0, 0, 0.15);\n",
              "      filter: drop-shadow(0px 1px 2px rgba(0, 0, 0, 0.3));\n",
              "      fill: #FFFFFF;\n",
              "    }\n",
              "  </style>\n",
              "\n",
              "      <script>\n",
              "        const buttonEl =\n",
              "          document.querySelector('#df-ee454d0f-9702-4213-b2c0-8d2f41ac78ef button.colab-df-convert');\n",
              "        buttonEl.style.display =\n",
              "          google.colab.kernel.accessAllowed ? 'block' : 'none';\n",
              "\n",
              "        async function convertToInteractive(key) {\n",
              "          const element = document.querySelector('#df-ee454d0f-9702-4213-b2c0-8d2f41ac78ef');\n",
              "          const dataTable =\n",
              "            await google.colab.kernel.invokeFunction('convertToInteractive',\n",
              "                                                     [key], {});\n",
              "          if (!dataTable) return;\n",
              "\n",
              "          const docLinkHtml = 'Like what you see? Visit the ' +\n",
              "            '<a target=\"_blank\" href=https://colab.research.google.com/notebooks/data_table.ipynb>data table notebook</a>'\n",
              "            + ' to learn more about interactive tables.';\n",
              "          element.innerHTML = '';\n",
              "          dataTable['output_type'] = 'display_data';\n",
              "          await google.colab.output.renderOutput(dataTable, element);\n",
              "          const docLink = document.createElement('div');\n",
              "          docLink.innerHTML = docLinkHtml;\n",
              "          element.appendChild(docLink);\n",
              "        }\n",
              "      </script>\n",
              "    </div>\n",
              "  </div>\n",
              "  "
            ]
          },
          "metadata": {},
          "execution_count": 14
        }
      ]
    },
    {
      "cell_type": "code",
      "source": [
        "# konply 설치"
      ],
      "metadata": {
        "id": "yZBzLgDm6OQc"
      },
      "execution_count": null,
      "outputs": []
    },
    {
      "cell_type": "code",
      "source": [
        "%%bash\n",
        "apt-get update\n",
        "apt-get install g++ openjdk-8-jdk python-dev python3-dev\n",
        "pip3 install JPype1\n",
        "pip3 install konlpy"
      ],
      "metadata": {
        "colab": {
          "base_uri": "https://localhost:8080/"
        },
        "id": "iKOiKHzM6Hj9",
        "outputId": "6c808bac-0ba6-4d44-99c1-2f6e686e22d5"
      },
      "execution_count": 15,
      "outputs": [
        {
          "output_type": "stream",
          "name": "stdout",
          "text": [
            "Hit:1 https://developer.download.nvidia.com/compute/cuda/repos/ubuntu1804/x86_64  InRelease\n",
            "Hit:2 https://cloud.r-project.org/bin/linux/ubuntu bionic-cran40/ InRelease\n",
            "Ign:3 https://developer.download.nvidia.com/compute/machine-learning/repos/ubuntu1804/x86_64  InRelease\n",
            "Hit:4 https://developer.download.nvidia.com/compute/machine-learning/repos/ubuntu1804/x86_64  Release\n",
            "Hit:6 http://security.ubuntu.com/ubuntu bionic-security InRelease\n",
            "Hit:7 http://archive.ubuntu.com/ubuntu bionic InRelease\n",
            "Hit:8 http://ppa.launchpad.net/c2d4u.team/c2d4u4.0+/ubuntu bionic InRelease\n",
            "Hit:9 http://archive.ubuntu.com/ubuntu bionic-updates InRelease\n",
            "Hit:10 http://archive.ubuntu.com/ubuntu bionic-backports InRelease\n",
            "Hit:11 http://ppa.launchpad.net/cran/libgit2/ubuntu bionic InRelease\n",
            "Hit:12 http://ppa.launchpad.net/deadsnakes/ppa/ubuntu bionic InRelease\n",
            "Hit:13 http://ppa.launchpad.net/graphics-drivers/ppa/ubuntu bionic InRelease\n",
            "Reading package lists...\n",
            "Reading package lists...\n",
            "Building dependency tree...\n",
            "Reading state information...\n",
            "python-dev is already the newest version (2.7.15~rc1-1).\n",
            "g++ is already the newest version (4:7.4.0-1ubuntu2.3).\n",
            "g++ set to manually installed.\n",
            "python3-dev is already the newest version (3.6.7-1~18.04).\n",
            "python3-dev set to manually installed.\n",
            "The following packages were automatically installed and are no longer required:\n",
            "  libnvidia-common-460 nsight-compute-2020.2.0\n",
            "Use 'apt autoremove' to remove them.\n",
            "The following additional packages will be installed:\n",
            "  fonts-dejavu-core fonts-dejavu-extra libatk-wrapper-java\n",
            "  libatk-wrapper-java-jni libgail-common libgail18 libgtk2.0-0 libgtk2.0-bin\n",
            "  libgtk2.0-common libxxf86dga1 openjdk-8-jdk-headless openjdk-8-jre\n",
            "  openjdk-8-jre-headless x11-utils\n",
            "Suggested packages:\n",
            "  gvfs openjdk-8-demo openjdk-8-source visualvm icedtea-8-plugin libnss-mdns\n",
            "  fonts-ipafont-gothic fonts-ipafont-mincho fonts-wqy-microhei\n",
            "  fonts-wqy-zenhei fonts-indic mesa-utils\n",
            "The following NEW packages will be installed:\n",
            "  fonts-dejavu-core fonts-dejavu-extra libatk-wrapper-java\n",
            "  libatk-wrapper-java-jni libgail-common libgail18 libgtk2.0-0 libgtk2.0-bin\n",
            "  libgtk2.0-common libxxf86dga1 openjdk-8-jdk openjdk-8-jdk-headless\n",
            "  openjdk-8-jre openjdk-8-jre-headless x11-utils\n",
            "0 upgraded, 15 newly installed, 0 to remove and 50 not upgraded.\n",
            "Need to get 43.5 MB of archives.\n",
            "After this operation, 163 MB of additional disk space will be used.\n",
            "Get:1 http://archive.ubuntu.com/ubuntu bionic/main amd64 libxxf86dga1 amd64 2:1.1.4-1 [13.7 kB]\n",
            "Get:2 http://archive.ubuntu.com/ubuntu bionic/main amd64 fonts-dejavu-core all 2.37-1 [1,041 kB]\n",
            "Get:3 http://archive.ubuntu.com/ubuntu bionic/main amd64 fonts-dejavu-extra all 2.37-1 [1,953 kB]\n",
            "Get:4 http://archive.ubuntu.com/ubuntu bionic/main amd64 x11-utils amd64 7.7+3build1 [196 kB]\n",
            "Get:5 http://archive.ubuntu.com/ubuntu bionic/main amd64 libatk-wrapper-java all 0.33.3-20ubuntu0.1 [34.7 kB]\n",
            "Get:6 http://archive.ubuntu.com/ubuntu bionic/main amd64 libatk-wrapper-java-jni amd64 0.33.3-20ubuntu0.1 [28.3 kB]\n",
            "Get:7 http://archive.ubuntu.com/ubuntu bionic/main amd64 libgtk2.0-common all 2.24.32-1ubuntu1 [125 kB]\n",
            "Get:8 http://archive.ubuntu.com/ubuntu bionic/main amd64 libgtk2.0-0 amd64 2.24.32-1ubuntu1 [1,769 kB]\n",
            "Get:9 http://archive.ubuntu.com/ubuntu bionic/main amd64 libgail18 amd64 2.24.32-1ubuntu1 [14.2 kB]\n",
            "Get:10 http://archive.ubuntu.com/ubuntu bionic/main amd64 libgail-common amd64 2.24.32-1ubuntu1 [112 kB]\n",
            "Get:11 http://archive.ubuntu.com/ubuntu bionic/main amd64 libgtk2.0-bin amd64 2.24.32-1ubuntu1 [7,536 B]\n",
            "Get:12 http://archive.ubuntu.com/ubuntu bionic-updates/universe amd64 openjdk-8-jre-headless amd64 8u312-b07-0ubuntu1~18.04 [28.2 MB]\n",
            "Get:13 http://archive.ubuntu.com/ubuntu bionic-updates/universe amd64 openjdk-8-jre amd64 8u312-b07-0ubuntu1~18.04 [69.6 kB]\n",
            "Get:14 http://archive.ubuntu.com/ubuntu bionic-updates/universe amd64 openjdk-8-jdk-headless amd64 8u312-b07-0ubuntu1~18.04 [8,298 kB]\n",
            "Get:15 http://archive.ubuntu.com/ubuntu bionic-updates/universe amd64 openjdk-8-jdk amd64 8u312-b07-0ubuntu1~18.04 [1,625 kB]\n",
            "Fetched 43.5 MB in 5s (8,997 kB/s)\n",
            "Selecting previously unselected package libxxf86dga1:amd64.\r\n",
            "(Reading database ... \r(Reading database ... 5%\r(Reading database ... 10%\r(Reading database ... 15%\r(Reading database ... 20%\r(Reading database ... 25%\r(Reading database ... 30%\r(Reading database ... 35%\r(Reading database ... 40%\r(Reading database ... 45%\r(Reading database ... 50%\r(Reading database ... 55%\r(Reading database ... 60%\r(Reading database ... 65%\r(Reading database ... 70%\r(Reading database ... 75%\r(Reading database ... 80%\r(Reading database ... 85%\r(Reading database ... 90%\r(Reading database ... 95%\r(Reading database ... 100%\r(Reading database ... 155327 files and directories currently installed.)\r\n",
            "Preparing to unpack .../00-libxxf86dga1_2%3a1.1.4-1_amd64.deb ...\r\n",
            "Unpacking libxxf86dga1:amd64 (2:1.1.4-1) ...\r\n",
            "Selecting previously unselected package fonts-dejavu-core.\r\n",
            "Preparing to unpack .../01-fonts-dejavu-core_2.37-1_all.deb ...\r\n",
            "Unpacking fonts-dejavu-core (2.37-1) ...\r\n",
            "Selecting previously unselected package fonts-dejavu-extra.\r\n",
            "Preparing to unpack .../02-fonts-dejavu-extra_2.37-1_all.deb ...\r\n",
            "Unpacking fonts-dejavu-extra (2.37-1) ...\r\n",
            "Selecting previously unselected package x11-utils.\r\n",
            "Preparing to unpack .../03-x11-utils_7.7+3build1_amd64.deb ...\r\n",
            "Unpacking x11-utils (7.7+3build1) ...\r\n",
            "Selecting previously unselected package libatk-wrapper-java.\r\n",
            "Preparing to unpack .../04-libatk-wrapper-java_0.33.3-20ubuntu0.1_all.deb ...\r\n",
            "Unpacking libatk-wrapper-java (0.33.3-20ubuntu0.1) ...\r\n",
            "Selecting previously unselected package libatk-wrapper-java-jni:amd64.\r\n",
            "Preparing to unpack .../05-libatk-wrapper-java-jni_0.33.3-20ubuntu0.1_amd64.deb ...\r\n",
            "Unpacking libatk-wrapper-java-jni:amd64 (0.33.3-20ubuntu0.1) ...\r\n",
            "Selecting previously unselected package libgtk2.0-common.\r\n",
            "Preparing to unpack .../06-libgtk2.0-common_2.24.32-1ubuntu1_all.deb ...\r\n",
            "Unpacking libgtk2.0-common (2.24.32-1ubuntu1) ...\r\n",
            "Selecting previously unselected package libgtk2.0-0:amd64.\r\n",
            "Preparing to unpack .../07-libgtk2.0-0_2.24.32-1ubuntu1_amd64.deb ...\r\n",
            "Unpacking libgtk2.0-0:amd64 (2.24.32-1ubuntu1) ...\r\n",
            "Selecting previously unselected package libgail18:amd64.\r\n",
            "Preparing to unpack .../08-libgail18_2.24.32-1ubuntu1_amd64.deb ...\r\n",
            "Unpacking libgail18:amd64 (2.24.32-1ubuntu1) ...\r\n",
            "Selecting previously unselected package libgail-common:amd64.\r\n",
            "Preparing to unpack .../09-libgail-common_2.24.32-1ubuntu1_amd64.deb ...\r\n",
            "Unpacking libgail-common:amd64 (2.24.32-1ubuntu1) ...\r\n",
            "Selecting previously unselected package libgtk2.0-bin.\r\n",
            "Preparing to unpack .../10-libgtk2.0-bin_2.24.32-1ubuntu1_amd64.deb ...\r\n",
            "Unpacking libgtk2.0-bin (2.24.32-1ubuntu1) ...\r\n",
            "Selecting previously unselected package openjdk-8-jre-headless:amd64.\r\n",
            "Preparing to unpack .../11-openjdk-8-jre-headless_8u312-b07-0ubuntu1~18.04_amd64.deb ...\r\n",
            "Unpacking openjdk-8-jre-headless:amd64 (8u312-b07-0ubuntu1~18.04) ...\r\n",
            "Selecting previously unselected package openjdk-8-jre:amd64.\r\n",
            "Preparing to unpack .../12-openjdk-8-jre_8u312-b07-0ubuntu1~18.04_amd64.deb ...\r\n",
            "Unpacking openjdk-8-jre:amd64 (8u312-b07-0ubuntu1~18.04) ...\r\n",
            "Selecting previously unselected package openjdk-8-jdk-headless:amd64.\r\n",
            "Preparing to unpack .../13-openjdk-8-jdk-headless_8u312-b07-0ubuntu1~18.04_amd64.deb ...\r\n",
            "Unpacking openjdk-8-jdk-headless:amd64 (8u312-b07-0ubuntu1~18.04) ...\r\n",
            "Selecting previously unselected package openjdk-8-jdk:amd64.\r\n",
            "Preparing to unpack .../14-openjdk-8-jdk_8u312-b07-0ubuntu1~18.04_amd64.deb ...\r\n",
            "Unpacking openjdk-8-jdk:amd64 (8u312-b07-0ubuntu1~18.04) ...\r\n",
            "Setting up libgtk2.0-common (2.24.32-1ubuntu1) ...\r\n",
            "Setting up fonts-dejavu-core (2.37-1) ...\r\n",
            "Setting up libxxf86dga1:amd64 (2:1.1.4-1) ...\r\n",
            "Setting up fonts-dejavu-extra (2.37-1) ...\r\n",
            "Setting up openjdk-8-jre-headless:amd64 (8u312-b07-0ubuntu1~18.04) ...\r\n",
            "update-alternatives: using /usr/lib/jvm/java-8-openjdk-amd64/jre/bin/orbd to provide /usr/bin/orbd (orbd) in auto mode\r\n",
            "update-alternatives: using /usr/lib/jvm/java-8-openjdk-amd64/jre/bin/servertool to provide /usr/bin/servertool (servertool) in auto mode\r\n",
            "update-alternatives: using /usr/lib/jvm/java-8-openjdk-amd64/jre/bin/tnameserv to provide /usr/bin/tnameserv (tnameserv) in auto mode\r\n",
            "Setting up libgtk2.0-0:amd64 (2.24.32-1ubuntu1) ...\r\n",
            "Setting up libgail18:amd64 (2.24.32-1ubuntu1) ...\r\n",
            "Setting up openjdk-8-jdk-headless:amd64 (8u312-b07-0ubuntu1~18.04) ...\r\n",
            "update-alternatives: using /usr/lib/jvm/java-8-openjdk-amd64/bin/idlj to provide /usr/bin/idlj (idlj) in auto mode\r\n",
            "update-alternatives: using /usr/lib/jvm/java-8-openjdk-amd64/bin/wsimport to provide /usr/bin/wsimport (wsimport) in auto mode\r\n",
            "update-alternatives: using /usr/lib/jvm/java-8-openjdk-amd64/bin/jsadebugd to provide /usr/bin/jsadebugd (jsadebugd) in auto mode\r\n",
            "update-alternatives: using /usr/lib/jvm/java-8-openjdk-amd64/bin/native2ascii to provide /usr/bin/native2ascii (native2ascii) in auto mode\r\n",
            "update-alternatives: using /usr/lib/jvm/java-8-openjdk-amd64/bin/javah to provide /usr/bin/javah (javah) in auto mode\r\n",
            "update-alternatives: using /usr/lib/jvm/java-8-openjdk-amd64/bin/hsdb to provide /usr/bin/hsdb (hsdb) in auto mode\r\n",
            "update-alternatives: using /usr/lib/jvm/java-8-openjdk-amd64/bin/clhsdb to provide /usr/bin/clhsdb (clhsdb) in auto mode\r\n",
            "update-alternatives: using /usr/lib/jvm/java-8-openjdk-amd64/bin/xjc to provide /usr/bin/xjc (xjc) in auto mode\r\n",
            "update-alternatives: using /usr/lib/jvm/java-8-openjdk-amd64/bin/schemagen to provide /usr/bin/schemagen (schemagen) in auto mode\r\n",
            "update-alternatives: using /usr/lib/jvm/java-8-openjdk-amd64/bin/extcheck to provide /usr/bin/extcheck (extcheck) in auto mode\r\n",
            "update-alternatives: using /usr/lib/jvm/java-8-openjdk-amd64/bin/jhat to provide /usr/bin/jhat (jhat) in auto mode\r\n",
            "update-alternatives: using /usr/lib/jvm/java-8-openjdk-amd64/bin/wsgen to provide /usr/bin/wsgen (wsgen) in auto mode\r\n",
            "Setting up x11-utils (7.7+3build1) ...\r\n",
            "Setting up libgail-common:amd64 (2.24.32-1ubuntu1) ...\r\n",
            "Setting up libatk-wrapper-java (0.33.3-20ubuntu0.1) ...\r\n",
            "Setting up libgtk2.0-bin (2.24.32-1ubuntu1) ...\r\n",
            "Setting up libatk-wrapper-java-jni:amd64 (0.33.3-20ubuntu0.1) ...\r\n",
            "Setting up openjdk-8-jre:amd64 (8u312-b07-0ubuntu1~18.04) ...\r\n",
            "update-alternatives: using /usr/lib/jvm/java-8-openjdk-amd64/jre/bin/policytool to provide /usr/bin/policytool (policytool) in auto mode\r\n",
            "Setting up openjdk-8-jdk:amd64 (8u312-b07-0ubuntu1~18.04) ...\r\n",
            "update-alternatives: using /usr/lib/jvm/java-8-openjdk-amd64/bin/appletviewer to provide /usr/bin/appletviewer (appletviewer) in auto mode\r\n",
            "update-alternatives: using /usr/lib/jvm/java-8-openjdk-amd64/bin/jconsole to provide /usr/bin/jconsole (jconsole) in auto mode\r\n",
            "Processing triggers for man-db (2.8.3-2ubuntu0.1) ...\r\n",
            "Processing triggers for hicolor-icon-theme (0.17-2) ...\r\n",
            "Processing triggers for fontconfig (2.12.6-0ubuntu2) ...\r\n",
            "Processing triggers for mime-support (3.60ubuntu1) ...\r\n",
            "Processing triggers for libc-bin (2.27-3ubuntu1.3) ...\r\n",
            "/sbin/ldconfig.real: /usr/local/lib/python3.7/dist-packages/ideep4py/lib/libmkldnn.so.0 is not a symbolic link\r\n",
            "\r\n",
            "Collecting JPype1\n",
            "  Downloading JPype1-1.3.0-cp37-cp37m-manylinux_2_5_x86_64.manylinux1_x86_64.whl (448 kB)\n",
            "Requirement already satisfied: typing-extensions in /usr/local/lib/python3.7/dist-packages (from JPype1) (4.2.0)\n",
            "Installing collected packages: JPype1\n",
            "Successfully installed JPype1-1.3.0\n",
            "Collecting konlpy\n",
            "  Downloading konlpy-0.6.0-py2.py3-none-any.whl (19.4 MB)\n",
            "Requirement already satisfied: JPype1>=0.7.0 in /usr/local/lib/python3.7/dist-packages (from konlpy) (1.3.0)\n",
            "Requirement already satisfied: lxml>=4.1.0 in /usr/local/lib/python3.7/dist-packages (from konlpy) (4.2.6)\n",
            "Requirement already satisfied: numpy>=1.6 in /usr/local/lib/python3.7/dist-packages (from konlpy) (1.21.6)\n",
            "Requirement already satisfied: typing-extensions in /usr/local/lib/python3.7/dist-packages (from JPype1>=0.7.0->konlpy) (4.2.0)\n",
            "Installing collected packages: konlpy\n",
            "Successfully installed konlpy-0.6.0\n"
          ]
        }
      ]
    },
    {
      "cell_type": "code",
      "source": [
        "# JAVA_HOME 환경변수 설정하기\n",
        "\n",
        "%env JAVA_HOME \"/usr/lib/jvm/java-8-openjdk-amd64\""
      ],
      "metadata": {
        "colab": {
          "base_uri": "https://localhost:8080/"
        },
        "id": "wBLhO3Xo6JJv",
        "outputId": "84cf9d13-36d7-4b09-b74c-b30c1c709129"
      },
      "execution_count": 16,
      "outputs": [
        {
          "output_type": "stream",
          "name": "stdout",
          "text": [
            "env: JAVA_HOME=\"/usr/lib/jvm/java-8-openjdk-amd64\"\n"
          ]
        }
      ]
    },
    {
      "cell_type": "code",
      "source": [
        "from wordcloud import WordCloud\n",
        "import matplotlib.pyplot as plt\n",
        "from collections import Counter\n",
        "from konlpy.tag import Okt\n",
        "from PIL import Image\n",
        "import numpy as np"
      ],
      "metadata": {
        "id": "44sPXw8H6BAd"
      },
      "execution_count": 17,
      "outputs": []
    },
    {
      "cell_type": "code",
      "source": [
        "contents_str = \"\".join(contents)"
      ],
      "metadata": {
        "id": "o6XNhUmr6uow"
      },
      "execution_count": 18,
      "outputs": []
    },
    {
      "cell_type": "code",
      "source": [
        "okt = Okt()\n",
        "normal = okt.normalize(contents_str)\n",
        "nouns = okt.nouns(normal) # 명사만 추출\n",
        "words = [n for n in nouns if len(n) > 1] # 단어의 길이가 1개인 것은 제외\n",
        "\n",
        "c = Counter(words) # 위에서 얻은 words를 처리하여 단어별 빈도수 형태의 딕셔너리 데이터를 구함"
      ],
      "metadata": {
        "id": "ZmFRjZNL6JOS"
      },
      "execution_count": 19,
      "outputs": []
    },
    {
      "cell_type": "code",
      "source": [
        "wordList = ['시트러스', '오렌지', '레몬', '라임', '귤', '유자', '캐러멜', '초콜릿', '커피', '호피', 'IPA', '꽃', '홉', 'IBU', '에일', '라거', '청량감', '페일', '붉은색', '과일', '비터', '몰티', '엔젤링', '바이젠', '상큼', '드래프트', '드라이', '드링커블', '바디', '자몽', '감귤', '탄산', '카보', '파이니', '송진', '세션', '밀', '필스너', '흑맥주', '페일', '에일', '묵직', '상쾌', '중성', '자극', '벌꿀', '꿀', '부드러움', '시큼', '몰트', '풍미', '와일드', '밍밍', '추천', '비추', '오비', '새콤', '무난', '산뜻', '향긋', '순한']"
      ],
      "metadata": {
        "id": "kNelLnoy2BB2"
      },
      "execution_count": 30,
      "outputs": []
    },
    {
      "cell_type": "code",
      "source": [
        "print(words)"
      ],
      "metadata": {
        "colab": {
          "base_uri": "https://localhost:8080/"
        },
        "id": "eQwbY0mM9q7M",
        "outputId": "a1fa60ec-1081-48eb-feea-c904d1a5c777"
      },
      "execution_count": 24,
      "outputs": [
        {
          "output_type": "stream",
          "name": "stdout",
          "text": [
            "['건강', '자기', '관리', '대한', '관심', '강압', '음주', '문화', '한국', '주류', '시장', '알콜', '맥주', '인기', '유례', '맥주', '알코올', '의문', '제기', '음료', '대체', '맥주', '자체', '청량감', '의문', '의문', '다만', '예전', '브랜드', '불문', '거의', '모든', '알콜', '맥주', '감히', '맥주', '이름', '악명', '사람', '보기', '최근', '판매', '제품', '예전', '실제', '맥주', '싱크로', '소문', '체중', '관리', '맥주', '인기', '몇몇', '브랜드', '제품', '라이', '알콜', '맥주', '용어', '통용', '제목', '사실', '우리', '얘기', '대부분', '제품', '알콜', '알콜', '맥주', '하이네켄', '미량', '알코올', '함유', '호가든', '로제', '수치', '알코올', '함유', '추정', '라벨', '공식', '사이트', '정보', '확언', '어려움', '대한민국', '세법', '알콜', '알콜', '맥주', '대한', '규정', '알콜', '맥주', '알코올', '미만', '알콜', '맥주', '알코올', '함량', '전혀', '제품', '주류', '기준', '때문', '탄산음료', '분류', '온라인', '구매', '어린이', '식생활', '안전', '관리', '특별법', '미성년', '판매', '금지', '비교', '위해', '구입', '호가든', '버드와이저', '하이네켄', '벨기에', '미국', '네덜란드', '뿌리', '브랜드', '생산', '각각', '벨기에', '한국', '싱가폴', '표기', '기준', '정가', '루피', '호가든', '버드와이저', '하이네켄', '순의', '가격', '이제', '냉장', '보관', '맥주', '하나', '굴욕', '알콜', '맥주', '역사', '뒤엎', '확인', '타자', '호가든', '로제', '맥주', '일반', '버전', '보이지', '피치', '제로', '구입', '한국', '시장', '진출', '판매', '리뷰', '전혀', '첫인상', '개봉', '소리', '달달', '색도', '핑크', '과일', '맥주', '나로', '느낌', '역시', '맥주', '탄산수', '액체', '라즈베리', '젤리', '인위', '엎친', '돌기', '맥주', '마시기', '음료', '마시기', '맥주', '비스름할까', '정말', '억지로', '비운', '맥주', '다음', '일반', '맥주', '가장', '선호', '브랜드', '버드와이저', '맥주', '색도', '일반', '맥주', '구분', '모습', '일반', '버드와이저', '표정', '음미', '바디', '맥주', '밍밍', '역시', '맥주', '대체재', '부족', '버드와이저', '알콜', '진짜', '알콜', '던데', '차이', '때문', '호가든', '만해', '굳이', '느낌', '마지막', '주자', '뚱캔', '매력', '하이네켄', '맥주', '역시', '외관', '맥주', '차이점', '보이지', '과연', '싱크로', '자랑', '청량감', '누가', '몰래', '진짜', '맥주', '기해', '바로', '알콜', '알콜', '생각', '마음속', '자리', '잡고', '모든', '편견', '알콜', '맥주', '오명', '대체', '노력', '정도', '맥주', '갈증', '해소', '가능', '오늘', '알콜', '맥주', '순위', '하이네켄', '버드와이저', '호가든', '제로', '하이네켄', '제로', '자리', '차지', '버드와이저', '무슨', '맥주', '정도', '살짝', '정도', '알콜', '음료', '발전', '감개', '무량', '동시', '굳이', '알콜', '알콜', '시대', '사람', '위해', '고민', '연구', '노고', '부분', '몇몇', '독일', '브랜드', '제품', '대부분', '일반', '생각', '맥주', '자기', '주장', '알콜', '마시기', '오히려', '매력', '다른', '모든', '시도', '하이네켄', '당분간', '여기', '누울', '칼로리', '기준', '가격', '절대', '정해진', '기준', '일반', '주류', '달리', '알콜', '맥주', '정가', '할인', '가로', '그것', '온라인', '구입', '장점', '인도', '경우', '아마존', '하이네켄', '세트', '가격', '최대', '루피', '할인', '카테고리', '다른', '만큼', '맥주', '대체', '술자리', '기분', '쟁여두', '맥주', '번은', '맥주', '대신', '체지방률', '지갑', '동시', '도움', '오늘', '소개', '맥주', '호가든', '로제', '이름', '호가든', '로제', '맥주', '소명', '입처', '오비맥주', '네덜란드', '하이네', '네덜란드', '플라이', '알콜', '도수', '과일', '농축액', '라즈베리', '사과', '딸기', '엘더', '베리', '천연', '향료', '라즈베리', '오렌지', '껍질', '금액', '농협', '하나로마트', '용량', '알코올', '과일', '농축액', '천연', '향료', '오렌지', '껍질', '과일', '개인', '체리', '라거', '주로', '대신', '호가든', '거품', '침전', '회전', '안내', '문구', '개인', '스텔라', '역시', '맥주', '유리컵', '피자', '호가든', '로제', '평점', '최고', '보편', '약간', '아쉬움', '경험', '이상', '호가든', '로제', '리뷰', '요즘', '맥주잔', '취미', '마트', '가면', '가장', '먼저', '맥주', '코너', '부터', '바퀴', '며칠', '방문', '이마트', '호가든', '로제', '기획', '세트', '판매', '냉큼', '박스', '호가든', '로제', '칼로리', '도수', '가격', '리뷰', '정리', '호가든', '로제', '기획', '전용', '맥주잔', '가격', '벨기에', '전통', '맥주', '라즈베리', '광주', '이마트', '봉선점', '구매', '혹시', '인터넷', '판매', '검색', '하나', '배송비', '원대', '거래', '맥주', '전용', '구매', '일단', '구해', '구매', '당시', '필스너', '우르', '스페셜', '어디', '진열', '구매', '필스너', '에디', '작년', '구매', '가지', '때문', '참고', '호가든', '로제', '기획', '세트', '박스', '선호', '필스너', '강추', '개인', '호가든', '맥주', '별로', '이번', '구매', '호가든', '로제', '오직', '맥주잔', '보고', '구매', '인터넷', '판매', '맥주잔', '밑면', '원산지', '중국', '제품', '생각', '불가리', '제품', '유리', '살짝', '평소', '선호', '요건', '손잡이', '불구', '마시기', '그냥', '보이', '실제', '용량', '맥주', '지난번', '버드와이저', '메시', '전용', '하나', '구매', '조금', '이번', '세트', '구매', '정말', '해도', '맥주', '인지', '김치냉장고', '보관', '맥주', '바로', '맥주', '살짝', '당황', '라즈베리', '때문', '맥주', '성분', '보고', '라즈베리', '인지', '구매', '당시', '도수', '일반', '맥주', '살짝', '쓴맛', '달달', '과일', '맥주', '평균', '알코올', '도수', '정도', '주가', '거의', '음료수', '무방', '칼로리', '대략', '외로', '예상', '달달', '알코올', '도수', '호불호', '갈릴', '생각', '참고', '탄산', '과일', '달달', '맥주', '달달', '음료', '생각', '개인', '불호', '언제', '중독', '하나', '하나', '현재', '본연', '맥주', '편이', '다시', '의사', '호가든', '제의', '경우', '알코올', '쓴맛', '마시기', '친구', '명실', '상부', '도또술', '도비', '편이', '과음', '취해', '사람', '대한', '이미지', '별로', '부모님', '성인', '주도', '시절', '주류', '입문', '지금', '음미', '주류', '오늘', '포스팅', '사람', '달달', '주류', '리뷰', '추천', '준비', '사실', '추천', '가지', '객관', '보편', '추천', '위해', '가장', '위주', '선정', '츄하이', '복숭아', '일본', '스위토', '종류', '과실주', '도수', '기호', '번은', '스위토나', '츄하이', '복숭아', '복숭아', '과실주', '도수', '부담', '음료', '가격', '매장', '별로', '상이', '기재', '포도', '요거트', '여러', '종류', '개인', '복숭아', '가장', '일본', '불매', '때문', '중이', '과실주', '유사', '제품', '산토리', '호로요이', '복숭아', '비교', '츄하이', '호로요이', '인공', '복숭아', '라면', '츄하이', '복숭아', '과즙', '느낌', '일본', '과실주', '츄하이', '추천', '호가든', '로제', '벨기에', '호가든', '종류', '맥주', '라즈베리', '도수', '기호', '번은', '호가든', '로제', '병과', '가지', '용량', '판매', '과일', '맥주', '도수', '맥주', '아주', '가격', '매장', '별로', '상이', '기재', '맥주', '불구', '특유', '신맛', '밀맥', '거부', '라즈베리', '맥주', '쓴맛', '일반', '맥주', '문자', '추천', '달달', '호가든', '로제', '다른', '맥주', '사서', '기억', '청포도', '체리', '별로', '과일', '맥주', '해도', '호가든', '로제', '가장', '심술', '한국', '배상면', '주가', '종류', '살균', '약주', '도수', '기호', '번은', '배상면', '주가', '심술', '편의점', '마트', '판매', '포도', '블루베리', '자몽', '조금', '개인', '추천', '살균약', '주인', '심술', '정말', '스파클링', '와인', '시작', '뒷맛', '소주', '느낌', '약간', '소주', '와인', '입문', '추천', '심술', '도수', '여러', '종류', '이기', '때문', '본인', '주량', '취하', '정도', '도수', '도보', '탄산', '조금', '편이', '와인', '느낌', '소주', '느낌', '와인', '소주', '크게', '질감', '특징', '버니', '스파클링', '클래식', '스페인', '버니', '종류', '스파클링', '와인', '도수', '기호', '번은', '버니', '스파클링', '클래식', '벨라', '핑크', '블러시', '딸기', '레몬', '여러', '가지', '판매', '병과', '용량', '스파클링', '와인', '도수', '일반', '와인', '모스', '카토', '와인', '탄산', '웰치스', '포도', '와인', '입문', '여러', '가지', '무난', '클래식', '핑크', '블러', '버니', '벨라', '블러', '한정판', '용량', '편의점', '마트', '코스트코', '개입', '구매', '가장', '때문', '가면', '매번', '박스', '써머', '스비', '애플사', '덴마크', '써머', '스비', '종류', '애플사', '도수', '마지막', '다섯', '써머', '스비', '애플사', '써머', '과일', '맥주', '사과', '발효', '탄산', '첨가', '애플', '사이다', '써머', '스비', '시중', '판매', '도수', '사과주스', '호일', '골드', '메달', '마티', '넬리', '사과주스', '탄산', '약간', '술맛', '느낌', '낮술', '주의', '가지', '주류', '한강', '편의점', '판매', '써머스비', '진로', '유통', '매장', '보이', '광고', '오늘', '주관', '경험', '바탕', '입문', '달달', '주류', '리뷰', '추천', '과연', '여러분', '베스트', '다음', '여러가지', '주류', '리뷰', '추천', '포스팅', '안녕', '베리', '라즈베리', '맥주', '일단', '무슨', '검색', '프랑스어', '로즈', '불어', '발음', '지금', '목구멍', '발음', '이슬', '맥주', '호가든', '맥주', '맥주', '라즈베리', '기대', '알콜', '도수', '재료', '과일', '농축', '라즈베리', '사과', '딸기', '엘더', '베리', '고수', '씨앗', '오렌지', '껍질', '맥주', '고수', '껍질', '엘더', '베리', '검색', '검색', '원래', '호가든', '지명', '벨기에', '맥주', '원산지', '피에르', '리스', '호가든', '맥주', '양조', '부활', '브랜드', '호가든', '맥주', '만들기', '위해', '코리앤더', '고수', '오렌지', '껍질', '사용', '브런치', '구석', '맥주', '호가든', '맥주', '이유', '엘더', '베리', '요즘', '유행', '삼부', '커스', '베리', '가족', '하단', '역시', '거품', '거품', '역시', '부쉬', '인베브', '맥주', '한국', '오비맥주', '생산', '라즈베리', '연상', '분홍', '패키지', '라즈베리', '이슬', '로제', '새우깡', '봉지', '치킨', '블랙', '투움바', '가격', '배달', '코로나', '때문', '본의', '집콕', '배달', '음식', '자주', '그동안', '리뷰', '배달', '음식', '리뷰', '평소', '밥배', '차지', '이유', '돼지', '치킨', '무수', '치킨', '종류', '입맛', '제일', '생각', '치킨', '가지', '땅땅치킨', '갈비', '허브', '세트', '치킨', '블랙', '투움바', '오늘', '치킨', '블랙', '투움', '오늘이', '나름', '프리미엄', '느낌', '다가', '치킨', '부직포', '정해', '인씨', '고오', '느낌', '광고', '는걸', '몇번', '본적', '그닥', '관심', '배우', '별로', '생각', '친구', '치킨', '부직포', '가방', '치킨', '박스', '상자', '역시', '검정색', '조명', '상자', '치킨', '박스', '주제', '시크', '언뜻', '단무지', '보이', '치킨', '소스', '고추', '소스', '이름', '그대로', '마요네즈', '고추', '살짝', '치킨', '색깔', '마치', '고추냉이', '느낌', '사실', '말로', '표현', '치킨', '줄기', '상자', '프라다', '스페인어', '합성어', '블랙', '컨슈머', '겨냥', '닭빛', '분홍', '현상', '굳이', '상자', '완전', '오픈', '무조건', '살이', '라이더', '도시괴담', '정도', '정성', '이면', '그냥', '무조건', '선호', '치킨', '갈색', '포장', '누가', '왼쪽', '투움바', '오른쪽', '블랙', '알리오', '투움바', '아웃백', '그거', '그냥', '매콤', '크림소스', '블랙', '알리오', '언뜻', '짜장', '생각', '간장', '베이스', '어디', '마늘', '레이크', '은근', '계속', '간다', '치킨', '사리', '블랙', '알리오', '투움바', '쫄깃쫄깃', '치킨', '마리', '다음', '다음', '고무줄', '주로', '첫날', '공략', '편이', '치킨', '크림', '떡볶이', '투움바', '소스', '상자', '바닥', '흠뻑', '고여', '중간', '중간', '흠뻑', '맛날', '수가', '치킨', '누가', '닭다리', '살로', '조각', '매우', '사진', '크기', '가늠', '마치', '햄버거', '패티', '정도', '조금', '조각', '수로', '몇개', '사람', '퍽퍽살', '다릿살', '염려', '모두', '수가', '눈갱', '방지', '위해', '역시', '단면', '전혀', '분홍', '소스', '앞서', '약간', '크림', '아웃백', '투움바', '파스타', '비록', '살짝', '매콤', '가미', '이거슨', '블랙', '알리오', '상징', '마늘', '레이크', '살짝', '언뜻', '찜닭', '간장', '짜장', '살짝', '고추', '소스', '단점', '정말', '궁합', '한번', '끼륙', '요새', '호가든', '로제', '치킨', '크리스마스', '이브', '이틀', '전이', '호사', '마치', '코로나', '요즘', '우리', '모두', '행복', '오늘', '식사', '끄읕', '초보', '블로거', '띠뚱입니', '오늘', '지금', '호가든', '맥주', '리뷰', '홈플러스', '다이어터', '코젤', '다크', '제로', '순간', '분홍색', '마침', '요즘', '환승', '연애', '예능', '거기', '참가자', '끼리', '대화', '호가든', '로제', '호들갑', '찰나', '파워블로거', '설거지', '귀차니즘', '코스터', '세팅', '알콜', '도수', '확인', '고작', '재료', '라즈베리', '등등', '과일', '농축액', '상큼', '과일', '맥주', '기대', '설탕', '대충', '얼른', '핑크', '순간', '상큼', '과일', '때문', '기분', '사실', '기본', '호가든', '특유', '거즈', '때문', '조금', '걱정', '호가든', '로제', '과일', '거즈', '호가든', '상큼', '혹시', '기존', '호가든', '과일', '맥주', '도전', '분명', '생각', '로제', '음식', '바위', '오늘', '하루', '가족', '시간', '최근', '세계', '맥주', '소주', '치즈', '전골', '치맥', '삼겹살', '요즘', '호가든', '로제', '생각', '치맥', '호가든', '로제', '마트', '맥주', '행사', '땡큐', '소리', '박스', '구입', '제일', '와이프', '호가든', '로제', '꿀떡', '꿀떡', '색상', '취향', '저격', '라즈베리', '호가든', '로제', '일단', '색상', '취향', '저격', '와이프', '핑크', '맥주', '라즈베리', '알코올', '도의', '도수', '남성', '맥주', '여성', '그냥', '그냥', '추천', '마리', '토끼', '호가든', '로제', '색상', '호가든', '맥주', '원래', '호가든', '로제', '처음', '호가든', '맥주', '특유', '끝맛', '달달', '생각', '결론', '호가든', '특유', '단맛', '공존', '호가든', '특유', '색상', '느낌', '호가든', '로제', '정보', '원산지', '벨기에', '제품', '알콜', '용기', '모두', '입처', '마트', '편의점', '현재', '구입', '내용', '호가든', '고유', '맥주', '라즈베리', '핑크', '맥주', '여러분', '음식', '호가든', '로제', '시간', '이상', '바위', '어제', '집안', '청소', '시간', '갈증', '편의점', '한잔', '핑크', '핑크', '외관', '호가든', '로제', '준비', '맥주', '위생', '걱정', '그냥', '네이버', '동영상', '플레이어', '호가든', '로제', '재생', '시간', '동영상', '길이', '화질', '선택', '옵션', '화질', '선택', '옵션', '접기', '호가든', '로제', '혼자', '거품', '거품', '아주', '마이', '출장', '혼자', '촬영', '맥주', '살짝', '핑크', '색감', '맥주', '딸기', '기도', '무슨', '약간', '기도', '향기도', '내내', '기분', '갈증', '음미', '아주', '맥주', '강추', '맥주', '당근', '거래', '마치', '맥주', '사려', '편의점', '사면', '테라', '위주', '이번', '맥주', '호가든', '로제', '호가든', '백양', '말표', '맥주', '말표', '맥주', '처음', '아이', '남친', '맥주잔', '선물', '이제', '와인잔', '호가든', '로제', '처음', '자마자', '맥주', '호가든', '로제', '제일', '맥주', '라즈베리', '함유', '상큼', '상큼', '느낌', '지금', '기분', '맥주', '상큼', '색깔', '별로', '오늘', '안주', '매니저', '고구마', '맥주', '고구마', '하나', '호가든', '리지', '호가든', '맥주', '로제', '별로', '과일', '맥주', '몇번', '지금', '제일', '별로', '라즈베리', '상큼', '뒷맛', '맥주', '쓴맛', '베리', '오히려', '글거림', '진짜', '별로', '호가든', '로제', '그냥', '음료수', '부담', '그냥', '먹기', '맥주', '뒷맛', '별로', '케바케', '입맛', '이제', '말표', '맥주', '오늘', '말표', '맥주', '진짜', '맥주', '말표', '맥주', '우리나라', '수제', '맥주', '입안', '가득', '미가', '매력', '맥주', '오늘', '선물', '유리컵', '말표', '맥주', '진짜', '약간', '커피', '완전', '취향', '별로', '말표', '맥주', '진짜', '추강', '다음', '호가든', '오늘', '호가든', '호가든', '레몬', '그라스', '트러스', '제스트', '색깔', '느낌', '레몬', '그라스', '트러스', '제스트', '연행', '아악', '상큼', '그게', '맥주', '연한', '맥주', '호가든', '리지', '제일', '백양', '맥주', '이번', '처음', '백양', '맥주', '속옷', '맥주', '맥주', '비엔나', '라거', '인정', '넘김', '뒷맛', '이번', '맥주', '맥주', '매각', '호가든', '이제', '신제품', '리지', '블체입니', '오늘', '리뷰', '바로', '호가든', '제입', '홈플러스', '맥주', '코너', '구매', '가격', '구매', '도수', '도입', '여서', '라즈베리', '색도', '일반', '맥주', '핑크', '달달', '냄새', '달달', '덕분', '알코올', '산딸기', '산딸기', '맥주', '정도', '중간', '산딸기', '살짝', '솜사탕', '전반', '맥주', '참고', '일부러', '거품', '거품', '맥주', '살짝', '비릿', '개인', '베이스', '거품', '추천', '의사', '전문점', '배달', '먹음', '성수', '소주', '한잔', '일요일', '메뉴', '수연', '먹방', '영상', '결정', '육강', '사회', '아침', '녀석', '분식', '특집', '어서', '재촉', '제대로', '주문', '쫄면', '참김', '갈비', '만두', '잔치국수', '배달', '가격', '분식', '진우', '동이', '리뷰', '이벤트', '오뎅', '국물', '아주', '요물', '개인', '전체', '메뉴', '어묵', '제일', '나머진', '해먹', '어도', '이정', '오뎅', '내공', '쫄면', '양배추', '콩나물', '협력', '소스', '그냥', '보급', '맛임', '인천', '신분', '쫄면', '생각', '우동', '쫄면', '거의', '걸음', '수준', '갈비', '만두', '갈비', '만두', '어디껀', '이웃', '진짜', '존맛', '진짜', '하루', '봉지', '마약', '취한', '대서', '왕해', '진짜', '녀석', '국물', '숙취', '거의', '고압', '세척', '제일', '잔치국수', '고명', '마음', '생각', '멸치', '잔치국수', '국물', '먹음', '메뉴', '먹방', '메뉴', '일치', '퍼센트', '발휘', '파티', '주말', '낮술', '참김', '아주', '참치', '아주', '내용물', '아주', '마음', '김밥', '오뎅', '만족', '흡족', '한국', '김치', '김치', '단무지', '종류', '분식', '뗄레', '땔수없는', '존재', '단무지', '김치', '고문', '리뷰', '이벤트', '아주', '어묵', '식감', '아주', '국물', '아주', '돈까스', '슬슬', '상큼', '호가든', '로제', '옛날', '개사', '누가', '맥주', '누나', '역시', '대조동', '블랙', '앵거스', '흑우', '호갱', '지금', '편의점', '만날', '갈비', '만두', '로또', '잔치국수', '중국', '김치', '참말', '뭔가', '감칠맛', '오지', '청량감', '오뎅', '모드', '연거푸', '먹음', '아주', '갈수록', '침투', '참김', '리뷰', '이벤', '오뎅', '진리', '나머지', '메뉴', '짜장', '비빔밥', '잔치국수', '집착', '오뎅', '사진', '쑥쓰럽', '사진', '비율', '호가든', '제도', '한잔', '얼뎅탕', '또임', '옛날', '하바나', '컨셉', '마무리', '우동', '어묵', '주문', '호가든', '로제', '선물', '예전', '홈플러스', '호가든', '로제', '전용', '세트', '구매', '호가든', '로제', '제일', '맥주', '하나', '편의점', '자주', '한참', '냉장고', '최근', '전용', '미리', '정도', '정도', '호가든', '전용', '체리', '라즈베리', '약간', '맥주', '거의', '안주', '피자', '에이스', '과자', '안주', '음료수', '느낌', '설명', '벨기에', '맥주', '알콜', '도수', '전용', '바로', '네이버', '동영상', '플레이어', '호가든', '로제', '재생', '시간', '동영상', '길이', '화질', '선택', '옵션', '화질', '선택', '옵션', '호가든', '로제', '동영상', '거품', '원래', '알코올', '쓰래', '맥주', '리뷰', '잠시', '기절', '포스팅', '오늘', '맥주', '호가든', '로제', '알콜', '도수', '맥주', '매콤', '치킨', '입가심', '여성', '린데만스', '크릭', '비교', '벨기에', '지방', '수도원', '문화', '탄생', '벨기에', '정통', '맥주', '오렌지', '껍질', '고수', '씨앗', '함유', '특유', '자랑', '호가든', '호가든', '로제', '유리잔', '대신', '과일', '용기', '맥주', '벨기에', '통설', '착안', '탄생', '라즈베리', '호가든', '특유', '홉향', '음료', '호가든', '로제', '과일', '맥주', '추천', '오늘', '여름날', '맥주', '리뷰', '여름', '시즌', '호가든', '신상', '맥주', '포멜로', '출시', '열대과일', '포멜로', '후기', '중심', '호가든', '맥주', '포스팅', '호가든', '라인', '나이', '수록', '호가든', '매력', '최애', '맥주', '호가든', '로제', '인생', '맥주', '과일', '맥주', '아이', '일반', '호가든', '맥주', '사실', '일반', '맥주', '스타일', '맥주', '내피셜', '밀러', '하이네켄', '최공', '이번', '원조', '호가든', '호가든', '로제', '패스', '나름', '호가든', '포멜로', '위주', '리뷰', '호가든', '사진', '스킵', '진보', '호가든', '로제', '거부', '매력', '소유자', '인생', '맥주', '최애', '맥주', '호가든', '로제', '어쩜', '첨가', '감탄', '중독', '성은', '적지', '고급', '로제', '매료', '기분', '과일', '맥주', '순위', '극찬', '이쯤', '마무리', '참고', '호가든', '포멜로', '리뷰', '호가든', '포멜로', '이름', '동남아', '주로', '생산', '열대과일', '일종', '비주', '자몽', '실제', '자몽', '축구공', '크기', '트로피', '음료', '한번', '맥주', '역시', '기대', '위해', '유리잔', '색깔', '과일', '맥주', '자몽', '다른', '과일', '비주', '자동', '특유', '상큼', '과일', '포멜로', '그것', '맥주', '특유', '과일', '맥주', '강추', '자몽', '맥주', '어디', '내피셜', '호가든', '싱가포르', '가든', '연상', '맥주', '사실', '정도', '예상', '명칭', '호가든', '레몬', '그라스', '트러스', '용어', '설명', '식물', '레몬', '향나', '허브', '식물', '감귤류', '레몬', '오렌지', '종합', '맥주', '식물', '감귤류', '과일', '첨가', '트러스', '레몬', '그라스', '어쩐지', '예상', '맥주', '마시기', '풀향', '두둥', '사실', '기대', '동시', '연상', '싱가포르', '가든', '공원', '대자연', '무슨', '자유연상', '법도', '또한', '선인장', '자꾸', '선인장', '식물', '맥주', '한번', '족하', '취향', '풀내음', '맥주', '추천', '맥주', '역시', '하나', '도전', '역시', '계속', '다시', '포멜로', '가끔', '과일', '맥주', '호가든', '제나', '타이거', '자몽', '임팩트', '참고', '이번', '주말', '다른', '코로나', '유행', '때문', '약속', '약속', '취소', '집콕', '으른들', '집콕', '대처', '방법', '일주일', '또또', '리뷰', '가지', '호가든', '로제', '용량', '가격', '요즘', '대형', '마트', '맥주', '정도', '백원', '판매', '가격', '무려', '맥주잔', '공짜', '패키지', '어린이', '과자', '선물', '세트', '으른들', '아이', '눈빛', '부러', '혹시', '착각', '기분', '선물', '느낌', '여러분', '호가든', '대해', '얼마나', '호가든', '벨기에', '지역', '이름', '호가든', '맥주', '벨기에', '호가든', '지역', '처음', '양조', '다른', '사람', '이제야', '요즘', '맥주', '호가든', '제도', '사진', '찍기', '위해', '맥주', '방향', '정돈', '다시', '세팅해', '추석', '정도', '명절', '과대', '포장', '생활용품', '세트', '맥주', '세트', '기분', '사람', '비용', '부담', '호가든', '방법', '우선', '시원', '호가든', '만큼', '맥주', '살살', '거품', '거품', '맥주잔', '보기', '호가든', '한잔', '완성', '파블로프', '개도', '소리', '청량감', '기분', '소리', '호가든', '방법', '보고', '다른', '맥주', '상태', '겨를', '거품', '양은', '색깔', '와인잔', '맥주', '정도', '핑크', '핑크', '맥주', '컬러', '달달', '별로', '맥주', '여러분', '맥주', '맥주', '치킨', '족발', '카나페', '스낵', '호가든', '로제', '리뷰', '여기', '현대', '사회', '컨디션', '관리', '오늘', '헹복', '하루', '인생', '헛헛', '위해', '사람', '오늘', '호가든', '라인', '맥주', '도전', '블로그', '도전', '정신', '수단', '가격', '기준', '낱개', '구매', '편의점', '이상', '개이득', '참고', '만원', '이상은', '뭔가', '정도', '요즘', '맥주', '탄산', '오늘', '호가든', '리뷰', '미리', '언급', '개인', '불호', '본래', '예전', '청포도', '보태', '제품', '취향', '처음', '베리', '달달', '장바구니', '그때', '장미', '생각', '실제', '라즈베리', '디자인', '자줏빛', '멀리', '계속', '머릿속', '그림', '새우깡', '모금', '와우', '탄성', '방향', '뭔가', '인위', '인공', '개인', '바코드', '넘버', '상세', '정보', '요즘', '알코올', '기억', '다시', '의사', '친구', '은근', '중독', '개인', '호불호', '취향', '조금', '갈릴', '느낌', '호가든', '맥주', '개인', '다른', '맥주', '시도', '결과', '취향', '그냥', '리지', '개인', '입맛', '느낌', '청포도', '걸작', '던데', '다음', '청포도', '트롤', '브루', '레몬', '자몽', '맥주', '후기', '트롤', '브루', '레몬', '자몽', '맥주', '후기', '원래', '요즘', '탈출', '구로', '츄파춥스', '피즈', '캔디', '맥주', '모양', '오렌지', '콜라', '요즘', '간식', '최근', '편의점', '상품', '구매', '가격', '이름', '호가든', '로제', '제조', '벨기에', '호가든', '종류', '지안', '비어', '용량', '도수', '가격', '판매', '사가', '정점', '사가', '정점', '서울특별시', '중랑구', '면목로', '호가든', '맥주', '정말', '리뷰', '작성', '호가든', '제이', '이번', '호가든', '로제', '버전', '리뷰', '리도', '맥주', '사가', '정점', '구매', '용량', '생각', '추천', '호가든', '벨기에', '수도사', '맥주', '벨기에', '호가든', '지역', '맥주', '일반', '버전', '오렌지', '껍질', '고수', '열매', '여러', '가지', '복합', '재료', '맥주', '한국', '맥주', '회사', '맥주', '부가', '재료', '맥주', '편이', '예외', '만요', '호가든', '제의', '경우', '여성', '정말', '인기', '맥주', '상큼', '도수', '때문', '가장', '맥주', '하나', '원래', '맥주', '로만', '조금', '가격', '판매', '맥주', '맥주', '가격', '다운', '맥주', '호불호', '음료수', '기분', '전환', '한잔', '마시기', '아주', '맥주', '처음', '트러스', '배리', '개인', '맥주', '느낌', '입안', '먹음', '산미', '트러스', '거부', '상큼', '약간', '배리', '트러스', '상큼', '입안', '상큼', '약간', '갈증', '수도', '편이', '인공', '느낌', '입안', '상큼', '느낌', '마무리', '맥주', '특징', '생각', '맥주', '특유', '느낌', '기분', '전환', '역시', '맥주', '장미', '약간', '아마', '배리', '상큼', '다시', '뭔가', '나름', '자신', '발전', '맥주', '호가든', '로제', '가격', '리뷰', '이름', '호가든', '로제', '가격', '이마트', '도수', '산지', '벨기에', '제조', '인베', '호가든', '포비', '프룻', '리뷰', '정보', '사진', '이름', '호가든', '포비', '프룻', '맥주', '호가든', '가격', '리뷰', '맥주', '호가든', '화이트', '도수', '가격', '편의점', '맥주', '호가든', '체리', '가격', '리뷰', '이름', '호가든', '체리', '도수', '가격', '편의점', '기준', '졔졔', '즐거움', '오늘', '맥주', '돌이', '리뷰', '뭔가', '핑크', '핑크', '느낌', '케이스', '여심', '저격', '느낌', '로제', '파스타', '로제', '떡볶이', '유행', '맥주', '제인', '어찌', '잇츠', '오케이', '핑크', '장미', '맥주', '패키지', '라즈베리', '라즈베리', '라스베리', '알코올', '도수', '전혀', '그냥', '음료수', '마시기', '맥주', '호가든', '브랜드', '자체', '벨기에', '지역', '호가든', '양조장', '때문', '벨기에', '정통', '맥주', '포멜로', '호가든', '제로', '진짜', '꿀맛', '포멜로', '리뷰', '예정', '요즘', '맥주', '컬렉션', '재료', '고수', '씨앗', '전혀', '고수', '오렌지', '껍질', '훈연', '끝맛', '씨앗', '네이버', '동영상', '플레이어', '호가든', '로제', '재생', '시간', '동영상', '길이', '화질', '선택', '옵션', '화질', '선택', '옵션', '호가든', '로제', '따라서', '로제', '패키지', '핑크', '핑쿠', '분홍', '맥주', '마치', '느낌', '로제', '와인', '탄산', '조금', '타고', '단맛', '스푼', '느낌', '라즈베리', '단맛', '아주', '역시', '도수', '런가', '전혀', '알코올', '가지', '한여름', '호캉스', '배드', '천국', '생각', '무럭', '무럭', '교촌치킨', '허니', '콤보', '조합', '물리', '단맛', '방향', '살짝', '기도', '호가든', '로제', '은근', '자리', '그냥', '후문', '호두', '저녁', '산책', '타임', '맥주', '달달', '맥주', '호가든', '로제', '한번', '밍기적', '헤롱헤롱', '이번', '오늘', '혼술', '근처', '프레', '수입', '맥주', '행사', '진행중', '에코', '가득', '뻘뻘', '처음', '맥주', '구리', '맥주', '엄선', '사실', '후회', '신제품', '오리', '레몬', '이번', '포스팅', '포멜로', '제만', '리뷰', '예정', '언제', '호가든', '신제품', '쌍둥이', '호가든', '로제', '지난번', '회포', '풀때', '처음', '달달', '마음', '맥주', '그냥', '라즈베리', '주스', '불과', '해도', '취한', '사람', '포멜로', '그냥', '주스', '냉장고', '나머지', '아래', '뭔가', '포멜로', '과일', '우리나라', '처음', '그림', '보고', '그냥', '자몽', '검색', '자몽', '중국자몽', '우리', '자몽', '뭔가', '옛날', '서유기', '숨기', '친구', '존재', '이미지', '자몽', '친척', '관계', '즈음', '호가든', '포멜로', '나머지', '스월링해', '일단', '비주', '연한', '피스', '자몽', '자몽', '자몽', '추강', '금방', '정도', '안주', '매콤', '추천', '다음', '호가든', '로제', '아침', '바로', '안주', '점심', '치킨', '샐러드', '달달', '라즈베리', '스파클링', '단어', '정체', '달달', '베리', '맥주', '친구', '최고', '생각', '사실', '루베', '우스', '베리', '맥주', '킹임', '가격', '깡패', '정이', '안감', '제품', '추천', '포멜로', '여름', '시즌', '겨냥', '계절', '진짜', '바디', '단맛', '대충', '간다', '오늘', '여기저기', '아버지', '터미널', '픽업', '구리', '갈매', '장도', '보고', '네이버', '오늘', '일기', '린지', '이제', '일기', '청개구리', '어제', '영어', '원서', '노인', '바다', '단계', '별로', '브랜드', '구리', '갈매', '경기도', '구리시', '경춘북로', '아이파크', '애비뉴', '종합', '터미널', '서울특별시', '광진구', '강변역', '종합', '터미널', '왕숙천', '생태', '습지', '경기도', '구리시', '수택동', '프리미엄', '아울렛', '스페이스', '경기도', '남양주시', '다산', '순환로', '구리', '갈매동', '버거', '가게', '브랜드', '버거', '가게', '오픈', '한지', '일주일', '바로', '오픈', '발인', '오늘', '사람', '조만간', '한번', '브랜드', '코코넛', '밀크', '하나', '구입', '다시', '제품', '리뷰', '터미널', '도착', '에스컬레이터', '타고', '주차', '항상', '테크노마트', '아버지', '픽업', '성공', '아부지', '모시', '고고', '다시', '왕숙천', '공원', '구경', '수레국화', '아이', '왕숙천', '빙그레', '공장', '부근', '체육', '공원', '수레국화', '양귀비꽃', '우리', '댕댕', '뭉치', '데리', '모시', '계속', '뭉치', '오후', '공원', '아부지', '뭉치', '막내', '사진', '느낌', '계단', '달팽이', '고생', '아부지', '샤핑', '남양주', '다산', '현대', '프리미엄', '아울렛', '전기차', '충전', '무료', '주말', '주차', '여유', '쪼금', '코스', '여름', '사지', '할인', '바지', '요란', '사고', '구박', '남양주', '다산', '현대', '프리미엄', '아울렛', '어린이', '놀이터', '주말', '아이', '꼬셔', '하나', '구입', '진짜', '요쿠르트', '이유', '진실', '니스', '허니', '지난번', '니스', '멘톨', '구입', '리지', '구입', '보고', '멘톨', '벌꿀', '구입', '호가든', '로제', '진짜', '어른', '완전', '추천', '알콜', '도수', '머리', '호가든', '로제', '기억', '제주', '슬라이드', '라이스', '제주', '라이스', '제품', '기획', '장님', '호가든', '로제', '보시', '신제품', '제주', '라이스', '오늘', '일기', '호가든', '로제', '호가든', '포멜로', '오늘', '최애', '맥주', '소개', '호가든', '로제', '포멜로', '그냥', '맥주', '가끔', '달달', '안나', '편의점', '친구', '먼저', '호가든', '제예', '라즈베리', '인위', '거나', '베리', '특유', '껌향', '안나', '면서', '아주', '달달', '일단', '넘김', '아주', '샤라', '고기랑', '과자', '아주', '최애', '호가든', '포멜로', '상큼', '자몽', '약간', '향기도', '기본', '달달', '자리', '도수', '이분', '아주', '거품', '아주', '제도', '제도', '마찬가지', '아주', '안이', '진짜', '크리미', '느낌', '일지', '직장인', '퇴근', '편의점', '만원', '맥주', '호가든', '로제', '포멜로', '도전', '호가든', '로제', '호가든', '로제', '편의점', '편의점', '과일', '맥주', '추천', '편의점', '호가든', '로제', '이마트', '호가든', '로제', '맥주', '한번', '그때', '핑크색', '컬러', '디자인', '기억', '호가든', '로제', '맥주', '코너', '편의점', '호가든', '로제', '일반', '호가든', '주야장천', '호가든', '로제', '편의점', '구입', '정말', '땡큐', '바로', '구입', '호가든', '라즈베리', '때문', '과일', '맥주', '맥주', '음미', '편의점', '호가든', '로제', '소개', '호가든', '로제', '이마트', '편의점', '편의점', '호가든', '로제', '가격', '이마트', '맥주', '행사', '느낌', '호가든', '로제', '가격', '삼천', '하니', '구매', '가격', '호가든', '로제', '알코올', '도수', '호가든', '로제', '용량', '호가든', '로제', '재료', '과일', '농축액', '라즈베리', '사과', '딸기', '엘더', '베리', '고수', '씨앗', '오렌지', '껍질', '천연', '향료', '라즈베리', '제수', '맥아', '설탕', '구연산', '호프', '감미료', '제조', '회사', '유통', '수입', '오비맥주', '제품', '특성', '맥주', '산국', '벨기에', '맥주', '맥주', '라즈베리', '편의점', '과일', '맥주', '추천', '호가든', '로제', '호가든', '로제', '편의점', '이마트', '구입', '글자', '보이', '수가', '편의점', '호가든', '로제', '와인잔', '라즈베리', '느낌', '거품', '살짝', '핑크', '완전', '여성', '취향', '저격', '편의점', '과일', '맥주', '추천', '거품', '핑크', '일반', '맥주', '거품', '하얀색', '정말', '별로', '거품', '사진', '찍기', '거품', '편의점', '과일', '맥주', '추천', '호가든', '로제', '온갖', '장미', '분홍', '장미', '컬러', '느낌', '라즈베리', '기분', '자극', '맥주', '거지', '모금', '다시', '한번', '보고', '곰둥님', '보라', '과일', '음료', '혹시', '알코올', '다시', '확인', '알코올', '도수', '맥주', '거의', '차이', '정도', '조금', '쓴맛', '맥주', '일반', '맥주', '편의점', '과일', '맥주', '추천', '거품', '여성', '취향', '편의점', '호가든', '로제', '안주', '밸런스', '돼지갈비', '안주', '돼지갈비', '소주', '다른', '맥주', '거지', '살짝', '복분자', '생각', '생각', '돼지갈비', '맥주', '입속', '숯불', '갈비', '냄새', '과일', '탈바꿈', '성공', '과일', '향기', '커플', '끼리', '편의점', '과일', '맥주', '추천', '감각', '편의점', '호가든', '로제', '맥주', '표면', '갑자기', '거품', '하트', '모양', '직접', '모금', '기분', '갑자기', '하트', '뿜뿜', '호가든', '라즈베리', '맥주', '도수', '편의점', '과일', '맥주', '추천', '일반', '여성', '술맛', '수도', '네이버', '동영상', '플레이어', '호가든', '로제', '편의점', '과일', '맥주', '추천', '재생', '시간', '동영상', '길이', '화질', '선택', '옵션', '화질', '선택', '옵션', '접기', '호가든', '로제', '편의점', '과일', '맥주', '추천', '편의점', '호가든', '로제', '이마트', '이마트', '맥주', '행사', '만원', '구입', '모금', '달달', '라즈베리', '사실', '맥주', '베리', '음료', '탄산', '농도', '복분자', '벨기에', '맥주', '오비맥주', '유통', '편의점', '과일', '맥주', '추천', '라즈베리', '사과', '딸기', '엘더', '베리', '농축', '성분', '오렌지', '껍질', '라즈베리', '고수', '씨앗', '첨가', '원래', '과일', '맥주', '호가든', '로제', '편의점', '과일', '맥주', '추천', '호가든', '로제', '리뷰', '오늘', '최근', '발견', '맥주', '추천', '라이트', '라들러', '자몽', '사실', '이번', '처음', '테스트', '마트', '가격', '편의점', '롯데', '마트', '이마트', '판매', '사실', '오늘', '자몽', '패키지', '샀오욤', '하루', '재미', '호가든', '로제', '정말', '호가든', '로제', '베리', '자몽', '달달', '뒷맛', '자몽', '특유', '사실', '도수', '도수', '음료수', '차라리', '음료수', '라며', '라이트', '알콜', '도수', '호가든', '로제', '알콜', '전혀', '음료', '추천', '기타', '과당', '물엿', '설탕', '역시', '달달', '이유', '자몽', '맥주', '레드', '자몽', '농축액', '칼로리', '표시', '호가든', '로제', '비슷', '호가든', '제의', '칼로리', '호가든', '제의', '칼로리', '정도', '생각', '칼로리', '사실', '취하', '려고', '다기', '마시기', '때문', '하루', '취하', '못시', '부담', '심지어', '꼭꼭', '호가든', '로제', '다운', '그레이드', '버전', '라이트', '라들러', '자몽', '추천', '리뷰', '일반', '맥주', '소문', '맥주', '입맛', '지금', '맥주', '바로', '호가든', '제입', '리지', '호가든', '노노', '호가든', '로제', '일요일', '알코올', '도수', '호가든', '유럽', '벨기에', '맥주', '호가든', '로제', '원료', '맥아', '과일', '농축액', '라즈베리', '고수', '씨앗', '오렌지', '껍질', '호프', '분홍색', '색깔', '탄산', '달달', '라즈베리', '네이버', '동영상', '플레이어', '세계', '맥주', '추천', '호가든', '로제', '재생', '시간', '동영상', '길이', '화질', '선택', '옵션', '화질', '선택', '옵션', '접기', '세계', '맥주', '추천', '호가든', '로제', '이번', '호가든', '로제', '생맥', '진리', '생맥', '맥주', '비교', '불가', '호가든', '로제', '예전', '호가든', '로제', '맥주', '외국', '기억', '맛집', '음료수', '과자', '자꾸', '맥주', '호가든', '로제', '생각', '조금', '과일', '맥주', '추천', '직접', '구입', '작성', '리뷰', '연화']\n"
          ]
        }
      ]
    },
    {
      "cell_type": "code",
      "source": [
        "num = 0\n",
        "newList = []\n",
        "for i in range(len(wordList)):\n",
        "    for j in range(len(words)):\n",
        "        if wordList[i] == words[j]:\n",
        "            newList.append(words[j])\n",
        "print(newList)\n",
        "wordC = Counter(newList)\n",
        "print(wordC)"
      ],
      "metadata": {
        "colab": {
          "base_uri": "https://localhost:8080/"
        },
        "id": "nYhZYXT71vJu",
        "outputId": "086d1d30-855c-44d6-fef0-a59a41d01650"
      },
      "execution_count": 31,
      "outputs": [
        {
          "output_type": "stream",
          "name": "stdout",
          "text": [
            "['오렌지', '오렌지', '오렌지', '오렌지', '오렌지', '오렌지', '오렌지', '오렌지', '오렌지', '오렌지', '오렌지', '오렌지', '레몬', '레몬', '레몬', '레몬', '레몬', '레몬', '레몬', '레몬', '레몬', '레몬', '커피', '라거', '라거', '청량감', '청량감', '청량감', '청량감', '과일', '과일', '과일', '과일', '과일', '과일', '과일', '과일', '과일', '과일', '과일', '과일', '과일', '과일', '과일', '과일', '과일', '과일', '과일', '과일', '과일', '과일', '과일', '과일', '과일', '과일', '과일', '과일', '과일', '과일', '과일', '과일', '과일', '과일', '과일', '과일', '과일', '과일', '과일', '과일', '과일', '과일', '과일', '과일', '과일', '과일', '상큼', '상큼', '상큼', '상큼', '상큼', '상큼', '상큼', '상큼', '상큼', '상큼', '상큼', '상큼', '상큼', '상큼', '상큼', '상큼', '상큼', '바디', '바디', '자몽', '자몽', '자몽', '자몽', '자몽', '자몽', '자몽', '자몽', '자몽', '자몽', '자몽', '자몽', '자몽', '자몽', '자몽', '자몽', '자몽', '자몽', '자몽', '자몽', '자몽', '자몽', '자몽', '탄산', '탄산', '탄산', '탄산', '탄산', '탄산', '탄산', '탄산', '탄산', '필스너', '필스너', '필스너', '자극', '벌꿀', '밍밍', '추천', '추천', '추천', '추천', '추천', '추천', '추천', '추천', '추천', '추천', '추천', '추천', '추천', '추천', '추천', '추천', '추천', '추천', '추천', '추천', '추천', '추천', '추천', '추천', '추천', '추천', '추천', '추천', '추천', '추천', '추천', '추천', '추천', '추천', '무난']\n",
            "Counter({'과일': 46, '추천': 34, '자몽': 23, '상큼': 17, '오렌지': 12, '레몬': 10, '탄산': 9, '청량감': 4, '필스너': 3, '라거': 2, '바디': 2, '커피': 1, '자극': 1, '벌꿀': 1, '밍밍': 1, '무난': 1})\n"
          ]
        }
      ]
    },
    {
      "cell_type": "code",
      "source": [
        "!apt-get update -qq\n",
        "!apt-get install fonts-nanum* -qq"
      ],
      "metadata": {
        "colab": {
          "base_uri": "https://localhost:8080/"
        },
        "id": "tFN0mJLx8i-B",
        "outputId": "362f9f52-210f-4e48-d031-3a31a9c16fe0"
      },
      "execution_count": 32,
      "outputs": [
        {
          "output_type": "stream",
          "name": "stdout",
          "text": [
            "Selecting previously unselected package fonts-nanum.\n",
            "(Reading database ... \r(Reading database ... 5%\r(Reading database ... 10%\r(Reading database ... 15%\r(Reading database ... 20%\r(Reading database ... 25%\r(Reading database ... 30%\r(Reading database ... 35%\r(Reading database ... 40%\r(Reading database ... 45%\r(Reading database ... 50%\r(Reading database ... 55%\r(Reading database ... 60%\r(Reading database ... 65%\r(Reading database ... 70%\r(Reading database ... 75%\r(Reading database ... 80%\r(Reading database ... 85%\r(Reading database ... 90%\r(Reading database ... 95%\r(Reading database ... 100%\r(Reading database ... 155903 files and directories currently installed.)\n",
            "Preparing to unpack .../fonts-nanum_20170925-1_all.deb ...\n",
            "Unpacking fonts-nanum (20170925-1) ...\n",
            "Selecting previously unselected package fonts-nanum-eco.\n",
            "Preparing to unpack .../fonts-nanum-eco_1.000-6_all.deb ...\n",
            "Unpacking fonts-nanum-eco (1.000-6) ...\n",
            "Selecting previously unselected package fonts-nanum-extra.\n",
            "Preparing to unpack .../fonts-nanum-extra_20170925-1_all.deb ...\n",
            "Unpacking fonts-nanum-extra (20170925-1) ...\n",
            "Selecting previously unselected package fonts-nanum-coding.\n",
            "Preparing to unpack .../fonts-nanum-coding_2.5-1_all.deb ...\n",
            "Unpacking fonts-nanum-coding (2.5-1) ...\n",
            "Setting up fonts-nanum-extra (20170925-1) ...\n",
            "Setting up fonts-nanum (20170925-1) ...\n",
            "Setting up fonts-nanum-coding (2.5-1) ...\n",
            "Setting up fonts-nanum-eco (1.000-6) ...\n",
            "Processing triggers for fontconfig (2.12.6-0ubuntu2) ...\n"
          ]
        }
      ]
    },
    {
      "cell_type": "code",
      "source": [
        "from wordcloud import WordCloud\n",
        "import matplotlib.pyplot as plt\n",
        "from collections import Counter\n",
        "from konlpy.tag import Okt\n",
        "from PIL import Image\n",
        "import numpy as np\n",
        "import matplotlib.pyplot as plt\n",
        "from matplotlib import font_manager"
      ],
      "metadata": {
        "id": "MeZAStYfxs2_"
      },
      "execution_count": 33,
      "outputs": []
    },
    {
      "cell_type": "code",
      "source": [
        "import matplotlib as mpl\n",
        "import matplotlib.pyplot as plt\n",
        " \n",
        "%config InlineBackend.figure_format = 'retina'\n",
        " \n",
        "!apt -qq -y install fonts-nanum\n",
        " \n",
        "import matplotlib.font_manager as fm\n",
        "fontpath = '/usr/share/fonts/truetype/nanum/NanumBarunGothic.ttf'\n",
        "font = fm.FontProperties(fname=fontpath, size=9)\n",
        "plt.rc('font', family='NanumBarunGothic') \n",
        "mpl.font_manager._rebuild()\n",
        "\n"
      ],
      "metadata": {
        "colab": {
          "base_uri": "https://localhost:8080/"
        },
        "id": "LSbe2Um4-l5P",
        "outputId": "d63fc64b-e383-4cf0-ee66-594bea37e0cb"
      },
      "execution_count": 34,
      "outputs": [
        {
          "output_type": "stream",
          "name": "stdout",
          "text": [
            "fonts-nanum is already the newest version (20170925-1).\n",
            "The following packages were automatically installed and are no longer required:\n",
            "  libnvidia-common-460 nsight-compute-2020.2.0\n",
            "Use 'apt autoremove' to remove them.\n",
            "0 upgraded, 0 newly installed, 0 to remove and 50 not upgraded.\n"
          ]
        }
      ]
    },
    {
      "cell_type": "code",
      "source": [
        "wc = WordCloud(font_path='NanumBarunGothic', width=400, height=400, scale=2.0, max_font_size=250)\n",
        "gen = wc.generate_from_frequencies(wordC)\n",
        "plt.figure(figsize=(10, 8))\n",
        "plt.axis('off')\n",
        "plt.imshow(gen)"
      ],
      "metadata": {
        "colab": {
          "base_uri": "https://localhost:8080/",
          "height": 485
        },
        "id": "Qmvr9SJd7NXz",
        "outputId": "aac90530-d91f-4e44-dd35-541308f32d69"
      },
      "execution_count": 42,
      "outputs": [
        {
          "output_type": "execute_result",
          "data": {
            "text/plain": [
              "<matplotlib.image.AxesImage at 0x7f6f026f2550>"
            ]
          },
          "metadata": {},
          "execution_count": 42
        },
        {
          "output_type": "display_data",
          "data": {
            "text/plain": [
              "<Figure size 720x576 with 1 Axes>"
            ],
            "image/png": "[encoded data removed]"
          },
          "metadata": {
            "image/png": {
              "width": 449,
              "height": 449
            },
            "needs_background": "light"
          }
        }
      ]
    },
    {
      "cell_type": "code",
      "source": [
        "import cv2\n",
        "cv2.imwrite('/content/drive/MyDrive/wodCloud/aa.png',gen)"
      ],
      "metadata": {
        "colab": {
          "base_uri": "https://localhost:8080/",
          "height": 194
        },
        "id": "ZRDDYO0x0IT6",
        "outputId": "4e9fedfa-b513-4623-f4ea-d1c14784d7bd"
      },
      "execution_count": 39,
      "outputs": [
        {
          "output_type": "error",
          "ename": "TypeError",
          "evalue": "ignored",
          "traceback": [
            "\u001b[0;31m---------------------------------------------------------------------------\u001b[0m",
            "\u001b[0;31mTypeError\u001b[0m                                 Traceback (most recent call last)",
            "\u001b[0;32m<ipython-input-39-101b65f78706>\u001b[0m in \u001b[0;36m<module>\u001b[0;34m()\u001b[0m\n\u001b[1;32m      1\u001b[0m \u001b[0;32mimport\u001b[0m \u001b[0mcv2\u001b[0m\u001b[0;34m\u001b[0m\u001b[0;34m\u001b[0m\u001b[0m\n\u001b[0;32m----> 2\u001b[0;31m \u001b[0mcv2\u001b[0m\u001b[0;34m.\u001b[0m\u001b[0mimwrite\u001b[0m\u001b[0;34m(\u001b[0m\u001b[0;34m'/content/drive/MyDrive/wodCloud/aa.png'\u001b[0m\u001b[0;34m,\u001b[0m\u001b[0mgen\u001b[0m\u001b[0;34m)\u001b[0m\u001b[0;34m\u001b[0m\u001b[0;34m\u001b[0m\u001b[0m\n\u001b[0m",
            "\u001b[0;31mTypeError\u001b[0m: Expected Ptr<cv::UMat> for argument '%s'"
          ]
        }
      ]
    }
  ]
}