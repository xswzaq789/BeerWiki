{
  "nbformat": 4,
  "nbformat_minor": 0,
  "metadata": {
    "colab": {
      "name": "crowling_0503.ipynb",
      "provenance": [],
      "collapsed_sections": []
    },
    "kernelspec": {
      "name": "python3",
      "display_name": "Python 3"
    },
    "language_info": {
      "name": "python"
    }
  },
  "cells": [
    {
      "cell_type": "markdown",
      "source": [
        "### 0503 Crowling\n",
        "- 제목 / 본문/ 링크 크롤링\n",
        "  - https://wonhwa.tistory.com/10?category=996518\n",
        "- 셀레니움 코랩 설치\n",
        "  - https://pgh268400.tistory.com/286 \n",
        "- 파이썬 워드 클라우드\n",
        "  - https://doitgrow.com/34 \n",
        "- konply 코랩 설치\n",
        "  - https://pinggoopark.tistory.com/107 \n",
        "- 코랩 한글 사용\n",
        "  - https://durian9s-coding-tree.tistory.com/19 \n",
        "- 형태소 등 추출\n",
        "  - https://wikidocs.net/21707 "
      ],
      "metadata": {
        "id": "ewcV4Om7_G5W"
      }
    },
    {
      "cell_type": "code",
      "execution_count": 6,
      "metadata": {
        "colab": {
          "base_uri": "https://localhost:8080/",
          "height": 146
        },
        "id": "J9TdjQnHuJvy",
        "outputId": "a35a5076-47d9-45c2-f623-cb56fe331deb"
      },
      "outputs": [
        {
          "name": "stdout",
          "output_type": "stream",
          "text": [
            "검색어를 입력하세요: kgb 맥주 후기\n",
            "크롤링할 수(100이하): 50\n"
          ]
        },
        {
          "output_type": "execute_result",
          "data": {
            "text/plain": [
              "'{\\n\"lastBuildDate\": \"Wed, 04 May 2022 13:41:21 +0900\",\\n\"total\": 1003,\\n\"start\": 1,\\n\"display\": 50,\\n\"items\": [\\n{\\n\"title\": \"[먹은 거]광주 과일타르트 맛집 퀸즈퀸즈, <b>KGB맥주</b> 맛 <b>후기</b>\",\\n\"link\": \"https:\\\\/\\\\/blog.naver.com\\\\/wltmd96?Redirect=Log&logNo=222386531466\",\\n\"description\": \"이제 <b>KGB 맥주</b> 리뷰를 해보자. 저녁 산책 후 너무 더워서 <b>맥주</b>를 사려고 고민했다. 평소 먹던 것을 먹을 것인가. 새로운 도전을 해볼 것인가. 나는 대체로 겁이 많아서 늘 안전한 길을 가는 사람 하지만 갑자기 이... \",\\n\"bloggername\": \"*_꾸밈 없이 솔직하게_*\",\\n\"bloggerlink\": \"https://blog.naver.com/wltmd96\",\\n\"postdate\": \"20210606\"\\n\\n},\\n{\\n\"title\": \"<b>맥주</b>콜\\'에서 초대형사이즈 피자와 <b>맥주</b> 한 잔 - 치즈피자/<b>KGB</b>\",\\n\"link\": \"https:\\\\/\\\\/blog.naver.com\\\\/kgab6?Redirect=Log&logNo=222145115559\",\\n\"description\": \"피클과 함께 피자의 느끼함을 잡아줄 <b>맥주</b> <b>KGB</b>. 나는 술도 맛으로 먹기때문에 이런 맛있는 술을... 직원분들도 친절하고 전체적으로 괜찮았다. 수제<b>맥주</b>를 못 마신 게 조금 아쉬울 뿐. -완전 솔직한 <b>후기</b>입니다-\",\\n\"bloggername\": \"L양의 환상놀이터\",\\n\"bloggerlink\": \"https://blog.naver.com/kgab6\",\\n\"postdate\": \"20201115\"\\n\\n},\\n{\\n\"title\": \"첫 술 마신 <b>후기</b>(feat. <b>KGB</b>와 써머스비 맛)\",\\n\"link\": \"https:\\\\/\\\\/blog.naver.com\\\\/qkrekgml52?Redirect=Log&logNo=222609937565\",\\n\"description\": \"<b>KGB</b> <b>후기</b>, 써머스비 <b>후기</b>... 그리고 <b>KGB</b> 맛, 써머스비 맛 2022년 1월 1일을 맞이하여 첫 술을 마시기로 했다.... 그리고 2번째 <b>맥주</b>로는 써머스비를 먹고 있다.(도수는 4.5) 애는 사과 맛이 아니고 사과향이다. 둘은... \",\\n\"bloggername\": \"어린 날의 나에게 부끄럽지 않도록\",\\n\"bloggerlink\": \"https://blog.naver.com/qkrekgml52\",\\n\"postdate\": \"20220101\"\\n\\n},\\n{\\n\"title\": \"<b>KGB</b> 포장이사 <b>후기</b> - 내돈내산 원룸 포장이사 했어요~\",\\n\"link\": \"https:\\\\/\\\\/blog.naver.com\\\\/zeehyun95?Redirect=Log&logNo=222203256913\",\\n\"description\": \"먼저 <b>KGB</b> 포장이사 업체 <b>후기</b> 알려드릴께요!! 참고로 저는 10평 남짓한 자그마한 원룸이사 진행했습니다.... 와인잔이나 <b>맥주</b>잔 같은 깨지기 쉬운 물품도 많았는데 하나하나 뽁뽁이로 싸주셔서 하나도 깨지지 않고... \",\\n\"bloggername\": \"좋은 꿈 꾸셨습니까?\",\\n\"bloggerlink\": \"https://blog.naver.com/zeehyun95\",\\n\"postdate\": \"20210110\"\\n\\n},\\n{\\n\"title\": \"카스 레몬 vs <b>KGB</b> 레몬 비교 및 <b>후기</b>♡\",\\n\"link\": \"https:\\\\/\\\\/blog.naver.com\\\\/lovenhlove?Redirect=Log&logNo=220371174030\",\\n\"description\": \"카스 레몬 VS <b>KGB</b> 레몬 비교 및 <b>후기</b> 밤이니까 , 짧고굵게 <b>후기</b>를 남기고 전 후다닥 가겟어요..... 넣고 <b>KGB</b>는 \\'레몬향\\'을 넣엇다는 점에서 카스 레몬 승! 맛 카스레몬은 일반 <b>맥주</b>+조금의 레몬맛 이 나고 <b>KGB</b>... \",\\n\"bloggername\": \"러부랭이의 이뻐지자.\",\\n\"bloggerlink\": \"https://blog.naver.com/lovenhlove\",\\n\"postdate\": \"20150526\"\\n\\n},\\n{\\n\"title\": \"맛있는 <b>맥주</b>!! <b>KGB</b>와 TEMPT9!!!\",\\n\"link\": \"https:\\\\/\\\\/blog.naver.com\\\\/eune2005?Redirect=Log&logNo=220224405796\",\\n\"description\": \"맛있어보이는 <b>맥주</b>로!! <b>KGB</b>는 소싯적에(?) 맛있는 <b>맥주</b>라는 사실을....알고있었죠!!!!!... 3캔의의 <b>맥주</b>들... 요 <b>맥주</b>들은 아직 안먹어봐서... 다음에 <b>후기</b>를 올리겠어요&gt;_&lt; 제발 이것들도 맛있는 <b>맥주</b>이길!!!!!!!!!!!!... \",\\n\"bloggername\": \"심심한 평택댁의 신나는 일상!!\",\\n\"bloggerlink\": \"https://blog.naver.com/eune2005\",\\n\"postdate\": \"20141230\"\\n\\n},\\n{\\n\"title\": \"이줭의 세계 <b>맥주</b> 맛보기 #3. [<b>KGB</b> VODKA]\",\\n\"link\": \"https:\\\\/\\\\/blog.naver.com\\\\/1992juo?Redirect=Log&logNo=90177515579\",\\n\"description\": \"다양한 과일과 알콜의 달콤한 조화 <b>KGB</b> VODKA 이번에 제가 맛본 세계<b>맥주</b>는 알콜 팝 종류를 좋아하는 분들이라면, 당연히 알고 계실 <b>KGB</b> VODKA 입니다! 어쩌다보니 지금까지 포스팅한 세계<b>맥주 후기</b>들이 다... \",\\n\"bloggername\": \"내일보단 오늘,\",\\n\"bloggerlink\": \"https://blog.naver.com/1992juo\",\\n\"postdate\": \"20130721\"\\n\\n},\\n{\\n\"title\": \"<b>맥주</b> / 말표 청포도 <b>맥주</b> / 불닭 <b>맥주</b> / 내돈내산 주관적 <b>후기</b> ^,^)\",\\n\"link\": \"https:\\\\/\\\\/blog.naver.com\\\\/bella246?Redirect=Log&logNo=222589159901\",\\n\"description\": \"이슬톡톡, <b>kgb</b>, 타이거 자몽 등등 과일 <b>맥주</b>처럼 <b>맥주</b> 역한 맛 1도 안난다 = 음료수라는 뜻 불닭 <b>맥주</b> 그... 불닭 <b>맥주 후기</b>는,,? - 에일 <b>맥주</b>라 그런지 라거 <b>맥주</b>보다 훨씬 찐한 맛 - 망고 에일이라면서,,,, 망고 향... \",\\n\"bloggername\": \"또쪽한 일상\",\\n\"bloggerlink\": \"https://blog.naver.com/bella246\",\\n\"postdate\": \"20211209\"\\n\\n},\\n{\\n\"title\": \"<b>후기</b>:) <b>KGB</b> 써머스비 다다 크루저 마가리타 슬래머 모조펀치\",\\n\"link\": \"https:\\\\/\\\\/blog.naver.com\\\\/llblessingll?Redirect=Log&logNo=220452260867\",\\n\"description\": \"요즘은 퇴근과 동시에 그냥 <b>맥주</b> 라이딩후에도 <b>맥주</b> 그냥 뭐 <b>맥주</b>가 마시고 싶다고 포스팅하면서 상상으로 마셔야할 판 여름 휴가때 모래사장에 누워 <b>KGB</b> 축구장 가서도 <b>KGB</b> 대낮에 다이닝센가서 크루저 리타... \",\\n\"bloggername\": \"꽃이 진다고 그대를 잊은 적 없다 :)\",\\n\"bloggerlink\": \"https://blog.naver.com/llblessingll\",\\n\"postdate\": \"20150820\"\\n\\n},\\n{\\n\"title\": \"처음 마셔 본 수입프랑스 <b>맥주</b>,1664 블랑<b>맥주</b>, <b>후기</b>\",\\n\"link\": \"https:\\\\/\\\\/blog.naver.com\\\\/yguchi?Redirect=Log&logNo=220944248313\",\\n\"description\": \"쓴맛도 거의 없어 호가든이나 <b>KGB</b> 류의 가향에 중점을 둔 <b>맥주</b>라 보이네요. 쓴 <b>맥주</b>의 홉 냄새가 부담스러운 여성 분들에게 추천 드립니다. 주말 잘 보내세요~~\",\\n\"bloggername\": \"연세 라온 치과\",\\n\"bloggerlink\": \"https://blog.naver.com/yguchi\",\\n\"postdate\": \"20170225\"\\n\\n},\\n{\\n\"title\": \"클라우드 칠성사이다 / 칠성사이다 <b>맥주</b> /  알쓰<b>맥주</b>\",\\n\"link\": \"https:\\\\/\\\\/blog.naver.com\\\\/dodo4375?Redirect=Log&logNo=222709508867\",\\n\"description\": \"칠성사이다 <b>맥주 후기</b> 지극히 개인적 아무튼 설렘반 기대반 심정으로 한 입 먹어봤는데요 마시기 전에... 목으로 넘어가는 느낌도 솔직히 사이다,,,,,, 맥크나이트인 저에게는 조금 아쉬웠어요 :( 그래도 <b>KGB</b>나... \",\\n\"bloggername\": \"둡하고 딥하게\",\\n\"bloggerlink\": \"https://blog.naver.com/dodo4375\",\\n\"postdate\": \"20220424\"\\n\\n},\\n{\\n\"title\": \"세계<b>맥주</b>과실편) <b>KGB</b>+TEMPT7+SOMERSBY~\",\\n\"link\": \"https:\\\\/\\\\/blog.naver.com\\\\/na41238?Redirect=Log&logNo=220303742200\",\\n\"description\": \"소개할 <b>맥주</b>들은 과실주같은 <b>맥주</b> ! 이미 너무 유명하죠? 음료라고 생각하시는 분들도 많은 <b>KGB</b>... 맛이...ㅋㅋㅋ SOMERSBY (애플사이다) 이름에 나오듯이 사과맛 <b>맥주</b>에요 <b>후기</b>가 너무 좋아서 2캔이나 샀는데... \",\\n\"bloggername\": \"welcome gugu land\",\\n\"bloggerlink\": \"https://blog.naver.com/na41238\",\\n\"postdate\": \"20150318\"\\n\\n},\\n{\\n\"title\": \"레몬맛 <b>맥주</b>:: 순하리 레몬진 4.5도, 레몬진 7도 <b>후기</b>\",\\n\"link\": \"https:\\\\/\\\\/blog.naver.com\\\\/happm8404?Redirect=Log&logNo=222450959240\",\\n\"description\": \"5도, 7도 솔직<b>후기</b> 우선 굉장히 내 취향저격한 <b>맥주</b>였다 앞으로 웬만해서 술은 레몬진만 사먹을 것 같다 ✧*｡٩(ˊᗜˋ*)و✧*｡ 본인이 <b>kgb 맥주</b> 맛을 좋아하고, 평상시에 토닉 들어간 술을 좋아한다면 분명... \",\\n\"bloggername\": \"푸른달의 혜윰들\",\\n\"bloggerlink\": \"https://blog.naver.com/happm8404\",\\n\"postdate\": \"20210730\"\\n\\n},\\n{\\n\"title\": \"트롤브루 레몬 자몽 :: <b>맥주 후기</b>\",\\n\"link\": \"https:\\\\/\\\\/blog.naver.com\\\\/tjs2057?Redirect=Log&logNo=222416998369\",\\n\"description\": \"트롤브루 레몬 자몽 <b>맥주 후기</b>! 저는 원래 술을 잘 안 마시는데 요즘 힘들다 보니 탈출구로 찾게 되는... 마셨던 <b>KGB</b>와 비슷하더군요 저는 달달하면서도 맛있는 술을 좋아해서 개인적으로는 호였음! 딱히 안주... \",\\n\"bloggername\": \"선선한_\",\\n\"bloggerlink\": \"https://blog.naver.com/tjs2057\",\\n\"postdate\": \"20210701\"\\n\\n},\\n{\\n\"title\": \"수입<b>맥주</b>종류 추천 :: 상큼한 맛의 <b>KGB</b>♡\",\\n\"link\": \"https:\\\\/\\\\/blog.naver.com\\\\/munjeong4521?Redirect=Log&logNo=221138747200\",\\n\"description\": \"오늘은 지난 번 수입<b>맥주</b>종류 추천 시간에 이어 새로운 수입<b>맥주</b>종류의 <b>후기</b>를 들려 드릴게요♡ 제가 이번에 맛 본 수입<b>맥주</b>종류는 바로 상큼한 레몬맛과 보드카의 만남! <b>KGB</b> 랍니당!ㅎㅎ 사실 <b>KGB</b>는 엄격히... \",\\n\"bloggername\": \"순수 사이퍼즈를 좋아 하는 사람입니다\",\\n\"bloggerlink\": \"https://blog.naver.com/munjeong4521\",\\n\"postdate\": \"20171113\"\\n\\n},\\n{\\n\"title\": \"알쓰의 내돈내산 무알콜<b>맥주</b> 모음 <b>후기</b>!\",\\n\"link\": \"https:\\\\/\\\\/blog.naver.com\\\\/mimim_b?Redirect=Log&logNo=222324282787\",\\n\"description\": \"힘들게 알콜 들어있는 <b>맥주</b> 먹지 말고, 알쓰는 알쓰답게 낮은 도수의 <b>맥주</b>로 즐거운 기분을 오래 만끽합시다! 히얍!!! 웃음 참아가며 찍은 동영상도 보고가쉐호~ ★내돈내산 솔직<b>후기</b>★ (다 먹어보진... \",\\n\"bloggername\": \"미밈블ㄹ\",\\n\"bloggerlink\": \"https://blog.naver.com/mimim_b\",\\n\"postdate\": \"20210427\"\\n\\n},\\n{\\n\"title\": \"bhc 맛쵸킹, 뿌링클 치킨,<b>KGB</b> 레몬, 부라더소다 <b>후기</b>\",\\n\"link\": \"https:\\\\/\\\\/blog.naver.com\\\\/llllllzhols?Redirect=Log&logNo=220526300154\",\\n\"description\": \"가성비 최고예요호주가 원산지인 <b>맥주</b> <b>KGB</b> 심플하지만 예쁜 캔 디자인이 눈에 띄어요!지금 홈플러스에서 <b>KGB</b>를 할인행사하네요 열정가득 초보 블로거 빵꾸수딩은 할인 정보를 확인하기 위해 지인의 영수증까지... \",\\n\"bloggername\": \"빵꾸수딩의 Dayday\",\\n\"bloggerlink\": \"https://blog.naver.com/llllllzhols\",\\n\"postdate\": \"20151102\"\\n\\n},\\n{\\n\"title\": \"알쓰의 <b>맥주</b> 도전기 - <b>KGB</b> 레몬,크루저 블루베리&amp;라즈베리... \",\\n\"link\": \"https:\\\\/\\\\/blog.naver.com\\\\/eun-_woo_-170107?Redirect=Log&logNo=221308122689\",\\n\"description\": \"수입 <b>맥주</b>의 공통적인 단점-비쌈 시작의 발판이 아닌 도착지가 되어버린 것 무엇..? 크루저랑 <b>KGB</b>에서... 병만보면 청량해보이고 이쁜데ㅜ 알쓰<b>후기</b> 이 또한 어제 먹..었는데... 하 먹다말았어요. 저희 엄마도 맛만... \",\\n\"bloggername\": \"☞ 들쑥날쑥 업 다운 ☜\",\\n\"bloggerlink\": \"https://blog.naver.com/eun-_woo_-170107\",\\n\"postdate\": \"20180627\"\\n\\n},\\n{\\n\"title\": \"1월 19일 일기: 종금양꼬치/ 하얼빈<b>맥주</b>/ 돼지귀무침/ 아보카도눈\",\\n\"link\": \"https:\\\\/\\\\/blog.naver.com\\\\/hdd0928?Redirect=Log&logNo=222626338010\",\\n\"description\": \"색깔 신기방기 뿡뿡방기 집에 와서는 #<b>KGB맥주</b> .. #매운새우깡 .. and #스윙칩 .. 쫀맛탱이었다. 아 스윙칩 저거 단단히 빠져서 큰일났다. 너무 맛있음 ... 다 먹고 #허니버터칩 추가로 뜯기 ㅇㅅㅇ 근데 그 위에 나온... \",\\n\"bloggername\": \"평범하지만 독특하고 싶은 일기장\",\\n\"bloggerlink\": \"https://blog.naver.com/hdd0928\",\\n\"postdate\": \"20220120\"\\n\\n},\\n{\\n\"title\": \"신포역 중앙동 메모리스 카페 부드러운 롤케이크, 수제<b>맥주</b>\",\\n\"link\": \"https:\\\\/\\\\/blog.naver.com\\\\/oahoaho?Redirect=Log&logNo=222687110367\",\\n\"description\": \"저는 오른쪽 밑에있는 <b>KGB맥주</b> 좋아해요. 키키  메뉴 판  (22년 3월 기준) 신포역 메모리스 카페는 특이한... 맛 <b>후기</b>  메모리스 카페 중앙동 신포역 메뉴 솔티드생카라멜라떼-4800원, 흑임자라떼-4800원... \",\\n\"bloggername\": \"하늘 아래 같은 음식은 없다\",\\n\"bloggerlink\": \"https://blog.naver.com/oahoaho\",\\n\"postdate\": \"20220330\"\\n\\n},\\n{\\n\"title\": \"cu 청포도 아이스컵 + 타이거 레몬 라들러 <b>맥주 후기</b>,,\",\\n\"link\": \"https:\\\\/\\\\/blog.naver.com\\\\/a_rrrrr?Redirect=Log&logNo=222067842419\",\\n\"description\": \"적인 추천은 피하자 이거예요 무의식적으로 생활에 바이럴이 많을 걸 느껴서 또 한번 한탄하는 하루,,,,ㅜ #내돈내산 #솔직<b>후기</b> #솔직리뷰 #청포도얼음 #청포도아이스 #cu청포도 #타이거레몬 #레몬<b>맥주</b> #<b>kgb</b>레몬\",\\n\"bloggername\": \"_소비주의보\",\\n\"bloggerlink\": \"https://blog.naver.com/a_rrrrr\",\\n\"postdate\": \"20200822\"\\n\\n},\\n{\\n\"title\": \"트롤 브루 자몽맛 : 편의점 <b>맥주 후기</b>\",\\n\"link\": \"https:\\\\/\\\\/blog.naver.com\\\\/filmbybible?Redirect=Log&logNo=222234321479\",\\n\"description\": \"원래 그 사과맛 나는 <b>맥주</b>랑, <b>kgb</b>를 마셨는데 새로운걸 도전해보자고 ㅋㅋ 이걸 골랐답니다 근데 한자가 써져있길래 중국 <b>맥주</b>인가? 했는데 또 읽어보면 원산지가 독일이예용? 뭐지 ㅎㅎ.. ㅋㅋ 여튼 도수는 2.6... \",\\n\"bloggername\": \"나의양봉장\",\\n\"bloggerlink\": \"https://blog.naver.com/filmbybible\",\\n\"postdate\": \"20210206\"\\n\\n},\\n{\\n\"title\": \"궁금해서 사 본 편의점 <b>맥주</b> 6종 주관적인 <b>후기</b>\",\\n\"link\": \"https:\\\\/\\\\/blog.naver.com\\\\/laming28?Redirect=Log&logNo=222487816884\",\\n\"description\": \"<b>맥주</b>들의 맛과 비슷해서 익숙하게 느껴진 느낌?! 3. 타이거 레몬 이거 진~짜 맛있어요ㅋㅋㅋ추천!!! <b>KGB</b>랑... 자몽향은 나는데 뭔가 향만 나고 맛은 별로인...?! 이상 궁금해서 사봤던 <b>맥주</b> 간단 <b>후기</b>였습니다!\",\\n\"bloggername\": \"라밍의 일상 기록♡\",\\n\"bloggerlink\": \"https://blog.naver.com/laming28\",\\n\"postdate\": \"20210829\"\\n\\n},\\n{\\n\"title\": \"요즘 핫한 수입 <b>맥주</b> 리얼 <b>후기</b>\",\\n\"link\": \"https:\\\\/\\\\/blog.naver.com\\\\/olympus12?Redirect=Log&logNo=220456905783\",\\n\"description\": \"그러고보면 <b>KGB</b>도 호주 <b>맥주</b>인데 레몬맛은 엄청 달달하잖아요 호주 사람들이 달달한 <b>맥주</b>를 좋아하는... 마셔보고 두번째 음주<b>후기</b>도 남겨볼께요 울 이웃님들 비오는데 퇴근길 조심하시고, 맛난 저녁식사 하세요\",\\n\"bloggername\": \"Rachel\\'s secret closet <레.시.클>\",\\n\"bloggerlink\": \"https://blog.naver.com/olympus12\",\\n\"postdate\": \"20150820\"\\n\\n},\\n{\\n\"title\": \"[<b>KGB</b><b>후기</b>] 술안취하는마법의약?? 니가 술취하는 이유를 알려주지\",\\n\"link\": \"https:\\\\/\\\\/blog.naver.com\\\\/okydoky23?Redirect=Log&logNo=110119382038\",\\n\"description\": \"<b>KGB</b>요원들이 임무수행을 위해 술먹기 전 꼭 복용했다던 일명 <b>KGB</b>약... 신비의 약이라고도 불리는데요... 러시아인들은 보드카와 <b>맥주</b>를 섞은 ‘요르시’라는 폭탄주를 마신다. 그는 “연구 결과 폭탄주는... \",\\n\"bloggername\": \"상상달력\",\\n\"bloggerlink\": \"https://blog.naver.com/okydoky23\",\\n\"postdate\": \"20110923\"\\n\\n},\\n{\\n\"title\": \"허니허니 버터 칩과 <b>맥주</b>\",\\n\"link\": \"https:\\\\/\\\\/blog.naver.com\\\\/lbn910902?Redirect=Log&logNo=222417755058\",\\n\"description\": \"#허니버터칩 #<b>kgb맥주</b> #바삭함 #달콤함 #행복함 #시원함 오늘은 남편과 롯데마트에 들러 최근에 사놓은... 효과 ㅎㅎㅎㅎㅎ  <b>KGB</b> 레몬 맛 가까이에서 사진 찰칵!  그럼 솔직<b>후기</b> 시전 제 점수는요???? (5점 만점) 맛... \",\\n\"bloggername\": \"기분좋은 키친\",\\n\"bloggerlink\": \"https://blog.naver.com/lbn910902\",\\n\"postdate\": \"20210702\"\\n\\n},\\n{\\n\"title\": \"솔직<b>후기</b> • 포항 핫플 영일대 유명한 술집, 폭탄주 이모네 <b>맥주</b>... \",\\n\"link\": \"https:\\\\/\\\\/blog.naver.com\\\\/tjdnf6262?Redirect=Log&logNo=222655814698\",\\n\"description\": \"호가든, 산미구엘, 버니니, 칭따오, 아사히, 하이네켄, <b>KGB</b>, 기린 등등 병<b>맥주</b> 가격도 6,7천원 대라 괜찮았어요. 블랑, 싱하, 스텔라, 써머스비,코젤, 머드쉐이크(초코/커피) 등도 있네요? 진짜 자주 먹던 <b>맥주</b>... \",\\n\"bloggername\": \",\",\\n\"bloggerlink\": \"https://blog.naver.com/tjdnf6262\",\\n\"postdate\": \"20220223\"\\n\\n},\\n{\\n\"title\": \"그간의 일기 - 22년 봄중\",\\n\"link\": \"https:\\\\/\\\\/blog.naver.com\\\\/ho2na?Redirect=Log&logNo=222719697827\",\\n\"description\": \"이건 <b>맥주</b>도 아니라는 달달한 <b>KGB</b>로ㅋㅋ 집 근처에 친구가 산다는건 요런 맛? 안주는 수다 2시간  2022년... 매번 칼같은 <b>후기</b> 리뷰를 위해 사진도 찍어두었다. 그런데.. 서비스로 온 열대과일(?)이 문제였다. 저거... \",\\n\"bloggername\": \"뱅글뱅글 라이프 *~*\",\\n\"bloggerlink\": \"https://blog.naver.com/ho2na\",\\n\"postdate\": \"20220503\"\\n\\n},\\n{\\n\"title\": \"편의점 <b>맥주</b> 짧은 <b>후기</b>\",\\n\"link\": \"https:\\\\/\\\\/blog.naver.com\\\\/ming1ee?Redirect=Log&logNo=220450856581\",\\n\"description\": \"알콜 도수 5% <b>KGB</b> - 레몬제일 좋아하는 <b>맥주</b>. 크루져 시리즈보다 좋다. <b>맥주</b>지만 아예 레몬에이드 맛이라서 알콜 맛 싫어하고 애들 입맛인 내게 딱임.역시 마시던게 최고여 MudShake - 스트로베리패키지 색도... \",\\n\"bloggername\": \"T O R I\",\\n\"bloggerlink\": \"https://blog.naver.com/ming1ee\",\\n\"postdate\": \"20150814\"\\n\\n},\\n{\\n\"title\": \"산펠레그리노 폼펠모 자몽 330ml <b>후기</b>\",\\n\"link\": \"https:\\\\/\\\\/blog.naver.com\\\\/goguma1048?Redirect=Log&logNo=222711907278\",\\n\"description\": \"먹었을때도 탄산이 강력하진 않았어요 살짝 가미된 정도의 탄산이랄까 그럼 맛은 어떠냐구용 ㆍㅅㆍ 개인적인 의견이지만 <b>맥주</b> <b>KGB</b> 레몬 드셔보셨나요 음료색도 똑같구요 맛도 <b>KGB</b>에서 알콜을 빼면 딱 이... \",\\n\"bloggername\": \"꾸마랜드\",\\n\"bloggerlink\": \"https://blog.naver.com/goguma1048\",\\n\"postdate\": \"20220426\"\\n\\n},\\n{\\n\"title\": \"수입<b>맥주</b> 독일 믹서리 <b>후기</b> :: Mixery\",\\n\"link\": \"https:\\\\/\\\\/blog.naver.com\\\\/blsh0944?Redirect=Log&logNo=220464414226\",\\n\"description\": \"Mixery수입<b>맥주</b> 독일 믹서리 <b>후기</b> :: Mixery 안녕하세요 ~ 금요일의 백까까입니다^^; 아아 금요일이라... 당당하게 <b>맥주</b>코너 밑자락에 자리잡고 있더군요. 그런데 바로 옆에 있는 친구가 <b>KGB</b> 인 것을 보면, 그냥... \",\\n\"bloggername\": \"스낵왕 백까까\",\\n\"bloggerlink\": \"https://blog.naver.com/blsh0944\",\\n\"postdate\": \"20150828\"\\n\\n},\\n{\\n\"title\": \"곰표 <b>맥주</b>&amp;말표 <b>맥주 후기</b>(2020.12.24)\",\\n\"link\": \"https:\\\\/\\\\/blog.naver.com\\\\/sm_scg?Redirect=Log&logNo=222189071702\",\\n\"description\": \"<b>KGB</b>나 과일 맛 나는 <b>맥주</b> 애호가들에겐 별 ★★★★★ <b>맥주</b>. 가격은 3900원 주고 구입했다. (원조 <b>맥주</b>를 좋아하는 나에겐 ★★☆☆☆ <b>맥주</b> ㅠㅠ) Previous image Next image 사장님이 말표 <b>맥주</b>도 있다고 해서... \",\\n\"bloggername\": \"sm_scg\",\\n\"bloggerlink\": \"https://blog.naver.com/sm_scg\",\\n\"postdate\": \"20201229\"\\n\\n},\\n{\\n\"title\": \"이마트24에서 사과맛<b>맥주</b> 애플폭스 잔과 함께 구입<b>후기</b>\",\\n\"link\": \"https:\\\\/\\\\/blog.naver.com\\\\/lowelleee?Redirect=Log&logNo=221690795496\",\\n\"description\": \"알코올도수는 4.5%라고 되어있는데 <b>KGB맥주</b>보다 더 달아서 그런지 뭔가 술같지 않은 기분? 마셔도 취하지... 나중에 또 다른 술로 찾아오겠음 그럼 이만 #술로그 #술<b>후기</b> #써머스비 #애플폭스<b>후기</b> #<b>맥주</b>잔... \",\\n\"bloggername\": \"여행블로거 욜로웰\",\\n\"bloggerlink\": \"https://blog.naver.com/lowelleee\",\\n\"postdate\": \"20191028\"\\n\\n},\\n{\\n\"title\": \"② 게임오브마인드 부산 광안리 점 &lt;<b>KGB</b>&gt;\",\\n\"link\": \"https:\\\\/\\\\/blog.naver.com\\\\/hussy83?Redirect=Log&logNo=220932817479\",\\n\"description\": \"후에 우리가 두번째로 게임오브마인드를 찾았을때(찾았지만 <b>후기</b>에 올리지 않겠다. 사정상 방탈출... 그리고 나와서 집앞에서 <b>맥주</b> 한잔씩 마시고 들감. 비맞으며 뛰쳐 집에 들어왔던 걸루...\",\\n\"bloggername\": \"웰컴 투 염소홈♡\",\\n\"bloggerlink\": \"https://blog.naver.com/hussy83\",\\n\"postdate\": \"20170211\"\\n\\n},\\n{\\n\"title\": \"수입<b>맥주</b>, 막걸리 외 각종 주류 리뷰: 친구없는 아싸의 혼술 <b>후기</b>\",\\n\"link\": \"https:\\\\/\\\\/blog.naver.com\\\\/rabbit4411?Redirect=Log&logNo=222352448395\",\\n\"description\": \"⭐⭐⭐ 오른쪽/ 크루저 블루베리맛 구매처 각종 편의점 <b>KGB</b>와 더불어 과일맛 나는 술의 대명사이다.... 예거<b>맥주</b> #버니니스파클링 #톡소다 #심술 #크루저블루베리 #복받은부라더 #매화수 #주류 #내돈주고먹은<b>후기</b>\",\\n\"bloggername\": \"평범하지만 특별한 하루\",\\n\"bloggerlink\": \"https://blog.naver.com/rabbit4411\",\\n\"postdate\": \"20210515\"\\n\\n},\\n{\\n\"title\": \"순하리 유자, 버드와이져 <b>맥주</b>, 케이지비 <b>KGB</b> 레몬 <b>후기</b>\",\\n\"link\": \"https:\\\\/\\\\/blog.naver.com\\\\/chioje777?Redirect=Log&logNo=220459736959\",\\n\"description\": \"순하리 처음처럼 유자 케이지비 레몬 버드와이져 <b>맥주</b> ! 버드 와이져 진짜 순하고 목넘김도 좋고 최공! 케이지비는 리얼 음료수 같아여 :)\",\\n\"bloggername\": \"소소한 뷰티 이야기\",\\n\"bloggerlink\": \"https://blog.naver.com/chioje777\",\\n\"postdate\": \"20150823\"\\n\\n},\\n{\\n\"title\": \"요즘 핫한 술 - 업타운마가리타 내돈내산 솔직 <b>후기</b>\",\\n\"link\": \"https:\\\\/\\\\/blog.naver.com\\\\/ejuunn?Redirect=Log&logNo=222652865615\",\\n\"description\": \"대략 2~3달 된것 같네요 ㅋㅋㅋㅋㅋㅋ 근데요 진짜 맛있어요ㅠㅠㅠㅠㅠ 술자체의 원래 맛은 <b>KGB맥주</b>?... 이니깐요 ㅠㅠㅠㅠㅠㅠㅠㅠㅠㅠㅠㅠㅠㅠㅠ #주말안녕 #업타운마가리타<b>후기</b> #맛있는술추천 #업타운마가리타\",\\n\"bloggername\": \"my record\",\\n\"bloggerlink\": \"https://blog.naver.com/ejuunn\",\\n\"postdate\": \"20220220\"\\n\\n},\\n{\\n\"title\": \"(cu편의점) 순하리 레몬진  4.5도 &amp; 7도 솔직<b>후기</b>! (2021.07.30)\",\\n\"link\": \"https:\\\\/\\\\/blog.naver.com\\\\/hrw77?Redirect=Log&logNo=222451236900\",\\n\"description\": \"<b>KGB맥주</b>같은 맛이난다! 레몬<b>맥주</b>라서 상큼하면서 탄산이들어가서 청량하고 시원한느낌이 든다!... 다음번엔 순하리 레몬진 4.5도만 사먹어야지!☺☺ 이것으로 순하리레몬진 두가지 비교 솔직 <b>후기</b> 끝! 그럼... \",\\n\"bloggername\": \"뒤죽박죽 일상 정리함\",\\n\"bloggerlink\": \"https://blog.naver.com/hrw77\",\\n\"postdate\": \"20210730\"\\n\\n},\\n{\\n\"title\": \"과일<b>맥주</b> 추천!! 예거라들러... 청포도 4가지 비교! 솔직<b>후기</b> :D\",\\n\"link\": \"https:\\\\/\\\\/blog.naver.com\\\\/mint_rani324?Redirect=Log&logNo=222471441828\",\\n\"description\": \"싶었던 <b>맥주</b>가 있었는데 예거라들러<b>맥주</b>라고 <b>후기</b>들이 좋더라구요! 궁금해서 종류별로 전부... 레몬 <b>맥주</b>이지만 <b>KGB맥주</b>에 가까운 맛이에요 자몽예거라들러 <b>맥주</b> 자몽 예거 라들러  자몽은 상큼하고... \",\\n\"bloggername\": \"뚱띠딩의 테라리움:)❤️\",\\n\"bloggerlink\": \"https://blog.naver.com/mint_rani324\",\\n\"postdate\": \"20210815\"\\n\\n},\\n{\\n\"title\": \"LP바에서 신청곡 듣기 서울 브루어리에서 수제<b>맥주</b> 마시기\",\\n\"link\": \"https:\\\\/\\\\/blog.naver.com\\\\/joeuning?Redirect=Log&logNo=222023471215\",\\n\"description\": \"2%의 프랑스 <b>맥주</b>! 이것도 <b>후기</b>를 찾아봤는데 그냥 그렇다는 평 ? 아메리칸 IPA/ 유러피안 IPA가... 궁금쓰333 ☕️ <b>KGB</b> 레몬 330ml 3,300원 고3 때 학교 앞 아파트 옥상에서 떡볶이를 안주 삼아 먹어봤던 <b>KGB</b>... \",\\n\"bloggername\": \"임토끼\",\\n\"bloggerlink\": \"https://blog.naver.com/joeuning\",\\n\"postdate\": \"20200707\"\\n\\n},\\n{\\n\"title\": \"감성숙소 아비앙또 내돈내산 <b>후기</b>|성산일출봉뷰|조식 제공\",\\n\"link\": \"https:\\\\/\\\\/blog.naver.com\\\\/hslove2251?Redirect=Log&logNo=222622168426\",\\n\"description\": \"P양이 이런날은 <b>맥주</b>를 마셔줘야 한다며 <b>KGB 맥주</b>가 술맛도 안 나고 맛있다해서 숙소까지 가는 길에 있던 편의점과 마트를 다 뒤져서 겨우 get함 그리고 네이버 지도가 인도하는대로 열심히 걸었음… 근데 분명... \",\\n\"bloggername\": \"ෆ⃛여름나는\",\\n\"bloggerlink\": \"https://blog.naver.com/hslove2251\",\\n\"postdate\": \"20220115\"\\n\\n},\\n{\\n\"title\": \"*서울대입구* <b>맥주</b>는 별책부록/솔직<b>후기</b>/내돈내산<b>후기</b>... \",\\n\"link\": \"https:\\\\/\\\\/blog.naver.com\\\\/9875329?Redirect=Log&logNo=221930932966\",\\n\"description\": \"솔직<b>후기</b> #<b>맥주</b> #<b>맥주</b>맛집 #데이트코스 #서울대 안녕하세요!! 오늘은 <b>맥주</b>맛집 <b>후기</b> 남겨보려해요... 수제<b>맥주</b>는 벨누르고 주문하면됩니당 저는 수제<b>맥주</b> BB골든에일 (5,500원) <b>KGB</b>레몬 (6,300원) 주문했어요!... \",\\n\"bloggername\": \"Vely\\'s story\",\\n\"bloggerlink\": \"https://blog.naver.com/9875329\",\\n\"postdate\": \"20200426\"\\n\\n},\\n{\\n\"title\": \"편의점 <b>맥주</b> 추천 / 신상과실주 순하리 레몬진 맛 <b>후기</b>... \",\\n\"link\": \"https:\\\\/\\\\/blog.naver.com\\\\/wjddms8679?Redirect=Log&logNo=222397080221\",\\n\"description\": \"편의점 술 추천 / 신상과실주 순하리 레몬진 맛 <b>후기</b> 레몬진 4.5도 레몬진 7도 차이  2021. 06. 13 일... 제가 마셔본 레몬<b>맥주</b>인 <b>KGB</b>나 타이거 라들러랑 다른점이 있다면 순하리는 레몬즙을 짜낸것 같은 그런 맛이라... \",\\n\"bloggername\": \"D A I L Y . E U N 2\",\\n\"bloggerlink\": \"https://blog.naver.com/wjddms8679\",\\n\"postdate\": \"20210614\"\\n\\n},\\n{\\n\"title\": \"없이 <b>맥주</b> 시원하게 마시기 애플<b>맥주</b> 써머스비 somersby <b>후기</b>\",\\n\"link\": \"https:\\\\/\\\\/blog.naver.com\\\\/choisuko?Redirect=Log&logNo=60196520481\",\\n\"description\": \"<b>KGB</b>는 저리가라..... 비교가 안되요 정말 맛있습니다!!! 정말 꼭 먹어보세요 이거 동네에 파는곳을 알아보려고했으나 안파네요 ㅋ 도수는 <b>맥주</b>도수이나 일반 <b>맥주</b>보다 왠지 쌘느낌 하지만 맛은 정말 최고... \",\\n\"bloggername\": \"최작가 스튜디오\",\\n\"bloggerlink\": \"https://blog.naver.com/choisuko\",\\n\"postdate\": \"20130723\"\\n\\n},\\n{\\n\"title\": \"토핑추가하기 / 호가든로제&amp;호가든보타닉 내돈내산 <b>후기</b>\",\\n\"link\": \"https:\\\\/\\\\/blog.naver.com\\\\/kha1302?Redirect=Log&logNo=222636718404\",\\n\"description\": \"안녕하세요 잇님들- 오늘은 설날연휴에 먹었던 도미노 포테이토피자와 호가든에 대한 내돈내산 <b>후기</b>... <b>KGB 맥주</b>보다 탄산이 덜하고 맛이 좀 덜 쎈느낌이에요. 호가든로제는 알코올이 3.5% 함유되어있고... \",\\n\"bloggername\": \"하냐의 1상\",\\n\"bloggerlink\": \"https://blog.naver.com/kha1302\",\\n\"postdate\": \"20220202\"\\n\\n},\\n{\\n\"title\": \"[금정역] 엄마랑 데이트로 간단하게 <b>맥주</b>먹고 왔어요! <b>맥주</b>라운... \",\\n\"link\": \"https:\\\\/\\\\/blog.naver.com\\\\/to_be_better_me?Redirect=Log&logNo=222668196653\",\\n\"description\": \"안주랑 <b>맥주</b> 흡입하느라 정신없었음 (~˘▾˘)~ 요건 <b>KGB</b>! 이것도 크루저처럼ㅋㅋㅋㅋ<b>맥주</b>인데 엄청 달고... 기분좋게 <b>맥주</b>먹고 온 <b>후기</b> 끝! 금정역에서 그저그런 술집이 지겨우셨다면!! 외부음식 반입도 가능하고... \",\\n\"bloggername\": \"better a better ʚ\",\\n\"bloggerlink\": \"https://blog.naver.com/to_be_better_me\",\\n\"postdate\": \"20220309\"\\n\\n},\\n{\\n\"title\": \"<b>맥주</b> 마시면서 다트를 즐길 수 있는 상록수술집 <b>맥주</b>사냥 <b>후기</b>\",\\n\"link\": \"https:\\\\/\\\\/blog.naver.com\\\\/ghkwls2342?Redirect=Log&logNo=222479095274\",\\n\"description\": \"마가리타, <b>KGB</b> 등이 있어요 5,900원대는 술맛을 싫어하는 사람도 좋아할 달콤한 맛의 술들이 많이... 인사하는 단골분들도 많았던 거 보니 상록수 찐 단골 술집인 듯한 상록수역 술집 <b>맥주</b>사냥 방문 <b>후기</b>였습니다\",\\n\"bloggername\": \"Stock_Jin\",\\n\"bloggerlink\": \"https://blog.naver.com/ghkwls2342\",\\n\"postdate\": \"20210822\"\\n\\n},\\n{\\n\"title\": \"편의점 맛있는 <b>맥주</b> 애플폭스(APPLE FOX), 마셔본 <b>후기</b>\",\\n\"link\": \"https:\\\\/\\\\/blog.naver.com\\\\/wjdqlsl810?Redirect=Log&logNo=222013112586\",\\n\"description\": \"(생긴건 술고래처럼 생겨놓고....) 달달한 술을 좋아하는 남편 때문에 <b>KGB</b>나 머드쉐이크 등등 항상... 안주가 너무 매워서 한입먹고 말다가 결국 깡 <b>맥주</b>로 끝난 <b>후기</b> ㅋㅋㅋㅋㅋㅋㅋ . . . . 잇님들 그럼 모두... \",\\n\"bloggername\": \"빛나는 빈이의 모든 이야기\",\\n\"bloggerlink\": \"https://blog.naver.com/wjdqlsl810\",\\n\"postdate\": \"20200626\"\\n\\n},\\n{\\n\"title\": \"술\\' 5종 리뷰 :  호가든로제,로트캡션,머드쉐이크,<b>KGB</b>,써머스비\",\\n\"link\": \"https:\\\\/\\\\/blog.naver.com\\\\/gkgus0813?Redirect=Log&logNo=221620659616\",\\n\"description\": \"(190819) 리뷰는 먼저 각 술의 원산지, 도수, 용량 등을 소개한 후 시음 <b>후기</b> 순서로 작성했습니다. 한번에... + 써머스비 애플 <b>맥주</b>랑 정말 유명한 <b>KGB맥주</b>를 추가했어요! <b>KGB</b> 뉴질랜드 도수 : 5% 용량 : 355ml <b>Kgb</b>는 정말... \",\\n\"bloggername\": \"졸업하기 싫은 대학생\",\\n\"bloggerlink\": \"https://blog.naver.com/gkgus0813\",\\n\"postdate\": \"20190818\"\\n\\n},\\n{\\n\"title\": \"롯데마트 소고기 호주산 곡물비육 척아이롤 <b>후기</b>\",\\n\"link\": \"https:\\\\/\\\\/blog.naver.com\\\\/jaegonhj?Redirect=Log&logNo=222516562775\",\\n\"description\": \"롯데마트 소고기 호주산 곡물비육 척아이롤 <b>후기</b> 저기압일때는 고기앞으로~!!! 관용어가 되거가는... 이날은 집에 <b>KGB 맥주</b>가 있어서 소고기와 함께 병<b>맥주</b>를 마셨다. 20대때와는 다르게 알쓰가 되어 버려서 가끔... \",\\n\"bloggername\": \"Max.K 의 블로그\",\\n\"bloggerlink\": \"https://blog.naver.com/jaegonhj\",\\n\"postdate\": \"20210926\"\\n\\n}\\n]\\n}\\n'"
            ],
            "application/vnd.google.colaboratory.intrinsic+json": {
              "type": "string"
            }
          },
          "metadata": {},
          "execution_count": 6
        }
      ],
      "source": [
        "import os\n",
        "import sys\n",
        "import urllib.request\n",
        "import json\n",
        "client_id = \"ZLuPWwJ47OEWXSQAIlS4\" # 발급받은 id 입력\n",
        "client_secret = \"BcmHs4QWvM\" # 발급받은 secret 입력 \n",
        "quote = input(\"검색어를 입력하세요: \") #검색어 입력받기\n",
        "encText = urllib.parse.quote(quote)\n",
        "display_num = input(\"크롤링할 수(100이하): \") #출력할 갯수 입력받기\n",
        "url = \"https://openapi.naver.com/v1/search/blog?query=\" + encText +\"&display=\"+display_num# json 결과\n",
        "# url = \"https://openapi.naver.com/v1/search/blog.xml?query=\" + encText # xml 결과\n",
        "request = urllib.request.Request(url)\n",
        "request.add_header(\"X-Naver-Client-Id\",client_id)\n",
        "request.add_header(\"X-Naver-Client-Secret\",client_secret)\n",
        "response = urllib.request.urlopen(request)\n",
        "rescode = response.getcode()\n",
        "\n",
        "if(rescode==200):\n",
        "    response_body = response.read()\n",
        "    #print(response_body.decode('utf-8'))\n",
        "else:\n",
        "    print(\"Error Code:\" + rescode)\n",
        "\n",
        "body = response_body.decode('utf-8')\n",
        "body"
      ]
    },
    {
      "cell_type": "code",
      "source": [
        "# 반복문으로 encText 해결"
      ],
      "metadata": {
        "id": "igY5LzW-0O2l"
      },
      "execution_count": null,
      "outputs": []
    },
    {
      "cell_type": "code",
      "source": [
        "# 불필요한 \"\"(큰따옴표)지워주기\n",
        "body = body.replace('\"','')"
      ],
      "metadata": {
        "id": "MmNkaJlWu-vC"
      },
      "execution_count": 7,
      "outputs": []
    },
    {
      "cell_type": "code",
      "source": [
        "#블로그 제목만 뽑기\n",
        "import re\n",
        "titles = re.findall('title: (.*?),\\nlink', body) #\\n은 엔터의 의미\n",
        "print('<<제목 모음>>')\n",
        "print(titles)\n",
        "print('총 제목 수: ',len(titles),'개')#제목갯수확인"
      ],
      "metadata": {
        "colab": {
          "base_uri": "https://localhost:8080/"
        },
        "id": "ZBE7Kz9SvCG4",
        "outputId": "85decf96-854c-48de-bf14-93e966cbdfc4"
      },
      "execution_count": 8,
      "outputs": [
        {
          "output_type": "stream",
          "name": "stdout",
          "text": [
            "<<제목 모음>>\n",
            "['[먹은 거]광주 과일타르트 맛집 퀸즈퀸즈, <b>KGB맥주</b> 맛 <b>후기</b>', \"<b>맥주</b>콜'에서 초대형사이즈 피자와 <b>맥주</b> 한 잔 - 치즈피자/<b>KGB</b>\", '첫 술 마신 <b>후기</b>(feat. <b>KGB</b>와 써머스비 맛)', '<b>KGB</b> 포장이사 <b>후기</b> - 내돈내산 원룸 포장이사 했어요~', '카스 레몬 vs <b>KGB</b> 레몬 비교 및 <b>후기</b>♡', '맛있는 <b>맥주</b>!! <b>KGB</b>와 TEMPT9!!!', '이줭의 세계 <b>맥주</b> 맛보기 #3. [<b>KGB</b> VODKA]', '<b>맥주</b> / 말표 청포도 <b>맥주</b> / 불닭 <b>맥주</b> / 내돈내산 주관적 <b>후기</b> ^,^)', '<b>후기</b>:) <b>KGB</b> 써머스비 다다 크루저 마가리타 슬래머 모조펀치', '처음 마셔 본 수입프랑스 <b>맥주</b>,1664 블랑<b>맥주</b>, <b>후기</b>', '클라우드 칠성사이다 / 칠성사이다 <b>맥주</b> /  알쓰<b>맥주</b>', '세계<b>맥주</b>과실편) <b>KGB</b>+TEMPT7+SOMERSBY~', '레몬맛 <b>맥주</b>:: 순하리 레몬진 4.5도, 레몬진 7도 <b>후기</b>', '트롤브루 레몬 자몽 :: <b>맥주 후기</b>', '수입<b>맥주</b>종류 추천 :: 상큼한 맛의 <b>KGB</b>♡', '알쓰의 내돈내산 무알콜<b>맥주</b> 모음 <b>후기</b>!', 'bhc 맛쵸킹, 뿌링클 치킨,<b>KGB</b> 레몬, 부라더소다 <b>후기</b>', '알쓰의 <b>맥주</b> 도전기 - <b>KGB</b> 레몬,크루저 블루베리&amp;라즈베리... ', '1월 19일 일기: 종금양꼬치/ 하얼빈<b>맥주</b>/ 돼지귀무침/ 아보카도눈', '신포역 중앙동 메모리스 카페 부드러운 롤케이크, 수제<b>맥주</b>', 'cu 청포도 아이스컵 + 타이거 레몬 라들러 <b>맥주 후기</b>,,', '트롤 브루 자몽맛 : 편의점 <b>맥주 후기</b>', '궁금해서 사 본 편의점 <b>맥주</b> 6종 주관적인 <b>후기</b>', '요즘 핫한 수입 <b>맥주</b> 리얼 <b>후기</b>', '[<b>KGB</b><b>후기</b>] 술안취하는마법의약?? 니가 술취하는 이유를 알려주지', '허니허니 버터 칩과 <b>맥주</b>', '솔직<b>후기</b> • 포항 핫플 영일대 유명한 술집, 폭탄주 이모네 <b>맥주</b>... ', '그간의 일기 - 22년 봄중', '편의점 <b>맥주</b> 짧은 <b>후기</b>', '산펠레그리노 폼펠모 자몽 330ml <b>후기</b>', '수입<b>맥주</b> 독일 믹서리 <b>후기</b> :: Mixery', '곰표 <b>맥주</b>&amp;말표 <b>맥주 후기</b>(2020.12.24)', '이마트24에서 사과맛<b>맥주</b> 애플폭스 잔과 함께 구입<b>후기</b>', '② 게임오브마인드 부산 광안리 점 &lt;<b>KGB</b>&gt;', '수입<b>맥주</b>, 막걸리 외 각종 주류 리뷰: 친구없는 아싸의 혼술 <b>후기</b>', '순하리 유자, 버드와이져 <b>맥주</b>, 케이지비 <b>KGB</b> 레몬 <b>후기</b>', '요즘 핫한 술 - 업타운마가리타 내돈내산 솔직 <b>후기</b>', '(cu편의점) 순하리 레몬진  4.5도 &amp; 7도 솔직<b>후기</b>! (2021.07.30)', '과일<b>맥주</b> 추천!! 예거라들러... 청포도 4가지 비교! 솔직<b>후기</b> :D', 'LP바에서 신청곡 듣기 서울 브루어리에서 수제<b>맥주</b> 마시기', '감성숙소 아비앙또 내돈내산 <b>후기</b>|성산일출봉뷰|조식 제공', '*서울대입구* <b>맥주</b>는 별책부록/솔직<b>후기</b>/내돈내산<b>후기</b>... ', '편의점 <b>맥주</b> 추천 / 신상과실주 순하리 레몬진 맛 <b>후기</b>... ', '없이 <b>맥주</b> 시원하게 마시기 애플<b>맥주</b> 써머스비 somersby <b>후기</b>', '토핑추가하기 / 호가든로제&amp;호가든보타닉 내돈내산 <b>후기</b>', '[금정역] 엄마랑 데이트로 간단하게 <b>맥주</b>먹고 왔어요! <b>맥주</b>라운... ', '<b>맥주</b> 마시면서 다트를 즐길 수 있는 상록수술집 <b>맥주</b>사냥 <b>후기</b>', '편의점 맛있는 <b>맥주</b> 애플폭스(APPLE FOX), 마셔본 <b>후기</b>', \"술' 5종 리뷰 :  호가든로제,로트캡션,머드쉐이크,<b>KGB</b>,써머스비\", '롯데마트 소고기 호주산 곡물비육 척아이롤 <b>후기</b>']\n",
            "총 제목 수:  50 개\n"
          ]
        }
      ]
    },
    {
      "cell_type": "code",
      "source": [
        "#블로그 링크들 추출\n",
        "links = re.findall('link: (.*?),\\ndescription',body)\n",
        "print('\\n<<링크 모음>>')\n",
        "print(links)\n",
        "print('총 링크 수: ',len(links),'개')#링크갯수확인"
      ],
      "metadata": {
        "colab": {
          "base_uri": "https://localhost:8080/"
        },
        "id": "r_tO2KVuvFgF",
        "outputId": "43226ff8-f772-4068-956e-d52bbda89ad0"
      },
      "execution_count": 9,
      "outputs": [
        {
          "output_type": "stream",
          "name": "stdout",
          "text": [
            "\n",
            "<<링크 모음>>\n",
            "['https:\\\\/\\\\/blog.naver.com\\\\/wltmd96?Redirect=Log&logNo=222386531466', 'https:\\\\/\\\\/blog.naver.com\\\\/kgab6?Redirect=Log&logNo=222145115559', 'https:\\\\/\\\\/blog.naver.com\\\\/qkrekgml52?Redirect=Log&logNo=222609937565', 'https:\\\\/\\\\/blog.naver.com\\\\/zeehyun95?Redirect=Log&logNo=222203256913', 'https:\\\\/\\\\/blog.naver.com\\\\/lovenhlove?Redirect=Log&logNo=220371174030', 'https:\\\\/\\\\/blog.naver.com\\\\/eune2005?Redirect=Log&logNo=220224405796', 'https:\\\\/\\\\/blog.naver.com\\\\/1992juo?Redirect=Log&logNo=90177515579', 'https:\\\\/\\\\/blog.naver.com\\\\/bella246?Redirect=Log&logNo=222589159901', 'https:\\\\/\\\\/blog.naver.com\\\\/llblessingll?Redirect=Log&logNo=220452260867', 'https:\\\\/\\\\/blog.naver.com\\\\/yguchi?Redirect=Log&logNo=220944248313', 'https:\\\\/\\\\/blog.naver.com\\\\/dodo4375?Redirect=Log&logNo=222709508867', 'https:\\\\/\\\\/blog.naver.com\\\\/na41238?Redirect=Log&logNo=220303742200', 'https:\\\\/\\\\/blog.naver.com\\\\/happm8404?Redirect=Log&logNo=222450959240', 'https:\\\\/\\\\/blog.naver.com\\\\/tjs2057?Redirect=Log&logNo=222416998369', 'https:\\\\/\\\\/blog.naver.com\\\\/munjeong4521?Redirect=Log&logNo=221138747200', 'https:\\\\/\\\\/blog.naver.com\\\\/mimim_b?Redirect=Log&logNo=222324282787', 'https:\\\\/\\\\/blog.naver.com\\\\/llllllzhols?Redirect=Log&logNo=220526300154', 'https:\\\\/\\\\/blog.naver.com\\\\/eun-_woo_-170107?Redirect=Log&logNo=221308122689', 'https:\\\\/\\\\/blog.naver.com\\\\/hdd0928?Redirect=Log&logNo=222626338010', 'https:\\\\/\\\\/blog.naver.com\\\\/oahoaho?Redirect=Log&logNo=222687110367', 'https:\\\\/\\\\/blog.naver.com\\\\/a_rrrrr?Redirect=Log&logNo=222067842419', 'https:\\\\/\\\\/blog.naver.com\\\\/filmbybible?Redirect=Log&logNo=222234321479', 'https:\\\\/\\\\/blog.naver.com\\\\/laming28?Redirect=Log&logNo=222487816884', 'https:\\\\/\\\\/blog.naver.com\\\\/olympus12?Redirect=Log&logNo=220456905783', 'https:\\\\/\\\\/blog.naver.com\\\\/okydoky23?Redirect=Log&logNo=110119382038', 'https:\\\\/\\\\/blog.naver.com\\\\/lbn910902?Redirect=Log&logNo=222417755058', 'https:\\\\/\\\\/blog.naver.com\\\\/tjdnf6262?Redirect=Log&logNo=222655814698', 'https:\\\\/\\\\/blog.naver.com\\\\/ho2na?Redirect=Log&logNo=222719697827', 'https:\\\\/\\\\/blog.naver.com\\\\/ming1ee?Redirect=Log&logNo=220450856581', 'https:\\\\/\\\\/blog.naver.com\\\\/goguma1048?Redirect=Log&logNo=222711907278', 'https:\\\\/\\\\/blog.naver.com\\\\/blsh0944?Redirect=Log&logNo=220464414226', 'https:\\\\/\\\\/blog.naver.com\\\\/sm_scg?Redirect=Log&logNo=222189071702', 'https:\\\\/\\\\/blog.naver.com\\\\/lowelleee?Redirect=Log&logNo=221690795496', 'https:\\\\/\\\\/blog.naver.com\\\\/hussy83?Redirect=Log&logNo=220932817479', 'https:\\\\/\\\\/blog.naver.com\\\\/rabbit4411?Redirect=Log&logNo=222352448395', 'https:\\\\/\\\\/blog.naver.com\\\\/chioje777?Redirect=Log&logNo=220459736959', 'https:\\\\/\\\\/blog.naver.com\\\\/ejuunn?Redirect=Log&logNo=222652865615', 'https:\\\\/\\\\/blog.naver.com\\\\/hrw77?Redirect=Log&logNo=222451236900', 'https:\\\\/\\\\/blog.naver.com\\\\/mint_rani324?Redirect=Log&logNo=222471441828', 'https:\\\\/\\\\/blog.naver.com\\\\/joeuning?Redirect=Log&logNo=222023471215', 'https:\\\\/\\\\/blog.naver.com\\\\/hslove2251?Redirect=Log&logNo=222622168426', 'https:\\\\/\\\\/blog.naver.com\\\\/9875329?Redirect=Log&logNo=221930932966', 'https:\\\\/\\\\/blog.naver.com\\\\/wjddms8679?Redirect=Log&logNo=222397080221', 'https:\\\\/\\\\/blog.naver.com\\\\/choisuko?Redirect=Log&logNo=60196520481', 'https:\\\\/\\\\/blog.naver.com\\\\/kha1302?Redirect=Log&logNo=222636718404', 'https:\\\\/\\\\/blog.naver.com\\\\/to_be_better_me?Redirect=Log&logNo=222668196653', 'https:\\\\/\\\\/blog.naver.com\\\\/ghkwls2342?Redirect=Log&logNo=222479095274', 'https:\\\\/\\\\/blog.naver.com\\\\/wjdqlsl810?Redirect=Log&logNo=222013112586', 'https:\\\\/\\\\/blog.naver.com\\\\/gkgus0813?Redirect=Log&logNo=221620659616', 'https:\\\\/\\\\/blog.naver.com\\\\/jaegonhj?Redirect=Log&logNo=222516562775']\n",
            "총 링크 수:  50 개\n"
          ]
        }
      ]
    },
    {
      "cell_type": "code",
      "source": [
        "# 링크를 다듬기 (필요없는 부분 제거 및 수정)\n",
        "blog_links = []\n",
        "for i in links:\n",
        "    a = i.replace('\\\\','')\n",
        "    b = a.replace('?Redirect=Log&logNo=','/')\n",
        "    blog_links.append(b)\n",
        "\n",
        "print(blog_links)\n",
        "print('생성된 링크 갯수:',len(blog_links),'개')"
      ],
      "metadata": {
        "colab": {
          "base_uri": "https://localhost:8080/"
        },
        "id": "47Ym2n7rvH6H",
        "outputId": "7a5b3bdf-7887-4608-aa63-a05fa16a8fb5"
      },
      "execution_count": 10,
      "outputs": [
        {
          "output_type": "stream",
          "name": "stdout",
          "text": [
            "['https://blog.naver.com/wltmd96/222386531466', 'https://blog.naver.com/kgab6/222145115559', 'https://blog.naver.com/qkrekgml52/222609937565', 'https://blog.naver.com/zeehyun95/222203256913', 'https://blog.naver.com/lovenhlove/220371174030', 'https://blog.naver.com/eune2005/220224405796', 'https://blog.naver.com/1992juo/90177515579', 'https://blog.naver.com/bella246/222589159901', 'https://blog.naver.com/llblessingll/220452260867', 'https://blog.naver.com/yguchi/220944248313', 'https://blog.naver.com/dodo4375/222709508867', 'https://blog.naver.com/na41238/220303742200', 'https://blog.naver.com/happm8404/222450959240', 'https://blog.naver.com/tjs2057/222416998369', 'https://blog.naver.com/munjeong4521/221138747200', 'https://blog.naver.com/mimim_b/222324282787', 'https://blog.naver.com/llllllzhols/220526300154', 'https://blog.naver.com/eun-_woo_-170107/221308122689', 'https://blog.naver.com/hdd0928/222626338010', 'https://blog.naver.com/oahoaho/222687110367', 'https://blog.naver.com/a_rrrrr/222067842419', 'https://blog.naver.com/filmbybible/222234321479', 'https://blog.naver.com/laming28/222487816884', 'https://blog.naver.com/olympus12/220456905783', 'https://blog.naver.com/okydoky23/110119382038', 'https://blog.naver.com/lbn910902/222417755058', 'https://blog.naver.com/tjdnf6262/222655814698', 'https://blog.naver.com/ho2na/222719697827', 'https://blog.naver.com/ming1ee/220450856581', 'https://blog.naver.com/goguma1048/222711907278', 'https://blog.naver.com/blsh0944/220464414226', 'https://blog.naver.com/sm_scg/222189071702', 'https://blog.naver.com/lowelleee/221690795496', 'https://blog.naver.com/hussy83/220932817479', 'https://blog.naver.com/rabbit4411/222352448395', 'https://blog.naver.com/chioje777/220459736959', 'https://blog.naver.com/ejuunn/222652865615', 'https://blog.naver.com/hrw77/222451236900', 'https://blog.naver.com/mint_rani324/222471441828', 'https://blog.naver.com/joeuning/222023471215', 'https://blog.naver.com/hslove2251/222622168426', 'https://blog.naver.com/9875329/221930932966', 'https://blog.naver.com/wjddms8679/222397080221', 'https://blog.naver.com/choisuko/60196520481', 'https://blog.naver.com/kha1302/222636718404', 'https://blog.naver.com/to_be_better_me/222668196653', 'https://blog.naver.com/ghkwls2342/222479095274', 'https://blog.naver.com/wjdqlsl810/222013112586', 'https://blog.naver.com/gkgus0813/221620659616', 'https://blog.naver.com/jaegonhj/222516562775']\n",
            "생성된 링크 갯수: 50 개\n"
          ]
        }
      ]
    },
    {
      "cell_type": "code",
      "source": [
        "# 셀레니움\n",
        "# 이 부분은 처음 한번만 실행하면 됌.\n",
        "!pip install selenium\n",
        "!apt-get update\n",
        "!apt install chromium-chromedriver\n",
        "!cp /usr/lib/chromium-browser/chromedriver /usr/bin"
      ],
      "metadata": {
        "colab": {
          "base_uri": "https://localhost:8080/"
        },
        "id": "ON4pfpW9vZ8z",
        "outputId": "1ded3e5b-f63b-447c-b666-3e2393f5105f"
      },
      "execution_count": 11,
      "outputs": [
        {
          "output_type": "stream",
          "name": "stdout",
          "text": [
            "Collecting selenium\n",
            "  Downloading selenium-4.1.3-py3-none-any.whl (968 kB)\n",
            "\u001b[K     |████████████████████████████████| 968 kB 5.3 MB/s \n",
            "\u001b[?25hCollecting trio-websocket~=0.9\n",
            "  Downloading trio_websocket-0.9.2-py3-none-any.whl (16 kB)\n",
            "Collecting urllib3[secure,socks]~=1.26\n",
            "  Downloading urllib3-1.26.9-py2.py3-none-any.whl (138 kB)\n",
            "\u001b[K     |████████████████████████████████| 138 kB 42.8 MB/s \n",
            "\u001b[?25hCollecting trio~=0.17\n",
            "  Downloading trio-0.20.0-py3-none-any.whl (359 kB)\n",
            "\u001b[K     |████████████████████████████████| 359 kB 10.2 MB/s \n",
            "\u001b[?25hRequirement already satisfied: attrs>=19.2.0 in /usr/local/lib/python3.7/dist-packages (from trio~=0.17->selenium) (21.4.0)\n",
            "Requirement already satisfied: sortedcontainers in /usr/local/lib/python3.7/dist-packages (from trio~=0.17->selenium) (2.4.0)\n",
            "Collecting sniffio\n",
            "  Downloading sniffio-1.2.0-py3-none-any.whl (10 kB)\n",
            "Collecting async-generator>=1.9\n",
            "  Downloading async_generator-1.10-py3-none-any.whl (18 kB)\n",
            "Collecting outcome\n",
            "  Downloading outcome-1.1.0-py2.py3-none-any.whl (9.7 kB)\n",
            "Requirement already satisfied: idna in /usr/local/lib/python3.7/dist-packages (from trio~=0.17->selenium) (2.10)\n",
            "Collecting wsproto>=0.14\n",
            "  Downloading wsproto-1.1.0-py3-none-any.whl (24 kB)\n",
            "Collecting cryptography>=1.3.4\n",
            "  Downloading cryptography-37.0.2-cp36-abi3-manylinux_2_24_x86_64.whl (4.0 MB)\n",
            "\u001b[K     |████████████████████████████████| 4.0 MB 47.8 MB/s \n",
            "\u001b[?25hCollecting pyOpenSSL>=0.14\n",
            "  Downloading pyOpenSSL-22.0.0-py2.py3-none-any.whl (55 kB)\n",
            "\u001b[K     |████████████████████████████████| 55 kB 3.8 MB/s \n",
            "\u001b[?25hRequirement already satisfied: certifi in /usr/local/lib/python3.7/dist-packages (from urllib3[secure,socks]~=1.26->selenium) (2021.10.8)\n",
            "Requirement already satisfied: PySocks!=1.5.7,<2.0,>=1.5.6 in /usr/local/lib/python3.7/dist-packages (from urllib3[secure,socks]~=1.26->selenium) (1.7.1)\n",
            "Requirement already satisfied: cffi>=1.12 in /usr/local/lib/python3.7/dist-packages (from cryptography>=1.3.4->urllib3[secure,socks]~=1.26->selenium) (1.15.0)\n",
            "Requirement already satisfied: pycparser in /usr/local/lib/python3.7/dist-packages (from cffi>=1.12->cryptography>=1.3.4->urllib3[secure,socks]~=1.26->selenium) (2.21)\n",
            "Collecting h11<1,>=0.9.0\n",
            "  Downloading h11-0.13.0-py3-none-any.whl (58 kB)\n",
            "\u001b[K     |████████████████████████████████| 58 kB 5.7 MB/s \n",
            "\u001b[?25hRequirement already satisfied: typing-extensions in /usr/local/lib/python3.7/dist-packages (from h11<1,>=0.9.0->wsproto>=0.14->trio-websocket~=0.9->selenium) (4.2.0)\n",
            "Installing collected packages: sniffio, outcome, h11, cryptography, async-generator, wsproto, urllib3, trio, pyOpenSSL, trio-websocket, selenium\n",
            "  Attempting uninstall: urllib3\n",
            "    Found existing installation: urllib3 1.24.3\n",
            "    Uninstalling urllib3-1.24.3:\n",
            "      Successfully uninstalled urllib3-1.24.3\n",
            "\u001b[31mERROR: pip's dependency resolver does not currently take into account all the packages that are installed. This behaviour is the source of the following dependency conflicts.\n",
            "requests 2.23.0 requires urllib3!=1.25.0,!=1.25.1,<1.26,>=1.21.1, but you have urllib3 1.26.9 which is incompatible.\n",
            "datascience 0.10.6 requires folium==0.2.1, but you have folium 0.8.3 which is incompatible.\u001b[0m\n",
            "Successfully installed async-generator-1.10 cryptography-37.0.2 h11-0.13.0 outcome-1.1.0 pyOpenSSL-22.0.0 selenium-4.1.3 sniffio-1.2.0 trio-0.20.0 trio-websocket-0.9.2 urllib3-1.26.9 wsproto-1.1.0\n",
            "Hit:1 https://developer.download.nvidia.com/compute/cuda/repos/ubuntu1804/x86_64  InRelease\n",
            "Get:2 https://cloud.r-project.org/bin/linux/ubuntu bionic-cran40/ InRelease [3,626 B]\n",
            "Ign:3 https://developer.download.nvidia.com/compute/machine-learning/repos/ubuntu1804/x86_64  InRelease\n",
            "Hit:4 https://developer.download.nvidia.com/compute/machine-learning/repos/ubuntu1804/x86_64  Release\n",
            "Get:5 http://security.ubuntu.com/ubuntu bionic-security InRelease [88.7 kB]\n",
            "Hit:6 http://archive.ubuntu.com/ubuntu bionic InRelease\n",
            "Get:7 http://ppa.launchpad.net/c2d4u.team/c2d4u4.0+/ubuntu bionic InRelease [15.9 kB]\n",
            "Get:8 http://archive.ubuntu.com/ubuntu bionic-updates InRelease [88.7 kB]\n",
            "Get:9 https://cloud.r-project.org/bin/linux/ubuntu bionic-cran40/ Packages [84.8 kB]\n",
            "Hit:10 http://ppa.launchpad.net/cran/libgit2/ubuntu bionic InRelease\n",
            "Get:11 http://archive.ubuntu.com/ubuntu bionic-backports InRelease [74.6 kB]\n",
            "Hit:13 http://ppa.launchpad.net/deadsnakes/ppa/ubuntu bionic InRelease\n",
            "Hit:14 http://ppa.launchpad.net/graphics-drivers/ppa/ubuntu bionic InRelease\n",
            "Get:15 http://ppa.launchpad.net/c2d4u.team/c2d4u4.0+/ubuntu bionic/main Sources [1,953 kB]\n",
            "Get:16 http://security.ubuntu.com/ubuntu bionic-security/universe amd64 Packages [1,496 kB]\n",
            "Get:17 http://archive.ubuntu.com/ubuntu bionic-updates/universe amd64 Packages [2,272 kB]\n",
            "Get:18 http://security.ubuntu.com/ubuntu bionic-security/main amd64 Packages [2,733 kB]\n",
            "Get:19 http://ppa.launchpad.net/c2d4u.team/c2d4u4.0+/ubuntu bionic/main amd64 Packages [1,001 kB]\n",
            "Get:20 http://archive.ubuntu.com/ubuntu bionic-updates/main amd64 Packages [3,167 kB]\n",
            "Fetched 13.0 MB in 3s (3,815 kB/s)\n",
            "Reading package lists... Done\n",
            "Reading package lists... Done\n",
            "Building dependency tree       \n",
            "Reading state information... Done\n",
            "The following packages were automatically installed and are no longer required:\n",
            "  libnvidia-common-460 nsight-compute-2020.2.0\n",
            "Use 'apt autoremove' to remove them.\n",
            "The following additional packages will be installed:\n",
            "  chromium-browser chromium-browser-l10n chromium-codecs-ffmpeg-extra\n",
            "Suggested packages:\n",
            "  webaccounts-chromium-extension unity-chromium-extension\n",
            "The following NEW packages will be installed:\n",
            "  chromium-browser chromium-browser-l10n chromium-chromedriver\n",
            "  chromium-codecs-ffmpeg-extra\n",
            "0 upgraded, 4 newly installed, 0 to remove and 54 not upgraded.\n",
            "Need to get 88.4 MB of archives.\n",
            "After this operation, 297 MB of additional disk space will be used.\n",
            "Get:1 http://archive.ubuntu.com/ubuntu bionic-updates/universe amd64 chromium-codecs-ffmpeg-extra amd64 100.0.4896.127-0ubuntu0.18.04.1 [1,142 kB]\n",
            "Get:2 http://archive.ubuntu.com/ubuntu bionic-updates/universe amd64 chromium-browser amd64 100.0.4896.127-0ubuntu0.18.04.1 [77.6 MB]\n",
            "Get:3 http://archive.ubuntu.com/ubuntu bionic-updates/universe amd64 chromium-browser-l10n all 100.0.4896.127-0ubuntu0.18.04.1 [4,496 kB]\n",
            "Get:4 http://archive.ubuntu.com/ubuntu bionic-updates/universe amd64 chromium-chromedriver amd64 100.0.4896.127-0ubuntu0.18.04.1 [5,190 kB]\n",
            "Fetched 88.4 MB in 4s (22.2 MB/s)\n",
            "Selecting previously unselected package chromium-codecs-ffmpeg-extra.\n",
            "(Reading database ... 155202 files and directories currently installed.)\n",
            "Preparing to unpack .../chromium-codecs-ffmpeg-extra_100.0.4896.127-0ubuntu0.18.04.1_amd64.deb ...\n",
            "Unpacking chromium-codecs-ffmpeg-extra (100.0.4896.127-0ubuntu0.18.04.1) ...\n",
            "Selecting previously unselected package chromium-browser.\n",
            "Preparing to unpack .../chromium-browser_100.0.4896.127-0ubuntu0.18.04.1_amd64.deb ...\n",
            "Unpacking chromium-browser (100.0.4896.127-0ubuntu0.18.04.1) ...\n",
            "Selecting previously unselected package chromium-browser-l10n.\n",
            "Preparing to unpack .../chromium-browser-l10n_100.0.4896.127-0ubuntu0.18.04.1_all.deb ...\n",
            "Unpacking chromium-browser-l10n (100.0.4896.127-0ubuntu0.18.04.1) ...\n",
            "Selecting previously unselected package chromium-chromedriver.\n",
            "Preparing to unpack .../chromium-chromedriver_100.0.4896.127-0ubuntu0.18.04.1_amd64.deb ...\n",
            "Unpacking chromium-chromedriver (100.0.4896.127-0ubuntu0.18.04.1) ...\n",
            "Setting up chromium-codecs-ffmpeg-extra (100.0.4896.127-0ubuntu0.18.04.1) ...\n",
            "Setting up chromium-browser (100.0.4896.127-0ubuntu0.18.04.1) ...\n",
            "update-alternatives: using /usr/bin/chromium-browser to provide /usr/bin/x-www-browser (x-www-browser) in auto mode\n",
            "update-alternatives: using /usr/bin/chromium-browser to provide /usr/bin/gnome-www-browser (gnome-www-browser) in auto mode\n",
            "Setting up chromium-chromedriver (100.0.4896.127-0ubuntu0.18.04.1) ...\n",
            "Setting up chromium-browser-l10n (100.0.4896.127-0ubuntu0.18.04.1) ...\n",
            "Processing triggers for man-db (2.8.3-2ubuntu0.1) ...\n",
            "Processing triggers for hicolor-icon-theme (0.17-2) ...\n",
            "Processing triggers for mime-support (3.60ubuntu1) ...\n",
            "Processing triggers for libc-bin (2.27-3ubuntu1.3) ...\n",
            "/sbin/ldconfig.real: /usr/local/lib/python3.7/dist-packages/ideep4py/lib/libmkldnn.so.0 is not a symbolic link\n",
            "\n",
            "cp: '/usr/lib/chromium-browser/chromedriver' and '/usr/bin/chromedriver' are the same file\n"
          ]
        }
      ]
    },
    {
      "cell_type": "code",
      "source": [
        "# -*- coding: UTF-8 -*-\n",
        "import time\n",
        "from selenium import webdriver"
      ],
      "metadata": {
        "id": "M5KtU4xCvcLr"
      },
      "execution_count": 8,
      "outputs": []
    },
    {
      "cell_type": "code",
      "source": [
        "#Colab에선 웹브라우저 창이 뜨지 않으므로 별도 설정한다.\n",
        " \n",
        "options = webdriver.ChromeOptions()\n",
        "options.add_argument('--headless')        # Head-less 설정\n",
        "options.add_argument('--no-sandbox')\n",
        "options.add_argument('--disable-dev-shm-usage')\n",
        "driver = webdriver.Chrome('chromedriver', options=options)"
      ],
      "metadata": {
        "id": "sqGraAG6vcVa"
      },
      "execution_count": 9,
      "outputs": []
    },
    {
      "cell_type": "code",
      "source": [
        "#본문 크롤링\n",
        "import time\n",
        "from selenium import webdriver\n",
        "from bs4 import BeautifulSoup\n",
        "\n",
        "#driver = webdriver.Chrome(os.path.abspath('chromedriver')) #또는 driver.exe 가있는 파일 위치 복사하여 입력\n",
        "driver.implicitly_wait(3)"
      ],
      "metadata": {
        "id": "osiGxfrvvLUv"
      },
      "execution_count": 10,
      "outputs": []
    },
    {
      "cell_type": "code",
      "source": [
        "#블로그 링크 하나씩 불러서 크롤링\n",
        "contents = []\n",
        "for i in blog_links:\n",
        "#블로그 링크 하나씩 불러오기\n",
        "  driver.get(i)\n",
        "  time.sleep(1)\n",
        "  #블로그 안 본문이 있는 iframe에 접근하기\n",
        "  driver.switch_to.frame(\"mainFrame\")\n",
        "#본문 내용 크롤링하기\n",
        "  try:\n",
        "    a = driver.find_element_by_css_selector('div.se-main-container').text\n",
        "    contents.append(a)\n",
        "\n",
        "  except:\n",
        "    a = driver.find_element_by_css_selector('div#content-area').text\n",
        "    contents.append(a)\n",
        "  #print(본문: \\n', a)\n",
        "\n",
        "\n",
        "\n",
        "\n",
        "driver.quit() #창닫기\n",
        "print(\"<<본문 크롤링이 완료되었습니다.>>\")"
      ],
      "metadata": {
        "colab": {
          "base_uri": "https://localhost:8080/"
        },
        "id": "fz9gu4mmvydL",
        "outputId": "3efcace4-afaf-4e89-965b-7f7aa355fce0"
      },
      "execution_count": 11,
      "outputs": [
        {
          "output_type": "stream",
          "name": "stderr",
          "text": [
            "/usr/local/lib/python3.7/dist-packages/ipykernel_launcher.py:11: DeprecationWarning: find_element_by_css_selector is deprecated. Please use find_element(by=By.CSS_SELECTOR, value=css_selector) instead\n",
            "  # This is added back by InteractiveShellApp.init_path()\n",
            "/usr/local/lib/python3.7/dist-packages/ipykernel_launcher.py:15: DeprecationWarning: find_element_by_css_selector is deprecated. Please use find_element(by=By.CSS_SELECTOR, value=css_selector) instead\n",
            "  from ipykernel import kernelapp as app\n"
          ]
        },
        {
          "output_type": "stream",
          "name": "stdout",
          "text": [
            "<<본문 크롤링이 완료되었습니다.>>\n"
          ]
        }
      ]
    },
    {
      "cell_type": "code",
      "source": [
        "print(contents)"
      ],
      "metadata": {
        "colab": {
          "base_uri": "https://localhost:8080/"
        },
        "id": "ArlUZlzoxK9Z",
        "outputId": "7f8d1036-4837-403a-c433-4e62b44bbd50"
      },
      "execution_count": 12,
      "outputs": [
        {
          "output_type": "stream",
          "name": "stdout",
          "text": [
            "['퀸즈퀸즈라고 광주 수완지구에 있는 디저트 카페가 있다.\\n나도 몰랐는데, 선물 받았다.\\n찾아보니 아는 사람들은 아는 나름 맛집인듯 보인다.\\n.\\n.\\n.\\n딸기타르트 하나 6.8천원... 너무 비싼데? \\n하지만 내가 산 것은 아니니 기쁜 맘으로 먹어본다.\\n우선 타르트 하나에도 포장에 정성이 들어가 있다. 선물용으로 아주 좋을듯\\n딸기가 빼곡하게 있는 게 맘에 든다. \\n하지만 역시 중요한 것은 맛이지.\\n참고로 나는 타르트라면 저렴한 에그타르트밖에 안먹어본 사람이다.\\n디저트에 돈쓰는 것에 엄청나게 까다로운 사람...\\n그 가격이면~~ 국밥을 읍읍\\n거두절미하고 먹어본다. \\n대충 포크로 파먹어 보자.\\n오??!!!\\n맛있잖아?\\n딸기의 상큼함이, 자칫하면 질릴 수 있는 크림치즈를 아름답게 감싸준다!\\n맨 위의 크림은 상당히 부드럽고 달콤\\n안에 초코빵(?)은 초크초크\\n크림치즈 필링은 아주 입안 가득 깊은 풍미가!\\n타르트지는 먼가 익숙한 맛이었는데\\n뭐지 머지...\\n소처럼 되새김질을 하며....\\n찾은 정답은 바로\\n어무니 아부지들이 좋아하시는  고오급 과자 버터링\\n그렇다. \\n고급스러운 버터링맛이었다.\\n아무튼 만족스러운 타르트였다.\\n선물용으로 아주 굿굿굿일듯\\n보기도 좋은 떡인데, 맛도 좋으니 마다할 이유 없을 듯!\\n이제 KGB 맥주 리뷰를 해보자.\\n 저녁 산책 후 너무 더워서 맥주를 사려고 고민했다.\\n평소 먹던 것을 먹을 것인가.\\n새로운 도전을 해볼 것인가.\\n나는 대체로 겁이 많아서 늘 안전한 길을 가는 사람\\n하지만 갑자기 이 맥주가 궁금했다.\\n가격은 한캔에 3,250원! (편점 가기 귀찮아서 집 앞 슈퍼에서 삼)\\n건방진 가격, 하지만 맛은 있겠지? \\n양심이 있다면 말야....\\n설레는 맘으로, 첫 KGB 먹방 사진 한장 찍어쥬고\\n치익-\\n꼴깍\\n....?\\n츄릅\\n꼴깍....\\n?????????????????\\n냄새는 일단 레몬에이드 탄산음료와 거의 흡사\\n근데 끝맛이 아우 써!! 소주 같이 쓰다!!\\n내가 알던 맥주의 맛이 아냐!\\n분노의 폭풍 검색을 해본 결과 맥주가 아니라 보드카란다.\\n그리고 ... 뭔가\\n병원에서 주사맞고 소독할 때  쓰는 소독솜의 향과 맛이 느껴졌다.\\n이런게 바로 리얼 소독인걸까.\\n아무튼 블랑 맥주 실패 이후 또하나의 선택 미스 맥주로 등극...\\n3,250원... \\n하 이 가격이면 버드와이저 두캔, 핫바는 세개는 사는건데 ㅡ.,ㅡ', \"'맥주콜'에서 초대형사이즈 피자와 맥주 한 잔\\n영업시간: 월~목(1700~0200), 금~토(1700~0300), 일(1700~0100) 연중무휴\\n전화번호: 032-331-1132\\n맥주콜 중동점\\n경기도 부천시 중동로254번길 87\\n안주조합으로 최강인 치맥을 꾸준히 따라가고 있는 피맥. 친구랑 치맥대신 피맥을 하러 맥주콜이라는 술집에 갔다. 맥주콜은 신중동역 맥도날드 부근에 위치해있다. 사진을 보면 불이 꺼진 것처럼 보이는데 저 가게는 마라탕 가게다. 영업을 잘 하고 있으니 되돌아 가지 말고 2층으로 올라가면 된다.\\n널찍한 매장 내부. 구조는 심플하다. 단체로 먹기 편하게 길게 이어진 좌석도 있고 4인용 좌석도 여러개 있다. 보통의 맥주전문점과 크게 다르지 않다. 안내에 따라 편한 자리에 앉아서 원하는 맥주를 골라 마신 후, 계산은 후불로 하면 된다.\\n그 전에 매장 내부를 좀 더 둘러봤다. 맥주 전문점 답게 다양한 맥주가 냉장고에 가득 들어있었다. 이 중에서 눈에 띄는 건 하이네켄 5L 통이었다. 저렇게 크게 파는 건 처음 본다. 저걸 다 마시려면 몇 명이 있어야 할까?ㅋㅋㅋㅋ 저걸 보다가 우리 고모가 생각났다. 고모께서 지인분과 술자리를 하면 인당 생맥 3-4개는 기본인데, 그 모임 분들이라면 다 마실 수 있을 듯ㅋㅋㅋㅋ 나는 액체는 많이 못 마셔서 절대 불가하고ㅋㅋㅋ\\n매장 뒤편에 다트 게임 2대가 준비되어 있다. 그리고 누구의 것인지는 모르겠으나 각종 트로피가 놓여있었다. 맥주 마시다가 심심하면 지인과 다트를 하면 재밌을 것 같다. 그냥 하는 게 심심하면 술값 내기로 해도 좋을 듯. 한 명이 다 내면 부담스러우니까 돈을 차등으로 내면 괜찮을 것 같다. 나랑 친구는 이날 다트는 하지 않았다. 먹고 수다 떠느라 바빠서ㅋㅋㅋ\\n  자리에 가면 기본적으로 병을 담을 수 있는 바구니와 병따개가 준비되어 있다. 그 외에 특별한 것은 딱히 없는 듯.\\n맥주콜은 피자와 수제맥주를 전문으로 하는 곳인데 하필 우리가 갔을 때 수제맥주가 안되고 있었다ㅠㅠ 또르르 맥알못이지만 마셔보고 싶었는데 아쉬웠다. 맥주 좋아하시는 분들은 수제 맥주 드셔보시길. 어차피 다른 세계 맥주들은 편의점 같은 곳에 가도 살 수 있으니.\\n일단 나랑 친구는 빅사이즈 치즈피자 18인치를 시켰다. 그 외에도 간단한 안주들이 있는데 피자를 먹고 다른 걸 시킬 생각이었지만 피자 하나로 충분했다. 왜 충분했는지는 밑에 피자 사이즈 보면 나온다. 맥주콜 같은 맥주 전문점은 보통 다른 안주 반입이 가능하다. 그래서 배달 시켜 먹으라고 친절하게 배달 주소까지 써있다. 여기있는 안주가 끌리지 않으면 원하는 안주를 시켜서 맥주와 함께 먹으면 된다. 맥주콜이 피자를 하기 때문에 배달음식으로 피자를 시켜도 되는지는 잘 모르겠다. 여쭤보고 올 걸...\\n피자를 시키자 핫소스, 피클, 팝콘 등등이 나왔다. 나는 피자의 느끼함을 핫소스보단 피클로 잡는 편이라 핫소스는 손도 대지 않았다.\\n피클과 함께 피자의 느끼함을 잡아줄 맥주 KGB. 나는 술도 맛으로 먹기때문에 이런 맛있는 술을 좋아한다. KGB는 항상 맛있지. 원래 병째로 마셔도 되는데 나는 세계 맥주 전문점 가면 꼭 컵을 쓰곤 한다. 전용 컵이 아닌데 이런 데 아니면 저런 컵을 써볼 기회가 없어서ㅋㅋㅋ 전용 컵이 아닌데도 불구하고 저 컵에 KGB 한 병이 딱 들어가더라.\\n드디어 나온 우리의 18인치 피자. 나오자 마자 입이 떡 벌어졌다. 너무너무 커서.\\n사진으로 보면 크기가 잘 가늠이 안 될까봐 친구의 손과 비교해보았다. 피자 한 조각의 크기가 친구 손보다 크다ㅋㅋㅋㅋ 아마 저 쟁반은 피자를 위해 특수제작한 것 같다.\\n크기만 큰 게 아니라 맛도 훌륭하다. 도우가 굉장히 얇은 편인데 치즈가 듬뿍 들어가 있고, 살짝 짭짤하다. 그래서 맥주와 잘 어울린다. 도우가 얇다보니까 토핑이 많이 들어가는 피자는 메뉴에 없나보다. 먹으면 입 안에서 치즈가 뿜뿜.\\n양이 너무 많아서 결국 다 먹지 못하고 포장해갔다. 포장을 요청하니 친절하게 포장해주셨다. 포장한 건 친구에게 줬는데, 친구가 집에서 먹었을 때도 맛있다고 하더라. 만족스런 피맥이었다. 원래 배 양이 여유가 있었으면 머드쉐이크인가? 그것도 마셨을 텐데 못 마셔서 조금 아쉽다.\\n총평: 일반적인 세계맥주 전문점이다. 딱히 흠 잡을 게 없다. 피자의 경우 18인치는 양이 매우 많으니 사람이 적으면 12인치를 시키는 것을 추천. 맥주 전문점이다 보니 안주를 배달시켜 먹을 수 있어서 좋다. 다트 게임도 있어서 술값 내기 하면 재미있을 듯. 직원분들도 친절하고 전체적으로 괜찮았다. 수제맥주를 못 마신 게 조금 아쉬울 뿐.\\n-완전 솔직한 후기입니다-\", 'feat. KGB 후기, 써머스비 후기... 그리고 KGB 맛, 써머스비 맛\\n2022년 1월 1일을 맞이하여 첫 술을 마시기로 했다. \\n첫 술은 혼술이다...\\n내가 고심 끝에 고른 술은 KGB 레몬맛인데(도수는 5) 맛은 레몬맛이다!! 레몬맛을 마셨으니 당연히 레몬맛이 난다.ㅋㅋㅋ 맛있다고 추천을 받아서 먹게 된 건데 어... 맛있다. 약간 그냥 음료수 같다. 지인에게는 그냥 사이다 같다는 평도 들어봤다. 하지만 그래도 알코올의 효과는 조금 있던데.\\n그런데 이거 한 캔 먹고 얼굴이 뜨거워지는 것을 느꼈다. 얼굴이 손 난로 마냥 따듯해서 밖에 나갈 때 손 난로가 없어도 얼굴에 손을 대면 손 난로가 따로 없다. 아, 그러고 보니 코로나 때문에 마스크를 써서 얼굴에 손을 못 대니까 목에다가 손을 대면 따듯할 것이다. 이거 한 캔 마셨을 때 나는 별로 취한 거 같지 않다. 왜냐하면 그걸 마시고 지금 이 글을 쓰고 있기 때문이다. 마슀다. 난 절대 취한 것이 아니다. \\n그리고 2번째 맥주로는 써머스비를 먹고 있다.(도수는 4.5) 애는 사과 맛이 아니고 사과향이다. 둘은 엄연히 다르다. 일단, KGB는 알코올 향이 정말 거의 조금도 나지 않았지만 써머스비는 사과향과 함께 알코올 맛이 같이 올라온다. 끝맛이 약간 쓰다.\\n그런데 혹시 당신도 첫 술을 마시거나 혹시 나중에 첫 술을 고대하고 있다면 당신은 초록색 병에 담긴 도수가 16도 이상인 소주를 마셔보기를 권장한다. 왜냐하면? 그게 진짜 술 같으니까.\\n이건 음료수다. 알코올 생각보다 별게 없는 거 같다. 지금 나는 정신이 없는 거 같지만 있다... 마슀다...', '안녕하세요! 제가 얼마전에 원룸 이사할 일이 있었는데요.\\n내돈내산으로 KGB 포장이사 업체 이용한 후기 와 원룸 포장이사 꿀팁 알려드리려고 합니다!!\\n먼저 KGB 포장이사 업체 후기 알려드릴께요!!\\n참고로 저는 10평 남짓한 자그마한 원룸이사 진행했습니다.\\n먼저 업체에 전화하면 방 평수와 포장이사해야할 물건등등을 물어봅니다\\n침대, TV같은 물품이 있는지, 물건은 어느정도 있는지 등등\\n저는 풀옵션 원룸에 살았기 때문에 침대나 전자레인지 같은 큰 짐은 많이 없었구요\\n옷, 거울이랑 공기청정기, 그리고 작은 화분, 식기류가 전부였습니다.\\n상담원 분이 먼저 집에 TV가 있으신가요~? \\n이런식으로 여쭤보기때문에 물건을 누락해서 말할 걱정은 전혀~ 없었답니다.\\n상담원 분도 아주 친절하고 좋으셨어요 짱짱...\\n그리고 그렇게 이사일자 예약이 끝나고 난뒤,\\n이사 일자 하루 전에 확인전화가 옵니다.\\n그리고 이사 당일!! 저는 성인 남자 두분이 오셨어요!\\n원룸 포장이사 여서 그런지 두분이면 딱 충분하고 좋았어요.\\n한분은 옷이나 가구 같은 큰물품을 옮기고 다른 한분은 식기류 같은 자잘한 물건을 \\n나눠서 옮기시는 듯 했어요.\\n두 분이서 원룸 기준 포장이사 소요시간은 대략 한시간 정도 걸린 듯 합니다. \\n제가 좀 짜잘한 물건이 많고, 여기저기 어질러져있었는데\\n그걸 봉지에 담아서 정말 가지런히 정리해주셨어요.\\n그들은 정말 정리와 이사의 달인들이십니다.\\n말없이 챡챡 물건을 옮기시는데 얼마나 손놀림이 깔끔하시던지\\n정말 저는 만족했어요 ㅜㅠ\\n그리고 제가 와인잔이나 맥주잔 같은 깨지기 쉬운 물품도 많았는데\\n하나하나 뽁뽁이로 싸주셔서 하나도 깨지지 않고 무사히 도착했답니다.\\n정말 감동앤 감동... \\n작은 향초 하나까지 뽁뽁히로 싸시는 그모습에 전 정말 감동했어요..\\n제방에 큰 전신거울도 있었는데, 그것도 카페트로 둘둘 싸서\\n옮겨주시더라구요 흑흑 감동... 진짜 그분들은 달인이세요\\n제가 차가 없어서, 혹시 이사차량에 타고 가도 되냐고 여쭤봤는데\\n그건 안된다고 하시더라구요! 포장이사는 짐을 옮기는 것이지 사람을 옮겨주는 서비스가 아니기에 저도 혹시나 하고 여쭤본 것이구요~ 참고하실분들은 참고하세요\\n저는 대중교통을 타고 목적지까지 갔답니다. 직원분들 도착시간과는 차이가 있어서 사진으로 물품수령 전달받았어요!!\\n사실 처음으로 포장이사 해본 거였는데 아 돈이 이렇게 좋은거구나...\\n감동했습니다. KGB 포장이사 업체 관계자 여러분 감사드립니다..\\n너무 감사해서 냉장고에 남아있던 음료수 두병 드시라구 드렸어요.\\n전 정말 만족해서 다른분들도 KGB 포장이사 이용하신다고 하면 추천드릴 거 같아요. 저 돈받은거 하나도 없고 내돈내산 후기입니다!! b_b\\n다음은 포장이사 준비 하는 꿀팁 알려드릴께요\\n포장이사는 정~말 준비할게 하나도 없더라구요. \\n허허 돈이 이렇게 좋은거구나 느끼실거에요\\n다만 한 두가지 이정도는 준비하는게 좋겠다! 하는 것은 있었어요\\n1. 종량제 쓰레기 봉투\\n포장이사 직원분들이 물건을 하나둘 정리하는데\\n왜이렇게 버릴 물건과 쓰레기가 많던지 ^^;... \\n직원분들은 열심히 물건을 싸시고 저는 열심히 물건을 버렸습니다 ㅠㅠ \\n사실 새로운 집에 들고가서 짐을 푸는것이 싸는것보다 몇배는  더 어려운 일이기에\\n최대한!! 짐을 줄여가시는 것이 좋아요\\n버릴물건 가져가면 가져가서 풀고 버리고 ㅠㅠ 고생이 두배랍니다\\n따라서 직원분들 옆에서 쓰레기 봉투들고 버리는 물건이 없는지!! \\n보면서 쓰레기까지 포장이사해가지 않도록 합시다!!\\n신발 넣을 곳이 없다며 남는 종량제 봉투에 넣으셨네용\\n저는 15L짜리 종량제 봉투 4봉지에 \\n쓰레기, 안쓰는 물건, 고장난 우산, 더러워진 규조토 발매트 등등을 버렸습니다.\\n각자 집안사정에 맞춰서 넉넉히 준비하시면 될 것 같아요\\n남는 종량제 봉투는 전입신고하면서 동사무소에 가져가면 이사간 지역에 맞게 사용할 수 있도록 해준다고 하니 너무 걱정 하시지 마시구요\\n2. 바구니 혹은 작은 박스!! (큰박스 X)\\n아무리 편하게 포장이사를 진행한다고 해도 어느정도\\n물건의 범주화는 필요한 것 같습니다. \\n왜냐하면 마구잡이로 짐을 싸게 되면, 고생하는건 짐을 풀었을때의 저니깐요 ^^;\\n따라서 작은 바구니 박스에 물건의 범주를 나누어서 (화장품, 액세사리, 문구류, 잡동사니 등등) 보관하면 짐을 풀때 덜 수고스럽겠죠?\\n여러분들 짐은 싸는것보다 푸는게 두배 세배 어려운 일입니다 ㅠㅠ\\n따라서 짐을 쌀 때 어떻게 효과적으로 내가 정리해서 잘 넣을 수 있을까를 생각해야\\n짐을 풀때 덜 고생 하는 것 같습니다.\\n3. 속옷 및 귀중품은 따로 챙기기\\n저는 분실한 물건이 하나도 없었지만 그래도 도난 및 분실의 우려가 있으니\\n귀중품은 따로 챙기시는게 좋겠죠? 저는 백팩에 귀중품들은 전부 전날 넣어놓고\\n제가 가지고 움직였답니다. \\n4. 냉장고 (가능하면) 비우기\\n이동하는 동안 음식이 상하거나 혹은 포장이 터지는 경우가 있으니\\n이사 업체에서도 가능하면 음식물은 최소화 해달라 말씀하시더라구요\\n이사 가기 전 몇일동안은 냉장고 음식을 먹으면서 최소화 하는게 좋을 것 같아요.\\n사실 이 외에는 정말 준비할 게 하나도 없답니다.\\n물건을 담는 큰~ 박스는 다 이사 업체에서 준비해주세요\\n이렇게 이사가 편해도 되는건가?\\n직원분들이 다~ 해주시고 저는 저생각만 내내 했네요. \\n다시 원룸 이사 간다고 해도 포장이사 이용할 것 같습니다. \\n지금까지 내돈내산으로 KGB 포장이사 업체 이용한 후기 와 원룸 포장이사 꿀팁 이었습니다! 읽어주셔서 감사합니다~', \"러부랭의 맛집 10개의 글\\n목록열기\\n카스 레몬 vs KGB 레몬 비교 및 후기♡ 러부랭의 맛집  \\n2015. 5. 26. 23:11\\nhttps://blog.naver.com/lovenhlove/220371174030\\n\\n\\n\\n\\n\\n카스 레몬  VS   KGB 레몬\\n\\n비교 및 후기\\n\\n\\n\\n\\n\\n\\n\\n\\n밤이니까 , 짧고굵게 후기를 남기고\\n\\n전 후다닥 가겟어요..ㅎㅎㅎㅎㅎ\\n\\n\\n\\n\\n\\n\\n \\n\\n\\n\\n\\n\\n\\n\\n\\n카스 레몬\\n\\n천연레몬 과즙을 첨가! 햇다고 해서\\nkgb랑 비슷한 (단)맛인가? 햇다.ㅋㅋㅋ\\n\\n\\n\\n결론부터 말하자면 NO!\\n\\n\\n\\n카스 레몬은 이탈리아산 레몬과즙을 넣은\\n\\n말그대로 맥.주.다!\\n\\n도수는 3.9도\\n용량은 355ml\\n\\n\\n\\n\\n\\n\\n\\n\\n \\n\\n\\n\\n\\n\\n\\n\\nKGB 레몬\\n\\n\\n원산지 뉴질랜드\\n\\n\\n보드카와 물, 설탕, 탄산, 레몬'맛'을 넣은\\n\\nkgb 레몬 위드 보드카.\\n\\n\\n(요렇게 사실적으로 쓰니..ㅋㅋㅋ\\n왠지 먹기싫어지네 나 KGB좋아하는데ㅠㅋㅋ)\\n\\n\\n\\n\\n도수는 5도\\n용량은 375ml.\\n\\n\\n\\n\\n\\n\\n\\n \\n\\n\\n\\n\\n\\n첨가성분\\n\\n\\n카스 레몬은 '천연레몬 과즙'을 넣고\\n\\nKGB는 '레몬향'을 넣엇다는 점에서\\n\\n카스 레몬 승!\\n\\n\\n\\n\\n\\n\\n\\n맛\\n\\n카스레몬은 일반 맥주+조금의 레몬맛 이 나고\\n\\n\\nKGB 레몬은 보드카에 탄산과 구연산 등을\\n\\n넣어서 칵테일/음료수 같이 달달한맛이\\n\\n나서, 편하고 맛있게 먹을수 있다는 점에서\\n\\nKGB 레몬 승!\\n\\n\\n\\n\\n\\n가격\\n\\n마트에서 구매해서 잘생각은 안나는데,\\n\\n두배정도\\n\\n차이났던걸로 기억.ㅋㅋㅋ\\n\\n두배이상?ㅎㅎㅎ\\n\\n\\n\\n카스 레몬이 천 얼마 엿다면\\n\\n케이즤비가 삼천얼마였던듯ㅎㅎ\\n\\n\\n\\n20ml작은걸  감안해도..\\n\\n\\n카스 레몬 승!\\n\\n\\n\\n\\n\\n\\n\\n\\n\\n\\n카스 레몬은 맥주맛이므로\\n\\n맥주가 먹고싶은데 조금 색다른 맥주/\\n\\n혹은\\n\\n(레몬이 발 살짝담근)\\n\\n상큼한 맥주를 먹고싶다!\\n\\n하는 분들께  추천!\\n\\n\\n\\n\\n\\n\\nKGB 레몬은 정말~  편하게\\n\\n술마시는것같지않게 먹고싶다,\\n\\n(달달해서 그냥 음료수같음)\\n\\n칵테일 마시고싶다,\\n\\n할때 추천!\\n\\n\\n\\n\\n\\n\\n\\n\\n\\n\\n\\n\\n*이 포스팅은 지극히 -  주관적인 견해를\\n포함합니다*\\n#카스레몬\\n#kgb레몬\\n` 공감 24\\n댓글 33\\n블로그\\n카페\\nKeep\\n메모\\n보내기\\n\\n\\n\\n\\n\\n\\n인쇄\\n이 블로그 러부랭의 맛집 카테고리 글\\n전체글 보기\\n이전\\n다음\", \"평택댁 신나는 일상!! 136개의 글\\n목록열기\\n맛있는 맥주!! KGB와 TEMPT9!!! 평택댁 신나는 일상!!  \\n2014. 12. 30. 10:01\\nhttps://blog.naver.com/eune2005/220224405796\\n \\n\\n어제 사실 조금 울적한 일이 있었네요 ㅠㅠ\\n\\n결혼하고 나니까..\\n\\n결혼전에는 겪어보지 못했던\\n\\n겪을 필요가 없었던\\n\\n그런 일들을 겪게되기도 하는것같아요...\\n\\n(새댁3개월차 주제에...^^;;;)\\n\\n새로운 '월드'가 생기니까요...\\n\\n저는 시금치는 안먹을래요.......\\n\\n\\n\\n\\n\\n\\n하하하...\\n\\n어째뚠^^\\n\\n어제 마트에 갔더니 맥주가 6캔에 만원 하더라구요!!\\n\\n낱개로사면 3000원 가까이 되는 맥주들인데...\\n\\n그래서 맛있어보이는 맥주로 질러주었어요!!!!!!!\\n\\n\\n그런데 이거 정말 맛있는 맥주더라구요!!!!!>_<\\n\\n\\n\\n \\n일단 제가 고른 6캔 ㅋㅋㅋㅋㅋ\\n\\n그냥 캔 디자인만 보고 골랐어요 ㅋㅋㅋㅋ\\n\\n무조건 맛있어보이는 맥주로!!\\n\\n\\n \\nKGB는 소싯적에(?)\\n맛있는 맥주라는 사실을....알고있었죠!!!!!ㅋㅋㅋㅋㅋㅋㅋㅋㅋㅋㅋ\\n\\n맥주 잘 못먹는 저에겐\\n\\n맛있게 먹고 취할 수 있는 맥주^^\\n\\n\\n\\n \\nTEMPT9\\n템트9라고 불르더군요!!\\n\\n스트로베리랑 라임맛이라고 써있어서\\n냉큼냉큼 골랐어요!!!!\\n\\n딱 보니깐 맛있는 맥주 같더라구요 ㅋㅋㅋㅋ\\n\\n\\n\\n\\n\\n\\n\\n\\n \\n그리고 나머지 3캔의의 맥주들...\\n\\n요 맥주들은 아직 안먹어봐서...\\n\\n다음에 후기를 올리겠어요>_<\\n\\n제발 이것들도 맛있는 맥주이길!!!!!!!!!!!!!!!!!!!!!!!!!!!!!!\\n\\n\\n\\n\\n\\n\\n\\n\\n\\n\\n맥주술상을 차려봤어요!!!!ㅋㅋㅋㅋㅋㅋㅋㅋ\\n허접..ㅋㅋㅋㅋ\\n\\n \\n맥주에는 역시 닭다리라며!!!!\\n\\n그리고 신혼여행때 비행기에서 받아온 땅콩들도 풀고요 ㅋㅋㅋㅋㅋㅋ\\n\\n호텔에서 챙겨온 땅콩도 풀고요...ㅋㅋㅋㅋ\\n\\n\\n\\n\\n \\n먼저 신랑이랑 같이\\n\\nKGB를 먹었어요!!!\\n\\n역시....역시 KGB\\n\\n처음 먹어본 신랑은 이런 맛있는 맥주가 세상에 있었냐며 ㅋㅋㅋㅋㅋㅋㅋ\\n\\n맥주는 맛없는 음식이라는 편견을 버리게 되었대요 ㅋㅋㅋ\\n\\n여태 KGB도 안먹어보고 뭐했데유^^ㅋㅋㅋ\\n\\n\\n맥주인듯 맥주아닌 맥주같은 너....KGBㅋㅋㅋㅋ\\n\\n\\n\\n\\n\\n\\n \\n\\n\\n남편은 KGB 한캔에 뻗고......(얼굴이 고구마가 되었네요 )\\n\\n저는 TEMPT9 한캔더 ㅋㅋㅋㅋ\\n\\n\\n \\n헐....\\n\\n이 맥주 맛좀 보소!!!!!!!!!!!!!!\\n\\n딸기향이 너무 달달하고!!!!\\n\\n입에 머금으면  딸기향 가득이네요 ㅋㅋㅋㅋㅋㅋㅋㅋㅋㅋㅋ\\n\\n아놔\\n\\n맛있쪄>_<ㅋㅋㅋㅋㅋ\\n\\nTEMPT9 요거 물건이네요!!!\\n\\n맛있는 맥주로 잘 찾은것같아 다행이예요>_<\\n\\n\\n\\n \\n\\n취하고는 싶으나\\n\\n입이 쓰긴 싫은\\n\\n저같은 어린이에겐 딱인것같아요^^ㅋㅋㅋㅋㅋ\\n\\n\\n \\nTEMPT9\\n\\n재구매의사 99%요 ㅋㅋㅋ\\n\\n제가 너무 신세계여서 오버하나봐용!!ㅋㅋㅋ\\n\\n잇님들~~\\n\\nKGB나 TEMPT9같은 맛있는 맥주 또 있으면\\n\\n알려주세용>_<\\n\\n또 먹고시퍼용!!!!!!!!!!!!!^^\\n\\n\\n\\n\\n\\n그렇게 두번째 캔까지 다 비우고나서\\n\\n뻗어버렸다는.....\\n\\n\\nㅋㅋㅋㅋㅋㅋㅋㅋㅋㅋㅋㅋㅋㅋ\\n\\n우리부부 술 너무 약한것같아요 ㅠㅠㅋㅋㅋㅋ\\n\\n그래도 맛있는 맥주로 맛있게 취할 수 있어서\\n\\n스트레스 조금은 풀렸네요 ㅠㅠ\\n\\n\\n\\n\\n\\n\\n\\n\\n잇님들!!!>_<\\n\\n스트레스는 그때그때 풀며 살아요 우리 ㅠㅠㅠㅠㅠ\\n\\n\\n스트레스 없는\\n맑은 하루 되세용!!!!!!\\n\\n` 공감 27\\n댓글 35\\n블로그\\n카페\\nKeep\\n메모\\n보내기\\n\\n\\n\\n\\n\\n\\n인쇄\\n이 블로그 평택댁 신나는 일상!! 카테고리 글\\n전체글 보기\\n(33)\\n제자가 만들어준 키세스 트리!!!!!!\\n2014. 12. 31.\\n(10)\\n뒤늦은 크리스마스 케익! 파리바케트 케익^^\\n2014. 12. 31.\\n(35)\\n맛있는 맥주!! KGB와 TEMPT9!!!\\n2014. 12. 30.\\n(30)\\n울 쌤이 만들어주신 루피망고모자!!!>_<\\n2014. 12. 29.\\n(41)\\n와인 입문! 아이스와인! 르프롱드브라케토다뀌!!\\n2014. 12. 26.\\n이전\\n다음\", '2013 인토아리 53개의 글\\n목록열기\\n이줭의 세계 맥주 맛보기 #3. [KGB VODKA] 2013 인토아리 / 열정의 기록  \\n2013. 7. 21. 16:30\\nhttps://blog.naver.com/1992juo/90177515579\\n    다양한 과일과 알콜의 달콤한 조화\\nKGB VODKA\\n            \\ufeff이번에 제가 맛본 세계맥주는\\n  알콜 팝 종류를 좋아하는 분들이라면,\\n당연히 알고 계실\\n  KGB VODKA 입니다!\\n    어쩌다보니 지금까지 포스팅한 세계맥주 후기들이\\n다 알콜 팝 종류네요^ㅠ^...\\n    제가 하도 알콜 팝을 즐겨 먹다보니 ㅎㅎㅎ\\n            제품명 : KGB 보드카 레몬맛 (KGB VODKA with Lemon)\\n  원산지 : 뉴질랜드\\n  알콜 : 5%\\n  용량 : 330ml(병)\\n    알콜 팝 종류의 맥주들도\\n도수가 꽤나 있답니다\\n  KGB도 5%나 되니까요 :>\\n  잘 알고 드셔야해요~!!!\\n      제가 맛본건 레몬 맛인데요,\\n레몬 맛 말고도 종류가 굉장히 많아요!\\n        그 중 대표적인 3가지 맛\\n  자몽 / 레몬 / 크랜베리\\n  전 레몬이 제일 좋아요\\n              평점 : ★★★☆\\n  총평 :  과일의 달달한 맛과 약간의 알콜맛이 느껴져서\\n좋아하는 KGB !\\n맛있어서 좋아요..\\n저는 맛이 최우선이기 때문에^.^\\n                #KGB\\n#보드카\\n#알콜팝\\n#RTD\\n#인토\\n#와바\\n#맥주바켓\\n#인토아리\\n#세계맥주\\n#맛집\\n댓글 쓰기\\n블로그\\n카페\\nKeep\\n메모\\n보내기\\n\\n\\n\\n\\n\\n\\n인쇄\\n이 블로그 2013 인토아리 카테고리 글\\n전체글 보기\\nWabar 페이스북 놀러오세요!\\n2013. 7. 19.\\n1\\n이전\\n다음', \"안녕하세요 또쪽입니당 ㅎㅎ\\n저는 !!! 맥주를 별로 안 좋아해요 (?뜬끔없?)\\n사실 술을 잘 안 먹긴 하는데\\n그래도 굳이 먹는다면 소주를 먹는,,,\\n낮부터 술 얘기 재밌다\\n하지만 제 주변엔\\n맥주파들이 넘쳐납니다 ~!\\n그래서 한 번 친해져 보려고\\n최근에 맥주를 좀 먹었는데요 ?!\\n블로거는 맥주도 그냥 먹지 않져 ~\\n바로 포스팅거리로 만들기 ㅋ.ㅋ\\n옛날에 핫 했지만\\n드디어 먹어본 곰표 맥주 & 말표 청포도 맥주\\n그리고 편의점에서 뜬끔없이\\n존재감을 뽐내길래 먹어본\\n불닭 맥주 !\\n요 3가지 간단하게 리뷰해볼게여\\n주관적인 입맛이니\\n재미로 봐주십사,,,ㅎㅎ 😋😋\\n사이 좋은 맥주들\\n먼저 곰표 맥주와 말표 청포도 맥주입니당 ㅎㅎ\\n원래 맥쭈는 밖에서 먹어야 제맛 아니겠어요!?!\\n라고 맥주 싫어하는 사람이 말한다\\n이때 안주는 엽떡 크림떡볶이와\\n닭발이었습니다 후후\\n사진이 친구한테 있어요 ㅠ\\n벌써 취해버린 초점인가\\n저는 곰표 맥주를 먹었어요 !!\\n그리고 친구 말표 맥주를 훔쳐 먹었답니당\\n곰표 & 말표 맥주\\n썸넬 뽑겠다고 열심히 찍어준 나의 뿌렝드\\n아주 착해 !\\n먼저\\n곰표 맥주 주관적인 맛 리뷰는!??!\\n- 일반 보리로 만든 맥주가 아니라\\n밀로 만든 맥주라서 그런지\\n특유의 맥주 역한맛? 이 좀 덜했다\\n- 목넘김이 일반 맥주보다 부드러운 느낌 !\\n- 기분탓일지 모르겠지만 다른 맥주보다 좀 더 달았다 !!\\n말표 청포도 맥주 리뷰는~?\\n- 전형적인 과일 맥주 맛 ! \\n왜냐면 청포도 맛이거든요 ㅎㅋㅋㅎ\\n- 내가 청포도를 좋아해서 그런지 모르지만\\n곰표보다 맛있따 ㅎㅅㅎ\\n- 이슬톡톡, kgb, 타이거 자몽 등등\\n과일 맥주처럼 맥주 역한 맛 1도 안난다 \\n= 음료수라는 뜻\\n불닭 맥주\\n그 다음 충격적인 이름의 불닭맥주\\n편의점에 다 칙칙한 색깔의 맥주만 있는데\\n이거 혼자 반짝반짝 오렌지색이었음여\\n망고 에일이라는데\\n그럼 좀 맛있지 않을까,,?!? 하고\\n그냥 대충 사왔슴니당 ㅎ\\n더쎄를라잇브루잉 이라는 수제 맥주 기업이랑\\n삼양이랑 콜라보를 했나바요\\n일단 관심 끌기는 성공한 듯\\n너무 팩폭인가염 '-'\\n불닭맥주는 불닭맛이 아니라 \\n불닭볶음면이랑 궁합이 좋다고 하네용\\n저는 첨에 불닭맛!?!?!?! 이러고 자세히 봤는데\\n뭔가 아쉽다 (?)\\n불닭맛 맥주 개발해주실 분 없나용\\n뜬끔없는 곰표 맥주 사진\\n이 날 낸또미씨랑 같이 맥주 먹었는데\\n역시 끼리끼리(?)라고\\n낸또미도 곰표 안 먹어 봤다면서 ㅋㅎㅎㅋ\\n먹었는데,, 큼흠흠\\n우린 친해질 수 없겠어 곰표야 안녕 ,,\\n맥주랑 먹을 안주는 !!!!\\n신세계에서 사 온 꼬치 4개 만원,, 마넌,,,,\\n실화임니까 ㅎㅅㅎ\\n뭐 맛은 있었어요 ~~~~~~! 🍡🍡🍡\\n불닭 맥주는 졸업페스티벌 때\\n선물 받은 맥주컵에 따라 먹었어용 ㅎㅎ\\n모자이크는 나의 이름 ^,^\\n불닭 맥주 후기는,,?\\n- 에일 맥주라 그런지 라거 맥주보다\\n훨씬 찐한 맛\\n- 망고 에일이라면서,,,,\\n망고 향 잠깐 나고 그냥 맥주 맛이다 ㅜ ㅡ ㅜ\\n- 오히려 일반 맥주보다 훨씬 쓰다 !\\n이게 머선일이고,,\\n에일이 원래 그런건가요???\\n맥알못 웁니다  ´。＿。｀\\n제가 불닭볶음면이랑\\n먹어봤어야 하는걸까여,,\\n다른 안주랑 먹어서 맛이 이런건지?!?!?\\n흑 모르겠습니당\\n이렇게,,\\n맥주랑 친해지고 싶었던 저는\\n더더욱 멀어진 모습 '_'\\n맥알못의 내돈내산 주관적 리뷰니까\\n너무 맹신은 하지 마세용 호호\\n맥주 잘 아시는 분들은\\n맛있을수도 있겠져?!?!\\n딱 요약해서 말씀 드리자면\\n다시 사 먹을까,,?!?!?\\n✔ 곰표 맥주 - ❌ \\n✔ 말표 맥주 - ⭕\\n✔ 불닭 맥주 -❌❌\\n=> 깔꼼하게 요약 완-료\\n오늘도 포스팅 끝까지 읽어주셔서 감사해용\\n다음 일상으로 만납시다 💚💙💜\", '후기 370개의 글\\n목록열기\\n후기:) KGB 써머스비 다다 크루저 마가리타 슬래머 모조펀치 후기  \\n2015. 8. 20. 9:50\\nhttps://blog.naver.com/llblessingll/220452260867\\n뭔가 식이조절을 할때면 처음엔 뭔가 닥치는대로 먹고싶다가\\n그것이 잘지켜지면 점점 그 꿈이 작아진다.\\n요즘은 퇴근과 동시에 그냥 맥주\\n라이딩후에도 맥주\\n그냥 뭐 맥주가 마시고 싶다고\\n포스팅하면서 상상으로 마셔야할 판\\n\\n\\n\\n\\n \\n여름 휴가때 모래사장에 누워 KGB\\n\\n\\n\\n\\n\\n\\n\\n \\n축구장 가서도 KGB\\n\\n\\n\\n\\n\\n\\n\\n \\n대낮에 다이닝센가서 크루저 리타\\n역시 술은 낮술이지 \\n\\n\\n\\n\\n\\n\\n \\n역시나 대낮에 마트갔다가 이쁜 술이 있어서\\n모조펀치 ㅋㅋㅋㅋㅋㅋㅋㅋㅋㅋㅋㅋㅋㅋ\\n엄마 기다리다가 물인척 마셨지\\n임뽕언니를 모조펀치의 세계로 안내했는데 이젠 안나오는듯?\\n술맛이 조금 세다~\\n\\n\\n\\n\\n집에가다가 술안마시는 친구가 뜬금없이 KGB마시자고 해서 집에가면서 또 길맥\\n역시나 한캔은 입버린다. \\n \\n\\n\\n\\n\\n\\n \\n축구장에서도 모조펀치 \\n\\n\\n\\n\\n\\n\\n \\n내가 참 좋아하는 아이들\\n크루저랑 마가리타 데낄라슬래머\\n케지비 초록은 머선맛인지 기억이 안난다.\\n레몬 말곤 병색깔이 맘에 안들어서 안마셨었는데 ㅋㅋㅋ\\n다른것도 다 맛있어\\n\\n\\n\\n\\n\\n\\n\\n저렴하게 팔길래 구입해서 먹었다가 내가 완전 좋아하는맛\\n써머스비 애플사이다\\n지금도 집에 세캔 재워났는데 못마시는중\\n\\n\\n\\n\\n\\n\\n \\n1년전 가을 GS25 편의점 침략\\n내가 편의점의 세계로 모두들 인도했다.\\n클라우드 밀러 케지비\\n\\n\\n\\n\\n\\n\\n\\n셋이서 열다섯\\n안주까지 10만원 넘게..........................................\\n\\n\\n\\n\\n\\n \\n집에가다가 또 길맥\\n\\n\\n\\n\\n\\n\\n \\n또 집에가다가 길맥\\n이 날 한번낀 내 장갑은 사라졌지\\n\\n\\n\\n\\n\\n\\n \\n스파클링 와인 다다\\n다다도 맛있다\\n남자들이 싫어하는 맛의 음료수라는 맛의 맥주는 내가 다 좋아하는듯\\n언니는 쓴맛나는 맥주를 좋아하고ㅎ \\n\\n\\n\\n\\n\\n \\n9개월만의 편의점\\n\\n\\n\\n\\n\\n\\n\\n둘의서 12캔\\n내 정신도 안드로메다로\\n\\n\\n\\n\\n\\n맥주가 마시고 싶다.\\n기분좋게 딱 네캔만\\n\\n\\n\\n\\n\\n\\n\\n\\n써머스비애플사이다 스파클링와인다다 크루저 마가리타 슬래머 모조펀치 클라우드 밀러 하이네켄 버드와이저\\n\\n\\n\\n#써머스비\\n#스파클링와인다다\\n#크루저\\n#마가리타\\n#슬래머\\n#모조펀치\\n#클라우드\\n#밀러\\n#하이네켄\\n#버드와이저\\n` 공감 8\\n댓글 17\\n블로그\\n카페\\nKeep\\n메모\\n보내기\\n\\n\\n\\n\\n\\n\\n인쇄\\n이 블로그 후기 카테고리 글\\n전체글 보기\\n이전\\n다음', '일상의 생활 38개의 글\\n목록열기\\n처음 마셔 본 수입프랑스 맥주,1664 블랑맥주, 후기 일상의 생활  \\n2017. 2. 25. 10:11\\nhttps://blog.naver.com/yguchi/220944248313\\n안녕하세요~ 요새 미세먼지도 없고 하늘도 푸르고 맑아 참 산책 하기 좋은 날씨입니다.\\n요즘 대형마트 수입맥주 코너에  30~40대 남자,여자 분들 참 많죠.ㅎㅎ 저도 며칠 전 에델바이스 맥주를  사러 갔습니다. 오스트리아 맥주 라고 일전에 포스팅 드린 바로 그 맥주~\\nhttp://blog.naver.com/yguchi/220941544237\\n수입 맥주, 오스트리아 괴서, 에델바이스 맥주 맛과 향.\\n안녕하세요~오늘은 제가 즐겨 마시는 수입 맥주 중 오스트리아 맥주에 대해 간단히 써보려 합니다.저는 원...\\nblog.naver.com\\n매일 이거만 마시니 좀 지겹네? 싶은 찰나...\\n응? 바로 옆에 프랑스 맥주가 있네요.  한번 먹어볼까? 해서 고른 1664 블랑입니다.\\n\\n\\n맥주라 하면 독일,미국,벨기에,아일랜드,네덜란드.등등 대표적인 나라들이 있는데 프랑스는 좀 새롭네요. 역시 프랑스는 와인의 나라라는 인식이..\\n맛은 딱 여자 분들이 좋아하는 맛 입니다. 과일향( 무슨 향인지 와이프와 한참 얘기했는데 검색해보니 꿀향이라는 설이 파다)이 목넘김 전에 한번 입안에 진동합니다. 쓴맛도 거의 없어 호가든이나  KGB 류의 가향에 중점을 둔 맥주라 보이네요.\\n\\n\\n쓴 맥주의 홉 냄새가 부담스러운 여성 분들에게 추천 드립니다.\\n주말 잘 보내세요~~\\n\\n#수입맥주\\n#수입맥주추천\\n#1664블랑\\n#프랑스맥주\\n#프랑스밀맥주\\n#수입맥주후기\\n` 공감 20\\n댓글 1\\n블로그\\n카페\\nKeep\\n메모\\n보내기\\n\\n\\n\\n\\n\\n\\n인쇄\\n이 블로그 일상의 생활 카테고리 글\\n전체글 보기\\n(2)\\n2/26일 신서유기3, 빵 터진 송민호 임플란트 드립\\n2017. 2. 27.\\n세종시 호수공원에서의 조깅,일상,야경\\n2017. 2. 26.\\n(1)\\n처음 마셔 본 수입프랑스 맥주,1664 블랑맥주, 후기\\n2017. 2. 25.\\n수입 맥주, 오스트리아 괴서, 에델바이스 맥주 맛과 향.\\n2017. 2. 22.\\n요즘 푹 빠진 시카고 미드 시리즈~~ㅎㅎ\\n2017. 2. 17.\\n이전\\n다음', \"여러분들 맥주 좋아하시나요?\\n저는 맥크나이트여서 맥주 없으면 못 살아요 증말,,\\n매일 밤 좋아하는 유튜브 보면서 맥주 한 잔 마시는 낙에 살아요 🍺\\n꿈도 집에 생맥주 기계 하나 놓는거랍니다 ㅋㅋㅋㅋㅋㅋㅋㅋㅋ\\n제가 어제 이마트에 갔는데 충격적인 광경을 목격해버렸어요\\n초록색 맥주가 가득 있길래 갔더니 필라이트도 하이네켄도 아닌 글쎄 \\n'칠성사이다 맥주'\\n맥크나이트로서 이런거 절대 그냥 넘어갈 수가 없더라구요\\n6개씩 번들로도 팔던데 그건 좀 겁나서\\n그냥 하나만 쏠랑쏠랑 사왔어요 ㅋㅋㅋㅋㅋㅋㅋ\\n클라우드랑 맥주 글자만 빼고 보면 그냥 사이다랑 헷갈리겠어요 아주\\n사실 뭐 함량이 뭐고 어디서 만들었고,,\\n이런거 하나도 안 중요하고 궁금하지도 않잖아요 그쵸?\\n중요한건 도수랑 mL 뿐.\\n보시다시피 500mL에 3.2도네요\\n기존 클라우드가 4.5도니까 많이 약하게 출시했더라고요\\n따랐을때는 사이다의 탄산까지 더 넣었는지 거품도 기존 클라우드보다 많이 나오는 것 같았아요\\n이거 따르면서 처음에 노란색일까 투명색일까 기대했었는데\\n생각해보니까 그래도 맥준데 투명색을 기대한 제가 바보였죠ㅋㅋㅋㅋㅋㅋ\\n찾아보니까 이게 이번에 새로 나온게 아니라\\n나온지 꽤 됐더라구요....?\\n또 나만 몰랐지 나만\\n와중에 저 마이크 든 친구 괜히 혼내주고 싶게 생겼네요ㅋㅋ\\n칠성사이다 맥주 후기\\n지극히 개인적\\n아무튼 설렘반 기대반 심정으로 한 입 먹어봤는데요\\n마시기 전에 향부터가 사이다 향이 확 나더라구요\\n진짜 눈 가리고 향으로만 사이다랑 구별하라하면\\n못 할 정도로요\\n달달한 첫인상처럼 목으로 넘어가는 맛도\\n맥주보다는 오히려 사이다에 가까운? 느낌이였어요\\n물론 그냥 사이다보다는 맥주맛이 나지만\\n맥주와 사이다 사이에서 사이다에 두발짝 정도 더 가까운??\\n목으로 넘어가는 느낌도 솔직히 사이다,,,,,,\\n맥크나이트인 저에게는 조금 아쉬웠어요 :(\\n그래도 KGB나 호가든 좋아하시는 분들한테는\\n완전 강추드리고 싶네요 !\\n사이다 먹고 나면 입술이랑 입 안이 끈적거리는거 공감가시는분 있을까요\\n제가 사이다 특유의 그 끈적함을 되게 싫어해서\\n저는 앞으로 사이다 먹을바엔 이거나 먹으려구요\\n애초에 블로그에 올리려고 사온게 아니라 사진도 없고 뭣도 없지만\\n그냥 시험기간에 글이라도 끄적이고 싶어서 후다닥 올려요 😉\\n알고보니까 쥬시후레쉬 맥주도 롯데에서 콜라보한 맥주더라고요?\\n그건 뭔가 맛있게 먹었던 것 같은데....\", \"(65)\\n공지 맘키즈 4번째올랐지만 기쁨이 덜했던 뒷이야기\\n2018. 7. 16.\\n(57)\\n공지 3번째 맘키즈 등장 ♥♥ + 이벤트 ♡♡\\n2018. 4. 13.\\n(59)\\n공지 200일을 축하해 ♥) 이벤트 참여하세요 ♥ (3.15~3.21일주일간!)\\n2018. 3. 15.\\n(54)\\n공지 2번째 맘키즈 입성했어요 ♬ + 베푸는게 최고 선물쏩니다 뚜룹뚜룹\\n2018. 3. 2.\\n(71)\\n공지 1번째) 네이버 맘키즈에 입성했어요#+ 깜짝이벤트참여하세요 ❛ε ❛♪))\\n2018. 1. 21.\\n일상속이야기 214개의 글\\n목록열기\\n세계맥주과실편) KGB+TEMPT7+SOMERSBY~ 일상속이야기  \\n2015. 3. 18. 14:57\\nhttps://blog.naver.com/na41238/220303742200\\n \\n오늘은 세계맥주편임\\n20대초반에는 와인에 미쳐있어서 와인와인~ 노래를 부르다가\\n20대중반인 지금은 보드카의 세계에 심취해 있는 27살의 꽃띠 구구\\n그러다 갑자기 세계맥주? 함 달려보까\\n라는 생각이들어서 세계탐방\\n세계는 크고 맥주도 많았어요 ㅋㅋ\\n오늘 소개할 맥주들은 과실주같은 맥주 !\\n\\n\\n\\n \\n이미 너무 유명하죠?\\n음료라고 생각하시는 분들도 많은 KGB\\n모든분들이 알거라 생각되서 설명은 PASS\\n\\n\\n\\n\\n TEMPT 7\\n템트는 9과 7가 있어요 정말 생소한 맥주지만 캔이 너무 예쁘고\\n향기로울것같아서 사봄 ㅋㅋㅋ 두개를 다사기엔...먼가....색다른시도라 무서워서 7만 업어왔어요\\n덴마크 알콜로 4.5%의 과실주\\n한입먹어보니 꽃향기가 난다! 그리고 배맛도나고 사과맛도 나다 탄산으로 끝나는맛?\\n엇??????????이거머지????????? 정말 캔디자인같은 맛이 나서 깜짝놀랐는데\\n자꾸 홀짝이다보니..맛이 너무 강했어요\\n자칫하면 화장품맛도 슬쩍나는듯하고.향수느낌도 날듯하고..\\n맥주에서 ㅋㅋㅋㅋㅋㅋㅋㅋㅋㅋㅋ\\n음..다음엔...안살듯해요\\n맛이 없는건 아닌데 먹을 수록 맛이 너무 강해서 ....\\n그래 강해.. 맛이...ㅋㅋㅋ\\n\\n\\n\\n\\n \\n\\nSOMERSBY (애플사이다)\\n이름에 나오듯이 사과맛 맥주에요 후기가 너무 좋아서 2캔이나 샀는데\\n만족만족 상큼하면서 사과에이드같은 느낌의 맥주!\\n사과를 발효해서 제조한 과실주인데용 향료가 들어가지 않았는데도 향이 그득그득~\\n맛있다고 홀짝홀짝마시면 취하는 4.5% 알콜 함량의 맛있는 과실맥주\\n섬머스비잔에 얼음을 타서 먹으면 맛이 더 살아난다는데\\n잔을 사야하나 ㅋㅋㅋㅋㅋㅋㅋ\\n맥주는 병이 더 맛있다는데 섬머스비도 병으로도 팜.\\n 이날 행사가 캔이라서 캔들 사모았는데요\\n캔도 맛있더라 난 이아이가 1위 -!\\n술못하는 친구들도 좋아할 맛이에요\\n단독으로 마셔도 맛있지만 칵테일로도 유명하다죵\\n소주와 섞어도 맛있다는뎅 좀 많이 강해지겠죵?\\n\\n\\n\\n\\n\\n\\n\\n\\n사실 어제 달려서\\n지금 숙취중....\\n끄릉끄릉.......ㅠ.ㅠ\\n\\n\\n김치찌개로 해장했지만\\n머리가 살아나지 않는 기분이에요\\n멍..'S\\n\\n#일상·생각\\n#상품리뷰.세계맥주정복의꿈.\\n` 공감 14\\n블로그\\n카페\\nKeep\\n메모\\n보내기\\n\\n\\n\\n\\n\\n\\n인쇄\\n이 블로그 일상속이야기 카테고리 글\\n전체글 보기\\n이전\\n다음\", \"마트에서 발견한 신상 맥주\\n'순하리 레몬진'\\n보리 맥주보다도 kgb같은 맥주 아니면 \\n달달한 술만을 좋아해서.. \\n왠지 맛있을 거 같아서 홀린 듯 구매해봤다!\\n가격은 마트 기준 1500원 정도이고\\n편의점에서는 보통 1800원 정도로 판매중인 것 같다\\n순하리 레몬진은 도수별로 나눠져서\\n2가지 종류가 있다\\n하나는 4.5도, 나머지는 7도짜리다\\n4.5도와 7도 중에 뭘 사갈지 고민하다가\\n각 하나씩 2캔 사왔다!\\n근데 355ml짜리인데 7도면은 \\n맥주치고는 높은 도수인 것 같다\\n과연 맛은 어떨지.. (୨୧ ❛ᴗ❛)✧\\n인증샷 남기고 얼음컵에 따라봤다\\n별다른 색은 없고 투명한 색의 순하리 레몬진.\\n이거... 이거.. 맛있다..\\n완전 내 취향이다.. 쓴 맛 거의 안나고\\n살짝 신맛에 달콤한 맛이 나는 게\\n술 맛 싫어하는 사람들한테 딱일 듯 하다!\\n남은 레몬진 7도는 다른 컵에 담아 마셔봤다\\n찾아보니까 저런 컵도 우리 집에 있더라..ㅋㅋㅋ\\n순하리 레몬진 7도는 확실히 4.5도보다는\\n술 맛이 더 난다! \\n그럼에도 여전히 새콤 달콤한 맛을 내가지고\\n7도짜리 술 치고는 마시는 데에 거부감이 없다\\n그리고 레몬 맛이어서 그런가\\n상큼해가지고 너무 좋았다\\n순하리 레몬진 4.5도, 7도 솔직후기\\n우선 굉장히 내 취향저격한 맥주였다\\n앞으로 웬만해서 술은 레몬진만 사먹을 것 같다\\n✧*｡٩(ˊᗜˋ*)و✧*｡\\n본인이 kgb 맥주 맛을 좋아하고,\\n평상시에 토닉 들어간 술을 좋아한다면\\n분명 좋아할만한 맛이다!\\n1500원으로 가성비도 좋고\\n무작정 달달한 맛이 아니라\\n상큼한 맛이 더 강한 맥주여서 좋았다\\n탄산수 타 먹어도 좋을 것 같은 맛.. 살짝 맛이\\n진하게 느껴질 수도 있다.\\n참고로 생각보다 살짝 숙취가 있는 편이다\\n아무래도 과실주라 그런가..? \\n만취할 때까지 먹으면 아마 다음날 숙취 장난 아닐 듯 싶다\\n보리맥주 맥주가 아닌\\n맛있는 맥주를 찾는 사람들에게\\n추천한다 ✧٩(•́⌄•́๑)و ✧\", \"트롤브루 레몬 자몽 맥주 후기! \\n저는 원래 술을 잘 안 마시는데 \\n요즘 힘들다 보니 탈출구로 \\n찾게 되는 게 술인 것 같아요 \\n혼술도 이해가 안 갔는데 \\n잊기 위해 마실 수 있겠다 싶더군요 \\n저는 평소에 맥주를 잘 안 마셔서 \\n예뻐 보이거나 아니면 평소에 \\n이야기 많이 들은 걸 골라 마셔요 \\n그러다가 오늘은 신상인 것 같은 \\n트롤브루 레몬 자몽 각각 한 캔씩 \\n한 번 먹어보게 되었어요 \\n4캔 기준 만 원이었어요 \\n뭔가 디자인이 제 스타일이었음 \\n레몬이랑 자몽 맛이었는데 \\n솔직히 자몽은 먹기 싫었음 \\n하지만 뭔가 피로 회복에도 좋고 \\n혹여나 맛있을 수 있으니 한 번 \\n도전해보기로 했어요 \\n따로 낱개로 구매할 시에는 \\n1캔당 3,700원인데 \\n편의점에서는 4캔 구매로 \\n각각 2,500원에 구매해야 함! \\n'진짜 맛있는' 과일 맥주라는 말에 \\n한 번 먹어보기로 결심했음! \\n500ml라서 은근 양이 많았지만 \\n가장 먼저 먹어본 건 레몬맛이었어요 \\nTROLLBREW LEMON \\n알코올 함량을 보면 그렇게 \\n센 술은 아니었기도 했고! \\n그냥 퇴근 후 기분 좋게 한 잔 \\n하기 좋은 그런 가벼운 술이었어요 \\n트롤브루 레몬의 스펙은 이러합니다 \\n먹어보면 어디서 많이 맛본 듯한 \\n그런 익숙함이 입안을 채우는데요 \\n생각해 보니 예전에 락 볼링장에서 \\n자주 마셨던 KGB와 비슷하더군요 \\n저는 달달하면서도 맛있는 술을 \\n좋아해서 개인적으로는 호였음!\\n딱히 안주 없이도 마실 수 있는 \\n되게 달달한 계열의 맥주가 아닐까 싶어요 \\n무겁거나 쓴맛이 느껴지지 않아 \\n저처럼 술찌랭이도 부담 없이 마실 수 \\n있는 여자들이 좋아할 만한 맥주! \\n하지만 프로 혼술러인 제 친구는 \\n마셔보더니 음료수라고 하더군요 \\n뭔가 예전의 이슬톡톡이날 브라더 \\n어쩌고 소다맛 나는 것과 비슷하다며 \\n다음은 트롤브루 자몽 맥주 후기! \\n저는 개인적으로는 TROLL BREW \\n이 맛은 조금 쏘쏘했어요 \\n자몽 특유의 쓴맛이 강하게 느껴져서.. \\n단 걸 좋아하는 어른이 입맛 \\n과일 맛이 안 느껴진 건 아니었는데 \\n달달한 맛보다는 쓴맛이 좀 느껴졌음\\n인생 맥주를 찾나 싶었는데 \\n맛보았을 때에는 조금 아쉬움이 \\n남았던 너란 술 하지만 나쁘진 않았다! \\n살짝 자몽에 되게 잘 안 익은 \\n오렌지 섞은듯한 그런 맛이 났음 \\n가끔 인생이 힘들거나 현타 올 때 \\n이열치열이라고 나보다 더 신맛을 \\n보고 잊고 싶을 때 간혹 한 번 마실 듯 \\n둘 다 그래도 나쁘지 않았어요 \\n다른 편의점에서는 보이지 않아 \\n한 번 집어먹어본 건데 KGB는 \\n세일을 잘 안 해서 대체품으로 \\n은근 자주 먹을 것 같은 \\n트롤브루 레몬 자몽은 조금 \\n고민하겠지만 lemon은 은근 \\n자주 먹을 것 같아요 괜찮았음!\\n엑스레이티드 먹는 법 :: 비율 술 맞아?\\n금주를 했으나 친구의 권유로 집에서 간간이 맛있는 술을 마시고 있는 어른이입니다 오늘은 존맛이라는 엑...\\nblog.naver.com\\n소주 토닉워터 비율 :: 조합 이게 꿀임\\n일전에는 쏘맥 마는 법에 대해서 잠깐 글을 썼었는데요 ㅎㅎ 이번에는 소주와 토닉워터 비율! 요즘은 건강 ...\\nblog.naver.com\\n밤바다나 산책하면서 마시면 \\n더 좋은 그런 음료(?)였음 \", \"순수 정보 ★ 33개의 글\\n목록열기\\n순수 정보 ★\\n수입맥주종류 추천 :: 상큼한 맛의 KGB♡\\n즐겨라 ・ 2017. 11. 13. 11:40\\nURL 복사 이웃추가\\n안녕하세요 여러분^-^\\n행복한 주말 시간 보내셨나요~?\\n오늘은 지난 번 수입맥주종류 추천 시간에 이어\\n새로운 수입맥주종류의 후기를 들려 드릴게요♡\\n제가 이번에 맛 본 수입맥주종류는 바로\\n상큼한 레몬맛과 보드카의 만남!\\nKGB 랍니당!ㅎㅎ\\n사실 KGB는 엄격히 말해서 맥주는 아니지만\\n항상 수입맥주종류 할인행사할 때\\n빠지지 않는 제품이기 때문에 넣어 봤어요ㅎㅎ\\n저는 보드카를 잘 마시는 편은 아니지만\\n수입맥주종류 중에서 제일 과일향이 많이 나기도 하고\\n알콜 함량도 5%정도 밖에 되지 않기 때문에\\nKGB 정도는 즐겨 마시는 편이랍니당!ㅎㅎ\\n가볍게 한 잔~ 하고 자면 기분이 좋아지는 수입맥주종류들!\\n여러분이 가장 좋아하시는 수입맥주종류는 어떤 것인지\\n넘넘 궁금해지네용~ㅎㅎㅎ\\n\\n그럼 모두 활기찬 월요일 시작하시길 바래요~!\\n#수입맥주종류\\n` 공감 1\\n댓글 쓰기\\n블로그\\n카페\\nKeep\\n메모\\n보내기\\n\\n\\n\\n\\n\\n\\n인쇄\\n이 블로그 순수 정보 ★ 카테고리 글\\n전체글 보기\\n수입맥주종류 추천 :: 상큼한 맛의 블루문맥주\\n2017. 11. 27.\\n군산돌잔치는 군산맛집 '더 파티스타'에서~\\n2017. 11. 15.\\n수입맥주종류 추천 :: 상큼한 맛의 KGB♡\\n2017. 11. 13.\\n수입맥주종류 추천 :: 깔끔한 맛의 스텔라아르투아\\n2017. 11. 8.\\n속초닭강정 맛집! 만석닭강정!\\n2017. 10. 27.\\n이전\\n다음\", '◆\\n거하게 취하고 싶지만 나는 알쓰\\n논알콜맥주\\n알\\n쓰로 태어나 알쓰로 가게 생긴 미밈이에요. 어릴때는 술자리는 꽤 좋아하는 편이었지만 요즘은 시국이 시국인지라 모임도 없어서 가끔 집에 친구들이 몇몇 놀러와서 수다 떨다가 가는 정도인데, 그때마다 맥주를 사와서 먹는 친구들이 부러워지기 시작했어요. 그리하여! 저도 무알콜맥주에 도전해보기로 했습니다. 사실 알쓰인건 알지만 무알맥을 사먹는 건 자존심이 허락하지 않아서 지키고 싶었는데 이렇게 실패를 해버리네요ㅋㅋ\\n미미노샵에서 주문했어요.\\n제가 무알콜맥주를 처음 먹어본건 아니고,\\n나온지 얼마 안 된 완전 초기에 먹어봤었는데\\n진짜 너~~무 심각하게 맛이 없어서\\n그 다음부터 다신 입에도 대지 않았어요.\\n아이를 준비하는 친구들이\\n요즘 나오는건 맛있어~\\n라고 하길래 솔깃해서 편의점에 가봤는데\\n종류도 별로 없고, 딱히 내키지 않길래\\n인터넷으로 주문해서 맛보기로 했어요.\\n저는 무알콜맥주가 무조건 0도인 줄 알았는데\\n0.5도 미만? 이면 무알맥으로 칭한다더라구요.\\n그래서 임신한 분들도 잘 찾아봐야 하는데,\\n저는 일단 도전 단계라 많이 주문 안했지만\\n상세설명 보면서 하나하나 주문해봤으니까\\n포스팅 보고 완전 0도인 제품이랑\\n맛있게 먹을 수 있는 제품 보고가심 됩니다.\\n퇴근 후 마시는 맥주 한 잔은\\n직장인의 필수 피로회복제🍺\\n알쓰가 뭘 안다고..🤔\\n알콜 도수 총정리\\n※ 제가 주문한거 기준이에용\\n하이네켄 : 0.05%\\n칭따오 : 0.05%\\n에딩거 : 0.4~0.5%\\n코젤다크 : 0.5%\\n그롤쉬 : 0.1% 미만\\n빈땅 레몬 : 0.0015%\\n 빈땅 제로 : 0.0% (완전논알콜)\\n그롤쉬 0.1% 미만\\n주변에서 하도 추천해서 구매한 그롤쉬!\\n알쓰니까 당연히 알콜 높은 것도 안 먹어본\\n난생 처음 보는 패키지의 캔맥주였어요.\\n용량이 너무 커서 아직 안 마셔 봤는데,\\n약간 알딸딸하고 싶을때 먹음 좋을 듯해요.\\n(이슬톡톡도 못 마시는 알쓰 기준입니다.)\\n에딩거 프라이 0.4~0.5%\\n밀맥주 맛이 그대로 유지된 맥주!\\n탄산과 거품이 다소 있는 편이라서\\n확실히 맥주 느낌이 확! 느껴지더라구요.\\n근데 제가 맥주 맛을 안 좋아하는건지..\\n약간 호불호는 있을 것 같은 느낌이네요.\\n코젤다크 0.5%\\n깔끔한 유리보틀 주둥이 쪽에다가\\n설탕 솔솔 발라서 마시는 바로 그것!\\n코젤다크는 흑맥주라 제 취향은 아니라서\\n나중에 집에 놀러오는 손님이 있으면\\n마시라고 권해주려고 주문해봤어요.\\n흑맥주도 무알콜맥주가 나온다는게\\n꽤나 신기해서 장바구니로 줍줍 해부렀네요.\\n하이네켄 0.05%\\n하이네켄은 워낙 대중적인거라 생각했는데\\n이 패키지는 난생 처음보는 것 같아요.\\n약간 사이다 캔을 연상케 하는 것 같기도 하고?\\n길거리 걸어다니면서 마셔도\\n사이다 마시는구나 할 것 같아요ㅋㅋ\\n탄산이랑 거품이 시원한 맥주라서\\n스트레스 받는 날 기분내기 좋은\\n완전 알쓰용 논알콜 맥주 🍺\\n칭따오 0.05%\\n칭따오는 역시 병맥주라 생각했는데\\n무알콜맥주는 캔도 예쁘게 나오네요!?\\n미미노샵에서 주문해서 받자마자\\n가장 먼저 마셔본 논알콜 제품이었는데,\\n오우.. 이거 마시니까 눈주변이 시큰해지면서\\n살짝 알딸딸한 느낌이 들더라구여ㅋㅋ\\n빈땅 제로 레몬 0.0015%\\n발리에서 엄청 인기있는 빈땅!\\n요건 예전에 @종쥬기랑 식당가서\\n봤던 맥주라서 나름 익숙하네요.\\n위에서 소개한 맥주들과 비교하면\\n알콜 도수가 엄청나게 낮은 제품이라서\\n알쓰 중에 알쓰다 하는 분들도\\n시원하고 개운하게 마실 수 있어요.\\n술 잘 마시는 분들은 음료로 마실 듯!?\\n입안이 텁텁하지 않고, 상쾌한 레몬맛이에요.\\n빈땅 제로 애플 0.0% 완전 무알콜\\n임산부도 마실 수 있는 무알콜맥주!\\n알콜 도수가 0.0%로 불검출된 제품이라서\\n요거는 믿고 구매해놓고 마실 수 있어요.\\n거부감 없는 사과향과 맛이 느껴지는데,\\n산미구엘 애플맥주보다 좀 더 라이트하고\\n가벼운 느낌이 드는게 특징이에요.\\n패키지는 그냥 맥주같아 보이는데\\n마셔보면 사과맛이 잘 느껴져요.\\n본격적으로 술내나게 놀아볼까~?\\n대에~충 사진 일단 다 때려 찍어보고\\n하나하나 시식평을 남겨보려고 했지만\\n하필 처음 골라서 마신 맥주가 0.5도라서\\n슬쩍 알딸딸하고, 몸에 기운이 쭉 빠져서\\n다 맛보는건 실패했어요.. 크흠..!\\n그래도 가볍게 파티파티는 해야겠지요?\\n주기적으로 아이디어 회의에 동참해주시는\\n우리 입사동기님과 함께 해 보았습니다.\\n재활용 가능한(?) 번쩍이는 인싸템에\\n칭따오가 쓰여있길래 깔맞춤으로\\n칭따오 무알콜맥주를 마시기로 결정!\\n물론 요란스럽게 따르긴 했지만\\n쉽게 죽지 않는 풍성한 거품을 보니까\\n진짜 술 한 잔 하는 느낌이 나더라구요.\\n약간 씀..\\n투턱되는거 보면 알 수 있음\\n이정도로 알쓰는 아니었는데,\\n저는 0.5%인 칭따오 한 캔 다 마셨더니\\n눈주변이 무거워지면서 몸이 나른해졌어요.\\n막 취했다는 느낌이나 빨개지는건 없는데\\n남들이 말하는 알딸딸의 기분을\\n이제는 조금 알 것 같달까..?\\n항상 한 잔 마시고 대차게 취해서 몰랐지^_^*\\n어쨌든 합격!\\n미미노샵에서 무알콜맥주 고르신다면\\n칭따오는 일단 합격이니 골라보세요.\\n저보다 심한 알쓰분들은 신중히!\\n다음은 우리집에 정기적으로 찾아오시는\\n입사동기님이 선택한 빈땅 레몬!\\n내인생 첫 술인 KGB를 생각했는데\\n맛은 훨씬 가볍고 산뜻했어요.\\n솔직히 귀찮아서 냉장고에 안넣어놨는데\\n그래도 시원~하게 김도 새어나오는걸 보니\\n이거 아주 물건이구나 싶었어요.\\n난 그동안 왜 논알콜맥주를 등한시했는가..\\n여기서 주문해서 맛보고서 뒤늦게 후회 중!!\\n힘들게 알콜 들어있는 맥주 먹지 말고,\\n알쓰는 알쓰답게 낮은 도수의 맥주로\\n즐거운 기분을 오래 만끽합시다!\\n히얍!!!\\n네이버 동영상 플레이어\\n크으~ 이런게 인생이지\\n1\\n453\\n00\\n:\\n50\\n재생시간, 이 동영상의 길이는 50초 입니다.\\n화질 선택 옵션\\n270p 360p 480p 720p\\n화질 선택 옵션\\n접기/펴기\\n😄🍺\\n웃음 참아가며 찍은 동영상도 보고가쉐호~\\n미미노샵 : 네이버쇼핑 스마트스토어\\n로그인하시고 상품 구경하세요😊 무알콜 맥주 판매 미미노샵🍺🍺\\nsmartstore.naver.com\\n★내돈내산 솔직후기★\\n(다 먹어보진 못했오용ㅠㅠ) ', '음식 46개의 글\\n목록열기\\nbhc 맛쵸킹, 뿌링클 치킨,KGB 레몬, 부라더소다 후기 음식  \\n2015. 11. 2. 3:30\\nhttps://blog.naver.com/llllllzhols/220526300154\\n11월의 첫째날~ 오늘은 지인들이 KGB와 부라더#소다를 사서 저희 집에 놀러왔어요\\n맥주에는 치느님~!\\n빵구수딩이는 바로 가까운 거리의 BHC 울산 우정점에 전화를 걸어 요즘 Hot 한 맛쵸킹과 뿌링클 치킨을 시켰어요!\\n예쁜 민트색의 병에 들어서 술 보다는 음료수라고 해야 더 믿기는 비주얼의 브라더소다! \\n\\n브라더소다의 알콜도수는 3도! 달달하고 약한 스파클링이 있어 먹기도 편하고 예쁜 비주얼이 여자분들에게 인기 만점이 이닐까싶어요\\n저는 약간 김빠진 암바사맛이 났어요~!\\n그러나 알콜 맛을 조아라하고 즐기는 분들에게는 조금 약할 것 같아 아쉽네요\\n저희는 얼마전 코스트코에서 사다놓은 보드카를 섞어서 마셔보기도 했답니다 코스트코보드카 정말 양이 어마어마! 가성비 최고예요\\n호주가 원산지인 맥주 KGB 심플하지만 예쁜 캔 디자인이 눈에 띄어요!\\n지금 홈플러스에서 KGB를 할인행사하네요 열정가득 초보 블로거 빵꾸수딩은 할인 정보를 확인하기 위해 지인의 영수증까지 찰칵~~\\n가격을 확인해보니 반값이상으로 할인하고 있었어요~! KGB레몬 좋아하시는 분들은 홈플로 가서 미리 사놓으면 굿이겠죠?!!\\n\\n\\n\\nbhc신제품 마쵸킹!\\n고추 드러와 대파 드러와~! 광고보고 신제품 마쵸킹이 맛보고 싶어졌던 빵꾸수딩이네 부부\\n\\n달달한 간장양념 소스에 아삭아삭 씹히는 채썬 고추와 대파 ,맛있게 매콤한 마쵸킹!  많이 맵지 않고 매콤달콤 바삭하다기보다는 촉촉한 맛이예요\\n\\n\\n뿌링클핫과 치즈를 반반으로 주문했어요! 마쵸킹과 비교해서 훨씬 더 바삭바삭했고 뿌링클 핫은 꽤 매웠어요!\\n\\n전지현느님의 광고로 화재가 된 뿌링클 치킨 ~!\\n임신을 하고도 여전한 미모로 최근에 매력터지는 광고보고 또 감탄했던 기억이 나네요\\n\\n추가로 사진에 보이눈 감자튀김은 사이드 메뉴 중 하나로 3000원 이예요\\n\\n역시 치느님은 저흴 배신하지 않더군요!\\n 울산 우정점 bhc 맛있게 잘 먹었습니다\\n#브라더소다\\n#맛쵸킹\\n#뿌링클\\n#kgb레몬\\n#브라더소다알콜도수\\n#KGB원산지\\n#bhc울산우정점\\n#소다를\\n` 공감 4\\n댓글 3\\n블로그\\n카페\\nKeep\\n메모\\n보내기\\n\\n\\n\\n\\n\\n\\n인쇄\\n이 블로그 음식 카테고리 글\\n전체글 보기\\n체코 흑맥주 코젤 & 시카고 피자 후기\\n2016. 1. 7.\\n기장대게 먹고 왔어요~^^ 기장 해림대게 솔직후기\\n2015. 12. 14.\\n(2)\\n본젤라또 마카롱 블루베리&치즈\\n2015. 11. 25.\\n(7)\\n울산 병영막창 맛집 오시오 막창 후기\\n2015. 11. 23.\\n(3)\\nbhc 맛쵸킹, 뿌링클 치킨,KGB 레몬, 부라더소다 후기\\n2015. 11. 2.\\n이전\\n다음', '일상 29개의 글\\n목록닫기\\n글 제목\\n작성일\\n피자나라치킨공주 학익주안점 더블포테이토 + 후라이드 피치세트 (배달) 리뷰\\n2018. 10. 19.\\nGS편의점 - 위대한 핫도그 치즈맛 + 죠스떡볶이 매운소스와 찰순대 + 맛있는 어묵 국물 쌀떡볶이 + 뉴 전주비빔리뷰\\n2018. 10. 10.\\n치킨플러스 마늘스태미나치킨 + 까르보떡볶이 + 김말이\\n2018. 9. 21.\\n(3)\\n범프리카님의 인생치킨 주안점 후기(배달)\\n2018. 9. 10.\\n주안역 2030거리 맛집 화포식당\\n2018. 9. 10.\\n5줄 보기\\n1\\n2\\n3\\n4\\n5\\n6\\n일상\\n알쓰의 맥주 도전기 - KGB 레몬,크루저 블루베리&라즈베리, 하이네켄 라거,기네스 오리지널\\nRedLip ・ 2018. 6. 27. 19:57\\nURL 복사 이웃추가\\n제목 왜이리 오류 나는거지.. 당황스럽네요.\\n\\n넘나 오랜만에 찾아오는 블로그라\\n무슨 글을 먼저 올릴까 생각했었는데..\\n제일 최근이 포함 된 일상 먼저 올려보도록 할게요♡\\n\\n\\n일단 내 이름은 알쓰, 알콜 쓰레기지\\nㅋㅋㅋㅋㅋㅋㅋㅋ코난빙의(?)\\n\\n전 소주는 한병?정도 먹지만 맥주는 진~짜\\n못 먹어요.. 취하는 것도 취하는거지만\\n그 보리가 발효된 그 향을 안좋아합니다..\\n\\n근데 뭐든 할수록 는다고들 하는데 !!\\n나도 천천히 해보자!! 문득 이런 생각이 ㅋㅋㅋㅋ\\n\\n그래서 간보는 것 처럼 과일맥..주?\\n(과실주인가요?)\\n입문자용으로 일단 KGB 하양이와 크루저 빨파를 !!\\n그냥 병이 예뻐서 산 거 안비밀>♡<\\n\\n도저어어어언!\\n\\n도수는 5도! 일반 맥주보다 높은 걸 보고 깜짝!!\\n\\n\\n저희 어머니도 술을 못하시지만\\n같이 도전해봤습니당.\\n\\n아직까지 저희 어머니가 제일 좋아하는\\n와인이라 적혀져있는데.. 베이스겠죠?\\n와인이라 쓰고 음료라 읽는(?) 크루저 빨파입니다!\\n\\n안주는 치킨!!!\\n\\n알쓰평\\n맛은.. 블루베리와 라즈베리가 크게 다르진 않은 느낌?!\\n탄산이 톡 쏘며 달달해요! 보리가 안들어가서 그런지\\n맥주 특유의 향도 없고 맛있었습니다!\\n음료인지 맥주인지 칵테일같기도 한데 맛있어요 ㅋㅋ\\n색감도 이쁘고 캬~~~~\\n\\n단점을 꼽자면 안취했는데 배불러요...ㅠ\\n배불러서 왕창은 못 마시니 안취해요 ㅋㅋㅋ\\n술은 취하려 먹는 것!!(제 생각)\\n그리고 비싸요....\\n편의점에서 3천원~4천원 사이였던 것 같은데..\\n\\n\\n하지만 집에서 영화볼때같은?\\n가볍게 즐기기엔 좋은 것 같습니다!\\n\\n\\n\\n이 또한 도수 5도! 맛있다고 만만히 보면 후욱~~\\n\\n이건 제가 꽂혀버린 KGB레몬 !\\n보드카라 적혀있네요 베이스겠죠?ㅋㅋㅋ\\n\\n안주는 닭발&오돌뼈!\\n원래 같음 이 안주엔 무조건 소주를 먹지만 ㅜ\\n맥주..그 험난한 길 ㅠㅠ\\n\\n\\n알쓰평\\n겁나 맛있옹 두 번 먹엉 세 번 먹엉!!!!\\n말이 필요없어!!!!! 꿰엑!!!!\\n이 또한 맥주의 맛이 1도 없어요!\\n병도 이쁘고 레몬향도 맛도 좋고 탄산도 적당하고!!\\n\\n단점: 맥주의 공통적인 단점-배부름\\n수입 맥주의 공통적인 단점-비쌈\\n\\n\\n\\n\\n\\n시작의 발판이 아닌 도착지가 되어버린 것 무엇..?\\n크루저랑 KGB에서 떠날 생각을 않는 알쓰가족ㅋㅋㅋㅋ\\n\\n이만큼 중독돼버렸어요..♡\\n\\n하지만 새로운 도전을 위해 ! 바로 어제 도전한!\\n\\n기네스 오리지널!!!!\\n(넷 중 제일비쌈 오천원대로 기억)\\n\\n\\n왜 이걸로 결정했냐 물으신다면!!!!\\n병이 예뻐서입니다!!!!!!(도른자)\\n진짜 너무너무 이쁘지 않나요ㅠㅜㅜ\\n\\n참고로 기네스는 병이 알려주듯 흑맥주입니다!!\\n\\n저 흑맥주 처음이예요..♡\\n도수는 마찬가지로 5도\\n\\n\\n이번 도전도 마마와 같이~~ 한 배를 타는거야~\\n흑맥주 도전과 설레임을 안고\\n기네스 오리지널부터 ~\\n\\n안주는 분식!\\n\\n\\n알쓰평\\n와.. 첫 맛은 나 맥주야!!!!! 였어요ㅋㅋㅋㅋㅋㅋ\\n그리고 뒷맛은 맥주를 모르는 저도 느낄 정도로\\n묵직함이 있었어요.\\n그래서 제가 첫 맛은 나 맥주야!!!인데 뒷 맛은 나 흑맥주야!!!!!였다고 말했던 ㅋㅋㅋㅋㅋㅋㅋ\\n\\n막 거부감이 심한건 아니지만\\n제가 맥주자체를 좋아하는 편이 아니여서\\n한 병이상은 조금 거부감이 생길 것 같았어요.\\n전 알쓰니까요(찡긋\\n\\n탄산이 다른 맥주들 보단 좀 약해요!\\n흑맥주는 원래 그런지는 모르겠지만\\n전 이게 더 좋네요 흐흐흐흫\\n\\n제가 맥주를 제대로 즐길 때가 온다면\\n그 땐 정말 몇 병이든 좋아할지도 모르겠다는 생각이 문득 든 ㅋㅋㅋㅋㅋㅋ 맥주예요.\\n\\n단점 :  비쌈비쌈비쌈\\n\\n\\n\\n마지막...\\n하이네켄 라거! 도수는 예상 그대로 5도입니다.\\n\\n병만보면 청량해보이고 이쁜데ㅜ\\n\\n알쓰후기\\n이 또한 어제 먹..었는데... 하 먹다말았어요.\\n저희 엄마도 맛만 보고 ㅜ 저희 스타일은 아닙니다.\\n\\n탄산도 톡쏘고! 제일 맥주에 가깝다면 가깝겠지만\\n특유의 쇠향? 쇠맛이 있더군요.\\n그래서 더는 못 먹었어요..\\n저는 이 맥주를 평가 할 수가 없네요.\\n가격은 넷 중 두번째로 비쌌어요..ㅜ\\n꽤나 좋아하시는 분도 많던데\\n호불호가 조금 갈리는건지\\n제가 특이한건지는 모르겠네요ㅜ\\n\\n\\n\\n오늘은 여기까지!!\\n\\n\\n\\n\\n\\n\\n\\n\\n#크루저\\n#하이네켄\\n#기네스\\n#흑맥주\\n#편의점맥주\\n#맥주\\n#KGB\\n#추천\\n#수입맥주\\n#리뷰\\n` 공감 4\\n댓글 쓰기\\n블로그\\n카페\\nKeep\\n메모\\n보내기\\n\\n\\n\\n\\n\\n\\n인쇄\\n이 블로그 일상 카테고리 글\\n전체글 보기\\n페리페라 잉크 더 에어리 벨벳 최애쁨템,말잇못템,꽃길시작\\n2018. 6. 27.\\n(2)\\n가발매니아 반가발 첫 착용기♡\\n2018. 6. 27.\\n알쓰의 맥주 도전기 - KGB 레몬,크루저 블루베리&라즈베리, 하이네켄 라거,기네스 오리지널\\n2018. 6. 27.\\n바보사랑 2018 마이플랜 다이어리\\n2017. 12. 3.\\n(4)\\n페리페라 잉크 더 에어리 벨벳 #5 엘프요정 #8 비주얼깡패\\n2017. 12. 2.\\n이전\\n다음', '💚 1.19\\n눈이 많이 온 날... \\n부산사람은 아직 눈이 오는게 좋아...\\n봉사 갔다가 나와서 찍었다. 아침에는 펑펑 오더니 점심쯤에는 좀 줄어듦 ㅠㅡㅠ 아까비...\\n눈이 좀 커서 그런지.. 패딩에 #눈결정 있길래 냅다 찍어버렸다 ᕕ( ᐛ )ᕗ\\n너무 신기하고 예쁘다 ... 혹시 서울 눈은 원래 눈결정이 잘 보이는건가 ?!?! 나만 몰랐던 건가 ?!?\\n옷 살 때 #삼성페이 결제 했더니 또 cu금액권 걸렸다. 개이둑!\\n며칠 전에 이거 #온라인결제즉석당첨이벤트 알고 나서 인터넷으로 뭐 결제할 때 생각나면 삼페로 하는데 복권사는 기분임 ...\\n저녁에는 희정언니 만나서 #종금양꼬치 갔다. 내가 사주기로 했삼 😎\\n내가 양꼬치는 처음 먹어보는데 내 입맛에 다행히 잘 맞았다 ㅋㅋㅋ 사실 뭐.. 고기는 안가리니까 ... 🙄\\n아 그리고 난 양꼬치가 어떻게 구워지는 건지 몰랐는데.. 이번에 좌우로 돌아가면서 구워진다는 걸 알았다. \\n양꼬치.. 또 먹고 싶네\\n술은 ?\\n언니픽은 #칭따오맥주 나는 #하얼빈맥주 ~_~\\n난 개인적으로 하얼빈 맥주가 더 내 취향이었다. 처음 먹어봤는데 더 스무스한 느낌이었음 !!!\\n추가로 #돼지귀무침 시켰는데 #옥수수튀김 한 접시를 서비스로 주셨다. \\n옥수수튀김이 먼저 나왔는데 이거 진짜 맛있음 ... 와 옥수수는 팝콘일 때 제일 맛있을 줄 알았는데 아니었다. 튀긴게 제일 맛있는거였네... 하긴 뭐 튀김은 신발을 튀겨도 맛있으니까 ~_~\\n돼지귀무침은 나 진짜 처음 먹어봤는데 꽤 맛있었다. 뭔가 낯설긴한데.. 순대 먹을 때 내장에 있는 부위라서 약간은 익숙한 ??? \\n이건 #메뉴판 !! 볶음류도 그렇고 .. 메뉴가 엄청 많다. 한 번도 못들어 본 메뉴가 수두룩해서 나 메뉴판이랑 낯가렸삼\\n종금양꼬치\\n서울특별시 마포구 대흥로30길 21\\n배 땅땅 두드리면서 나왔는데 옆에 이런 식당이 있었다... 주영식당... 유레카 ㅇㅅㅇ !!!!!\\n집 가는 길에 편의점에서 과자랑 맥주 좀 사서 냉장고 넣어두고 #아보카도눈 만들러 갔다 ㅋㅋㅋㅋ 씬났음 완전 ㅋㅋㅋㅋ\\n아보카도.. 안녕 ? 🥑 \\n광기 대박이네 저렇게 보니까...\\n짠! 사실은 귀여운 집임\\n안귀여우면 어쩔 수 없고 ... 🤔\\n달도 찍었다. 색깔 신기방기 뿡뿡방기\\n집에 와서는 #KGB맥주 .. #매운새우깡 .. and #스윙칩 .. \\n쫀맛탱이었다. 아 스윙칩 저거 단단히 빠져서 큰일났다. 너무 맛있음 ... \\n다 먹고 #허니버터칩 추가로 뜯기 ㅇㅅㅇ\\n근데 그 위에 나온 스윙칩 먹고 나니까 얘가 좀 닝닝하다는 생각이 들었다.. 홀리몰리 ~&~\\n그래도 맛있었어 허니버터 ....\\n헐 그러고보니 오늘은 만 보 걷기 못했다...\\n분명 어제 작심삼일 아니라고 되게 좋아했는데 ㅋㅋㅋㅋㅋ\\n내일부터 다시 걸어야지 !!!\\n오늘 일기 끝 ~_~\\n#일상 #1월일기 #일상블로그 #서이추', '안녕하세요 아웃님들 승구리입니다!\\n신포 국제시장 놀러갔다가\\n근처 예쁜 카페를 들렀어요!\\n부드러운 롤케이크와 \\n다양한 맥주까지 준비된 곳이에요.\\n신포역 중앙동에 있는 \\n메모리스카페 입니다!\\n🏠 매장위치 🏠\\n50m\\n© NAVER Corp.\\n메모리스카페\\n인천광역시 중구 신포로15번길 8 1층, 신포역3번출구도보1분공영주차장앞\\n 인천  중구 신포로 15번길 8, 1층\\n신포역 3번출구 도보1분\\n배달 - 배민 가능 \\n메모리스 카페 중앙동 신포역 간판\\n📞 매장전화 📞\\n0507-1308-4608\\n🕑 영업시간  🕑\\n월~금 8:30~23:00\\n주말 9:00~22:00\\n🚙 주차정보 🚙\\n매장 바로 앞에 위치한\\n신포동 공영 노외 주차장 이용\\n한시간-1200원\\n📷 매장 사진 📷\\n메모리스 카페는 신포역 공영주차장 \\n바로 앞에 있어서 찾기 쉬운 곳입니다.\\n맥주를 사면 안주는 공짜네요?!ㅎㅎ\\n신포역 중앙동 카페 메모리스\\n메모리스 실내는 생각보다 넓고 \\n아늑한 느낌이에요!\\n아기자기하고 안락한 매장내부!\\n메모리스 카페 중앙동 신포역 내부\\n나만의 아지트 같은 느낌으로 \\n잘꾸며져 있어요!\\n맥주 한잔하고싶을때도 좋은이곳!\\n따듯한 느낌의 조명과\\n예쁜소품으로 잘 꾸며놓으셨어요!\\n메모리스 카페 중앙동 신포역 맥주\\n다양한 맥주도 팔고 있어요!\\n안주가 공짜인데 맥주 가격이\\n저렴하지 않나요?\\n간단하게 맥주한잔 하허오기도 좋네요!\\n저는 오른쪽 밑에있는\\n KGB맥주 좋아해요. 키키\\n🍽  메뉴 판 🍽\\n(22년 3월 기준)\\n신포역 메모리스 카페는\\n특이한 메뉴가 많아요!\\n홍차아인슈페너,  솔티드생카라멜 등등\\n옛날빙수(6200원)도 저렴하네요!\\n신포동 카페 메모리스 디저트\\n간단하게 먹기 좋은 디저트들도\\n다양하게 팔고 있어요.\\n메모리스 카페 중앙동 신포역 롤케이크\\n카페 메모리스는 \\n북해도 스위스 롤케이크를 파는곳이에요!\\n메모리스 카페 중앙동 신포역 \\n본사와 컨택해서 가져온 롤케이크!\\n백화점에서 파는 제품입니다!\\n(카카오톡에도 팔아요!)\\n메모리스 카페 중앙동 신포역 \\n통 롤케이크 구매하면 \\n아메리카노 서비스 증정!\\n메모리스 카페 중앙동 신포역 \\n생크림, 녹차, 흑임자, 쑥, 초코, 팥, 커피\\n다양한 맛으로 구성되어 있어요.\\n 다양한 조각 케이크도 판매하고 있어요!\\n크로플도 판매합니다.\\n🍴맛 후기 🍴\\n메모리스 카페 중앙동 신포역 메뉴\\n솔티드생카라멜라떼-4800원, \\n흑임자라떼-4800원,\\n녹차롤케이크- 4800원\\n녹차 롤케이크\\n녹차의 진한맛이 느껴져요! \\n고급스러운 녹차 맛이에요!\\n인위적인 달달 녹차 아니에요!\\n너무 달지 않아서 저도 맛있었어요!\\n녹차덕후인 언니가 너무 맛있데요 ㅎㅎ\\n부드러운 크림과 촉촉한 빵!\\n사르르 녹는 이맛 !\\n녹차덕후 모이세요~!\\n솔티드생카라멜 라떼\\n생 카라멜을 녹여서 만든 라떼에요.\\n이 메뉴 일단 기대 이상의 맛!!\\n너무 맛있어서 깜짝 놀란맛! 완전 추천!!\\n 위에 생크림이 쫀쫀하고 부드러워요!\\n핑크 솔트를 생 크림에 살짝뿌려주시는데 \\n그게 맛이 확살아나면서 단짠 미쳤어요!\\n토핑 크림도 직접 만드신거래요!\\n흑임자라떼\\n(원래는 커피 샷 들어가는데 저는 저녁이라 뺐어요!)\\n유기농 흑임자로 만드신거에요!\\n흑임자가 미숫가루처럼 엄청 고소해요! \\n묽지 않고 진한게 진짜 흑임자로 \\n만든게 느껴지는맛!\\n고소함은 두배입니다!\\n신포역 놀러간다면 메모리스 추천드려요!\\n메모리스 음료 맛있구만!!\\n(쿠폰열장찍으면 한잔 무료입니다!)\\n별점요약 \\n맛   ★★★★★\\n가격 ★★★★\\n서비스 ★★★★★\\n(먹어보고 싶은 메뉴가 또 생기는 곳! )\\n신포역 중앙동 신포시장 \\n메모리스 카페 리뷰는 여기까지입니다!\\n그럼 저는 다음에 더좋은\\n 포스팅으로 찾아 뵙겠습니다!\\n 공감, 댓글은 큰 힘이 됩니다.♡\\n동인천 감성 끝판왕 맛집이 궁금하다면?\\n[동인천] 차원이 다른 감성 맛집 중구집 / 개항로 맛집 중구집\\n안녕하세요 아웃님들 승구리입니다! 오늘은 동인천 어마무시한 갬성의 개항로 맛집을 발견해서 가져왔어요!...\\nblog.naver.com\\n오늘도 즐거운 하루보내세요!']\n"
          ]
        }
      ]
    },
    {
      "cell_type": "code",
      "source": [
        "#제목, 블로그링크, 본문내용 Dataframe으로 만들기\n",
        "import pandas as pd\n",
        "df = pd.DataFrame({'제목':titles, '링크':blog_links,'내용':contents})\n",
        "df"
      ],
      "metadata": {
        "colab": {
          "base_uri": "https://localhost:8080/",
          "height": 677
        },
        "id": "WCBM4352v55r",
        "outputId": "4ad40693-bbea-4f9a-cfa7-fb1ae9bf9a0f"
      },
      "execution_count": 13,
      "outputs": [
        {
          "output_type": "execute_result",
          "data": {
            "text/plain": [
              "                                                   제목  \\\n",
              "0    [먹은 거]광주 과일타르트 맛집 퀸즈퀸즈, <b>KGB맥주</b> 맛 <b>후기</b>   \n",
              "1   <b>맥주</b>콜'에서 초대형사이즈 피자와 <b>맥주</b> 한 잔 - 치즈피자/...   \n",
              "2          첫 술 마신 <b>후기</b>(feat. <b>KGB</b>와 써머스비 맛)   \n",
              "3       <b>KGB</b> 포장이사 <b>후기</b> - 내돈내산 원룸 포장이사 했어요~   \n",
              "4              카스 레몬 vs <b>KGB</b> 레몬 비교 및 <b>후기</b>♡   \n",
              "5               맛있는 <b>맥주</b>!! <b>KGB</b>와 TEMPT9!!!   \n",
              "6         이줭의 세계 <b>맥주</b> 맛보기 #3. [<b>KGB</b> VODKA]   \n",
              "7   <b>맥주</b> / 말표 청포도 <b>맥주</b> / 불닭 <b>맥주</b> / ...   \n",
              "8    <b>후기</b>:) <b>KGB</b> 써머스비 다다 크루저 마가리타 슬래머 모조펀치   \n",
              "9   처음 마셔 본 수입프랑스 <b>맥주</b>,1664 블랑<b>맥주</b>, <b>후...   \n",
              "10        클라우드 칠성사이다 / 칠성사이다 <b>맥주</b> /  알쓰<b>맥주</b>   \n",
              "11        세계<b>맥주</b>과실편) <b>KGB</b>+TEMPT7+SOMERSBY~   \n",
              "12     레몬맛 <b>맥주</b>:: 순하리 레몬진 4.5도, 레몬진 7도 <b>후기</b>   \n",
              "13                         트롤브루 레몬 자몽 :: <b>맥주 후기</b>   \n",
              "14             수입<b>맥주</b>종류 추천 :: 상큼한 맛의 <b>KGB</b>♡   \n",
              "15                알쓰의 내돈내산 무알콜<b>맥주</b> 모음 <b>후기</b>!   \n",
              "16     bhc 맛쵸킹, 뿌링클 치킨,<b>KGB</b> 레몬, 부라더소다 <b>후기</b>   \n",
              "17  알쓰의 <b>맥주</b> 도전기 - <b>KGB</b> 레몬,크루저 블루베리&amp...   \n",
              "18       1월 19일 일기: 종금양꼬치/ 하얼빈<b>맥주</b>/ 돼지귀무침/ 아보카도눈   \n",
              "19             신포역 중앙동 메모리스 카페 부드러운 롤케이크, 수제<b>맥주</b>   \n",
              "\n",
              "                                                   링크  \\\n",
              "0         https://blog.naver.com/wltmd96/222386531466   \n",
              "1           https://blog.naver.com/kgab6/222145115559   \n",
              "2      https://blog.naver.com/qkrekgml52/222609937565   \n",
              "3       https://blog.naver.com/zeehyun95/222203256913   \n",
              "4      https://blog.naver.com/lovenhlove/220371174030   \n",
              "5        https://blog.naver.com/eune2005/220224405796   \n",
              "6          https://blog.naver.com/1992juo/90177515579   \n",
              "7        https://blog.naver.com/bella246/222589159901   \n",
              "8    https://blog.naver.com/llblessingll/220452260867   \n",
              "9          https://blog.naver.com/yguchi/220944248313   \n",
              "10       https://blog.naver.com/dodo4375/222709508867   \n",
              "11        https://blog.naver.com/na41238/220303742200   \n",
              "12      https://blog.naver.com/happm8404/222450959240   \n",
              "13        https://blog.naver.com/tjs2057/222416998369   \n",
              "14   https://blog.naver.com/munjeong4521/221138747200   \n",
              "15        https://blog.naver.com/mimim_b/222324282787   \n",
              "16    https://blog.naver.com/llllllzhols/220526300154   \n",
              "17  https://blog.naver.com/eun-_woo_-170107/221308...   \n",
              "18        https://blog.naver.com/hdd0928/222626338010   \n",
              "19        https://blog.naver.com/oahoaho/222687110367   \n",
              "\n",
              "                                                   내용  \n",
              "0   퀸즈퀸즈라고 광주 수완지구에 있는 디저트 카페가 있다.\\n나도 몰랐는데, 선물 받았...  \n",
              "1   '맥주콜'에서 초대형사이즈 피자와 맥주 한 잔\\n영업시간: 월~목(1700~0200...  \n",
              "2   feat. KGB 후기, 써머스비 후기... 그리고 KGB 맛, 써머스비 맛\\n20...  \n",
              "3   안녕하세요! 제가 얼마전에 원룸 이사할 일이 있었는데요.\\n내돈내산으로 KGB 포장...  \n",
              "4   러부랭의 맛집 10개의 글\\n목록열기\\n카스 레몬 vs KGB 레몬 비교 및 후기♡...  \n",
              "5   평택댁 신나는 일상!! 136개의 글\\n목록열기\\n맛있는 맥주!! KGB와 TEMP...  \n",
              "6   2013 인토아리 53개의 글\\n목록열기\\n이줭의 세계 맥주 맛보기 #3. [KGB...  \n",
              "7   안녕하세요 또쪽입니당 ㅎㅎ\\n저는 !!! 맥주를 별로 안 좋아해요 (?뜬끔없?)\\n...  \n",
              "8   후기 370개의 글\\n목록열기\\n후기:) KGB 써머스비 다다 크루저 마가리타 슬래...  \n",
              "9   일상의 생활 38개의 글\\n목록열기\\n처음 마셔 본 수입프랑스 맥주,1664 블랑맥...  \n",
              "10  여러분들 맥주 좋아하시나요?\\n저는 맥크나이트여서 맥주 없으면 못 살아요 증말,,\\...  \n",
              "11  (65)\\n공지 맘키즈 4번째올랐지만 기쁨이 덜했던 뒷이야기\\n2018. 7. 16...  \n",
              "12  마트에서 발견한 신상 맥주\\n'순하리 레몬진'\\n보리 맥주보다도 kgb같은 맥주 아...  \n",
              "13  트롤브루 레몬 자몽 맥주 후기! \\n저는 원래 술을 잘 안 마시는데 \\n요즘 힘들다...  \n",
              "14  순수 정보 ★ 33개의 글\\n목록열기\\n순수 정보 ★\\n수입맥주종류 추천 :: 상큼...  \n",
              "15  ◆\\n거하게 취하고 싶지만 나는 알쓰\\n논알콜맥주\\n알\\n쓰로 태어나 알쓰로 가게 ...  \n",
              "16  음식 46개의 글\\n목록열기\\nbhc 맛쵸킹, 뿌링클 치킨,KGB 레몬, 부라더소다...  \n",
              "17  일상 29개의 글\\n목록닫기\\n글 제목\\n작성일\\n피자나라치킨공주 학익주안점 더블포...  \n",
              "18  💚 1.19\\n눈이 많이 온 날... \\n부산사람은 아직 눈이 오는게 좋아...\\n...  \n",
              "19  안녕하세요 아웃님들 승구리입니다!\\n신포 국제시장 놀러갔다가\\n근처 예쁜 카페를 들...  "
            ],
            "text/html": [
              "\n",
              "  <div id=\"df-29ae6105-2017-40f9-b193-cc750a70cd10\">\n",
              "    <div class=\"colab-df-container\">\n",
              "      <div>\n",
              "<style scoped>\n",
              "    .dataframe tbody tr th:only-of-type {\n",
              "        vertical-align: middle;\n",
              "    }\n",
              "\n",
              "    .dataframe tbody tr th {\n",
              "        vertical-align: top;\n",
              "    }\n",
              "\n",
              "    .dataframe thead th {\n",
              "        text-align: right;\n",
              "    }\n",
              "</style>\n",
              "<table border=\"1\" class=\"dataframe\">\n",
              "  <thead>\n",
              "    <tr style=\"text-align: right;\">\n",
              "      <th></th>\n",
              "      <th>제목</th>\n",
              "      <th>링크</th>\n",
              "      <th>내용</th>\n",
              "    </tr>\n",
              "  </thead>\n",
              "  <tbody>\n",
              "    <tr>\n",
              "      <th>0</th>\n",
              "      <td>[먹은 거]광주 과일타르트 맛집 퀸즈퀸즈, &lt;b&gt;KGB맥주&lt;/b&gt; 맛 &lt;b&gt;후기&lt;/b&gt;</td>\n",
              "      <td>https://blog.naver.com/wltmd96/222386531466</td>\n",
              "      <td>퀸즈퀸즈라고 광주 수완지구에 있는 디저트 카페가 있다.\\n나도 몰랐는데, 선물 받았...</td>\n",
              "    </tr>\n",
              "    <tr>\n",
              "      <th>1</th>\n",
              "      <td>&lt;b&gt;맥주&lt;/b&gt;콜'에서 초대형사이즈 피자와 &lt;b&gt;맥주&lt;/b&gt; 한 잔 - 치즈피자/...</td>\n",
              "      <td>https://blog.naver.com/kgab6/222145115559</td>\n",
              "      <td>'맥주콜'에서 초대형사이즈 피자와 맥주 한 잔\\n영업시간: 월~목(1700~0200...</td>\n",
              "    </tr>\n",
              "    <tr>\n",
              "      <th>2</th>\n",
              "      <td>첫 술 마신 &lt;b&gt;후기&lt;/b&gt;(feat. &lt;b&gt;KGB&lt;/b&gt;와 써머스비 맛)</td>\n",
              "      <td>https://blog.naver.com/qkrekgml52/222609937565</td>\n",
              "      <td>feat. KGB 후기, 써머스비 후기... 그리고 KGB 맛, 써머스비 맛\\n20...</td>\n",
              "    </tr>\n",
              "    <tr>\n",
              "      <th>3</th>\n",
              "      <td>&lt;b&gt;KGB&lt;/b&gt; 포장이사 &lt;b&gt;후기&lt;/b&gt; - 내돈내산 원룸 포장이사 했어요~</td>\n",
              "      <td>https://blog.naver.com/zeehyun95/222203256913</td>\n",
              "      <td>안녕하세요! 제가 얼마전에 원룸 이사할 일이 있었는데요.\\n내돈내산으로 KGB 포장...</td>\n",
              "    </tr>\n",
              "    <tr>\n",
              "      <th>4</th>\n",
              "      <td>카스 레몬 vs &lt;b&gt;KGB&lt;/b&gt; 레몬 비교 및 &lt;b&gt;후기&lt;/b&gt;♡</td>\n",
              "      <td>https://blog.naver.com/lovenhlove/220371174030</td>\n",
              "      <td>러부랭의 맛집 10개의 글\\n목록열기\\n카스 레몬 vs KGB 레몬 비교 및 후기♡...</td>\n",
              "    </tr>\n",
              "    <tr>\n",
              "      <th>5</th>\n",
              "      <td>맛있는 &lt;b&gt;맥주&lt;/b&gt;!! &lt;b&gt;KGB&lt;/b&gt;와 TEMPT9!!!</td>\n",
              "      <td>https://blog.naver.com/eune2005/220224405796</td>\n",
              "      <td>평택댁 신나는 일상!! 136개의 글\\n목록열기\\n맛있는 맥주!! KGB와 TEMP...</td>\n",
              "    </tr>\n",
              "    <tr>\n",
              "      <th>6</th>\n",
              "      <td>이줭의 세계 &lt;b&gt;맥주&lt;/b&gt; 맛보기 #3. [&lt;b&gt;KGB&lt;/b&gt; VODKA]</td>\n",
              "      <td>https://blog.naver.com/1992juo/90177515579</td>\n",
              "      <td>2013 인토아리 53개의 글\\n목록열기\\n이줭의 세계 맥주 맛보기 #3. [KGB...</td>\n",
              "    </tr>\n",
              "    <tr>\n",
              "      <th>7</th>\n",
              "      <td>&lt;b&gt;맥주&lt;/b&gt; / 말표 청포도 &lt;b&gt;맥주&lt;/b&gt; / 불닭 &lt;b&gt;맥주&lt;/b&gt; / ...</td>\n",
              "      <td>https://blog.naver.com/bella246/222589159901</td>\n",
              "      <td>안녕하세요 또쪽입니당 ㅎㅎ\\n저는 !!! 맥주를 별로 안 좋아해요 (?뜬끔없?)\\n...</td>\n",
              "    </tr>\n",
              "    <tr>\n",
              "      <th>8</th>\n",
              "      <td>&lt;b&gt;후기&lt;/b&gt;:) &lt;b&gt;KGB&lt;/b&gt; 써머스비 다다 크루저 마가리타 슬래머 모조펀치</td>\n",
              "      <td>https://blog.naver.com/llblessingll/220452260867</td>\n",
              "      <td>후기 370개의 글\\n목록열기\\n후기:) KGB 써머스비 다다 크루저 마가리타 슬래...</td>\n",
              "    </tr>\n",
              "    <tr>\n",
              "      <th>9</th>\n",
              "      <td>처음 마셔 본 수입프랑스 &lt;b&gt;맥주&lt;/b&gt;,1664 블랑&lt;b&gt;맥주&lt;/b&gt;, &lt;b&gt;후...</td>\n",
              "      <td>https://blog.naver.com/yguchi/220944248313</td>\n",
              "      <td>일상의 생활 38개의 글\\n목록열기\\n처음 마셔 본 수입프랑스 맥주,1664 블랑맥...</td>\n",
              "    </tr>\n",
              "    <tr>\n",
              "      <th>10</th>\n",
              "      <td>클라우드 칠성사이다 / 칠성사이다 &lt;b&gt;맥주&lt;/b&gt; /  알쓰&lt;b&gt;맥주&lt;/b&gt;</td>\n",
              "      <td>https://blog.naver.com/dodo4375/222709508867</td>\n",
              "      <td>여러분들 맥주 좋아하시나요?\\n저는 맥크나이트여서 맥주 없으면 못 살아요 증말,,\\...</td>\n",
              "    </tr>\n",
              "    <tr>\n",
              "      <th>11</th>\n",
              "      <td>세계&lt;b&gt;맥주&lt;/b&gt;과실편) &lt;b&gt;KGB&lt;/b&gt;+TEMPT7+SOMERSBY~</td>\n",
              "      <td>https://blog.naver.com/na41238/220303742200</td>\n",
              "      <td>(65)\\n공지 맘키즈 4번째올랐지만 기쁨이 덜했던 뒷이야기\\n2018. 7. 16...</td>\n",
              "    </tr>\n",
              "    <tr>\n",
              "      <th>12</th>\n",
              "      <td>레몬맛 &lt;b&gt;맥주&lt;/b&gt;:: 순하리 레몬진 4.5도, 레몬진 7도 &lt;b&gt;후기&lt;/b&gt;</td>\n",
              "      <td>https://blog.naver.com/happm8404/222450959240</td>\n",
              "      <td>마트에서 발견한 신상 맥주\\n'순하리 레몬진'\\n보리 맥주보다도 kgb같은 맥주 아...</td>\n",
              "    </tr>\n",
              "    <tr>\n",
              "      <th>13</th>\n",
              "      <td>트롤브루 레몬 자몽 :: &lt;b&gt;맥주 후기&lt;/b&gt;</td>\n",
              "      <td>https://blog.naver.com/tjs2057/222416998369</td>\n",
              "      <td>트롤브루 레몬 자몽 맥주 후기! \\n저는 원래 술을 잘 안 마시는데 \\n요즘 힘들다...</td>\n",
              "    </tr>\n",
              "    <tr>\n",
              "      <th>14</th>\n",
              "      <td>수입&lt;b&gt;맥주&lt;/b&gt;종류 추천 :: 상큼한 맛의 &lt;b&gt;KGB&lt;/b&gt;♡</td>\n",
              "      <td>https://blog.naver.com/munjeong4521/221138747200</td>\n",
              "      <td>순수 정보 ★ 33개의 글\\n목록열기\\n순수 정보 ★\\n수입맥주종류 추천 :: 상큼...</td>\n",
              "    </tr>\n",
              "    <tr>\n",
              "      <th>15</th>\n",
              "      <td>알쓰의 내돈내산 무알콜&lt;b&gt;맥주&lt;/b&gt; 모음 &lt;b&gt;후기&lt;/b&gt;!</td>\n",
              "      <td>https://blog.naver.com/mimim_b/222324282787</td>\n",
              "      <td>◆\\n거하게 취하고 싶지만 나는 알쓰\\n논알콜맥주\\n알\\n쓰로 태어나 알쓰로 가게 ...</td>\n",
              "    </tr>\n",
              "    <tr>\n",
              "      <th>16</th>\n",
              "      <td>bhc 맛쵸킹, 뿌링클 치킨,&lt;b&gt;KGB&lt;/b&gt; 레몬, 부라더소다 &lt;b&gt;후기&lt;/b&gt;</td>\n",
              "      <td>https://blog.naver.com/llllllzhols/220526300154</td>\n",
              "      <td>음식 46개의 글\\n목록열기\\nbhc 맛쵸킹, 뿌링클 치킨,KGB 레몬, 부라더소다...</td>\n",
              "    </tr>\n",
              "    <tr>\n",
              "      <th>17</th>\n",
              "      <td>알쓰의 &lt;b&gt;맥주&lt;/b&gt; 도전기 - &lt;b&gt;KGB&lt;/b&gt; 레몬,크루저 블루베리&amp;amp...</td>\n",
              "      <td>https://blog.naver.com/eun-_woo_-170107/221308...</td>\n",
              "      <td>일상 29개의 글\\n목록닫기\\n글 제목\\n작성일\\n피자나라치킨공주 학익주안점 더블포...</td>\n",
              "    </tr>\n",
              "    <tr>\n",
              "      <th>18</th>\n",
              "      <td>1월 19일 일기: 종금양꼬치/ 하얼빈&lt;b&gt;맥주&lt;/b&gt;/ 돼지귀무침/ 아보카도눈</td>\n",
              "      <td>https://blog.naver.com/hdd0928/222626338010</td>\n",
              "      <td>💚 1.19\\n눈이 많이 온 날... \\n부산사람은 아직 눈이 오는게 좋아...\\n...</td>\n",
              "    </tr>\n",
              "    <tr>\n",
              "      <th>19</th>\n",
              "      <td>신포역 중앙동 메모리스 카페 부드러운 롤케이크, 수제&lt;b&gt;맥주&lt;/b&gt;</td>\n",
              "      <td>https://blog.naver.com/oahoaho/222687110367</td>\n",
              "      <td>안녕하세요 아웃님들 승구리입니다!\\n신포 국제시장 놀러갔다가\\n근처 예쁜 카페를 들...</td>\n",
              "    </tr>\n",
              "  </tbody>\n",
              "</table>\n",
              "</div>\n",
              "      <button class=\"colab-df-convert\" onclick=\"convertToInteractive('df-29ae6105-2017-40f9-b193-cc750a70cd10')\"\n",
              "              title=\"Convert this dataframe to an interactive table.\"\n",
              "              style=\"display:none;\">\n",
              "        \n",
              "  <svg xmlns=\"http://www.w3.org/2000/svg\" height=\"24px\"viewBox=\"0 0 24 24\"\n",
              "       width=\"24px\">\n",
              "    <path d=\"M0 0h24v24H0V0z\" fill=\"none\"/>\n",
              "    <path d=\"M18.56 5.44l.94 2.06.94-2.06 2.06-.94-2.06-.94-.94-2.06-.94 2.06-2.06.94zm-11 1L8.5 8.5l.94-2.06 2.06-.94-2.06-.94L8.5 2.5l-.94 2.06-2.06.94zm10 10l.94 2.06.94-2.06 2.06-.94-2.06-.94-.94-2.06-.94 2.06-2.06.94z\"/><path d=\"M17.41 7.96l-1.37-1.37c-.4-.4-.92-.59-1.43-.59-.52 0-1.04.2-1.43.59L10.3 9.45l-7.72 7.72c-.78.78-.78 2.05 0 2.83L4 21.41c.39.39.9.59 1.41.59.51 0 1.02-.2 1.41-.59l7.78-7.78 2.81-2.81c.8-.78.8-2.07 0-2.86zM5.41 20L4 18.59l7.72-7.72 1.47 1.35L5.41 20z\"/>\n",
              "  </svg>\n",
              "      </button>\n",
              "      \n",
              "  <style>\n",
              "    .colab-df-container {\n",
              "      display:flex;\n",
              "      flex-wrap:wrap;\n",
              "      gap: 12px;\n",
              "    }\n",
              "\n",
              "    .colab-df-convert {\n",
              "      background-color: #E8F0FE;\n",
              "      border: none;\n",
              "      border-radius: 50%;\n",
              "      cursor: pointer;\n",
              "      display: none;\n",
              "      fill: #1967D2;\n",
              "      height: 32px;\n",
              "      padding: 0 0 0 0;\n",
              "      width: 32px;\n",
              "    }\n",
              "\n",
              "    .colab-df-convert:hover {\n",
              "      background-color: #E2EBFA;\n",
              "      box-shadow: 0px 1px 2px rgba(60, 64, 67, 0.3), 0px 1px 3px 1px rgba(60, 64, 67, 0.15);\n",
              "      fill: #174EA6;\n",
              "    }\n",
              "\n",
              "    [theme=dark] .colab-df-convert {\n",
              "      background-color: #3B4455;\n",
              "      fill: #D2E3FC;\n",
              "    }\n",
              "\n",
              "    [theme=dark] .colab-df-convert:hover {\n",
              "      background-color: #434B5C;\n",
              "      box-shadow: 0px 1px 3px 1px rgba(0, 0, 0, 0.15);\n",
              "      filter: drop-shadow(0px 1px 2px rgba(0, 0, 0, 0.3));\n",
              "      fill: #FFFFFF;\n",
              "    }\n",
              "  </style>\n",
              "\n",
              "      <script>\n",
              "        const buttonEl =\n",
              "          document.querySelector('#df-29ae6105-2017-40f9-b193-cc750a70cd10 button.colab-df-convert');\n",
              "        buttonEl.style.display =\n",
              "          google.colab.kernel.accessAllowed ? 'block' : 'none';\n",
              "\n",
              "        async function convertToInteractive(key) {\n",
              "          const element = document.querySelector('#df-29ae6105-2017-40f9-b193-cc750a70cd10');\n",
              "          const dataTable =\n",
              "            await google.colab.kernel.invokeFunction('convertToInteractive',\n",
              "                                                     [key], {});\n",
              "          if (!dataTable) return;\n",
              "\n",
              "          const docLinkHtml = 'Like what you see? Visit the ' +\n",
              "            '<a target=\"_blank\" href=https://colab.research.google.com/notebooks/data_table.ipynb>data table notebook</a>'\n",
              "            + ' to learn more about interactive tables.';\n",
              "          element.innerHTML = '';\n",
              "          dataTable['output_type'] = 'display_data';\n",
              "          await google.colab.output.renderOutput(dataTable, element);\n",
              "          const docLink = document.createElement('div');\n",
              "          docLink.innerHTML = docLinkHtml;\n",
              "          element.appendChild(docLink);\n",
              "        }\n",
              "      </script>\n",
              "    </div>\n",
              "  </div>\n",
              "  "
            ]
          },
          "metadata": {},
          "execution_count": 13
        }
      ]
    },
    {
      "cell_type": "code",
      "source": [
        "# konply 설치"
      ],
      "metadata": {
        "id": "yZBzLgDm6OQc"
      },
      "execution_count": null,
      "outputs": []
    },
    {
      "cell_type": "code",
      "source": [
        "%%bash\n",
        "apt-get update\n",
        "apt-get install g++ openjdk-8-jdk python-dev python3-dev\n",
        "pip3 install JPype1\n",
        "pip3 install konlpy"
      ],
      "metadata": {
        "colab": {
          "base_uri": "https://localhost:8080/"
        },
        "id": "iKOiKHzM6Hj9",
        "outputId": "628e825c-4e2c-468e-b6d9-a4a8a643ea21"
      },
      "execution_count": 14,
      "outputs": [
        {
          "output_type": "stream",
          "name": "stdout",
          "text": [
            "Get:1 http://security.ubuntu.com/ubuntu bionic-security InRelease [88.7 kB]\n",
            "Hit:2 https://developer.download.nvidia.com/compute/cuda/repos/ubuntu1804/x86_64  InRelease\n",
            "Hit:3 https://cloud.r-project.org/bin/linux/ubuntu bionic-cran40/ InRelease\n",
            "Hit:4 http://archive.ubuntu.com/ubuntu bionic InRelease\n",
            "Ign:5 https://developer.download.nvidia.com/compute/machine-learning/repos/ubuntu1804/x86_64  InRelease\n",
            "Hit:6 https://developer.download.nvidia.com/compute/machine-learning/repos/ubuntu1804/x86_64  Release\n",
            "Get:7 http://archive.ubuntu.com/ubuntu bionic-updates InRelease [88.7 kB]\n",
            "Hit:8 http://ppa.launchpad.net/c2d4u.team/c2d4u4.0+/ubuntu bionic InRelease\n",
            "Get:9 http://archive.ubuntu.com/ubuntu bionic-backports InRelease [74.6 kB]\n",
            "Hit:10 http://ppa.launchpad.net/cran/libgit2/ubuntu bionic InRelease\n",
            "Hit:11 http://ppa.launchpad.net/deadsnakes/ppa/ubuntu bionic InRelease\n",
            "Hit:12 http://ppa.launchpad.net/graphics-drivers/ppa/ubuntu bionic InRelease\n",
            "Fetched 252 kB in 2s (102 kB/s)\n",
            "Reading package lists...\n",
            "Reading package lists...\n",
            "Building dependency tree...\n",
            "Reading state information...\n",
            "python-dev is already the newest version (2.7.15~rc1-1).\n",
            "g++ is already the newest version (4:7.4.0-1ubuntu2.3).\n",
            "g++ set to manually installed.\n",
            "python3-dev is already the newest version (3.6.7-1~18.04).\n",
            "python3-dev set to manually installed.\n",
            "The following packages were automatically installed and are no longer required:\n",
            "  libnvidia-common-460 nsight-compute-2020.2.0\n",
            "Use 'apt autoremove' to remove them.\n",
            "The following additional packages will be installed:\n",
            "  fonts-dejavu-core fonts-dejavu-extra libatk-wrapper-java\n",
            "  libatk-wrapper-java-jni libgail-common libgail18 libgtk2.0-0 libgtk2.0-bin\n",
            "  libgtk2.0-common libxxf86dga1 openjdk-8-jdk-headless openjdk-8-jre\n",
            "  openjdk-8-jre-headless x11-utils\n",
            "Suggested packages:\n",
            "  gvfs openjdk-8-demo openjdk-8-source visualvm icedtea-8-plugin libnss-mdns\n",
            "  fonts-ipafont-gothic fonts-ipafont-mincho fonts-wqy-microhei\n",
            "  fonts-wqy-zenhei fonts-indic mesa-utils\n",
            "The following NEW packages will be installed:\n",
            "  fonts-dejavu-core fonts-dejavu-extra libatk-wrapper-java\n",
            "  libatk-wrapper-java-jni libgail-common libgail18 libgtk2.0-0 libgtk2.0-bin\n",
            "  libgtk2.0-common libxxf86dga1 openjdk-8-jdk openjdk-8-jdk-headless\n",
            "  openjdk-8-jre openjdk-8-jre-headless x11-utils\n",
            "0 upgraded, 15 newly installed, 0 to remove and 54 not upgraded.\n",
            "Need to get 43.5 MB of archives.\n",
            "After this operation, 163 MB of additional disk space will be used.\n",
            "Get:1 http://archive.ubuntu.com/ubuntu bionic/main amd64 libxxf86dga1 amd64 2:1.1.4-1 [13.7 kB]\n",
            "Get:2 http://archive.ubuntu.com/ubuntu bionic/main amd64 fonts-dejavu-core all 2.37-1 [1,041 kB]\n",
            "Get:3 http://archive.ubuntu.com/ubuntu bionic/main amd64 fonts-dejavu-extra all 2.37-1 [1,953 kB]\n",
            "Get:4 http://archive.ubuntu.com/ubuntu bionic/main amd64 x11-utils amd64 7.7+3build1 [196 kB]\n",
            "Get:5 http://archive.ubuntu.com/ubuntu bionic/main amd64 libatk-wrapper-java all 0.33.3-20ubuntu0.1 [34.7 kB]\n",
            "Get:6 http://archive.ubuntu.com/ubuntu bionic/main amd64 libatk-wrapper-java-jni amd64 0.33.3-20ubuntu0.1 [28.3 kB]\n",
            "Get:7 http://archive.ubuntu.com/ubuntu bionic/main amd64 libgtk2.0-common all 2.24.32-1ubuntu1 [125 kB]\n",
            "Get:8 http://archive.ubuntu.com/ubuntu bionic/main amd64 libgtk2.0-0 amd64 2.24.32-1ubuntu1 [1,769 kB]\n",
            "Get:9 http://archive.ubuntu.com/ubuntu bionic/main amd64 libgail18 amd64 2.24.32-1ubuntu1 [14.2 kB]\n",
            "Get:10 http://archive.ubuntu.com/ubuntu bionic/main amd64 libgail-common amd64 2.24.32-1ubuntu1 [112 kB]\n",
            "Get:11 http://archive.ubuntu.com/ubuntu bionic/main amd64 libgtk2.0-bin amd64 2.24.32-1ubuntu1 [7,536 B]\n",
            "Get:12 http://archive.ubuntu.com/ubuntu bionic-updates/universe amd64 openjdk-8-jre-headless amd64 8u312-b07-0ubuntu1~18.04 [28.2 MB]\n",
            "Get:13 http://archive.ubuntu.com/ubuntu bionic-updates/universe amd64 openjdk-8-jre amd64 8u312-b07-0ubuntu1~18.04 [69.6 kB]\n",
            "Get:14 http://archive.ubuntu.com/ubuntu bionic-updates/universe amd64 openjdk-8-jdk-headless amd64 8u312-b07-0ubuntu1~18.04 [8,298 kB]\n",
            "Get:15 http://archive.ubuntu.com/ubuntu bionic-updates/universe amd64 openjdk-8-jdk amd64 8u312-b07-0ubuntu1~18.04 [1,625 kB]\n",
            "Fetched 43.5 MB in 1s (40.0 MB/s)\n",
            "Selecting previously unselected package libxxf86dga1:amd64.\r\n",
            "(Reading database ... \r(Reading database ... 5%\r(Reading database ... 10%\r(Reading database ... 15%\r(Reading database ... 20%\r(Reading database ... 25%\r(Reading database ... 30%\r(Reading database ... 35%\r(Reading database ... 40%\r(Reading database ... 45%\r(Reading database ... 50%\r(Reading database ... 55%\r(Reading database ... 60%\r(Reading database ... 65%\r(Reading database ... 70%\r(Reading database ... 75%\r(Reading database ... 80%\r(Reading database ... 85%\r(Reading database ... 90%\r(Reading database ... 95%\r(Reading database ... 100%\r(Reading database ... 155326 files and directories currently installed.)\r\n",
            "Preparing to unpack .../00-libxxf86dga1_2%3a1.1.4-1_amd64.deb ...\r\n",
            "Unpacking libxxf86dga1:amd64 (2:1.1.4-1) ...\r\n",
            "Selecting previously unselected package fonts-dejavu-core.\r\n",
            "Preparing to unpack .../01-fonts-dejavu-core_2.37-1_all.deb ...\r\n",
            "Unpacking fonts-dejavu-core (2.37-1) ...\r\n",
            "Selecting previously unselected package fonts-dejavu-extra.\r\n",
            "Preparing to unpack .../02-fonts-dejavu-extra_2.37-1_all.deb ...\r\n",
            "Unpacking fonts-dejavu-extra (2.37-1) ...\r\n",
            "Selecting previously unselected package x11-utils.\r\n",
            "Preparing to unpack .../03-x11-utils_7.7+3build1_amd64.deb ...\r\n",
            "Unpacking x11-utils (7.7+3build1) ...\r\n",
            "Selecting previously unselected package libatk-wrapper-java.\r\n",
            "Preparing to unpack .../04-libatk-wrapper-java_0.33.3-20ubuntu0.1_all.deb ...\r\n",
            "Unpacking libatk-wrapper-java (0.33.3-20ubuntu0.1) ...\r\n",
            "Selecting previously unselected package libatk-wrapper-java-jni:amd64.\r\n",
            "Preparing to unpack .../05-libatk-wrapper-java-jni_0.33.3-20ubuntu0.1_amd64.deb ...\r\n",
            "Unpacking libatk-wrapper-java-jni:amd64 (0.33.3-20ubuntu0.1) ...\r\n",
            "Selecting previously unselected package libgtk2.0-common.\r\n",
            "Preparing to unpack .../06-libgtk2.0-common_2.24.32-1ubuntu1_all.deb ...\r\n",
            "Unpacking libgtk2.0-common (2.24.32-1ubuntu1) ...\r\n",
            "Selecting previously unselected package libgtk2.0-0:amd64.\r\n",
            "Preparing to unpack .../07-libgtk2.0-0_2.24.32-1ubuntu1_amd64.deb ...\r\n",
            "Unpacking libgtk2.0-0:amd64 (2.24.32-1ubuntu1) ...\r\n",
            "Selecting previously unselected package libgail18:amd64.\r\n",
            "Preparing to unpack .../08-libgail18_2.24.32-1ubuntu1_amd64.deb ...\r\n",
            "Unpacking libgail18:amd64 (2.24.32-1ubuntu1) ...\r\n",
            "Selecting previously unselected package libgail-common:amd64.\r\n",
            "Preparing to unpack .../09-libgail-common_2.24.32-1ubuntu1_amd64.deb ...\r\n",
            "Unpacking libgail-common:amd64 (2.24.32-1ubuntu1) ...\r\n",
            "Selecting previously unselected package libgtk2.0-bin.\r\n",
            "Preparing to unpack .../10-libgtk2.0-bin_2.24.32-1ubuntu1_amd64.deb ...\r\n",
            "Unpacking libgtk2.0-bin (2.24.32-1ubuntu1) ...\r\n",
            "Selecting previously unselected package openjdk-8-jre-headless:amd64.\r\n",
            "Preparing to unpack .../11-openjdk-8-jre-headless_8u312-b07-0ubuntu1~18.04_amd64.deb ...\r\n",
            "Unpacking openjdk-8-jre-headless:amd64 (8u312-b07-0ubuntu1~18.04) ...\r\n",
            "Selecting previously unselected package openjdk-8-jre:amd64.\r\n",
            "Preparing to unpack .../12-openjdk-8-jre_8u312-b07-0ubuntu1~18.04_amd64.deb ...\r\n",
            "Unpacking openjdk-8-jre:amd64 (8u312-b07-0ubuntu1~18.04) ...\r\n",
            "Selecting previously unselected package openjdk-8-jdk-headless:amd64.\r\n",
            "Preparing to unpack .../13-openjdk-8-jdk-headless_8u312-b07-0ubuntu1~18.04_amd64.deb ...\r\n",
            "Unpacking openjdk-8-jdk-headless:amd64 (8u312-b07-0ubuntu1~18.04) ...\r\n",
            "Selecting previously unselected package openjdk-8-jdk:amd64.\r\n",
            "Preparing to unpack .../14-openjdk-8-jdk_8u312-b07-0ubuntu1~18.04_amd64.deb ...\r\n",
            "Unpacking openjdk-8-jdk:amd64 (8u312-b07-0ubuntu1~18.04) ...\r\n",
            "Setting up libgtk2.0-common (2.24.32-1ubuntu1) ...\r\n",
            "Setting up fonts-dejavu-core (2.37-1) ...\r\n",
            "Setting up libxxf86dga1:amd64 (2:1.1.4-1) ...\r\n",
            "Setting up fonts-dejavu-extra (2.37-1) ...\r\n",
            "Setting up openjdk-8-jre-headless:amd64 (8u312-b07-0ubuntu1~18.04) ...\r\n",
            "update-alternatives: using /usr/lib/jvm/java-8-openjdk-amd64/jre/bin/orbd to provide /usr/bin/orbd (orbd) in auto mode\r\n",
            "update-alternatives: using /usr/lib/jvm/java-8-openjdk-amd64/jre/bin/servertool to provide /usr/bin/servertool (servertool) in auto mode\r\n",
            "update-alternatives: using /usr/lib/jvm/java-8-openjdk-amd64/jre/bin/tnameserv to provide /usr/bin/tnameserv (tnameserv) in auto mode\r\n",
            "Setting up libgtk2.0-0:amd64 (2.24.32-1ubuntu1) ...\r\n",
            "Setting up libgail18:amd64 (2.24.32-1ubuntu1) ...\r\n",
            "Setting up openjdk-8-jdk-headless:amd64 (8u312-b07-0ubuntu1~18.04) ...\r\n",
            "update-alternatives: using /usr/lib/jvm/java-8-openjdk-amd64/bin/idlj to provide /usr/bin/idlj (idlj) in auto mode\r\n",
            "update-alternatives: using /usr/lib/jvm/java-8-openjdk-amd64/bin/wsimport to provide /usr/bin/wsimport (wsimport) in auto mode\r\n",
            "update-alternatives: using /usr/lib/jvm/java-8-openjdk-amd64/bin/jsadebugd to provide /usr/bin/jsadebugd (jsadebugd) in auto mode\r\n",
            "update-alternatives: using /usr/lib/jvm/java-8-openjdk-amd64/bin/native2ascii to provide /usr/bin/native2ascii (native2ascii) in auto mode\r\n",
            "update-alternatives: using /usr/lib/jvm/java-8-openjdk-amd64/bin/javah to provide /usr/bin/javah (javah) in auto mode\r\n",
            "update-alternatives: using /usr/lib/jvm/java-8-openjdk-amd64/bin/hsdb to provide /usr/bin/hsdb (hsdb) in auto mode\r\n",
            "update-alternatives: using /usr/lib/jvm/java-8-openjdk-amd64/bin/clhsdb to provide /usr/bin/clhsdb (clhsdb) in auto mode\r\n",
            "update-alternatives: using /usr/lib/jvm/java-8-openjdk-amd64/bin/xjc to provide /usr/bin/xjc (xjc) in auto mode\r\n",
            "update-alternatives: using /usr/lib/jvm/java-8-openjdk-amd64/bin/schemagen to provide /usr/bin/schemagen (schemagen) in auto mode\r\n",
            "update-alternatives: using /usr/lib/jvm/java-8-openjdk-amd64/bin/extcheck to provide /usr/bin/extcheck (extcheck) in auto mode\r\n",
            "update-alternatives: using /usr/lib/jvm/java-8-openjdk-amd64/bin/jhat to provide /usr/bin/jhat (jhat) in auto mode\r\n",
            "update-alternatives: using /usr/lib/jvm/java-8-openjdk-amd64/bin/wsgen to provide /usr/bin/wsgen (wsgen) in auto mode\r\n",
            "Setting up x11-utils (7.7+3build1) ...\r\n",
            "Setting up libgail-common:amd64 (2.24.32-1ubuntu1) ...\r\n",
            "Setting up libatk-wrapper-java (0.33.3-20ubuntu0.1) ...\r\n",
            "Setting up libgtk2.0-bin (2.24.32-1ubuntu1) ...\r\n",
            "Setting up libatk-wrapper-java-jni:amd64 (0.33.3-20ubuntu0.1) ...\r\n",
            "Setting up openjdk-8-jre:amd64 (8u312-b07-0ubuntu1~18.04) ...\r\n",
            "update-alternatives: using /usr/lib/jvm/java-8-openjdk-amd64/jre/bin/policytool to provide /usr/bin/policytool (policytool) in auto mode\r\n",
            "Setting up openjdk-8-jdk:amd64 (8u312-b07-0ubuntu1~18.04) ...\r\n",
            "update-alternatives: using /usr/lib/jvm/java-8-openjdk-amd64/bin/appletviewer to provide /usr/bin/appletviewer (appletviewer) in auto mode\r\n",
            "update-alternatives: using /usr/lib/jvm/java-8-openjdk-amd64/bin/jconsole to provide /usr/bin/jconsole (jconsole) in auto mode\r\n",
            "Processing triggers for man-db (2.8.3-2ubuntu0.1) ...\r\n",
            "Processing triggers for hicolor-icon-theme (0.17-2) ...\r\n",
            "Processing triggers for fontconfig (2.12.6-0ubuntu2) ...\r\n",
            "Processing triggers for mime-support (3.60ubuntu1) ...\r\n",
            "Processing triggers for libc-bin (2.27-3ubuntu1.3) ...\r\n",
            "/sbin/ldconfig.real: /usr/local/lib/python3.7/dist-packages/ideep4py/lib/libmkldnn.so.0 is not a symbolic link\r\n",
            "\r\n",
            "Collecting JPype1\n",
            "  Downloading JPype1-1.3.0-cp37-cp37m-manylinux_2_5_x86_64.manylinux1_x86_64.whl (448 kB)\n",
            "Requirement already satisfied: typing-extensions in /usr/local/lib/python3.7/dist-packages (from JPype1) (4.2.0)\n",
            "Installing collected packages: JPype1\n",
            "Successfully installed JPype1-1.3.0\n",
            "Collecting konlpy\n",
            "  Downloading konlpy-0.6.0-py2.py3-none-any.whl (19.4 MB)\n",
            "Requirement already satisfied: lxml>=4.1.0 in /usr/local/lib/python3.7/dist-packages (from konlpy) (4.2.6)\n",
            "Requirement already satisfied: JPype1>=0.7.0 in /usr/local/lib/python3.7/dist-packages (from konlpy) (1.3.0)\n",
            "Requirement already satisfied: numpy>=1.6 in /usr/local/lib/python3.7/dist-packages (from konlpy) (1.21.6)\n",
            "Requirement already satisfied: typing-extensions in /usr/local/lib/python3.7/dist-packages (from JPype1>=0.7.0->konlpy) (4.2.0)\n",
            "Installing collected packages: konlpy\n",
            "Successfully installed konlpy-0.6.0\n"
          ]
        }
      ]
    },
    {
      "cell_type": "code",
      "source": [
        "# JAVA_HOME 환경변수 설정하기\n",
        "\n",
        "%env JAVA_HOME \"/usr/lib/jvm/java-8-openjdk-amd64\""
      ],
      "metadata": {
        "colab": {
          "base_uri": "https://localhost:8080/"
        },
        "id": "wBLhO3Xo6JJv",
        "outputId": "35968440-0087-4bbb-ae51-d133d8153b7b"
      },
      "execution_count": 15,
      "outputs": [
        {
          "output_type": "stream",
          "name": "stdout",
          "text": [
            "env: JAVA_HOME=\"/usr/lib/jvm/java-8-openjdk-amd64\"\n"
          ]
        }
      ]
    },
    {
      "cell_type": "code",
      "source": [
        "from wordcloud import WordCloud\n",
        "import matplotlib.pyplot as plt\n",
        "from collections import Counter\n",
        "from konlpy.tag import Okt\n",
        "from PIL import Image\n",
        "import numpy as np"
      ],
      "metadata": {
        "id": "44sPXw8H6BAd"
      },
      "execution_count": 16,
      "outputs": []
    },
    {
      "cell_type": "code",
      "source": [
        "contents_str = \"\".join(contents)"
      ],
      "metadata": {
        "id": "o6XNhUmr6uow"
      },
      "execution_count": 17,
      "outputs": []
    },
    {
      "cell_type": "code",
      "source": [
        "okt = Okt()\n",
        "nouns = okt.nouns(contents_str) # 명사만 추출\n",
        "\n",
        "words = [n for n in nouns if len(n) > 1] # 단어의 길이가 1개인 것은 제외\n",
        "\n",
        "c = Counter(words) # 위에서 얻은 words를 처리하여 단어별 빈도수 형태의 딕셔너리 데이터를 구함"
      ],
      "metadata": {
        "id": "ZmFRjZNL6JOS"
      },
      "execution_count": 18,
      "outputs": []
    },
    {
      "cell_type": "code",
      "source": [
        "print(c)"
      ],
      "metadata": {
        "colab": {
          "base_uri": "https://localhost:8080/"
        },
        "id": "dR5gGRMi8za_",
        "outputId": "a6e3e362-af88-43ea-8c79-ddded3e87f20"
      },
      "execution_count": 19,
      "outputs": [
        {
          "output_type": "stream",
          "name": "stdout",
          "text": [
            "Counter({'맥주': 259, '레몬': 57, '후기': 34, '알콜': 33, '카페': 27, '하나': 21, '생각': 21, '블로그': 20, '물건': 19, '다음': 19, '메모리스': 19, '피자': 18, '그냥': 18, '도수': 18, '포장이사': 18, '수입': 18, '안주': 17, '친구': 17, '조금': 17, '종류': 17, '신포역': 16, '보기': 15, '처음': 15, '세계': 15, '추천': 15, '사이다': 15, '일상': 15, '보고': 14, '정말': 14, '정도': 14, '달달': 14, '편의점': 13, '사실': 13, '느낌': 13, '오늘': 13, '맛집': 12, '역시': 11, '바로': 11, '도전': 11, '일단': 11, '다른': 11, '완전': 11, '이사': 11, '먼저': 11, '사람': 10, '가격': 10, '사진': 10, '준비': 10, '전체': 10, '진짜': 10, '카스': 10, '보드카': 10, '탄산': 10, '공감': 10, '자몽': 10, '곰표': 10, '불닭': 10, '중앙': 10, '상큼': 9, '뭔가': 9, '시간': 9, '하이네켄': 9, '때문': 9, '원래': 9, '메뉴': 9, '약간': 9, '음료수': 9, '사과': 9, '목록': 9, '댓글': 9, '메모': 9, '인쇄': 9, '카테고리': 9, '이전': 9, '와인': 9, '과일': 9, '기분': 9, '크루저': 9, '치킨': 9, '치즈': 8, '리뷰': 8, '소주': 8, '매장': 8, '우리': 8, '등등': 8, '살짝': 8, '지금': 8, '원룸': 8, '열기': 8, '구매': 8, '포스팅': 8, '제품': 8, '제일': 8, '요즘': 8, '주문': 8, '녹차': 8, '아주': 7, '크림': 7, '가지': 7, '배달': 7, '음식': 7, '업체': 7, '어제': 7, '칭따오': 7, '롤케이크': 7, '포장': 6, '참고': 6, '먹기': 6, '전문점': 6, '냉장고': 6, '일반': 6, '직원': 6, '써머': 6, '기준': 6, '쓰레기': 6, '마트': 6, '이번': 6, '말표': 6, '음료': 6, '빈땅': 6, '저희': 6, '흑임자': 6, '선물': 5, '딸기': 5, '타르트': 5, '가득': 5, '지인': 5, '편이': 5, '비교': 5, '알코올': 5, '얼굴': 5, '혹시': 5, '얼마': 5, '이용': 5, '정리': 5, '감동': 5, '여러분': 5, '봉투': 5, '청포도': 5, '보리': 5, '특유': 5, '꼬치': 5, '펀치': 5, '클라우드': 5, '쓴맛': 5, '프랑스': 5, '공지': 5, '과실주': 5, '취하': 5, '하리': 5, '트롤': 5, '브루': 5, '인생': 5, '정보': 5, '추가': 5, '미노': 5, '링클': 5, '기네스': 5, '단점': 5, '라떼': 5, '디저트': 4, '입안': 4, '거의': 4, '선택': 4, '내부': 4, '다트': 4, '인치': 4, '위해': 4, '그것': 4, '스비': 4, '별로': 4, '물품': 4, '서비스': 4, '종량제': 4, '박스': 4, '건가': 4, '용량': 4, '칵테일': 4, '기억': 4, '주관': 4, '스트레스': 4, '망고': 4, '주변': 4, '거리': 4, '이름': 4, '에일': 4, '라거': 4, '다다': 4, '여자': 4, '오스트리아': 4, '함량': 4, '거품': 4, '개인': 4, '키즈': 4, '이야기': 4, '판매': 4, '취향': 4, '거부': 4, '할인': 4, '시작': 4, '마쵸킹': 4, '블루베리': 4, '리지': 4, '중구': 4, '인천': 4, '카라멜': 4, '우선': 3, '이면': 3, '버터': 3, '저녁': 3, '산책': 3, '고민': 3, '평소': 3, '소독': 3, '영업': 3, '번길': 3, '피맥': 3, '위치': 3, '가게': 3, '보통': 3, '크게': 3, '절대': 3, '내기': 3, '해도': 3, '바구니': 3, '핫소스': 3, '피클': 3, '항상': 3, '커서': 3, '크기': 3, '마시기': 3, '난로': 3, '이건': 3, '꿀팁': 3, '옵션': 3, '하루': 3, '확인': 3, '전화': 3, '남자': 3, '도착': 3, '이기': 3, '고생': 3, '따라서': 3, '귀중': 3, '다시': 3, '러부랭': 3, '과즙': 3, '그대로': 3, '원산지': 3, '이상': 3, '레몬이': 3, '평택': 3, '기도': 3, '디자인': 3, '무조건': 3, '그때': 3, '인토': 3, '아리': 3, '쓰기': 3, '최근': 3, '입맛': 3, '떡볶이': 3, '이슬': 3, '톡톡': 3, '색깔': 3, '요약': 3, '마가리타': 3, '퇴근': 3, '다가': 3, '길맥': 3, '아이': 3, '한번': 3, '스파클링': 3, '생활': 3, '에델바이스': 3, '주말': 3, '네이버': 3, '깜짝': 3, '홀짝': 3, '행사': 3, '숙취': 3, '솔직': 3, '토닉': 3, '은근': 3, '가장': 3, '예전': 3, '자주': 3, '브라더': 3, '비율': 3, '순수': 3, '파티': 3, '미만': 3, '코젤': 3, '롤쉬': 3, '제로': 3, '패키지': 3, '결정': 3, '여기': 3, '동영상': 3, '맛쵸킹': 3, '부라': 3, '느님': 3, '울산': 3, '비주': 3, '광고': 3, '튀김': 3, '라즈베리': 3, '또한': 3, '신포': 3, '한잔': 3, '솔티드생': 3, '퀸즈': 2, '나름': 2, '대충': 2, '자칫하면': 2, '달콤': 2, '초코': 2, '초크': 2, '과자': 2, '이제': 2, '갑자기': 2, '가기': 2, '꼴깍': 2, '냄새': 2, '끝맛': 2, '검색': 2, '실패': 2, '버드와이저': 2, '사이즈': 2, '조합': 2, '치맥': 2, '심플': 2, '좌석': 2, '자리': 2, '저걸': 2, '고모': 2, '술자리': 2, '기본': 2, '모임': 2, '게임': 2, '술값': 2, '내면': 2, '수다': 2, '가면': 2, '하필': 2, '수제': 2, '가도': 2, '하나로': 2, '팝콘': 2, '대지': 2, '전용': 2, '저런': 2, '조각': 2, '아마': 2, '도우': 2, '토핑': 2, '경우': 2, '혼술': 2, '효과': 2, '대면': 2, '취한': 2, '마슀다': 2, '당신': 2, '나중': 2, '초록색': 2, '그게': 2, '정신': 2, '진행': 2, '침대': 2, '거울': 2, '기류': 2, '전부': 2, '상담': 2, '걱정': 2, '분도': 2, '이서': 2, '봉지': 2, '모습': 2, '타고': 2, '거구': 2, '신발': 2, '범주': 2, '화장품': 2, '풀때': 2, '분실': 2, '동안': 2, '거나': 2, '최소': 2, '말씀': 2, '간다': 2, '후다닥': 2, '천연': 2, '첨가': 2, '뉴질랜드': 2, '설탕': 2, '포함': 2, '결혼': 2, '만원': 2, '낱개': 2, '사면': 2, '취할': 2, '나머지': 2, '땅콩': 2, '신랑': 2, '신세계': 2, '잇님들': 2, '두번째': 2, '부부': 2, '케익': 2, '입문': 2, '맛보기': 2, '열정': 2, '대표': 2, '얘기': 2, '블로거': 2, '옛날': 2, '사이': 2, '닭발': 2, '넘김': 2, '충격': 2, '콜라보': 2, '불닭볶음면': 2, '또미': 2, '안녕': 2, '면서': 2, '잠깐': 2, '오히려': 2, '는걸': 2, '슬래머': 2, '축구장': 2, '대낮': 2, '엄마': 2, '케지비': 2, '애플사': 2, '모두': 2, '밀러': 2, '언니': 2, '며칠': 2, '일전': 2, '대해': 2, '매일': 2, '나라': 2, '무슨': 2, '호가든': 2, '시카고': 2, '나이트': 2, '라이트': 2, '칠성사': 2, '수가': 2, '기존': 2, '투명': 2, '바보': 2, '이벤트': 2, '참여': 2, '입성': 2, '최고': 2, '과실': 2, '소개': 2, '설명': 2, '만족': 2, '발효': 2, '얼음': 2, '비도': 2, '발견': 2, '신상': 2, '신맛': 2, '런가': 2, '분명': 2, '가성': 2, '각각': 2, '스타': 2, '피로': 2, '회복': 2, '어른': 2, '가끔': 2, '워터': 2, '복사': 2, '이웃': 2, '군산': 2, '닭강정': 2, '시국': 2, '무알맥': 2, '인터넷': 2, '도인': 2, '임신': 2, '에딩거': 2, '다크': 2, '난생': 2, '호불호': 2, '인기': 2, '애플': 2, '입사': 2, '동기': 2, '합격': 2, '화질': 2, '더소': 2, '사서': 2, '우정': 2, '코스트코': 2, '빵꾸': 2, '신제품': 2, '고추': 2, '대파': 2, '소스': 2, '매콤': 2, '보이': 2, '기장': 2, '대게': 2, '막창': 2, '제목': 2, '순대': 2, '식당': 2, '문득': 2, '어머니': 2, '베이스': 2, '공통': 2, '페리페라': 2, '잉크': 2, '에어리': 2, '벨벳': 2, '가발': 2, '결제': 2, '옥수수': 2, '방기': 2, '스윙': 2, '아웃': 2, '구리': 2, '출구': 2, '도보': 2, '신포동': 2, '공영': 2, '주차장': 2, '공짜': 2, '팔고': 2, '생크림': 2, '커피': 2, '덕후': 2, '감성': 2, '개항': 2, '광주': 1, '수완': 1, '지구': 1, '정성': 1, '빼곡': 1, '라면': 1, '에그타르트': 1, '국밥': 1, '읍읍': 1, '거두': 1, '절미': 1, '포크': 1, '필링': 1, '미가': 1, '되새김질': 1, '정답': 1, '어무': 1, '아부지': 1, '고오': 1, '링맛': 1, '굿굿': 1, '굿일': 1, '마다': 1, '이유': 1, '사려': 1, '대체로': 1, '편점': 1, '슈퍼': 1, '양심': 1, '먹방': 1, '한장': 1, '찍어쥬': 1, '치익': 1, '츄릅': 1, '레몬에이드': 1, '탄산음료': 1, '흡사': 1, '아우': 1, '분노': 1, '폭풍': 1, '결과': 1, '보드': 1, '병원': 1, '주사': 1, '리얼': 1, '이후': 1, '미스': 1, '핫바': 1, '초대형': 1, '연중': 1, '전화번호': 1, '중동': 1, '경기도': 1, '부천시': 1, '중동로': 1, '최강': 1, '대신': 1, '술집': 1, '신중동역': 1, '맥도날드': 1, '부근': 1, '구조': 1, '단체': 1, '이어진': 1, '인용': 1, '안내': 1, '계산': 1, '후불': 1, '분과': 1, '생맥': 1, '액체': 1, '뒤편': 1, '대가': 1, '누구': 1, '각종': 1, '트로피': 1, '차등': 1, '병따개': 1, '전문': 1, '또르르': 1, '어차피': 1, '빅사': 1, '이즈': 1, '반입': 1, '주소': 1, '기회': 1, '불구': 1, '마자': 1, '가늠': 1, '손보': 1, '쟁반': 1, '특수': 1, '제작': 1, '듬뿍': 1, '뿜뿜': 1, '요청': 1, '여유': 1, '머드': 1, '쉐이크': 1, '매우': 1, '맞이': 1, '고심': 1, '마냥': 1, '코로나': 1, '마스크': 1, '써머스비': 1, '고대': 1, '이상인': 1, '권장': 1, '평수': 1, '전자레인지': 1, '공기청정기': 1, '화분': 1, '가요': 1, '누락': 1, '전혀': 1, '짱짱': 1, '이사일': 1, '예약': 1, '난뒤': 1, '일자': 1, '당일': 1, '성인': 1, '여서': 1, '가구': 1, '대략': 1, '여기저기': 1, '달인': 1, '챡챡': 1, '얼마나': 1, '놀림': 1, '와인잔': 1, '맥주잔': 1, '뽁뽁이': 1, '향초': 1, '뽁뽁히': 1, '제방': 1, '카페트': 1, '둘둘': 1, '차량': 1, '이구': 1, '대중교통': 1, '목적지': 1, '차이': 1, '수령': 1, '전달': 1, '관계자': 1, '감사': 1, '드릴': 1, '다만': 1, '최대한': 1, '고장': 1, '우산': 1, '규조토': 1, '매트': 1, '각자': 1, '집안': 1, '사정': 1, '전입': 1, '동사무소': 1, '지역': 1, '사용': 1, '하니': 1, '마구잡이': 1, '사리': 1, '구류': 1, '동사': 1, '보관': 1, '수고': 1, '세배': 1, '속옷': 1, '도난': 1, '우려': 1, '전날': 1, '비우기': 1, '이동': 1, '상하': 1, '음식물': 1, '해주시': 1, '내내': 1, '햇다': 1, '결론': 1, '이탈리아': 1, '위드': 1, '성분': 1, '구연산': 1, '배정': 1, '엿다': 1, '케이즤비': 1, '감안': 1, '견해': 1, '보지': 1, '필요': 1, '새댁': 1, '개월차': 1, '주제': 1, '월드': 1, '생기': 1, '시금치': 1, '하하': 1, '어째뚠': 1, '가까이': 1, '템트': 1, '스트로베리': 1, '라임': 1, '냉큼냉큼': 1, '의의': 1, '제발': 1, '술상': 1, '차려': 1, '닭다리': 1, '라며': 1, '신혼여행': 1, '비행기': 1, '호텔': 1, '세상': 1, '편견': 1, '대요': 1, '여태': 1, '남편': 1, '고구마': 1, '캔더': 1, '맛좀': 1, '머금으': 1, '다행': 1, '어린이': 1, '의사': 1, '오버': 1, '맑은': 1, '제자': 1, '키세': 1, '트리': 1, '크리스마스': 1, '파리': 1, '바케트': 1, '루피': 1, '모자': 1, '아이스와인': 1, '프롱드': 1, '브라': 1, '케토': 1, '이줭': 1, '기록': 1, '조화': 1, '크랜베리': 1, '평점': 1, '페이스북': 1, '또쪽': 1, '굳이': 1, '만들기': 1, '존재': 1, '재미': 1, '맥쭈': 1, '엽떡': 1, '벌써': 1, '초점': 1, '썸넬': 1, '뿌렝드': 1, '밀로': 1, '일지': 1, '전형': 1, '왜냐면': 1, '타이거': 1, '혼자': 1, '오렌지색': 1, '브루잉': 1, '기업': 1, '삼양': 1, '관심': 1, '팩폭': 1, '가염': 1, '궁합': 1, '개발': 1, '끼리끼리': 1, '우린': 1, '마넌': 1, '실화': 1, '졸업': 1, '페스티벌': 1, '모자이크': 1, '머선': 1, '일이': 1, '웁니': 1, '더욱': 1, '맹신': 1, '호호': 1, '아시': 1, '깔꼼하': 1, '식이': 1, '조절': 1, '점점': 1, '동시': 1, '라이딩': 1, '상상': 1, '여름': 1, '휴가': 1, '모래사장': 1, '다이닝': 1, '리타': 1, '낮술': 1, '인척': 1, '임뽕': 1, '술맛': 1, '자고': 1, '초록': 1, '머선맛': 1, '구입': 1, '가을': 1, '침략': 1, '인도': 1, '다섯': 1, '장갑': 1, '개월': 1, '둘의': 1, '안드로메다': 1, '비애': 1, '플사': 1, '요새': 1, '미세먼지': 1, '하늘': 1, '날씨': 1, '대형': 1, '코너': 1, '거만': 1, '찰나': 1, '독일': 1, '미국': 1, '벨기에': 1, '아일랜드': 1, '네덜란드': 1, '인식': 1, '와이프': 1, '한참': 1, '꿀향': 1, '파다': 1, '진동': 1, '가향': 1, '중점': 1, '여성': 1, '서유기': 1, '송민호': 1, '임플란트': 1, '드립': 1, '세종시': 1, '호수': 1, '공원': 1, '조깅': 1, '야경': 1, '미드': 1, '시리즈': 1, '증말': 1, '유튜브': 1, '생맥주': 1, '기계': 1, '이마트': 1, '광경': 1, '목격': 1, '글쎄': 1, '나이트로': 1, '글자': 1, '출시': 1, '노란색': 1, '와중': 1, '마이크': 1, '대반': 1, '심정': 1, '하라': 1, '첫인상': 1, '발짝': 1, '강추': 1, '입술': 1, '안이': 1, '적함': 1, '애초': 1, '시험': 1, '기간': 1, '시후': 1, '레쉬': 1, '롯데': 1, '기쁨': 1, '뒷이야기': 1, '등장': 1, '축하': 1, '뚜룹뚜룹': 1, '벤트': 1, '편임': 1, '초반': 1, '노래': 1, '중반': 1, '심취': 1, '살의': 1, '꽃띠': 1, '구구': 1, '탐방': 1, '모든': 1, '사기': 1, '시도': 1, '덴마크': 1, '향기': 1, '배맛': 1, '도나': 1, '거머': 1, '캔디': 1, '자꾸': 1, '향수': 1, '날듯': 1, '수록': 1, '이드': 1, '제조': 1, '향료': 1, '섬머스비잔': 1, '섬머': 1, '캔들': 1, '단독': 1, '끄릉끄릉': 1, '김치찌개': 1, '해장': 1, '머리': 1, '정복': 1, '홀린': 1, '중인': 1, '도면': 1, '과연': 1, '인증샷': 1, '안나': 1, '저격': 1, '본인': 1, '평상시': 1, '무작정': 1, '탄산수': 1, '수도': 1, '만취': 1, '장난': 1, '탈출': 1, '구로': 1, '이해': 1, '결심': 1, '라서': 1, '스펙': 1, '볼링장': 1, '계열': 1, '술찌랭이': 1, '부담': 1, '프로': 1, '혼술러': 1, '보더': 1, '어쩌': 1, '아쉬움': 1, '오렌지': 1, '이열치열': 1, '간혹': 1, '보이지': 1, '대체': 1, '엑스': 1, '레이티': 1, '금주': 1, '권유': 1, '간간이': 1, '존맛': 1, '꿀임': 1, '마는': 1, '건강': 1, '바다': 1, '지난': 1, '만남': 1, '랍니당': 1, '나기': 1, '월요일': 1, '블루문': 1, '돌잔치': 1, '스텔라': 1, '아르투아': 1, '속초': 1, '만석': 1, '미밈': 1, '인지': 1, '몇몇': 1, '놀러와': 1, '자존심': 1, '허락': 1, '초기': 1, '단계': 1, '상세': 1, '직장인': 1, '필수': 1, '먹음': 1, '프라이': 1, '유지': 1, '다소': 1, '유리': 1, '보틀': 1, '주둥이': 1, '솔솔': 1, '발라': 1, '젤다': 1, '손님': 1, '장바구니': 1, '워낙': 1, '대중': 1, '연상': 1, '길거리': 1, '오우': 1, '발리': 1, '요건': 1, '종쥬기': 1, '식당가': 1, '텁텁하': 1, '임산부': 1, '불검': 1, '산미구엘': 1, '특징': 1, '본격': 1, '시식': 1, '기운': 1, '기적': 1, '아이디어': 1, '회의': 1, '동참': 1, '재활용': 1, '맞춤': 1, '요란': 1, '죽지': 1, '투턱': 1, '취했다': 1, '알딸딸': 1, '취해': 1, '어쨌든': 1, '정기': 1, '시원': 1, '그동안': 1, '한시': 1, '후회': 1, '만끽': 1, '히얍': 1, '플레이어': 1, '재생': 1, '길이': 1, '접기': 1, '웃음': 1, '쉐호': 1, '쇼핑': 1, '스마트': 1, '스토어': 1, '로그인': 1, '상품': 1, '구경': 1, '빵구': 1, '민트': 1, '만점': 1, '암바사': 1, '아라하': 1, '호주': 1, '홈플러스': 1, '초보': 1, '영수증': 1, '반값': 1, '플로': 1, '미리': 1, '간장': 1, '양념': 1, '바삭': 1, '다기': 1, '뿌링클핫': 1, '전지현': 1, '화재': 1, '미모': 1, '매력': 1, '감탄': 1, '감자': 1, '사이드': 1, '이예': 1, '배신': 1, '체코': 1, '해림': 1, '젤라또': 1, '마카롱': 1, '병영': 1, '시오': 1, '작성': 1, '공주': 1, '더블': 1, '포테이토': 1, '후라이드': 1, '피치': 1, '세트': 1, '핫도그': 1, '죠스떡볶이': 1, '어묵': 1, '국물': 1, '전주': 1, '비빔': 1, '플러스': 1, '마늘': 1, '스태미나': 1, '까르': 1, '김말이': 1, '범프': 1, '리카': 1, '주안': 1, '주안역': 1, '화포': 1, '오류': 1, '당황': 1, '코난': 1, '빙의': 1, '거지': 1, '처럼': 1, '하양': 1, '빨파': 1, '비밀': 1, '어어': 1, '색감': 1, '꼽자': 1, '안취': 1, '왕창': 1, '안취해': 1, '영화': 1, '볼때': 1, '기기': 1, '후욱': 1, '돌뼈': 1, '꿰엑': 1, '발판': 1, '무엇': 1, '가족': 1, '중독': 1, '오천원': 1, '마찬가지': 1, '마마': 1, '설레임': 1, '안고': 1, '분식': 1, '뒷맛': 1, '자체': 1, '이상은': 1, '찡긋': 1, '흐흐': 1, '흐흫': 1, '제대로': 1, '마지막': 1, '예상': 1, '도입': 1, '었는데': 1, '스타일': 1, '쇠향': 1, '쇠맛': 1, '평가': 1, '최애': 1, '쁨템': 1, '꽃길': 1, '매니아': 1, '용기': 1, '사랑': 1, '마이': 1, '플랜': 1, '다이어리': 1, '엘프': 1, '요정': 1, '깡패': 1, '부산': 1, '봉사': 1, '아침': 1, '펑펑': 1, '점심': 1, '패딩': 1, '서울': 1, '금액': 1, '페로': 1, '복권': 1, '정언': 1, '고기': 1, '좌우': 1, '하얼빈': 1, '접시': 1, '돼지': 1, '내장': 1, '부위': 1, '볶음': 1, '수두': 1, '메뉴판': 1, '종금': 1, '서울특별시': 1, '마포구': 1, '대흥': 1, '땅땅': 1, '주영식': 1, '유레카': 1, '아보카도': 1, '광기': 1, '대박': 1, '집임': 1, '달도': 1, '신기': 1, '뿡뿡': 1, '쫀맛': 1, '큰일': 1, '닝닝': 1, '홀리': 1, '몰리': 1, '허니': 1, '걷기': 1, '작심삼일': 1, '내일': 1, '일기': 1, '국제': 1, '시장': 1, '근처': 1, '중앙동': 1, '인천광역시': 1, '배민': 1, '가능': 1, '간판': 1, '주차': 1, '노외': 1, '찾기': 1, '실내': 1, '아지트': 1, '조명': 1, '소품': 1, '오른쪽': 1, '키키': 1, '홍차': 1, '아인': 1, '슈페': 1, '빙수': 1, '북해도': 1, '스위스': 1, '본사': 1, '컨택': 1, '백화점': 1, '카카오': 1, '아메리카노': 1, '증정': 1, '구성': 1, '케이크': 1, '인위': 1, '사르르': 1, '기대': 1, '놀란': 1, '쫀쫀': 1, '핑크': 1, '솔트': 1, '직접': 1, '유기농': 1, '미숫가루': 1, '쿠폰': 1, '무료': 1, '신포시': 1, '끝판': 1, '차원': 1, '어마': 1, '무시': 1, '성의': 1})\n"
          ]
        }
      ]
    },
    {
      "cell_type": "code",
      "source": [
        "!apt-get update -qq\n",
        "!apt-get install fonts-nanum* -qq"
      ],
      "metadata": {
        "colab": {
          "base_uri": "https://localhost:8080/"
        },
        "id": "tFN0mJLx8i-B",
        "outputId": "d9323768-8dce-4bff-db56-3bda5834bbbb"
      },
      "execution_count": 20,
      "outputs": [
        {
          "output_type": "stream",
          "name": "stdout",
          "text": [
            "Selecting previously unselected package fonts-nanum.\n",
            "(Reading database ... \r(Reading database ... 5%\r(Reading database ... 10%\r(Reading database ... 15%\r(Reading database ... 20%\r(Reading database ... 25%\r(Reading database ... 30%\r(Reading database ... 35%\r(Reading database ... 40%\r(Reading database ... 45%\r(Reading database ... 50%\r(Reading database ... 55%\r(Reading database ... 60%\r(Reading database ... 65%\r(Reading database ... 70%\r(Reading database ... 75%\r(Reading database ... 80%\r(Reading database ... 85%\r(Reading database ... 90%\r(Reading database ... 95%\r(Reading database ... 100%\r(Reading database ... 155902 files and directories currently installed.)\n",
            "Preparing to unpack .../fonts-nanum_20170925-1_all.deb ...\n",
            "Unpacking fonts-nanum (20170925-1) ...\n",
            "Selecting previously unselected package fonts-nanum-eco.\n",
            "Preparing to unpack .../fonts-nanum-eco_1.000-6_all.deb ...\n",
            "Unpacking fonts-nanum-eco (1.000-6) ...\n",
            "Selecting previously unselected package fonts-nanum-extra.\n",
            "Preparing to unpack .../fonts-nanum-extra_20170925-1_all.deb ...\n",
            "Unpacking fonts-nanum-extra (20170925-1) ...\n",
            "Selecting previously unselected package fonts-nanum-coding.\n",
            "Preparing to unpack .../fonts-nanum-coding_2.5-1_all.deb ...\n",
            "Unpacking fonts-nanum-coding (2.5-1) ...\n",
            "Setting up fonts-nanum-extra (20170925-1) ...\n",
            "Setting up fonts-nanum (20170925-1) ...\n",
            "Setting up fonts-nanum-coding (2.5-1) ...\n",
            "Setting up fonts-nanum-eco (1.000-6) ...\n",
            "Processing triggers for fontconfig (2.12.6-0ubuntu2) ...\n"
          ]
        }
      ]
    },
    {
      "cell_type": "code",
      "source": [
        "wc = WordCloud(font_path='nanum', width=400, height=400, scale=2.0, max_font_size=250)\n",
        "gen = wc.generate_from_frequencies(c)\n",
        "plt.figure()\n",
        "plt.imshow(gen)"
      ],
      "metadata": {
        "colab": {
          "base_uri": "https://localhost:8080/",
          "height": 382
        },
        "id": "Qmvr9SJd7NXz",
        "outputId": "fdbbea98-fcbc-467d-b8e4-b257e7730983"
      },
      "execution_count": 21,
      "outputs": [
        {
          "output_type": "error",
          "ename": "OSError",
          "evalue": "ignored",
          "traceback": [
            "\u001b[0;31m---------------------------------------------------------------------------\u001b[0m",
            "\u001b[0;31mOSError\u001b[0m                                   Traceback (most recent call last)",
            "\u001b[0;32m<ipython-input-21-8925aa8dcf48>\u001b[0m in \u001b[0;36m<module>\u001b[0;34m()\u001b[0m\n\u001b[1;32m      1\u001b[0m \u001b[0mwc\u001b[0m \u001b[0;34m=\u001b[0m \u001b[0mWordCloud\u001b[0m\u001b[0;34m(\u001b[0m\u001b[0mfont_path\u001b[0m\u001b[0;34m=\u001b[0m\u001b[0;34m'nanum'\u001b[0m\u001b[0;34m,\u001b[0m \u001b[0mwidth\u001b[0m\u001b[0;34m=\u001b[0m\u001b[0;36m400\u001b[0m\u001b[0;34m,\u001b[0m \u001b[0mheight\u001b[0m\u001b[0;34m=\u001b[0m\u001b[0;36m400\u001b[0m\u001b[0;34m,\u001b[0m \u001b[0mscale\u001b[0m\u001b[0;34m=\u001b[0m\u001b[0;36m2.0\u001b[0m\u001b[0;34m,\u001b[0m \u001b[0mmax_font_size\u001b[0m\u001b[0;34m=\u001b[0m\u001b[0;36m250\u001b[0m\u001b[0;34m)\u001b[0m\u001b[0;34m\u001b[0m\u001b[0;34m\u001b[0m\u001b[0m\n\u001b[0;32m----> 2\u001b[0;31m \u001b[0mgen\u001b[0m \u001b[0;34m=\u001b[0m \u001b[0mwc\u001b[0m\u001b[0;34m.\u001b[0m\u001b[0mgenerate_from_frequencies\u001b[0m\u001b[0;34m(\u001b[0m\u001b[0mc\u001b[0m\u001b[0;34m)\u001b[0m\u001b[0;34m\u001b[0m\u001b[0;34m\u001b[0m\u001b[0m\n\u001b[0m\u001b[1;32m      3\u001b[0m \u001b[0mplt\u001b[0m\u001b[0;34m.\u001b[0m\u001b[0mfigure\u001b[0m\u001b[0;34m(\u001b[0m\u001b[0;34m)\u001b[0m\u001b[0;34m\u001b[0m\u001b[0;34m\u001b[0m\u001b[0m\n\u001b[1;32m      4\u001b[0m \u001b[0mplt\u001b[0m\u001b[0;34m.\u001b[0m\u001b[0mimshow\u001b[0m\u001b[0;34m(\u001b[0m\u001b[0mgen\u001b[0m\u001b[0;34m)\u001b[0m\u001b[0;34m\u001b[0m\u001b[0;34m\u001b[0m\u001b[0m\n",
            "\u001b[0;32m/usr/local/lib/python3.7/dist-packages/wordcloud/wordcloud.py\u001b[0m in \u001b[0;36mgenerate_from_frequencies\u001b[0;34m(self, frequencies, max_font_size)\u001b[0m\n\u001b[1;32m    471\u001b[0m             \u001b[0;32mwhile\u001b[0m \u001b[0;32mTrue\u001b[0m\u001b[0;34m:\u001b[0m\u001b[0;34m\u001b[0m\u001b[0;34m\u001b[0m\u001b[0m\n\u001b[1;32m    472\u001b[0m                 \u001b[0;31m# try to find a position\u001b[0m\u001b[0;34m\u001b[0m\u001b[0;34m\u001b[0m\u001b[0;34m\u001b[0m\u001b[0m\n\u001b[0;32m--> 473\u001b[0;31m                 \u001b[0mfont\u001b[0m \u001b[0;34m=\u001b[0m \u001b[0mImageFont\u001b[0m\u001b[0;34m.\u001b[0m\u001b[0mtruetype\u001b[0m\u001b[0;34m(\u001b[0m\u001b[0mself\u001b[0m\u001b[0;34m.\u001b[0m\u001b[0mfont_path\u001b[0m\u001b[0;34m,\u001b[0m \u001b[0mfont_size\u001b[0m\u001b[0;34m)\u001b[0m\u001b[0;34m\u001b[0m\u001b[0;34m\u001b[0m\u001b[0m\n\u001b[0m\u001b[1;32m    474\u001b[0m                 \u001b[0;31m# transpose font optionally\u001b[0m\u001b[0;34m\u001b[0m\u001b[0;34m\u001b[0m\u001b[0;34m\u001b[0m\u001b[0m\n\u001b[1;32m    475\u001b[0m                 transposed_font = ImageFont.TransposedFont(\n",
            "\u001b[0;32m/usr/local/lib/python3.7/dist-packages/PIL/ImageFont.py\u001b[0m in \u001b[0;36mtruetype\u001b[0;34m(font, size, index, encoding, layout_engine)\u001b[0m\n\u001b[1;32m    646\u001b[0m \u001b[0;34m\u001b[0m\u001b[0m\n\u001b[1;32m    647\u001b[0m     \u001b[0;32mtry\u001b[0m\u001b[0;34m:\u001b[0m\u001b[0;34m\u001b[0m\u001b[0;34m\u001b[0m\u001b[0m\n\u001b[0;32m--> 648\u001b[0;31m         \u001b[0;32mreturn\u001b[0m \u001b[0mfreetype\u001b[0m\u001b[0;34m(\u001b[0m\u001b[0mfont\u001b[0m\u001b[0;34m)\u001b[0m\u001b[0;34m\u001b[0m\u001b[0;34m\u001b[0m\u001b[0m\n\u001b[0m\u001b[1;32m    649\u001b[0m     \u001b[0;32mexcept\u001b[0m \u001b[0mOSError\u001b[0m\u001b[0;34m:\u001b[0m\u001b[0;34m\u001b[0m\u001b[0;34m\u001b[0m\u001b[0m\n\u001b[1;32m    650\u001b[0m         \u001b[0;32mif\u001b[0m \u001b[0;32mnot\u001b[0m \u001b[0misPath\u001b[0m\u001b[0;34m(\u001b[0m\u001b[0mfont\u001b[0m\u001b[0;34m)\u001b[0m\u001b[0;34m:\u001b[0m\u001b[0;34m\u001b[0m\u001b[0;34m\u001b[0m\u001b[0m\n",
            "\u001b[0;32m/usr/local/lib/python3.7/dist-packages/PIL/ImageFont.py\u001b[0m in \u001b[0;36mfreetype\u001b[0;34m(font)\u001b[0m\n\u001b[1;32m    643\u001b[0m \u001b[0;34m\u001b[0m\u001b[0m\n\u001b[1;32m    644\u001b[0m     \u001b[0;32mdef\u001b[0m \u001b[0mfreetype\u001b[0m\u001b[0;34m(\u001b[0m\u001b[0mfont\u001b[0m\u001b[0;34m)\u001b[0m\u001b[0;34m:\u001b[0m\u001b[0;34m\u001b[0m\u001b[0;34m\u001b[0m\u001b[0m\n\u001b[0;32m--> 645\u001b[0;31m         \u001b[0;32mreturn\u001b[0m \u001b[0mFreeTypeFont\u001b[0m\u001b[0;34m(\u001b[0m\u001b[0mfont\u001b[0m\u001b[0;34m,\u001b[0m \u001b[0msize\u001b[0m\u001b[0;34m,\u001b[0m \u001b[0mindex\u001b[0m\u001b[0;34m,\u001b[0m \u001b[0mencoding\u001b[0m\u001b[0;34m,\u001b[0m \u001b[0mlayout_engine\u001b[0m\u001b[0;34m)\u001b[0m\u001b[0;34m\u001b[0m\u001b[0;34m\u001b[0m\u001b[0m\n\u001b[0m\u001b[1;32m    646\u001b[0m \u001b[0;34m\u001b[0m\u001b[0m\n\u001b[1;32m    647\u001b[0m     \u001b[0;32mtry\u001b[0m\u001b[0;34m:\u001b[0m\u001b[0;34m\u001b[0m\u001b[0;34m\u001b[0m\u001b[0m\n",
            "\u001b[0;32m/usr/local/lib/python3.7/dist-packages/PIL/ImageFont.py\u001b[0m in \u001b[0;36m__init__\u001b[0;34m(self, font, size, index, encoding, layout_engine)\u001b[0m\n\u001b[1;32m    192\u001b[0m                     \u001b[0;32mreturn\u001b[0m\u001b[0;34m\u001b[0m\u001b[0;34m\u001b[0m\u001b[0m\n\u001b[1;32m    193\u001b[0m             self.font = core.getfont(\n\u001b[0;32m--> 194\u001b[0;31m                 \u001b[0mfont\u001b[0m\u001b[0;34m,\u001b[0m \u001b[0msize\u001b[0m\u001b[0;34m,\u001b[0m \u001b[0mindex\u001b[0m\u001b[0;34m,\u001b[0m \u001b[0mencoding\u001b[0m\u001b[0;34m,\u001b[0m \u001b[0mlayout_engine\u001b[0m\u001b[0;34m=\u001b[0m\u001b[0mlayout_engine\u001b[0m\u001b[0;34m\u001b[0m\u001b[0;34m\u001b[0m\u001b[0m\n\u001b[0m\u001b[1;32m    195\u001b[0m             )\n\u001b[1;32m    196\u001b[0m         \u001b[0;32melse\u001b[0m\u001b[0;34m:\u001b[0m\u001b[0;34m\u001b[0m\u001b[0;34m\u001b[0m\u001b[0m\n",
            "\u001b[0;31mOSError\u001b[0m: cannot open resource"
          ]
        }
      ]
    }
  ]
}