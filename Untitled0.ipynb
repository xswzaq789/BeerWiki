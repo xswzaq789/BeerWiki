{
  "nbformat": 4,
  "nbformat_minor": 0,
  "metadata": {
    "colab": {
      "name": "Untitled0.ipynb",
      "provenance": []
    },
    "kernelspec": {
      "name": "python3",
      "display_name": "Python 3"
    },
    "language_info": {
      "name": "python"
    }
  },
  "cells": [
    {
      "cell_type": "code",
      "execution_count": null,
      "metadata": {
        "id": "J-P0PfU5EGXW"
      },
      "outputs": [],
      "source": [
        "from tensorflow.keras.datasets   import boston_housing , mnist , fashion_mnist\n",
        "from tensorflow.keras.models     import Sequential , clone_model , Model , load_model\n",
        "from tensorflow.keras.layers     import Dense , Activation , InputLayer , Flatten , Input , BatchNormalization , Dropout , Embedding\n",
        "\n",
        "# CNN\n",
        "from tensorflow.keras.layers     import Conv2D , MaxPooling2D , AveragePooling2D\n",
        "\n",
        "from tensorflow.keras            import optimizers  \n",
        "from tensorflow.keras.callbacks  import EarlyStopping , ModelCheckpoint , Callback\n",
        "from tensorflow.keras.optimizers import SGD , Adam , RMSprop\n",
        "\n",
        "# 이미지 로드\n",
        "from tensorflow.keras.preprocessing import image\n",
        "from tensorflow.keras.preprocessing.image import ImageDataGenerator \n",
        "\n",
        "# 자연어 처리\n",
        "from tensorflow.keras.preprocessing.text          import Tokenizer\n",
        "from tensorflow.keras.preprocessing.sequence      import pad_sequences\n",
        "\n",
        "from keras.utils.np_utils      import to_categorical\n",
        "\n",
        "from sklearn.datasets          import load_iris , load_breast_cancer , load_digits\n",
        "from sklearn.model_selection   import train_test_split\n",
        "\n",
        "import matplotlib.pyplot as plt\n",
        "\n",
        "import numpy      as np\n",
        "import pandas     as pd\n",
        "import tensorflow as tf\n"
      ]
    },
    {
      "cell_type": "code",
      "source": [
        "import os \n",
        "\n",
        "print('데이터 세트 경로 - ') \n",
        "train_horse_dir = '/tmp/horse-or-human/horses'\n",
        "train_human_dir = '/tmp/horse-or-human/humans'\n",
        "\n",
        "print('파일 이름 리스트 - ')\n",
        "\n",
        "train_horse_fileName  = os.listdir(train_horse_dir)\n",
        "train_human_fileName  = os.listdir(train_human_dir)"
      ],
      "metadata": {
        "colab": {
          "base_uri": "https://localhost:8080/"
        },
        "id": "xtL95oC7E-IK",
        "outputId": "3c6ca7d4-90c3-450d-9d3d-bf9ca0c140ae"
      },
      "execution_count": null,
      "outputs": [
        {
          "output_type": "stream",
          "name": "stdout",
          "text": [
            "데이터 세트 경로 - \n",
            "파일 이름 리스트 - \n"
          ]
        }
      ]
    },
    {
      "cell_type": "code",
      "source": [
        "train_horse_fileName[:10]"
      ],
      "metadata": {
        "colab": {
          "base_uri": "https://localhost:8080/"
        },
        "id": "Z64Y2Z77FO68",
        "outputId": "88846675-170c-4952-da6a-354305ffd4e6"
      },
      "execution_count": null,
      "outputs": [
        {
          "output_type": "execute_result",
          "data": {
            "text/plain": [
              "['horse41-2.png',\n",
              " 'horse20-1.png',\n",
              " 'horse38-8.png',\n",
              " 'horse50-3.png',\n",
              " 'horse38-2.png',\n",
              " 'horse28-0.png',\n",
              " 'horse13-1.png',\n",
              " 'horse48-5.png',\n",
              " 'horse45-2.png',\n",
              " 'horse18-9.png']"
            ]
          },
          "metadata": {},
          "execution_count": 4
        }
      ]
    },
    {
      "cell_type": "code",
      "source": [
        "train_human_fileName[:10]"
      ],
      "metadata": {
        "colab": {
          "base_uri": "https://localhost:8080/"
        },
        "id": "tzDqX95JIsjB",
        "outputId": "d69bdb07-233e-4dfe-aa87-7ad05b6b0603"
      },
      "execution_count": null,
      "outputs": [
        {
          "output_type": "execute_result",
          "data": {
            "text/plain": [
              "['human15-30.png',\n",
              " 'human09-06.png',\n",
              " 'human11-20.png',\n",
              " 'human17-17.png',\n",
              " 'human02-03.png',\n",
              " 'human04-15.png',\n",
              " 'human08-13.png',\n",
              " 'human05-07.png',\n",
              " 'human10-20.png',\n",
              " 'human16-20.png']"
            ]
          },
          "metadata": {},
          "execution_count": 5
        }
      ]
    },
    {
      "cell_type": "code",
      "source": [
        "train_img_generator = ImageDataGenerator(rescale = 1/255)\n",
        "train_generator = train_img_generator.flow_from_directory(\n",
        "    '/tmp/horse-or-human',\n",
        "    target_size = (300,300),\n",
        "    batch_size = 128,\n",
        "    class_mode = 'binary'\n",
        ")"
      ],
      "metadata": {
        "colab": {
          "base_uri": "https://localhost:8080/"
        },
        "id": "vYUatRegIugJ",
        "outputId": "2efb6c3b-76d4-4617-e53a-40c1782b0cc3"
      },
      "execution_count": null,
      "outputs": [
        {
          "output_type": "stream",
          "name": "stdout",
          "text": [
            "Found 1027 images belonging to 3 classes.\n"
          ]
        }
      ]
    },
    {
      "cell_type": "code",
      "source": [
        "def img_model():\n",
        "  img_model = Sequential()\n",
        "\n",
        "  img_model.add(Conv2D(input_shape = (300,300,3),filters = 16, kernel_size = (3,3),strides = (1,1),padding = 'valid'))\n",
        "  img_model.add(Activation('relu'))\n",
        "  img_model.add(MaxPooling2D(pool_size = (2,2),padding = 'valid'))\n",
        "  img_model.add(Dropout(0.25))\n",
        "\n",
        "  img_model.add(Conv2D(filters = 32, kernel_size = (3,3),strides = (1,1),padding = 'valid'))\n",
        "  img_model.add(Activation('relu'))\n",
        "  img_model.add(MaxPooling2D(pool_size = (2,2),padding = 'valid'))\n",
        "  img_model.add(Dropout(0.25))\n",
        "\n",
        "  img_model.add(Conv2D(filters = 64, kernel_size = (3,3),strides = (1,1),padding = 'valid'))\n",
        "  img_model.add(Activation('relu'))\n",
        "  img_model.add(MaxPooling2D(pool_size = (2,2),padding = 'valid'))\n",
        "  img_model.add(Dropout(0.25))\n",
        "\n",
        "  img_model.add(Conv2D(filters = 64, kernel_size = (3,3),strides = (1,1),padding = 'valid'))\n",
        "  img_model.add(Activation('relu'))\n",
        "  img_model.add(MaxPooling2D(pool_size = (2,2),padding = 'valid'))\n",
        "  img_model.add(Dropout(0.25))\n",
        "\n",
        "  img_model.add(Flatten())\n",
        "  img_model.add(Dense(units = 512))\n",
        "  img_model.add(Activation('relu'))\n",
        "  img_model.add(Dropout(0.25))\n",
        "\n",
        "  img_model.add(Dense(units = 1))\n",
        "  img_model.add(Activation('sigmoid'))\n",
        "\n",
        "  return img_model\n"
      ],
      "metadata": {
        "id": "SNUZD-k-I_iA"
      },
      "execution_count": null,
      "outputs": []
    },
    {
      "cell_type": "code",
      "source": [
        "model = img_model()\n",
        "model.summary()"
      ],
      "metadata": {
        "colab": {
          "base_uri": "https://localhost:8080/"
        },
        "id": "AYnwiTuKV1P6",
        "outputId": "ec7bc018-dbc4-4360-a4e5-507f7089fb99"
      },
      "execution_count": null,
      "outputs": [
        {
          "output_type": "stream",
          "name": "stdout",
          "text": [
            "Model: \"sequential\"\n",
            "_________________________________________________________________\n",
            " Layer (type)                Output Shape              Param #   \n",
            "=================================================================\n",
            " conv2d (Conv2D)             (None, 298, 298, 16)      448       \n",
            "                                                                 \n",
            " activation (Activation)     (None, 298, 298, 16)      0         \n",
            "                                                                 \n",
            " max_pooling2d (MaxPooling2D  (None, 149, 149, 16)     0         \n",
            " )                                                               \n",
            "                                                                 \n",
            " dropout (Dropout)           (None, 149, 149, 16)      0         \n",
            "                                                                 \n",
            " conv2d_1 (Conv2D)           (None, 147, 147, 32)      4640      \n",
            "                                                                 \n",
            " activation_1 (Activation)   (None, 147, 147, 32)      0         \n",
            "                                                                 \n",
            " max_pooling2d_1 (MaxPooling  (None, 73, 73, 32)       0         \n",
            " 2D)                                                             \n",
            "                                                                 \n",
            " dropout_1 (Dropout)         (None, 73, 73, 32)        0         \n",
            "                                                                 \n",
            " conv2d_2 (Conv2D)           (None, 71, 71, 64)        18496     \n",
            "                                                                 \n",
            " activation_2 (Activation)   (None, 71, 71, 64)        0         \n",
            "                                                                 \n",
            " max_pooling2d_2 (MaxPooling  (None, 35, 35, 64)       0         \n",
            " 2D)                                                             \n",
            "                                                                 \n",
            " dropout_2 (Dropout)         (None, 35, 35, 64)        0         \n",
            "                                                                 \n",
            " conv2d_3 (Conv2D)           (None, 33, 33, 64)        36928     \n",
            "                                                                 \n",
            " activation_3 (Activation)   (None, 33, 33, 64)        0         \n",
            "                                                                 \n",
            " max_pooling2d_3 (MaxPooling  (None, 16, 16, 64)       0         \n",
            " 2D)                                                             \n",
            "                                                                 \n",
            " dropout_3 (Dropout)         (None, 16, 16, 64)        0         \n",
            "                                                                 \n",
            " flatten (Flatten)           (None, 16384)             0         \n",
            "                                                                 \n",
            " dense (Dense)               (None, 512)               8389120   \n",
            "                                                                 \n",
            " activation_4 (Activation)   (None, 512)               0         \n",
            "                                                                 \n",
            " dropout_4 (Dropout)         (None, 512)               0         \n",
            "                                                                 \n",
            " dense_1 (Dense)             (None, 1)                 513       \n",
            "                                                                 \n",
            " activation_5 (Activation)   (None, 1)                 0         \n",
            "                                                                 \n",
            "=================================================================\n",
            "Total params: 8,450,145\n",
            "Trainable params: 8,450,145\n",
            "Non-trainable params: 0\n",
            "_________________________________________________________________\n"
          ]
        }
      ]
    },
    {
      "cell_type": "code",
      "source": [
        "model.compile(optimizer = RMSprop(lr = 0.001),\n",
        "              loss = 'binary_crossentropy',\n",
        "              metrics = ['accuracy'])"
      ],
      "metadata": {
        "colab": {
          "base_uri": "https://localhost:8080/"
        },
        "id": "HPxPlzlhXMlV",
        "outputId": "d967e08c-21e5-4792-878b-8c5dbd57978f"
      },
      "execution_count": null,
      "outputs": [
        {
          "output_type": "stream",
          "name": "stderr",
          "text": [
            "/usr/local/lib/python3.7/dist-packages/keras/optimizer_v2/rmsprop.py:130: UserWarning: The `lr` argument is deprecated, use `learning_rate` instead.\n",
            "  super(RMSprop, self).__init__(name, **kwargs)\n"
          ]
        }
      ]
    },
    {
      "cell_type": "code",
      "source": [
        "model_history = model.fit(train_generator, epochs = 50, verbose = 1,steps_per_epoch = 8)"
      ],
      "metadata": {
        "colab": {
          "base_uri": "https://localhost:8080/"
        },
        "id": "w5zthU3fYRWS",
        "outputId": "ee944497-df93-451c-b5db-a99b5186c1da"
      },
      "execution_count": null,
      "outputs": [
        {
          "output_type": "stream",
          "name": "stdout",
          "text": [
            "Epoch 1/50\n",
            "8/8 [==============================] - 86s 10s/step - loss: -55729.1836 - accuracy: 0.4661\n",
            "Epoch 2/50\n",
            "8/8 [==============================] - 84s 10s/step - loss: -3442922.0000 - accuracy: 0.4861\n",
            "Epoch 3/50\n",
            "8/8 [==============================] - 86s 10s/step - loss: -27213902.0000 - accuracy: 0.4850\n",
            "Epoch 4/50\n",
            "8/8 [==============================] - 83s 10s/step - loss: -113962512.0000 - accuracy: 0.4905\n",
            "Epoch 5/50\n",
            "8/8 [==============================] - 82s 10s/step - loss: -324541504.0000 - accuracy: 0.4883\n",
            "Epoch 6/50\n",
            "8/8 [==============================] - 82s 10s/step - loss: -740373952.0000 - accuracy: 0.4961\n",
            "Epoch 7/50\n",
            "8/8 [==============================] - 82s 10s/step - loss: -1443723136.0000 - accuracy: 0.4939\n",
            "Epoch 8/50\n",
            "8/8 [==============================] - 84s 10s/step - loss: -2817961984.0000 - accuracy: 0.4839\n",
            "Epoch 9/50\n",
            "8/8 [==============================] - 92s 11s/step - loss: -4727460864.0000 - accuracy: 0.4873\n",
            "Epoch 10/50\n",
            "8/8 [==============================] - 81s 10s/step - loss: -7710468096.0000 - accuracy: 0.4961\n",
            "Epoch 11/50\n",
            "8/8 [==============================] - 81s 10s/step - loss: -11829431296.0000 - accuracy: 0.4783\n",
            "Epoch 12/50\n",
            "8/8 [==============================] - 81s 10s/step - loss: -18146031616.0000 - accuracy: 0.4883\n",
            "Epoch 13/50\n",
            "8/8 [==============================] - 86s 10s/step - loss: -24890494976.0000 - accuracy: 0.4961\n",
            "Epoch 14/50\n",
            "8/8 [==============================] - 82s 10s/step - loss: -36980842496.0000 - accuracy: 0.4783\n",
            "Epoch 15/50\n",
            "8/8 [==============================] - 81s 10s/step - loss: -48297070592.0000 - accuracy: 0.4839\n",
            "Epoch 16/50\n",
            "8/8 [==============================] - 82s 10s/step - loss: -63205539840.0000 - accuracy: 0.4939\n",
            "Epoch 17/50\n",
            "8/8 [==============================] - 82s 12s/step - loss: -85942075392.0000 - accuracy: 0.4850\n",
            "Epoch 18/50\n",
            "8/8 [==============================] - 92s 11s/step - loss: -109051969536.0000 - accuracy: 0.4883\n",
            "Epoch 19/50\n",
            "8/8 [==============================] - 82s 10s/step - loss: -143313272832.0000 - accuracy: 0.4805\n",
            "Epoch 20/50\n",
            "8/8 [==============================] - 93s 11s/step - loss: -180999995392.0000 - accuracy: 0.4854\n",
            "Epoch 21/50\n",
            "8/8 [==============================] - 82s 10s/step - loss: -225359429632.0000 - accuracy: 0.4917\n",
            "Epoch 22/50\n",
            "8/8 [==============================] - 81s 10s/step - loss: -281274712064.0000 - accuracy: 0.4861\n",
            "Epoch 23/50\n",
            "8/8 [==============================] - 81s 12s/step - loss: -340247150592.0000 - accuracy: 0.4928\n",
            "Epoch 24/50\n",
            "8/8 [==============================] - 82s 12s/step - loss: -412811689984.0000 - accuracy: 0.4883\n",
            "Epoch 25/50\n",
            "8/8 [==============================] - 83s 10s/step - loss: -519268466688.0000 - accuracy: 0.4783\n",
            "Epoch 26/50\n",
            "8/8 [==============================] - 97s 12s/step - loss: -613730484224.0000 - accuracy: 0.4863\n",
            "Epoch 27/50\n",
            "8/8 [==============================] - 83s 10s/step - loss: -724338671616.0000 - accuracy: 0.4939\n",
            "Epoch 28/50\n",
            "8/8 [==============================] - 82s 10s/step - loss: -861556047872.0000 - accuracy: 0.4883\n",
            "Epoch 29/50\n",
            "8/8 [==============================] - 81s 10s/step - loss: -1012799045632.0000 - accuracy: 0.4917\n",
            "Epoch 30/50\n",
            "8/8 [==============================] - 81s 11s/step - loss: -1211756707840.0000 - accuracy: 0.4950\n",
            "Epoch 31/50\n",
            "8/8 [==============================] - 81s 10s/step - loss: -1433082658816.0000 - accuracy: 0.4872\n",
            "Epoch 32/50\n",
            "8/8 [==============================] - 81s 10s/step - loss: -1676818251776.0000 - accuracy: 0.4805\n",
            "Epoch 33/50\n",
            "8/8 [==============================] - 82s 10s/step - loss: -1942963355648.0000 - accuracy: 0.4872\n",
            "Epoch 34/50\n",
            "8/8 [==============================] - 87s 10s/step - loss: -2187449860096.0000 - accuracy: 0.4950\n",
            "Epoch 35/50\n",
            "8/8 [==============================] - 82s 10s/step - loss: -2576553607168.0000 - accuracy: 0.4872\n",
            "Epoch 36/50\n",
            "8/8 [==============================] - 82s 10s/step - loss: -2995165855744.0000 - accuracy: 0.4861\n",
            "Epoch 37/50\n",
            "8/8 [==============================] - 82s 12s/step - loss: -3428696457216.0000 - accuracy: 0.4861\n",
            "Epoch 38/50\n",
            "8/8 [==============================] - 92s 11s/step - loss: -3904900431872.0000 - accuracy: 0.4854\n",
            "Epoch 39/50\n",
            "8/8 [==============================] - 86s 10s/step - loss: -4522405527552.0000 - accuracy: 0.4761\n",
            "Epoch 40/50\n",
            "8/8 [==============================] - 83s 10s/step - loss: -4949182251008.0000 - accuracy: 0.4894\n",
            "Epoch 41/50\n",
            "8/8 [==============================] - 82s 10s/step - loss: -5687424843776.0000 - accuracy: 0.4839\n",
            "Epoch 42/50\n",
            "8/8 [==============================] - 82s 10s/step - loss: -6423934664704.0000 - accuracy: 0.4883\n",
            "Epoch 43/50\n",
            "8/8 [==============================] - 82s 10s/step - loss: -7184910909440.0000 - accuracy: 0.4894\n",
            "Epoch 44/50\n",
            "8/8 [==============================] - 87s 11s/step - loss: -8090826571776.0000 - accuracy: 0.4883\n",
            "Epoch 45/50\n",
            "8/8 [==============================] - 82s 10s/step - loss: -9164040437760.0000 - accuracy: 0.4816\n",
            "Epoch 46/50\n",
            "8/8 [==============================] - 81s 10s/step - loss: -10148041981952.0000 - accuracy: 0.4805\n",
            "Epoch 47/50\n",
            "8/8 [==============================] - 82s 10s/step - loss: -11240353038336.0000 - accuracy: 0.4883\n",
            "Epoch 48/50\n",
            "8/8 [==============================] - 81s 10s/step - loss: -12496208396288.0000 - accuracy: 0.4839\n",
            "Epoch 49/50\n",
            "8/8 [==============================] - 81s 10s/step - loss: -13804661374976.0000 - accuracy: 0.4939\n",
            "Epoch 50/50\n",
            "8/8 [==============================] - 81s 10s/step - loss: -15352332288000.0000 - accuracy: 0.4905\n"
          ]
        }
      ]
    },
    {
      "cell_type": "code",
      "source": [
        "converter = tf.lite.TFLiteConverter.from_keras_model(model)\n",
        "tflite_model = converter.convert()"
      ],
      "metadata": {
        "colab": {
          "base_uri": "https://localhost:8080/"
        },
        "id": "kwO_Za_hYYsW",
        "outputId": "9d7770ab-efdf-4925-9c29-e41e8db72d08"
      },
      "execution_count": null,
      "outputs": [
        {
          "output_type": "stream",
          "name": "stdout",
          "text": [
            "INFO:tensorflow:Assets written to: /tmp/tmp_butmu69/assets\n"
          ]
        },
        {
          "output_type": "stream",
          "name": "stderr",
          "text": [
            "WARNING:absl:Buffer deduplication procedure will be skipped when flatbuffer library is not properly loaded\n"
          ]
        }
      ]
    },
    {
      "cell_type": "code",
      "source": [
        "with open('./model01.tflite', 'wb') as f:\n",
        "  f.write(tflite_model)"
      ],
      "metadata": {
        "id": "cPU-4K2mxg4N"
      },
      "execution_count": null,
      "outputs": []
    },
    {
      "cell_type": "code",
      "source": [
        "tf.saved_model.save(model, \"./model/\")"
      ],
      "metadata": {
        "colab": {
          "base_uri": "https://localhost:8080/"
        },
        "id": "xfJVBmaDxn_l",
        "outputId": "e1f35363-2bc7-4547-d57f-f131e112a8f5"
      },
      "execution_count": null,
      "outputs": [
        {
          "output_type": "stream",
          "name": "stdout",
          "text": [
            "INFO:tensorflow:Assets written to: ./model/assets\n"
          ]
        },
        {
          "output_type": "stream",
          "name": "stderr",
          "text": [
            "INFO:tensorflow:Assets written to: ./model/assets\n"
          ]
        }
      ]
    },
    {
      "cell_type": "code",
      "source": [
        "model.save(\"./model.h5\")"
      ],
      "metadata": {
        "id": "XKoub3-dxtEh"
      },
      "execution_count": null,
      "outputs": []
    },
    {
      "cell_type": "code",
      "source": [
        ""
      ],
      "metadata": {
        "id": "V_S4m8texxSN"
      },
      "execution_count": null,
      "outputs": []
    }
  ]
}